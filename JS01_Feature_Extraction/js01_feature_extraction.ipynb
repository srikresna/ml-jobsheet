{
 "cells": [
  {
   "cell_type": "markdown",
   "metadata": {},
   "source": [
    "# Tujuan\n",
    "\n",
    "1. Mahasiswa memahami tentang konsep ekstraksi fitur\n",
    "2. Mahasiswa mampu melakukan perhitungan manual ekstraksi fitur\n",
    "3. Mahasiswa mampu mengimplementasikan metode ekstraksi fitur"
   ]
  },
  {
   "cell_type": "markdown",
   "metadata": {},
   "source": [
    "# Materi\n",
    "\n",
    "## Fitur (_Feature_)\n",
    "\n",
    "Dalam _machine learning_, agar setiap algoritma dapat melakukan pembelajaran dengan baik, diperlukan nilai-nilai yang dikenal dengan nama fitur. Fitur merupakan attribut, karakteristik, ciri, atau sesuatu yang spesial dari sebuah obyek (data) yang direpresentasikan dalam bentuk angka. Terdapat banyak cara untuk mendapatkan fitur dari sebuah data. Hal ini bergantung dengan data apa yang digunakan. Gambar 1 merupakan contoh dari berbagai macam fitur yang dapat dihasilkan dari berbagai macam data. Terkadang, algoritma _machine learning_ juga sensitif terhadap fitur yang digunakan. Beberapa algoritma akan menghasilkan model _machine learning_ yang baik dengan fitur tertentu. Itulah mengapa terdapat satu cabang keilmuan bernama _feature engineering_, dimana keilmuan ini berusaha untuk mendapatkan fitur yang tepat dari sebuah data untuk memaksimalkan hasil dari model _machine learning_.\n",
    "\n",
    "![features example](assets/pic1.png)\n",
    "\n",
    "Jumlah fitur yang merepresentasikan data juga mempengaruhi hasil model _machine learning_. Jika fitur yang digunakan hanya memiliki sedikit informasi terkait dengan data, maka model _machine learning_ juga tidak akan dapat melaksanakan tugasnya dengan baik. Sebaliknya, jika fitur terlalu banyak mengandung informasi atau fitur mengandung informasi yang tidak relevan, maka kondisi tersebut akan berdampat pada tingginya biaya komputasi yang dikeluarkan untuk melatih model _machine learning_. Selain itu, kondisi ini dapat berujung pada kondisi _overfitting_.\n",
    "\n",
    "Sebagai contoh, kita akan melakukan predisik harga rumah. Terdapat beberapa karateristik (fitur) yang kita gunuakan, yaitu,\n",
    "\n",
    "- Luas tanah\n",
    "- Luas bangunan\n",
    "- Jumlah kamar tidur\n",
    "- Ukuran toren air\n",
    "\n",
    "Berdasarkan karateristik atau fitur tersebut, maka fitur yang dapat digunakan untuk memprediksi harga rumah adalah luas tanah, luas bangunan, dan jumlah kamar Fitur ukuran toren air mungkin tidak akan kita gunakan. Hal ini dikarenakan, ukuran toren air secara umum tidak menjadi paramater utama jika masyarakat hendak membeli sebuah rumah."
   ]
  },
  {
   "cell_type": "markdown",
   "metadata": {},
   "source": [
    "## Ekstraksi Fitur (_Feature Extraction_)\n",
    "\n",
    "Ekstraksi Fitur merupakan sebuah proses pengurangan dimensi dimana data awal yang berupa sekumpulan data mentah kemudian direduksi menjadi kelompok yang lebih mudah dikelola untuk diproses oleh komputer. Tidak hanya itu, pada proses ekstraksi fitur, akan dilakukan pemilihan dan pengkombinasian variabel dari data untuk menjadi fitur, namun tetap dapat merepresentasikan data tersebut.\n",
    "\n",
    "![EEG feature extraction](assets/pic2.png)\n",
    "\n",
    "Pada Gambar 2 terlihat bahwa data mentah yang digunakan adalah sinyal _electroencephalograph_ (EEG). Sinyal EEG  merupakan salah satu bentuk informasi dari otak manusia. Sinyal ini memiliki karakteristik berupa gelombang elektromagnetik. Namun pemrosesan sinyal EEG tidak mudah kadang terdapat noise saat perekaman data sehingga dibutuhkan ekstraksi fitur yang dapat merepresentasikan sinyal EEG. Setelah fitur didapat dilakukan\n",
    "proses klasifikasi. Dari proses klasifikasi, dihasilkan prediksi pergerakan tangan ke kanan atau ke kiri."
   ]
  },
  {
   "cell_type": "markdown",
   "metadata": {},
   "source": [
    "## Penyekalaan Fitur (Feature Scaling)\n",
    "\n",
    "Feature scaling adalah teknik untuk menstandarisasi fitur sehingga berada dalam rentang yang tetap. Hal ini dilakukan karena terdapat kemungkinan bahwa data diambil memiliki variabel dari berbagai macam domain. Variabel data mungkin memiliki satuan yang berbeda (misalnya meter, kaki, kilometer, dan jam) sehingga menyebabkan variabel-variabel tersebut memiliki skala yang berbeda.\n",
    "\n",
    "Perbedaan skala antar variabel dapat meningkatkan kesulitan dalam pemodelan _machine learning_. Contohnya adalah nilai masukan yang besar (ratusan atau ribuan unit) dapat menghasilkan model yang cenderung terhadap nilai bobot yang besar. Model dengan nilai bobot yang besar sering kali tidak stabil, dan menganggap nilai yang lebih kecil sebagai nilai yang lebih rendah. Sehingga terdapat kemungkinan model tersebut memiliki performa yang buruk sehingga mengakibatkan error yang lebih tinggi.\n",
    "\n",
    "_*Contoh*_\n",
    "> Jika suatu algoritma tidak menggunakan metode penyekalaan fitur, algoritma dapat menganggap nilai 3000 meter lebih besar dari 5 km. Tentu saja hal tersebut tidak benar dan dapat mengakibatkan algoritma memberikan prediksi yang salah. Oleh karena itu, penyekalaan fitur digunakan untuk membuat nilai ke besaran yang sama. Dengan demikian diharapkan penyekalaan fitur dapat mengatasi performa yang buruk dari algoritma akibat skala variable yang berbeda.\n",
    "\n",
    "Perbedaan skala untuk variabel ini tidak mempengaruhi semua algoritma _machine learning_. Contoh algoritma yang performanya terpengaruh perbedaan skala adalah algoritma-algoritma yang melakukan penjumlahan bobot variabel input seperti _linear regression_, _logistic regression_, and _artificial neural networks_, dan deep learning. Begitu juga algoritma yang menggunakan jarak antar data untuk melakukan prediksi seperti K-nearest neighbours (KNN) dan Support vector machines (SVM). Selain itu, algorimat berbasis non-linier seperti _decision tree_ dan _random forest_ juga tidak terpengaruh proses penyekalaan. Teknik penyekalaan fitur yang sering digunakan adalah **normalisasi** dan **standarisasi**."
   ]
  },
  {
   "cell_type": "markdown",
   "metadata": {},
   "source": [
    "### Normalisasi\n",
    "\n",
    "Normalisasi adalah salah satu teknik penyekalaan fitur untuk menghasilkan nilai fitur yang berada dalam rentang baru, yaitu antara 0 dan 1. Persamaan berikut digunakan pada teknik normalisasi\n",
    "\n",
    "$$ x' = {x - x_{min} \\over x_{max} - x_{min}} $$\n",
    "\n",
    "$ x’ $ adalah skala variabel dalam rentang baru, $ x $ adalah nilai data yang akan dinormalisasi, $ x_{max} $ adalah nilai maksimal dari variable, $ x_{min} $ adalah nilai minimal dari variable.\n",
    "\n",
    "Sebagai contoh, pada sebuah data diketahui nilai minimum adalah -10 dan nilai maksimunya adalah 30. Jika data yang akan dinormalisasi adalah 18.8. Maka perhitungan normalisasinya adalah sebagai berikut,\n",
    "\n",
    "$$ x' = (x - x_{min}) / (x_{max} - x_{min}) $$\n",
    "$$ x' = (18.8 - (-10)) / (30 - (-10)) $$\n",
    "$$ x' = 28.8 / 40 $$\n",
    "$$ x' = 0.72 $$\n",
    "\n",
    "Kode berikut merupakan implementasi normalisasi dengan menggunakan python."
   ]
  },
  {
   "cell_type": "code",
   "execution_count": 1,
   "metadata": {},
   "outputs": [
    {
     "name": "stdout",
     "output_type": "stream",
     "text": [
      "[0.0, 0.16666666666666666, 0.3333333333333333, 0.6666666666666666, 1.0]\n"
     ]
    }
   ],
   "source": [
    "def norm_data(data):\n",
    "    '''\n",
    "    Melakukan normalisasi data.\n",
    "\n",
    "    Parameters:\n",
    "        data (list) : Data yang akan dinormalisasi\n",
    "\n",
    "    Returns:\n",
    "        data (list) : Data hasil normalisasi\n",
    "    '''\n",
    "\n",
    "    data_max = max(data)\n",
    "    data_min = min(data)\n",
    "    data_len = len(data)\n",
    "\n",
    "    for i in range(0, data_len):\n",
    "        data[i] = (data[i] - data_min) / (data_max - data_min)\n",
    "    \n",
    "    return data\n",
    "\n",
    "# Contoh Penggunaan\n",
    "\n",
    "data = [10, 11, 12, 14, 16]\n",
    "n_data = norm_data(data) # melakukan normalisasi\n",
    "print(n_data)"
   ]
  },
  {
   "cell_type": "markdown",
   "metadata": {},
   "source": [
    "Selain mendefinisikan sendiri fungsi normalisasi, kita juga dapat menggunakan library **Scikit-learn**. Terdapat fungsi bernama [**MinMaxScaler**](https://scikit-learn.org/stable/modules/generated/sklearn.preprocessing.MinMaxScaler.html) yang juga menghasilkan hasil yang sama. Berikut merupakan contoh penggunaan fungsi MinMaxScaler"
   ]
  },
  {
   "cell_type": "code",
   "execution_count": 2,
   "metadata": {},
   "outputs": [
    {
     "name": "stdout",
     "output_type": "stream",
     "text": [
      "[[1.e+02 1.e-04]\n",
      " [5.e+01 5.e-02]\n",
      " [3.e+01 3.e-03]]\n",
      "[[1.         0.        ]\n",
      " [0.28571429 1.        ]\n",
      " [0.         0.05811623]]\n"
     ]
    }
   ],
   "source": [
    "import numpy as np\n",
    "from sklearn.preprocessing import MinMaxScaler\n",
    "\n",
    "# Kita akan membentuk data \n",
    "# Hal ini dikarenakan, scikit-learn hanya menerima input\n",
    "# dalam bentuk n-dimensional array\n",
    "data = [\n",
    "    [100, 0.0001],\n",
    "    [50, 0.05],\n",
    "    [30, 0.003]\n",
    "]\n",
    "\n",
    "# Ubah ke bentuk numpy n-dimensional array\n",
    "data = np.asarray(data)\n",
    "print(data)\n",
    "\n",
    "# Mendefinisikan obyek MinMaxScaler\n",
    "scaler = MinMaxScaler()\n",
    "# Transformasikan data\n",
    "scaled = scaler.fit_transform(data)\n",
    "print(scaled)"
   ]
  },
  {
   "cell_type": "markdown",
   "metadata": {},
   "source": []
  }
 ],
 "metadata": {
  "kernelspec": {
   "display_name": "Python 3.10.8 ('base')",
   "language": "python",
   "name": "python3"
  },
  "language_info": {
   "codemirror_mode": {
    "name": "ipython",
    "version": 3
   },
   "file_extension": ".py",
   "mimetype": "text/x-python",
   "name": "python",
   "nbconvert_exporter": "python",
   "pygments_lexer": "ipython3",
   "version": "3.10.8"
  },
  "orig_nbformat": 4,
  "vscode": {
   "interpreter": {
    "hash": "9429e3d8733c1ac76f5c3b0c6cdd2706acd1fd7b4f8c91f27a242412c8600fc4"
   }
  }
 },
 "nbformat": 4,
 "nbformat_minor": 2
}
