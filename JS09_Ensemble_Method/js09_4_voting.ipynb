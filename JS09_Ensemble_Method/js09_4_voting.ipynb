{
  "cells": [
    {
      "cell_type": "markdown",
      "metadata": {
        "id": "-FC5kkjPiGfP"
      },
      "source": [
        "## Stacking dengan Voting\n",
        "\n",
        "Pada kasus ini kita akan menggunakan salah satu metode stacking yaitu voting untuk mengklasifikasikan pasien penderita diabetes dengan beberapa ciri. Pasien akan di klasifikasikan menjadi pasien menderita diabetes (1) dan tidak menderita diabetes (0). Pertama-tama, kita akan menggunakan beberapa algoritma klasifikasi secara terpisah, yaitu Naive Bayes, SVM Linier, dan SVM RBF. Setelah itu, kita akan menggabungkan performa dari 3 algoritma tersebut dengan menggunakan metode ensemble voting."
      ]
    },
    {
      "cell_type": "markdown",
      "metadata": {
        "id": "tzIlbaewiGfT"
      },
      "source": [
        "### Import Library"
      ]
    },
    {
      "cell_type": "code",
      "execution_count": 1,
      "metadata": {
        "id": "Se_Um5k5iGfT"
      },
      "outputs": [],
      "source": [
        "import numpy as np\n",
        "import pandas as pd\n",
        "from sklearn.naive_bayes import GaussianNB # import Naive Bayes model Gaussian (asumsi data terdistribusi normal)\n",
        "from sklearn.svm import SVC # import SVM classifier\n",
        "from sklearn.ensemble import VotingClassifier # import model Voting\n",
        "from sklearn.model_selection import train_test_split\n",
        "from sklearn.metrics import accuracy_score, classification_report"
      ]
    },
    {
      "cell_type": "markdown",
      "metadata": {
        "id": "8c8wltcbiGfV"
      },
      "source": [
        "### Persiapan Data"
      ]
    },
    {
      "cell_type": "code",
      "execution_count": 2,
      "metadata": {
        "colab": {
          "base_uri": "https://localhost:8080/",
          "height": 206
        },
        "id": "wj_jP3I1iGfV",
        "outputId": "382d3f20-f0bf-452e-d009-d724be099904"
      },
      "outputs": [
        {
          "output_type": "execute_result",
          "data": {
            "text/plain": [
              "   Pregnancies  Glucose  BloodPressure  SkinThickness  Insulin   BMI  \\\n",
              "0            6      148             72             35        0  33.6   \n",
              "1            1       85             66             29        0  26.6   \n",
              "2            8      183             64              0        0  23.3   \n",
              "3            1       89             66             23       94  28.1   \n",
              "4            0      137             40             35      168  43.1   \n",
              "\n",
              "   DiabetesPedigreeFunction  Age  Outcome  \n",
              "0                     0.627   50        1  \n",
              "1                     0.351   31        0  \n",
              "2                     0.672   32        1  \n",
              "3                     0.167   21        0  \n",
              "4                     2.288   33        1  "
            ],
            "text/html": [
              "\n",
              "  <div id=\"df-30792048-4536-4ffd-8836-11955d6d70bf\" class=\"colab-df-container\">\n",
              "    <div>\n",
              "<style scoped>\n",
              "    .dataframe tbody tr th:only-of-type {\n",
              "        vertical-align: middle;\n",
              "    }\n",
              "\n",
              "    .dataframe tbody tr th {\n",
              "        vertical-align: top;\n",
              "    }\n",
              "\n",
              "    .dataframe thead th {\n",
              "        text-align: right;\n",
              "    }\n",
              "</style>\n",
              "<table border=\"1\" class=\"dataframe\">\n",
              "  <thead>\n",
              "    <tr style=\"text-align: right;\">\n",
              "      <th></th>\n",
              "      <th>Pregnancies</th>\n",
              "      <th>Glucose</th>\n",
              "      <th>BloodPressure</th>\n",
              "      <th>SkinThickness</th>\n",
              "      <th>Insulin</th>\n",
              "      <th>BMI</th>\n",
              "      <th>DiabetesPedigreeFunction</th>\n",
              "      <th>Age</th>\n",
              "      <th>Outcome</th>\n",
              "    </tr>\n",
              "  </thead>\n",
              "  <tbody>\n",
              "    <tr>\n",
              "      <th>0</th>\n",
              "      <td>6</td>\n",
              "      <td>148</td>\n",
              "      <td>72</td>\n",
              "      <td>35</td>\n",
              "      <td>0</td>\n",
              "      <td>33.6</td>\n",
              "      <td>0.627</td>\n",
              "      <td>50</td>\n",
              "      <td>1</td>\n",
              "    </tr>\n",
              "    <tr>\n",
              "      <th>1</th>\n",
              "      <td>1</td>\n",
              "      <td>85</td>\n",
              "      <td>66</td>\n",
              "      <td>29</td>\n",
              "      <td>0</td>\n",
              "      <td>26.6</td>\n",
              "      <td>0.351</td>\n",
              "      <td>31</td>\n",
              "      <td>0</td>\n",
              "    </tr>\n",
              "    <tr>\n",
              "      <th>2</th>\n",
              "      <td>8</td>\n",
              "      <td>183</td>\n",
              "      <td>64</td>\n",
              "      <td>0</td>\n",
              "      <td>0</td>\n",
              "      <td>23.3</td>\n",
              "      <td>0.672</td>\n",
              "      <td>32</td>\n",
              "      <td>1</td>\n",
              "    </tr>\n",
              "    <tr>\n",
              "      <th>3</th>\n",
              "      <td>1</td>\n",
              "      <td>89</td>\n",
              "      <td>66</td>\n",
              "      <td>23</td>\n",
              "      <td>94</td>\n",
              "      <td>28.1</td>\n",
              "      <td>0.167</td>\n",
              "      <td>21</td>\n",
              "      <td>0</td>\n",
              "    </tr>\n",
              "    <tr>\n",
              "      <th>4</th>\n",
              "      <td>0</td>\n",
              "      <td>137</td>\n",
              "      <td>40</td>\n",
              "      <td>35</td>\n",
              "      <td>168</td>\n",
              "      <td>43.1</td>\n",
              "      <td>2.288</td>\n",
              "      <td>33</td>\n",
              "      <td>1</td>\n",
              "    </tr>\n",
              "  </tbody>\n",
              "</table>\n",
              "</div>\n",
              "    <div class=\"colab-df-buttons\">\n",
              "\n",
              "  <div class=\"colab-df-container\">\n",
              "    <button class=\"colab-df-convert\" onclick=\"convertToInteractive('df-30792048-4536-4ffd-8836-11955d6d70bf')\"\n",
              "            title=\"Convert this dataframe to an interactive table.\"\n",
              "            style=\"display:none;\">\n",
              "\n",
              "  <svg xmlns=\"http://www.w3.org/2000/svg\" height=\"24px\" viewBox=\"0 -960 960 960\">\n",
              "    <path d=\"M120-120v-720h720v720H120Zm60-500h600v-160H180v160Zm220 220h160v-160H400v160Zm0 220h160v-160H400v160ZM180-400h160v-160H180v160Zm440 0h160v-160H620v160ZM180-180h160v-160H180v160Zm440 0h160v-160H620v160Z\"/>\n",
              "  </svg>\n",
              "    </button>\n",
              "\n",
              "  <style>\n",
              "    .colab-df-container {\n",
              "      display:flex;\n",
              "      gap: 12px;\n",
              "    }\n",
              "\n",
              "    .colab-df-convert {\n",
              "      background-color: #E8F0FE;\n",
              "      border: none;\n",
              "      border-radius: 50%;\n",
              "      cursor: pointer;\n",
              "      display: none;\n",
              "      fill: #1967D2;\n",
              "      height: 32px;\n",
              "      padding: 0 0 0 0;\n",
              "      width: 32px;\n",
              "    }\n",
              "\n",
              "    .colab-df-convert:hover {\n",
              "      background-color: #E2EBFA;\n",
              "      box-shadow: 0px 1px 2px rgba(60, 64, 67, 0.3), 0px 1px 3px 1px rgba(60, 64, 67, 0.15);\n",
              "      fill: #174EA6;\n",
              "    }\n",
              "\n",
              "    .colab-df-buttons div {\n",
              "      margin-bottom: 4px;\n",
              "    }\n",
              "\n",
              "    [theme=dark] .colab-df-convert {\n",
              "      background-color: #3B4455;\n",
              "      fill: #D2E3FC;\n",
              "    }\n",
              "\n",
              "    [theme=dark] .colab-df-convert:hover {\n",
              "      background-color: #434B5C;\n",
              "      box-shadow: 0px 1px 3px 1px rgba(0, 0, 0, 0.15);\n",
              "      filter: drop-shadow(0px 1px 2px rgba(0, 0, 0, 0.3));\n",
              "      fill: #FFFFFF;\n",
              "    }\n",
              "  </style>\n",
              "\n",
              "    <script>\n",
              "      const buttonEl =\n",
              "        document.querySelector('#df-30792048-4536-4ffd-8836-11955d6d70bf button.colab-df-convert');\n",
              "      buttonEl.style.display =\n",
              "        google.colab.kernel.accessAllowed ? 'block' : 'none';\n",
              "\n",
              "      async function convertToInteractive(key) {\n",
              "        const element = document.querySelector('#df-30792048-4536-4ffd-8836-11955d6d70bf');\n",
              "        const dataTable =\n",
              "          await google.colab.kernel.invokeFunction('convertToInteractive',\n",
              "                                                    [key], {});\n",
              "        if (!dataTable) return;\n",
              "\n",
              "        const docLinkHtml = 'Like what you see? Visit the ' +\n",
              "          '<a target=\"_blank\" href=https://colab.research.google.com/notebooks/data_table.ipynb>data table notebook</a>'\n",
              "          + ' to learn more about interactive tables.';\n",
              "        element.innerHTML = '';\n",
              "        dataTable['output_type'] = 'display_data';\n",
              "        await google.colab.output.renderOutput(dataTable, element);\n",
              "        const docLink = document.createElement('div');\n",
              "        docLink.innerHTML = docLinkHtml;\n",
              "        element.appendChild(docLink);\n",
              "      }\n",
              "    </script>\n",
              "  </div>\n",
              "\n",
              "\n",
              "<div id=\"df-6d45270c-8961-4bc6-8349-1b54608b2e9d\">\n",
              "  <button class=\"colab-df-quickchart\" onclick=\"quickchart('df-6d45270c-8961-4bc6-8349-1b54608b2e9d')\"\n",
              "            title=\"Suggest charts.\"\n",
              "            style=\"display:none;\">\n",
              "\n",
              "<svg xmlns=\"http://www.w3.org/2000/svg\" height=\"24px\"viewBox=\"0 0 24 24\"\n",
              "     width=\"24px\">\n",
              "    <g>\n",
              "        <path d=\"M19 3H5c-1.1 0-2 .9-2 2v14c0 1.1.9 2 2 2h14c1.1 0 2-.9 2-2V5c0-1.1-.9-2-2-2zM9 17H7v-7h2v7zm4 0h-2V7h2v10zm4 0h-2v-4h2v4z\"/>\n",
              "    </g>\n",
              "</svg>\n",
              "  </button>\n",
              "\n",
              "<style>\n",
              "  .colab-df-quickchart {\n",
              "    background-color: #E8F0FE;\n",
              "    border: none;\n",
              "    border-radius: 50%;\n",
              "    cursor: pointer;\n",
              "    display: none;\n",
              "    fill: #1967D2;\n",
              "    height: 32px;\n",
              "    padding: 0 0 0 0;\n",
              "    width: 32px;\n",
              "  }\n",
              "\n",
              "  .colab-df-quickchart:hover {\n",
              "    background-color: #E2EBFA;\n",
              "    box-shadow: 0px 1px 2px rgba(60, 64, 67, 0.3), 0px 1px 3px 1px rgba(60, 64, 67, 0.15);\n",
              "    fill: #174EA6;\n",
              "  }\n",
              "\n",
              "  [theme=dark] .colab-df-quickchart {\n",
              "    background-color: #3B4455;\n",
              "    fill: #D2E3FC;\n",
              "  }\n",
              "\n",
              "  [theme=dark] .colab-df-quickchart:hover {\n",
              "    background-color: #434B5C;\n",
              "    box-shadow: 0px 1px 3px 1px rgba(0, 0, 0, 0.15);\n",
              "    filter: drop-shadow(0px 1px 2px rgba(0, 0, 0, 0.3));\n",
              "    fill: #FFFFFF;\n",
              "  }\n",
              "</style>\n",
              "\n",
              "  <script>\n",
              "    async function quickchart(key) {\n",
              "      const charts = await google.colab.kernel.invokeFunction(\n",
              "          'suggestCharts', [key], {});\n",
              "    }\n",
              "    (() => {\n",
              "      let quickchartButtonEl =\n",
              "        document.querySelector('#df-6d45270c-8961-4bc6-8349-1b54608b2e9d button');\n",
              "      quickchartButtonEl.style.display =\n",
              "        google.colab.kernel.accessAllowed ? 'block' : 'none';\n",
              "    })();\n",
              "  </script>\n",
              "</div>\n",
              "    </div>\n",
              "  </div>\n"
            ]
          },
          "metadata": {},
          "execution_count": 2
        }
      ],
      "source": [
        "# Load Data\n",
        "\n",
        "dbt = pd.read_csv('/content/diabetes.csv')\n",
        "\n",
        "dbt.head()"
      ]
    },
    {
      "cell_type": "code",
      "execution_count": 3,
      "metadata": {
        "colab": {
          "base_uri": "https://localhost:8080/"
        },
        "id": "e2QcE4h9iGfX",
        "outputId": "cb262f29-e2eb-4723-e106-6ffa7a34b5d9"
      },
      "outputs": [
        {
          "output_type": "execute_result",
          "data": {
            "text/plain": [
              "Index(['Pregnancies', 'Glucose', 'BloodPressure', 'SkinThickness', 'Insulin',\n",
              "       'BMI', 'DiabetesPedigreeFunction', 'Age', 'Outcome'],\n",
              "      dtype='object')"
            ]
          },
          "metadata": {},
          "execution_count": 3
        }
      ],
      "source": [
        "# Cek nama kolom\n",
        "dbt.columns"
      ]
    },
    {
      "cell_type": "code",
      "execution_count": 4,
      "metadata": {
        "colab": {
          "base_uri": "https://localhost:8080/"
        },
        "id": "60VRwbaViGfX",
        "outputId": "66ed5859-bd4d-48f0-c53e-8081b30292a7"
      },
      "outputs": [
        {
          "output_type": "execute_result",
          "data": {
            "text/plain": [
              "Pregnancies                 0\n",
              "Glucose                     0\n",
              "BloodPressure               0\n",
              "SkinThickness               0\n",
              "Insulin                     0\n",
              "BMI                         0\n",
              "DiabetesPedigreeFunction    0\n",
              "Age                         0\n",
              "Outcome                     0\n",
              "dtype: int64"
            ]
          },
          "metadata": {},
          "execution_count": 4
        }
      ],
      "source": [
        "# Cek kolom null\n",
        "dbt.isnull().sum()"
      ]
    },
    {
      "cell_type": "code",
      "execution_count": 5,
      "metadata": {
        "colab": {
          "base_uri": "https://localhost:8080/"
        },
        "id": "6GtIlSawiGfZ",
        "outputId": "19fabc84-d9bd-4eef-f3f5-b30355f59798"
      },
      "outputs": [
        {
          "output_type": "stream",
          "name": "stdout",
          "text": [
            "============================================\n",
            "Pregnancies ==> Missing zeros : 111\n",
            "============================================\n",
            "Glucose ==> Missing zeros : 5\n",
            "============================================\n",
            "BloodPressure ==> Missing zeros : 35\n",
            "============================================\n",
            "SkinThickness ==> Missing zeros : 227\n",
            "============================================\n",
            "Insulin ==> Missing zeros : 374\n",
            "============================================\n",
            "BMI ==> Missing zeros : 11\n",
            "============================================\n",
            "DiabetesPedigreeFunction ==> Missing zeros : 0\n",
            "============================================\n",
            "Age ==> Missing zeros : 0\n"
          ]
        }
      ],
      "source": [
        "# Pada kasus ini, agak tidak masuk akal jika beberapa parameter bernilai 0\n",
        "# sebagai contoh adalah nilai 'Glucose', 'BloodPlessure' ataupun 'Insulin'.\n",
        "# Sekecil apapun nilainya, setiap manusia yang hidup pasti miliki nilai-nilai tersebut\n",
        "\n",
        "# Kita akan manipulasi nilai yang 0 dengan melakukan 'imputasi' atau mengganti nilainya dengan nilai sintetis\n",
        "# Pada kasus ini, kita akan menggunakan nilai mean\n",
        "\n",
        "# Cek kolom neng nilai 0\n",
        "feature_columns = ['Pregnancies', 'Glucose', 'BloodPressure', 'SkinThickness', 'Insulin','BMI', 'DiabetesPedigreeFunction', 'Age']\n",
        "for column in feature_columns:\n",
        "    print(\"============================================\")\n",
        "    print(f\"{column} ==> Missing zeros : {len(dbt.loc[dbt[column] == 0])}\")"
      ]
    },
    {
      "cell_type": "code",
      "source": [
        "# Impute nilai 0 dengan mean\n",
        "from sklearn.impute import SimpleImputer\n",
        "\n",
        "fill_values = SimpleImputer(missing_values=0, strategy=\"mean\", copy=False)\n",
        "\n",
        "dbt[feature_columns] = fill_values.fit_transform(dbt[feature_columns])"
      ],
      "metadata": {
        "id": "qxdSKkdmtpmE"
      },
      "execution_count": 6,
      "outputs": []
    },
    {
      "cell_type": "code",
      "source": [
        "# Insulin null percentage\n",
        "\n",
        "374 / 768 * 100/100"
      ],
      "metadata": {
        "id": "6QrNnRNXmAWM",
        "outputId": "1af8f791-99d4-4459-916c-2fcd76c393e4",
        "colab": {
          "base_uri": "https://localhost:8080/"
        }
      },
      "execution_count": 7,
      "outputs": [
        {
          "output_type": "execute_result",
          "data": {
            "text/plain": [
              "0.48697916666666674"
            ]
          },
          "metadata": {},
          "execution_count": 7
        }
      ]
    },
    {
      "cell_type": "code",
      "source": [
        "# kolom insulin sebelumnya memiliki tingka null value yang sangat tinggi, meskipun kita isi itu tetap tidak berarti apa-apa (random guessing)\n",
        "# tapi toleransi missing value itu subjektif, disini saya mencoba membuangnya saja\n",
        "\n",
        "# dbt.drop(\"Insulin\", axis=1, inplace=True)"
      ],
      "metadata": {
        "id": "XYLACCKKkDxc"
      },
      "execution_count": 8,
      "outputs": []
    },
    {
      "cell_type": "code",
      "source": [
        "# feature_columns.remove(\"Insulin\")"
      ],
      "metadata": {
        "id": "8qrFjg_CtzW9"
      },
      "execution_count": 9,
      "outputs": []
    },
    {
      "cell_type": "markdown",
      "metadata": {
        "id": "8bXM2av2iGgO"
      },
      "source": [
        "### Split data training dan testing"
      ]
    },
    {
      "cell_type": "code",
      "execution_count": 10,
      "metadata": {
        "id": "7JN9Nak6iGgP"
      },
      "outputs": [],
      "source": [
        "X = dbt[feature_columns]\n",
        "y = dbt.Outcome\n",
        "\n",
        "X_train, X_test, y_train, y_test = train_test_split(X, y, test_size=0.3, stratify=y, random_state=42)"
      ]
    },
    {
      "cell_type": "markdown",
      "metadata": {
        "id": "anwGEdmIiGgP"
      },
      "source": [
        "### Training dengan GaussianNB"
      ]
    },
    {
      "cell_type": "markdown",
      "metadata": {
        "id": "WkpAzYbNiGgP"
      },
      "source": [
        "#### Standarisasi Fitur"
      ]
    },
    {
      "cell_type": "code",
      "execution_count": 11,
      "metadata": {
        "id": "3zH0dwtBiGgQ"
      },
      "outputs": [],
      "source": [
        "# Karena asumsi Gaussian NB adalah data terdistribusi secara normal,\n",
        "# maka kita perlu melakukan standarisasi\n",
        "\n",
        "from sklearn.preprocessing import StandardScaler\n",
        "\n",
        "sc = StandardScaler()\n",
        "\n",
        "# Standarisasi pada fitur di X_train dan X_test\n",
        "X_train_std = sc.fit_transform(X_train)\n",
        "X_test_std = sc.transform(X_test)"
      ]
    },
    {
      "cell_type": "markdown",
      "metadata": {
        "id": "pKYjKqkLiGgQ"
      },
      "source": [
        "#### Training dan Evaluasi"
      ]
    },
    {
      "cell_type": "code",
      "execution_count": 12,
      "metadata": {
        "colab": {
          "base_uri": "https://localhost:8080/"
        },
        "id": "PZbYt0bUiGgQ",
        "outputId": "c29afbbc-f68d-4fd3-e2f4-db9b1f2c816c"
      },
      "outputs": [
        {
          "output_type": "stream",
          "name": "stdout",
          "text": [
            "Test set accuracy: 0.72\n",
            "Test set accuracy: 0.7229437229437229\n"
          ]
        }
      ],
      "source": [
        "# Buat obyek GaussianNB\n",
        "gnb_std = GaussianNB()\n",
        "\n",
        "# Fit dengan data yang telah di standarisasi\n",
        "gnb_std.fit(X_train_std, y_train)\n",
        "\n",
        "# Prediksi dengan data test\n",
        "y_pred_gnb = gnb_std.predict(X_test_std)\n",
        "\n",
        "# Evaluasi akurasi testing data\n",
        "acc_gnb = accuracy_score(y_test, y_pred_gnb)\n",
        "\n",
        "# Print hasil evaluasi\n",
        "print(\"Test set accuracy: {:.2f}\".format(acc_gnb))\n",
        "print(f\"Test set accuracy: {acc_gnb}\")"
      ]
    },
    {
      "cell_type": "markdown",
      "metadata": {
        "id": "1nogQDRXiGgR"
      },
      "source": [
        "### Training dengan SVM Linier"
      ]
    },
    {
      "cell_type": "code",
      "execution_count": 13,
      "metadata": {
        "colab": {
          "base_uri": "https://localhost:8080/"
        },
        "id": "4FvjtrKHiGgR",
        "outputId": "30be213f-ec35-4094-98ce-2408f3747ed4"
      },
      "outputs": [
        {
          "output_type": "stream",
          "name": "stdout",
          "text": [
            "Test set accuracy: 0.73\n",
            "Test set accuracy: 0.7316017316017316\n"
          ]
        }
      ],
      "source": [
        "# Model SVM linier tanpa tunnning hyperparameter\n",
        "svm_lin = SVC(kernel='linear')\n",
        "\n",
        "# Fit ke model\n",
        "svm_lin.fit(X_train_std, y_train)\n",
        "\n",
        "# Prediksi\n",
        "y_pred_svm_lin = svm_lin.predict(X_test_std)\n",
        "\n",
        "# Evaluasi akurasi testing data\n",
        "acc_svm_lin = accuracy_score(y_test, y_pred_svm_lin)\n",
        "\n",
        "# Print hasil evaluasi\n",
        "print(\"Test set accuracy: {:.2f}\".format(acc_svm_lin))\n",
        "print(f\"Test set accuracy: {acc_svm_lin}\")"
      ]
    },
    {
      "cell_type": "markdown",
      "metadata": {
        "id": "7G0kphugiGgS"
      },
      "source": [
        "### Training dengan SVM RBF"
      ]
    },
    {
      "cell_type": "code",
      "execution_count": 14,
      "metadata": {
        "colab": {
          "base_uri": "https://localhost:8080/"
        },
        "id": "6VwTA55niGgS",
        "outputId": "cccf153e-5d73-4578-8bd6-bad2fb13614f"
      },
      "outputs": [
        {
          "output_type": "stream",
          "name": "stdout",
          "text": [
            "Test set accuracy: 0.74\n",
            "Test set accuracy: 0.7359307359307359\n"
          ]
        }
      ],
      "source": [
        "# Model SVM RBF tanpa tunnning hyperparameter\n",
        "svm_rbf = SVC(kernel='rbf')\n",
        "\n",
        "# Fit ke model\n",
        "svm_rbf.fit(X_train_std, y_train)\n",
        "\n",
        "# Prediksi\n",
        "y_pred_svm_rbf = svm_rbf.predict(X_test_std)\n",
        "\n",
        "# Evaluasi akurasi testing data\n",
        "acc_svm_rbf = accuracy_score(y_test, y_pred_svm_rbf)\n",
        "\n",
        "# Print hasil evaluasi\n",
        "print(\"Test set accuracy: {:.2f}\".format(acc_svm_rbf))\n",
        "print(f\"Test set accuracy: {acc_svm_rbf}\")"
      ]
    },
    {
      "cell_type": "markdown",
      "metadata": {
        "id": "mLW_9OFViGgT"
      },
      "source": [
        "### Training dengan Voting"
      ]
    },
    {
      "cell_type": "code",
      "execution_count": 15,
      "metadata": {
        "colab": {
          "base_uri": "https://localhost:8080/"
        },
        "id": "vqyqhYdCiGgU",
        "outputId": "4e4e54a2-5f4d-4a73-a257-21994f03f216"
      },
      "outputs": [
        {
          "output_type": "stream",
          "name": "stdout",
          "text": [
            "Voting Hard\n",
            "Test set accuracy: 0.74\n",
            "Test set accuracy: 0.7359307359307359\n"
          ]
        }
      ],
      "source": [
        "# Definisikan algoritma yang akan digunakan untuk voting\n",
        "\n",
        "clf1 = GaussianNB()\n",
        "clf2 = SVC(kernel='linear')\n",
        "clf3 = SVC(kernel='rbf', probability=True)\n",
        "\n",
        "# model hard voting\n",
        "voting = VotingClassifier(estimators=[('GaussianNB', clf1), ('SVM-LIN', clf2), ('SVM-RBF', clf3)], voting='hard')\n",
        "\n",
        "# Fit model\n",
        "voting.fit(X_train_std, y_train)\n",
        "\n",
        "# Prediksi\n",
        "y_pred_vt1 = voting.predict(X_test_std)\n",
        "\n",
        "# Evaluasi akurasi testing data\n",
        "acc_vt1 = accuracy_score(y_test, y_pred_vt1)\n",
        "\n",
        "# Print hasil evaluasi\n",
        "print('Voting Hard')\n",
        "print(\"Test set accuracy: {:.2f}\".format(acc_vt1))\n",
        "print(f\"Test set accuracy: {acc_vt1}\")"
      ]
    },
    {
      "cell_type": "markdown",
      "metadata": {
        "id": "45IwvzFDiGgV"
      },
      "source": [
        "## Tugas\n",
        "\n",
        "Dengan menggunakan data yang sama, buatlan ensemble voting dengan algoritma\n",
        "1. Logistic Regression\n",
        "2. SVM kernel polynomial\n",
        "3. Decission Tree\n",
        "\n",
        "Anda boleh melakukan eksplorasi dengan melakukan tunning hyperparameter"
      ]
    },
    {
      "cell_type": "code",
      "execution_count": 16,
      "metadata": {
        "id": "dmTaEAhJiGgV"
      },
      "outputs": [],
      "source": [
        "from sklearn.linear_model import LogisticRegression\n",
        "from sklearn.tree import DecisionTreeClassifier\n",
        "from sklearn.model_selection import GridSearchCV"
      ]
    },
    {
      "cell_type": "code",
      "source": [
        "log_reg = LogisticRegression(penalty='l2', fit_intercept=True, solver='lbfgs')"
      ],
      "metadata": {
        "id": "0JZhSUkSk08c"
      },
      "execution_count": 17,
      "outputs": []
    },
    {
      "cell_type": "code",
      "execution_count": 18,
      "metadata": {
        "id": "Dgw780HWiGgf"
      },
      "outputs": [],
      "source": [
        "log_params = {\n",
        "    'solver': ['newton-cg', 'lbfgs', 'liblinear'],\n",
        "    'penalty': ['l2'],\n",
        "    'C': [0.001, 0.01, 0.1, 1, 10, 100],\n",
        "    'fit_intercept': [True, False],\n",
        "}\n",
        "\n",
        "svm_params = {\n",
        "    'C': [0.001, 0.01, 0.1, 1, 10],\n",
        "    'gamma': [0.001, 0.01, 0.1, 1, 10],\n",
        "}\n",
        "\n",
        "dtc_params = {\n",
        "    'max_depth': [None, 3, 5, 7, 9],\n",
        "    'min_samples_leaf': [1, 3, 5, 7, 9],\n",
        "    'max_features': [None, 0.3, 0.5, 0.7, 0.9]\n",
        "}"
      ]
    },
    {
      "cell_type": "code",
      "execution_count": 19,
      "metadata": {
        "id": "6oMQQr_niGgg"
      },
      "outputs": [],
      "source": [
        "log_reg_tuning = GridSearchCV(LogisticRegression(), log_params, cv=5, scoring='accuracy', n_jobs=-1, verbose=1)\n",
        "svm_tuning = GridSearchCV(SVC(kernel='poly', probability=True), svm_params, cv=5, scoring='accuracy', n_jobs=-1, verbose=1)\n",
        "dtc_tuning = GridSearchCV(DecisionTreeClassifier(), dtc_params, cv=5, scoring='accuracy', n_jobs=-1, verbose=1)"
      ]
    },
    {
      "cell_type": "code",
      "source": [
        "log_reg = LogisticRegression()\n",
        "log_reg.fit(X_train_std, y_train)\n",
        "\n",
        "print(log_reg.score(X_test_std, y_test))"
      ],
      "metadata": {
        "id": "cQke2jAZliLf",
        "outputId": "136924b1-1d3b-4f86-d79c-ffac1eb4f0aa",
        "colab": {
          "base_uri": "https://localhost:8080/"
        }
      },
      "execution_count": 20,
      "outputs": [
        {
          "output_type": "stream",
          "name": "stdout",
          "text": [
            "0.7359307359307359\n"
          ]
        }
      ]
    },
    {
      "cell_type": "code",
      "execution_count": 21,
      "metadata": {
        "colab": {
          "base_uri": "https://localhost:8080/"
        },
        "id": "E9FHBOKYiGgg",
        "outputId": "9510ea0c-f095-46ed-a30a-dcddf3e65cf6"
      },
      "outputs": [
        {
          "output_type": "stream",
          "name": "stdout",
          "text": [
            "Fitting 5 folds for each of 36 candidates, totalling 180 fits\n",
            "{'C': 0.1, 'fit_intercept': True, 'penalty': 'l2', 'solver': 'newton-cg'} 0.7820872274143302 0.7402597402597403\n"
          ]
        }
      ],
      "source": [
        "log_reg_tuning.fit(X_train_std, y_train)\n",
        "\n",
        "print(log_reg_tuning.best_params_, log_reg_tuning.best_score_, log_reg_tuning.score(X_test_std, y_test))"
      ]
    },
    {
      "cell_type": "code",
      "source": [
        "svm = SVC(kernel='poly', probability=True)\n",
        "svm.fit(X_train_std, y_train)\n",
        "\n",
        "print(svm.score(X_test_std, y_test))"
      ],
      "metadata": {
        "id": "-ElTWdpXm6kM",
        "outputId": "93d4445a-76b1-4d66-f651-2f9728befe86",
        "colab": {
          "base_uri": "https://localhost:8080/"
        }
      },
      "execution_count": 22,
      "outputs": [
        {
          "output_type": "stream",
          "name": "stdout",
          "text": [
            "0.7186147186147186\n"
          ]
        }
      ]
    },
    {
      "cell_type": "code",
      "execution_count": 23,
      "metadata": {
        "id": "RyreWm-RiGgh"
      },
      "outputs": [],
      "source": [
        "# karena proses train pada tuning svm cukup lama, saya putuskan tidak mentuningnya. Karena sebelumnya saya sudah menunggu kurang lebih 20 menit untuk cell ini\n",
        "\n",
        "# svm_tuning.fit(X_train_std, y_train)\n",
        "\n",
        "# print(svm_tuning.best_params_, svm_tuning.best_score_, svm_tuning.score(X_test_std, y_test))"
      ]
    },
    {
      "cell_type": "code",
      "source": [
        "dtc = DecisionTreeClassifier(random_state=123)\n",
        "dtc.fit(X_train_std, y_train)\n",
        "\n",
        "print(dtc.score(X_test_std, y_test))"
      ],
      "metadata": {
        "id": "pk_CiRBKnXXc",
        "outputId": "08f66d1e-09a9-435c-db34-6a122c0fb2f3",
        "colab": {
          "base_uri": "https://localhost:8080/"
        }
      },
      "execution_count": 24,
      "outputs": [
        {
          "output_type": "stream",
          "name": "stdout",
          "text": [
            "0.7012987012987013\n"
          ]
        }
      ]
    },
    {
      "cell_type": "code",
      "execution_count": 25,
      "metadata": {
        "id": "dPCR2fkTiGgh",
        "colab": {
          "base_uri": "https://localhost:8080/"
        },
        "outputId": "7eb43fa6-bbc2-4cb3-c441-0a5b6663fd5b"
      },
      "outputs": [
        {
          "output_type": "stream",
          "name": "stdout",
          "text": [
            "Fitting 5 folds for each of 125 candidates, totalling 625 fits\n",
            "{'max_depth': 3, 'max_features': 0.7, 'min_samples_leaf': 9} 0.7485808238144687 0.7359307359307359\n"
          ]
        }
      ],
      "source": [
        "dtc_tuning.fit(X_train_std, y_train)\n",
        "\n",
        "print(dtc_tuning.best_params_, dtc_tuning.best_score_, dtc_tuning.score(X_test_std, y_test))"
      ]
    },
    {
      "cell_type": "code",
      "execution_count": 26,
      "metadata": {
        "id": "xX7P7jFyiGgi",
        "colab": {
          "base_uri": "https://localhost:8080/"
        },
        "outputId": "3080c579-d8c6-4f2c-911b-b206e5a0c13a"
      },
      "outputs": [
        {
          "output_type": "stream",
          "name": "stdout",
          "text": [
            "0.7445887445887446\n"
          ]
        }
      ],
      "source": [
        "voting = VotingClassifier([\n",
        "    ('logreg', log_reg_tuning.best_estimator_),\n",
        "    ('svm', SVC(kernel='poly', probability=True)),\n",
        "    ('dtc', dtc_tuning.best_estimator_)\n",
        "], voting='hard')\n",
        "\n",
        "voting.fit(X_train_std, y_train)\n",
        "\n",
        "print(voting.score(X_test_std, y_test))"
      ]
    },
    {
      "cell_type": "code",
      "source": [
        "# berikut adalah visualisasi dari data train kita, cukup wajar jika model-model kita mendapatkan akurasi yang tidak cukup bagus\n",
        "\n",
        "import umap\n",
        "import umap.plot\n",
        "\n",
        "mapper = umap.UMAP().fit(X_train_std)\n",
        "umap.plot.points(mapper, labels=y_train, theme='fire')"
      ],
      "metadata": {
        "id": "MFAlcBmPs8Kj",
        "outputId": "ad953037-d9f3-473f-c0be-60d0a7c8ed2d",
        "colab": {
          "base_uri": "https://localhost:8080/",
          "height": 670
        }
      },
      "execution_count": 27,
      "outputs": [
        {
          "output_type": "execute_result",
          "data": {
            "text/plain": [
              "<Axes: >"
            ]
          },
          "metadata": {},
          "execution_count": 27
        },
        {
          "output_type": "display_data",
          "data": {
            "text/plain": [
              "<Figure size 800x800 with 1 Axes>"
            ],
            "image/png": "[encoded data removed]"
          },
          "metadata": {}
        }
      ]
    },
    {
      "cell_type": "code",
      "source": [
        "from umap import UMAP\n",
        "from plotly import express as px\n",
        "\n",
        "umap_3d = UMAP(n_components=3, init='random', random_state=0)\n",
        "x_umap = umap_3d.fit_transform(X_train_std)\n",
        "umap_df = pd.DataFrame(x_umap)\n",
        "train_y_sr = pd.Series(y_train,name='label').astype(str)\n",
        "print(type(x_umap))\n",
        "new_df = pd.concat([umap_df,train_y_sr],axis=1)\n",
        "fig = px.scatter_3d(\n",
        "    new_df, x=0, y=1, z=2,\n",
        "    color='label', labels={'color': 'number'}\n",
        ")\n",
        "fig.update_traces(marker_size=1.5)\n",
        "fig.show()"
      ],
      "metadata": {
        "id": "buIORakKvU2v",
        "outputId": "078e62a9-7d73-4e2a-a40a-6f79fccfb0a0",
        "colab": {
          "base_uri": "https://localhost:8080/",
          "height": 559
        }
      },
      "execution_count": 28,
      "outputs": [
        {
          "output_type": "stream",
          "name": "stdout",
          "text": [
            "<class 'numpy.ndarray'>\n"
          ]
        },
        {
          "output_type": "display_data",
          "data": {
            "text/html": [
              "<html>\n",
              "<head><meta charset=\"utf-8\" /></head>\n",
              "<body>\n",
              "    <div>            <script src=\"https://cdnjs.cloudflare.com/ajax/libs/mathjax/2.7.5/MathJax.js?config=TeX-AMS-MML_SVG\"></script><script type=\"text/javascript\">if (window.MathJax && window.MathJax.Hub && window.MathJax.Hub.Config) {window.MathJax.Hub.Config({SVG: {font: \"STIX-Web\"}});}</script>                <script type=\"text/javascript\">window.PlotlyConfig = {MathJaxConfig: 'local'};</script>\n",
              "        <script charset=\"utf-8\" src=\"https://cdn.plot.ly/plotly-2.24.1.min.js\"></script>                <div id=\"3fff79ea-f051-48d6-9e8c-5f4cac84d879\" class=\"plotly-graph-div\" style=\"height:525px; width:100%;\"></div>            <script type=\"text/javascript\">                                    window.PLOTLYENV=window.PLOTLYENV || {};                                    if (document.getElementById(\"3fff79ea-f051-48d6-9e8c-5f4cac84d879\")) {                    Plotly.newPlot(                        \"3fff79ea-f051-48d6-9e8c-5f4cac84d879\",                        [{\"hovertemplate\":\"label=1\\u003cbr\\u003e0=%{x}\\u003cbr\\u003e1=%{y}\\u003cbr\\u003e2=%{z}\\u003cextra\\u003e\\u003c\\u002fextra\\u003e\",\"legendgroup\":\"1\",\"marker\":{\"color\":\"#636efa\",\"symbol\":\"circle\",\"size\":1.5},\"mode\":\"markers\",\"name\":\"1\",\"scene\":\"scene\",\"showlegend\":true,\"x\":[1.6498965,3.195105,0.36934817,0.6902384,2.5638065,0.8483843,0.46330735,3.681638,1.2043462,2.7572773,0.7852936,1.0934466,0.8620638,1.1540983,3.144385,1.0102452,2.1557815,3.0954046,3.6248412,2.988564,0.3569096,2.3918152,2.3727467,0.4437837,1.9487169,2.3345037,2.7185485,1.3891448,2.4902797,1.0976944,3.1265419,3.6364014,3.3409324,1.8793292,1.4775255,3.1769533,0.841528,3.0868351,2.1318538,0.780796,1.1249464,2.0488608,2.5680194,2.9745643,3.4614627,2.4416373,0.9425175,1.7397908,2.409481,3.0756094,3.6557252,1.9006292,3.3251603,3.0614798,3.6616364,0.56744957,2.5101652,2.0596921,2.6352985,2.4044483,0.95145625,2.2288675,1.2557876,2.382637,1.8726773,0.8570748,2.2668943,2.6032887,3.4952624,2.8991385,2.0694075,2.1689827,2.2989926,1.674055,3.1263075,1.1022419,3.303129,1.0824326,2.0439143,1.9888378,2.0151334,3.0051987,2.8155234,1.2897717,1.826342,2.8722682,2.7745354,3.0575624,1.0938826,1.3899513,2.7018824,2.1269841,2.2576485,1.5913515,3.253325,1.6833602,2.115626,2.2359788,2.7350264,2.3754365,0.8653401,0.4168908,0.97651625,2.6464806,1.6683164,3.389262,0.50718313,1.7957907,1.2927722,1.6386654,1.1491698,2.9055128,3.312887,1.1160288,1.6276164,2.0160813,0.2148769,2.3293235,0.28946364,2.0158663,2.9040296,1.7081925,0.7792623,3.366794,3.5738716,0.7455954,2.2938268,0.9157885,0.95367086,3.4493098,null,null,null,null,null,null,null,null,null,null,null,null,null,null,null,null,null,null,null,null,null,null,null,null,null,null,null,null,null,null,null,null,null,null,null,null,null,null,null,null,null,null,null,null,null,null,null,null,null,null,null,null,null,null,null,null,null],\"y\":[10.785127,10.476527,11.368738,10.716011,12.103279,10.203898,11.12961,11.332455,12.419469,12.715325,11.64458,10.374134,11.327745,9.957843,11.685277,10.157617,10.778358,11.217558,11.984104,11.029782,11.085504,10.346659,11.7905445,12.489801,11.812521,9.763724,11.985637,10.54836,9.688675,11.048066,12.58999,11.64876,12.083768,11.810985,10.164704,12.6360855,11.8077345,11.608312,11.557619,10.20901,11.0040245,12.480785,11.912928,11.409475,11.693018,12.838305,11.474295,11.708626,10.640264,10.132052,11.811686,12.031146,11.87433,10.429066,11.392672,10.202513,10.537178,12.655688,10.372303,10.957113,12.070912,10.2756,11.775616,12.745613,10.359294,12.219927,10.472949,12.947096,11.943214,11.3450985,12.088275,10.336855,12.770726,11.572424,12.486882,12.01512,10.9644575,10.244573,10.900242,10.822701,12.511886,11.90819,11.026917,12.176079,11.430816,11.174157,10.625485,10.995591,12.166962,11.168454,10.995509,11.434567,12.376729,11.609586,10.859389,12.492631,10.4904375,12.665053,10.802401,10.829903,10.358025,10.168703,10.61125,9.735287,10.771044,11.832896,12.499349,12.249781,10.692579,11.082204,12.295906,12.408936,12.646073,10.697879,11.81529,12.1034565,10.782008,11.665772,10.288076,11.580938,12.499189,10.155026,12.490292,12.01244,11.517312,12.591166,11.157559,11.567453,11.504514,11.776573,null,null,null,null,null,null,null,null,null,null,null,null,null,null,null,null,null,null,null,null,null,null,null,null,null,null,null,null,null,null,null,null,null,null,null,null,null,null,null,null,null,null,null,null,null,null,null,null,null,null,null,null,null,null,null,null,null],\"z\":[4.7192383,8.204822,6.3694806,4.6630225,9.278165,6.6936684,5.8832593,7.8198395,6.0239854,6.779693,6.678207,8.224546,4.8338456,7.230962,6.4604406,7.467615,6.904745,8.672343,6.227683,6.0815234,6.3466535,8.737232,7.524075,5.9354978,5.68713,6.1542144,7.7219076,9.562979,5.9255633,7.848292,6.950391,6.2075405,9.55196,9.797691,9.77841,7.8385344,5.178186,10.12092,9.945547,4.994506,5.0711684,5.919157,7.951172,7.6459465,8.372732,6.5580235,6.7195544,5.0604005,11.110456,8.275628,8.3787,9.515169,6.1446667,7.61945,8.435902,4.893889,10.545174,8.123377,10.726961,7.8800006,6.876107,10.847028,5.066068,7.6629868,5.484815,5.565061,10.947573,7.29243,9.400221,10.538516,7.8228498,10.376203,7.893614,8.985561,9.031031,5.117865,6.5820327,8.040094,9.805004,5.7052665,7.9911294,6.194274,6.5490522,7.9567804,8.828207,7.6999717,10.529101,6.624281,8.03874,7.890791,10.67002,5.535807,5.9725966,8.203801,6.496081,8.674612,5.7888117,8.076331,8.999369,6.421682,6.852361,4.845505,4.577207,5.57728,4.785891,9.777314,5.818241,7.8455405,9.39619,4.593143,5.655541,7.731173,6.8477006,5.3415885,6.5925884,9.245941,5.015263,8.16909,4.813273,5.3985343,7.25707,10.054301,5.6535196,8.241868,6.398729,5.5923824,6.308288,6.7327356,6.7311754,8.344205,null,null,null,null,null,null,null,null,null,null,null,null,null,null,null,null,null,null,null,null,null,null,null,null,null,null,null,null,null,null,null,null,null,null,null,null,null,null,null,null,null,null,null,null,null,null,null,null,null,null,null,null,null,null,null,null,null],\"type\":\"scatter3d\"},{\"hovertemplate\":\"label=0\\u003cbr\\u003e0=%{x}\\u003cbr\\u003e1=%{y}\\u003cbr\\u003e2=%{z}\\u003cextra\\u003e\\u003c\\u002fextra\\u003e\",\"legendgroup\":\"0\",\"marker\":{\"color\":\"#EF553B\",\"symbol\":\"circle\",\"size\":1.5},\"mode\":\"markers\",\"name\":\"0\",\"scene\":\"scene\",\"showlegend\":true,\"x\":[0.7811707,1.0957129,1.7612189,2.8449326,1.7434906,1.3543481,3.056397,2.5924647,0.24185033,1.5762931,1.0870804,1.2822137,1.0137106,1.8761159,1.0920295,0.9152119,3.44205,0.9947655,0.64030117,1.6270103,1.6825403,1.6290436,3.1045752,3.6321056,0.51840806,2.0616214,3.0026932,1.1987535,1.358588,1.4503936,2.705351,0.6372901,0.65316975,2.7219424,2.262551,1.8270172,2.8969364,2.624334,1.6817975,3.2620232,0.5918525,2.0291584,0.4508877,2.2151537,0.99827737,3.4172797,0.78201675,2.3825278,3.5980546,0.10797893,1.004343,1.7338837,2.5718367,3.2667854,1.4688781,2.493115,3.0497677,2.7306852,3.4813428,2.1669767,1.205677,3.6087096,2.7168593,1.1110888,1.672329,2.7889655,3.378225,2.8691852,2.7228858,0.6421464,2.4764667,1.0100602,1.5751742,1.0405899,2.695863,2.245742,0.3071565,1.8539436,2.6235518,0.37027645,2.4991443,2.1020749,2.7439313,3.4210486,3.1344514,2.475054,3.0926194,3.7840915,3.5668457,3.6645339,2.9164639,2.5201073,1.3488086,0.23526365,2.1717105,1.995164,1.0124528,2.1445863,0.92249864,2.83497,2.833775,1.3138047,1.0926671,1.232914,2.7000706,0.93050236,2.913086,0.12645635,2.5967662,2.5570111,3.2042353,2.1584616,0.2746759,2.3090477,2.5510402,2.9873269,3.5542896,0.24514875,1.1180428,2.8659096,2.7823849,3.034426,1.1668543,2.6508288,3.510494,3.1583433,1.9741765,1.624025,1.8357074,3.2891297,2.273172,2.2531302,1.976109,1.9415658,3.5896583,2.0140362,3.8329616,0.477962,2.628654,2.6814907,2.8496315,1.7667239,3.2833765,1.6043991,2.506202,1.5518652,1.7660726,2.6476257,0.15476894,0.9742801,1.1956898,2.0867157,1.6838057,2.0502653,2.274729,1.6802797,3.1590025,3.3452978,3.1168015,1.3771367,3.2077186,2.9509108,1.745334,1.8245677,2.58563,1.2695984,3.5194316,3.2103918,2.38498,3.5131283,1.0034589,2.830527,0.61992705,2.6916602,2.0274127,1.1390336,2.6860263,0.6967053,3.5148342,2.1765356,1.7779496,0.3687568,2.0140078,3.2774127,1.8215619,2.520831,1.6815491,2.6144035,1.8857032,1.9477051,2.9939594,0.5393355,0.34467292,3.6180968,0.41368172,1.7994645,3.602501,3.447428,3.2001402,1.60821,1.9239423,0.427535,2.409916,0.3852123,2.7074356,2.9822178,0.5584215,0.70682555,3.128832,2.1577277,2.3683195,0.79372734,2.8011591,0.5181469,1.5970081,1.410138,0.88430446,2.0328717,1.6588017,1.8990045,1.1551435,0.8056974,1.7248288,1.857725,2.361414,2.2644374,2.291217,3.2438507,3.139474,3.3310835,1.4716156,3.502953,2.6662717,2.6618514,2.227462,2.6859503,1.753909,0.2573428,3.5747793,3.207736,0.8082026,null,null,null,null,null,null,null,null,null,null,null,null,null,null,null,null,null,null,null,null,null,null,null,null,null,null,null,null,null,null,null,null,null,null,null,null,null,null,null,null,null,null,null,null,null,null,null,null,null,null,null,null,null,null,null,null,null,null,null,null,null,null,null,null,null,null,null,null,null,null,null,null,null,null,null,null,null,null,null,null,null,null,null,null,null,null,null,null,null,null,null,null,null,null,null,null,null,null,null,null,null,null,null,null,null,null,null,null,null],\"y\":[12.244627,9.982341,12.211864,12.559739,11.930077,10.419845,10.530428,12.007088,10.817143,10.923937,11.997693,11.307359,10.2624035,10.843802,11.20679,12.616498,11.727742,10.665393,12.144413,11.393873,12.200486,11.772294,11.937072,11.810499,11.360776,10.782656,12.822957,11.744895,11.187302,10.210164,12.137709,10.266095,12.422596,12.8436575,11.484975,10.689293,12.9083,12.946606,12.268971,11.949241,12.307544,11.897418,11.35118,10.135461,11.492708,11.818397,10.736995,10.16464,11.755111,10.516992,11.182572,11.987486,11.504089,12.702482,11.715894,11.585048,12.342768,11.71457,11.494747,10.749711,12.185782,12.086732,9.604763,10.469679,10.3434105,10.044586,10.846467,12.876295,12.270578,10.844492,9.861177,11.302228,11.468383,11.206724,9.831829,10.580749,10.190561,10.385107,10.066349,11.0086565,9.689878,11.640517,11.158963,11.775679,10.499676,10.766725,11.1047535,12.047225,11.570287,12.04263,12.719826,10.271989,11.178931,10.275536,10.983121,11.427289,10.183646,12.491444,10.158946,9.682019,10.548575,12.10282,11.454403,11.354177,10.166767,11.630585,10.914269,10.645225,10.757692,10.1833,11.498281,9.858619,10.2583685,10.936153,10.638103,11.627092,11.719016,10.4063425,12.068557,10.788557,9.627759,11.16321,10.011591,11.0548935,11.362564,11.574298,12.311828,10.07734,11.877717,11.882055,10.174893,10.380549,11.902428,12.024835,12.020918,11.705058,11.549097,11.284711,12.136918,9.891349,11.782604,11.695742,11.755988,11.127844,10.886111,11.868334,11.6847105,10.392833,10.660981,12.706215,10.9433,12.770613,11.363633,11.477577,11.287872,11.48595,11.657197,11.436614,11.693021,10.856485,11.87728,10.907924,10.305921,10.066013,12.699722,11.97815,11.924368,11.823895,9.902426,12.150789,10.20467,10.253494,11.506068,9.651727,10.454832,11.64565,12.619425,10.714326,11.667102,10.713814,12.187726,10.339961,11.845913,11.360015,10.079104,11.892751,11.640467,10.738257,12.063578,11.008602,10.760636,10.949148,10.458255,11.552394,11.211464,11.9500065,11.752855,11.580145,12.613793,10.874048,10.536184,10.537436,10.539805,10.851885,11.170016,10.646714,12.565549,10.494858,10.689521,11.820156,10.630052,12.404536,9.647348,11.366934,10.457762,11.475935,11.877116,12.803536,10.120863,11.994143,11.056428,12.354982,10.137144,11.355466,11.6463995,12.025404,11.453687,11.624268,10.208047,10.850737,11.844831,12.331944,12.177936,10.425043,12.115572,10.765638,10.126135,10.777169,11.868477,12.663554,10.314694,null,null,null,null,null,null,null,null,null,null,null,null,null,null,null,null,null,null,null,null,null,null,null,null,null,null,null,null,null,null,null,null,null,null,null,null,null,null,null,null,null,null,null,null,null,null,null,null,null,null,null,null,null,null,null,null,null,null,null,null,null,null,null,null,null,null,null,null,null,null,null,null,null,null,null,null,null,null,null,null,null,null,null,null,null,null,null,null,null,null,null,null,null,null,null,null,null,null,null,null,null,null,null,null,null,null,null,null,null],\"z\":[6.449687,7.1181917,9.668891,7.701132,5.6473393,9.489367,6.82509,7.36473,5.336034,4.7723627,5.198387,5.294372,6.360954,6.3089833,4.7990503,6.2300253,9.720748,5.4759884,6.036419,9.669052,5.9575324,5.028859,9.995874,6.2083387,4.876265,9.720255,7.295442,5.2634773,6.93458,9.627205,8.263415,5.1509767,5.5030684,6.713356,9.845198,4.712473,6.992479,6.6827536,9.437632,9.413691,5.293551,8.424864,4.907846,10.73947,5.290664,9.27869,4.624604,8.196483,8.779586,4.9188814,7.5729246,6.572198,9.637706,6.8884726,6.9177537,9.619759,9.340551,6.2620525,7.9933524,7.2017846,8.491832,8.009527,5.758004,8.465643,5.1058183,5.492993,6.7192926,6.7472935,9.150352,4.652771,5.7463474,6.5246887,9.318455,5.4955745,5.5356765,10.738597,4.895065,5.478403,8.248997,5.2881684,6.4040194,9.744192,8.083425,6.2743998,6.9176674,7.3838506,8.773481,8.535216,8.818491,9.112253,7.7283287,10.608899,7.84418,5.270271,7.3850265,5.3958716,7.261705,7.8654003,7.012254,5.685858,10.459745,8.811521,6.609776,4.8890667,8.208143,4.9447184,9.290858,5.3525767,7.3230166,5.2908263,8.318868,6.423618,4.7347465,5.303589,10.977762,10.2399435,6.415477,4.8020124,8.336947,7.730588,5.5956597,8.6083975,7.1293306,10.804023,6.3520055,7.9803605,5.9917126,9.822327,9.6072235,9.814126,10.21136,10.832401,6.5691905,9.209755,9.369153,6.061778,8.661787,6.1351247,9.921611,5.5447917,7.98476,5.092474,6.0327644,8.345574,8.189682,9.202717,5.103625,8.485499,4.988281,6.055396,7.9289017,7.5171576,9.875751,8.944435,10.30845,9.641111,8.230916,6.0360436,9.907151,8.937339,8.287744,9.54125,5.0327635,10.427967,7.577892,6.9511576,7.9933867,9.802242,6.487494,9.219407,6.5546465,8.340162,5.862301,5.646012,5.7811394,4.957678,6.6465125,4.6706443,6.447037,10.643701,9.666939,4.829326,7.9731765,7.8519883,10.508925,7.1056848,9.523997,7.982683,8.198352,5.7347503,9.543009,6.496818,4.8981013,8.056536,6.460991,9.535333,9.313337,8.340336,6.817203,5.6382527,5.837565,5.4009013,7.468376,5.2953286,10.453928,7.272911,5.939569,5.320598,9.719746,5.593722,10.749128,5.466709,5.686916,5.995912,9.091486,4.9578123,4.9704075,6.8902335,10.06086,8.064455,8.940898,5.3273463,10.27983,7.514599,8.090814,7.807998,9.937473,6.2470536,8.041148,9.433919,8.89056,6.6765895,8.32618,10.33939,9.787217,8.272225,9.568629,5.3837924,6.1286473,7.228509,6.7745337,null,null,null,null,null,null,null,null,null,null,null,null,null,null,null,null,null,null,null,null,null,null,null,null,null,null,null,null,null,null,null,null,null,null,null,null,null,null,null,null,null,null,null,null,null,null,null,null,null,null,null,null,null,null,null,null,null,null,null,null,null,null,null,null,null,null,null,null,null,null,null,null,null,null,null,null,null,null,null,null,null,null,null,null,null,null,null,null,null,null,null,null,null,null,null,null,null,null,null,null,null,null,null,null,null,null,null,null,null],\"type\":\"scatter3d\"}],                        {\"template\":{\"data\":{\"histogram2dcontour\":[{\"type\":\"histogram2dcontour\",\"colorbar\":{\"outlinewidth\":0,\"ticks\":\"\"},\"colorscale\":[[0.0,\"#0d0887\"],[0.1111111111111111,\"#46039f\"],[0.2222222222222222,\"#7201a8\"],[0.3333333333333333,\"#9c179e\"],[0.4444444444444444,\"#bd3786\"],[0.5555555555555556,\"#d8576b\"],[0.6666666666666666,\"#ed7953\"],[0.7777777777777778,\"#fb9f3a\"],[0.8888888888888888,\"#fdca26\"],[1.0,\"#f0f921\"]]}],\"choropleth\":[{\"type\":\"choropleth\",\"colorbar\":{\"outlinewidth\":0,\"ticks\":\"\"}}],\"histogram2d\":[{\"type\":\"histogram2d\",\"colorbar\":{\"outlinewidth\":0,\"ticks\":\"\"},\"colorscale\":[[0.0,\"#0d0887\"],[0.1111111111111111,\"#46039f\"],[0.2222222222222222,\"#7201a8\"],[0.3333333333333333,\"#9c179e\"],[0.4444444444444444,\"#bd3786\"],[0.5555555555555556,\"#d8576b\"],[0.6666666666666666,\"#ed7953\"],[0.7777777777777778,\"#fb9f3a\"],[0.8888888888888888,\"#fdca26\"],[1.0,\"#f0f921\"]]}],\"heatmap\":[{\"type\":\"heatmap\",\"colorbar\":{\"outlinewidth\":0,\"ticks\":\"\"},\"colorscale\":[[0.0,\"#0d0887\"],[0.1111111111111111,\"#46039f\"],[0.2222222222222222,\"#7201a8\"],[0.3333333333333333,\"#9c179e\"],[0.4444444444444444,\"#bd3786\"],[0.5555555555555556,\"#d8576b\"],[0.6666666666666666,\"#ed7953\"],[0.7777777777777778,\"#fb9f3a\"],[0.8888888888888888,\"#fdca26\"],[1.0,\"#f0f921\"]]}],\"heatmapgl\":[{\"type\":\"heatmapgl\",\"colorbar\":{\"outlinewidth\":0,\"ticks\":\"\"},\"colorscale\":[[0.0,\"#0d0887\"],[0.1111111111111111,\"#46039f\"],[0.2222222222222222,\"#7201a8\"],[0.3333333333333333,\"#9c179e\"],[0.4444444444444444,\"#bd3786\"],[0.5555555555555556,\"#d8576b\"],[0.6666666666666666,\"#ed7953\"],[0.7777777777777778,\"#fb9f3a\"],[0.8888888888888888,\"#fdca26\"],[1.0,\"#f0f921\"]]}],\"contourcarpet\":[{\"type\":\"contourcarpet\",\"colorbar\":{\"outlinewidth\":0,\"ticks\":\"\"}}],\"contour\":[{\"type\":\"contour\",\"colorbar\":{\"outlinewidth\":0,\"ticks\":\"\"},\"colorscale\":[[0.0,\"#0d0887\"],[0.1111111111111111,\"#46039f\"],[0.2222222222222222,\"#7201a8\"],[0.3333333333333333,\"#9c179e\"],[0.4444444444444444,\"#bd3786\"],[0.5555555555555556,\"#d8576b\"],[0.6666666666666666,\"#ed7953\"],[0.7777777777777778,\"#fb9f3a\"],[0.8888888888888888,\"#fdca26\"],[1.0,\"#f0f921\"]]}],\"surface\":[{\"type\":\"surface\",\"colorbar\":{\"outlinewidth\":0,\"ticks\":\"\"},\"colorscale\":[[0.0,\"#0d0887\"],[0.1111111111111111,\"#46039f\"],[0.2222222222222222,\"#7201a8\"],[0.3333333333333333,\"#9c179e\"],[0.4444444444444444,\"#bd3786\"],[0.5555555555555556,\"#d8576b\"],[0.6666666666666666,\"#ed7953\"],[0.7777777777777778,\"#fb9f3a\"],[0.8888888888888888,\"#fdca26\"],[1.0,\"#f0f921\"]]}],\"mesh3d\":[{\"type\":\"mesh3d\",\"colorbar\":{\"outlinewidth\":0,\"ticks\":\"\"}}],\"scatter\":[{\"fillpattern\":{\"fillmode\":\"overlay\",\"size\":10,\"solidity\":0.2},\"type\":\"scatter\"}],\"parcoords\":[{\"type\":\"parcoords\",\"line\":{\"colorbar\":{\"outlinewidth\":0,\"ticks\":\"\"}}}],\"scatterpolargl\":[{\"type\":\"scatterpolargl\",\"marker\":{\"colorbar\":{\"outlinewidth\":0,\"ticks\":\"\"}}}],\"bar\":[{\"error_x\":{\"color\":\"#2a3f5f\"},\"error_y\":{\"color\":\"#2a3f5f\"},\"marker\":{\"line\":{\"color\":\"#E5ECF6\",\"width\":0.5},\"pattern\":{\"fillmode\":\"overlay\",\"size\":10,\"solidity\":0.2}},\"type\":\"bar\"}],\"scattergeo\":[{\"type\":\"scattergeo\",\"marker\":{\"colorbar\":{\"outlinewidth\":0,\"ticks\":\"\"}}}],\"scatterpolar\":[{\"type\":\"scatterpolar\",\"marker\":{\"colorbar\":{\"outlinewidth\":0,\"ticks\":\"\"}}}],\"histogram\":[{\"marker\":{\"pattern\":{\"fillmode\":\"overlay\",\"size\":10,\"solidity\":0.2}},\"type\":\"histogram\"}],\"scattergl\":[{\"type\":\"scattergl\",\"marker\":{\"colorbar\":{\"outlinewidth\":0,\"ticks\":\"\"}}}],\"scatter3d\":[{\"type\":\"scatter3d\",\"line\":{\"colorbar\":{\"outlinewidth\":0,\"ticks\":\"\"}},\"marker\":{\"colorbar\":{\"outlinewidth\":0,\"ticks\":\"\"}}}],\"scattermapbox\":[{\"type\":\"scattermapbox\",\"marker\":{\"colorbar\":{\"outlinewidth\":0,\"ticks\":\"\"}}}],\"scatterternary\":[{\"type\":\"scatterternary\",\"marker\":{\"colorbar\":{\"outlinewidth\":0,\"ticks\":\"\"}}}],\"scattercarpet\":[{\"type\":\"scattercarpet\",\"marker\":{\"colorbar\":{\"outlinewidth\":0,\"ticks\":\"\"}}}],\"carpet\":[{\"aaxis\":{\"endlinecolor\":\"#2a3f5f\",\"gridcolor\":\"white\",\"linecolor\":\"white\",\"minorgridcolor\":\"white\",\"startlinecolor\":\"#2a3f5f\"},\"baxis\":{\"endlinecolor\":\"#2a3f5f\",\"gridcolor\":\"white\",\"linecolor\":\"white\",\"minorgridcolor\":\"white\",\"startlinecolor\":\"#2a3f5f\"},\"type\":\"carpet\"}],\"table\":[{\"cells\":{\"fill\":{\"color\":\"#EBF0F8\"},\"line\":{\"color\":\"white\"}},\"header\":{\"fill\":{\"color\":\"#C8D4E3\"},\"line\":{\"color\":\"white\"}},\"type\":\"table\"}],\"barpolar\":[{\"marker\":{\"line\":{\"color\":\"#E5ECF6\",\"width\":0.5},\"pattern\":{\"fillmode\":\"overlay\",\"size\":10,\"solidity\":0.2}},\"type\":\"barpolar\"}],\"pie\":[{\"automargin\":true,\"type\":\"pie\"}]},\"layout\":{\"autotypenumbers\":\"strict\",\"colorway\":[\"#636efa\",\"#EF553B\",\"#00cc96\",\"#ab63fa\",\"#FFA15A\",\"#19d3f3\",\"#FF6692\",\"#B6E880\",\"#FF97FF\",\"#FECB52\"],\"font\":{\"color\":\"#2a3f5f\"},\"hovermode\":\"closest\",\"hoverlabel\":{\"align\":\"left\"},\"paper_bgcolor\":\"white\",\"plot_bgcolor\":\"#E5ECF6\",\"polar\":{\"bgcolor\":\"#E5ECF6\",\"angularaxis\":{\"gridcolor\":\"white\",\"linecolor\":\"white\",\"ticks\":\"\"},\"radialaxis\":{\"gridcolor\":\"white\",\"linecolor\":\"white\",\"ticks\":\"\"}},\"ternary\":{\"bgcolor\":\"#E5ECF6\",\"aaxis\":{\"gridcolor\":\"white\",\"linecolor\":\"white\",\"ticks\":\"\"},\"baxis\":{\"gridcolor\":\"white\",\"linecolor\":\"white\",\"ticks\":\"\"},\"caxis\":{\"gridcolor\":\"white\",\"linecolor\":\"white\",\"ticks\":\"\"}},\"coloraxis\":{\"colorbar\":{\"outlinewidth\":0,\"ticks\":\"\"}},\"colorscale\":{\"sequential\":[[0.0,\"#0d0887\"],[0.1111111111111111,\"#46039f\"],[0.2222222222222222,\"#7201a8\"],[0.3333333333333333,\"#9c179e\"],[0.4444444444444444,\"#bd3786\"],[0.5555555555555556,\"#d8576b\"],[0.6666666666666666,\"#ed7953\"],[0.7777777777777778,\"#fb9f3a\"],[0.8888888888888888,\"#fdca26\"],[1.0,\"#f0f921\"]],\"sequentialminus\":[[0.0,\"#0d0887\"],[0.1111111111111111,\"#46039f\"],[0.2222222222222222,\"#7201a8\"],[0.3333333333333333,\"#9c179e\"],[0.4444444444444444,\"#bd3786\"],[0.5555555555555556,\"#d8576b\"],[0.6666666666666666,\"#ed7953\"],[0.7777777777777778,\"#fb9f3a\"],[0.8888888888888888,\"#fdca26\"],[1.0,\"#f0f921\"]],\"diverging\":[[0,\"#8e0152\"],[0.1,\"#c51b7d\"],[0.2,\"#de77ae\"],[0.3,\"#f1b6da\"],[0.4,\"#fde0ef\"],[0.5,\"#f7f7f7\"],[0.6,\"#e6f5d0\"],[0.7,\"#b8e186\"],[0.8,\"#7fbc41\"],[0.9,\"#4d9221\"],[1,\"#276419\"]]},\"xaxis\":{\"gridcolor\":\"white\",\"linecolor\":\"white\",\"ticks\":\"\",\"title\":{\"standoff\":15},\"zerolinecolor\":\"white\",\"automargin\":true,\"zerolinewidth\":2},\"yaxis\":{\"gridcolor\":\"white\",\"linecolor\":\"white\",\"ticks\":\"\",\"title\":{\"standoff\":15},\"zerolinecolor\":\"white\",\"automargin\":true,\"zerolinewidth\":2},\"scene\":{\"xaxis\":{\"backgroundcolor\":\"#E5ECF6\",\"gridcolor\":\"white\",\"linecolor\":\"white\",\"showbackground\":true,\"ticks\":\"\",\"zerolinecolor\":\"white\",\"gridwidth\":2},\"yaxis\":{\"backgroundcolor\":\"#E5ECF6\",\"gridcolor\":\"white\",\"linecolor\":\"white\",\"showbackground\":true,\"ticks\":\"\",\"zerolinecolor\":\"white\",\"gridwidth\":2},\"zaxis\":{\"backgroundcolor\":\"#E5ECF6\",\"gridcolor\":\"white\",\"linecolor\":\"white\",\"showbackground\":true,\"ticks\":\"\",\"zerolinecolor\":\"white\",\"gridwidth\":2}},\"shapedefaults\":{\"line\":{\"color\":\"#2a3f5f\"}},\"annotationdefaults\":{\"arrowcolor\":\"#2a3f5f\",\"arrowhead\":0,\"arrowwidth\":1},\"geo\":{\"bgcolor\":\"white\",\"landcolor\":\"#E5ECF6\",\"subunitcolor\":\"white\",\"showland\":true,\"showlakes\":true,\"lakecolor\":\"white\"},\"title\":{\"x\":0.05},\"mapbox\":{\"style\":\"light\"}}},\"scene\":{\"domain\":{\"x\":[0.0,1.0],\"y\":[0.0,1.0]},\"xaxis\":{\"title\":{\"text\":\"0\"}},\"yaxis\":{\"title\":{\"text\":\"1\"}},\"zaxis\":{\"title\":{\"text\":\"2\"}}},\"legend\":{\"title\":{\"text\":\"label\"},\"tracegroupgap\":0},\"margin\":{\"t\":60}},                        {\"responsive\": true}                    ).then(function(){\n",
              "                            \n",
              "var gd = document.getElementById('3fff79ea-f051-48d6-9e8c-5f4cac84d879');\n",
              "var x = new MutationObserver(function (mutations, observer) {{\n",
              "        var display = window.getComputedStyle(gd).display;\n",
              "        if (!display || display === 'none') {{\n",
              "            console.log([gd, 'removed!']);\n",
              "            Plotly.purge(gd);\n",
              "            observer.disconnect();\n",
              "        }}\n",
              "}});\n",
              "\n",
              "// Listen for the removal of the full notebook cells\n",
              "var notebookContainer = gd.closest('#notebook-container');\n",
              "if (notebookContainer) {{\n",
              "    x.observe(notebookContainer, {childList: true});\n",
              "}}\n",
              "\n",
              "// Listen for the clearing of the current output cell\n",
              "var outputEl = gd.closest('.output');\n",
              "if (outputEl) {{\n",
              "    x.observe(outputEl, {childList: true});\n",
              "}}\n",
              "\n",
              "                        })                };                            </script>        </div>\n",
              "</body>\n",
              "</html>"
            ]
          },
          "metadata": {}
        }
      ]
    },
    {
      "cell_type": "markdown",
      "source": [
        "<h3> mari coba modelkan menggunakan stacking algoritma yang berbeda-beda"
      ],
      "metadata": {
        "id": "u7RCT2sBxhiq"
      }
    },
    {
      "cell_type": "code",
      "source": [
        "from pycaret.classification import *"
      ],
      "metadata": {
        "id": "kw-mxji8xQ2s"
      },
      "execution_count": 29,
      "outputs": []
    },
    {
      "cell_type": "code",
      "source": [
        "clf1 = setup(data = dbt,\n",
        "             target = 'Outcome',\n",
        "             preprocess = False,\n",
        "             )"
      ],
      "metadata": {
        "id": "ahbicbTJxeHe",
        "outputId": "e3427c54-8511-491e-9f42-ca0c9e6e12ac",
        "colab": {
          "base_uri": "https://localhost:8080/",
          "height": 301
        }
      },
      "execution_count": 30,
      "outputs": [
        {
          "output_type": "display_data",
          "data": {
            "text/plain": [
              "<pandas.io.formats.style.Styler at 0x78f77023f190>"
            ],
            "text/html": [
              "<style type=\"text/css\">\n",
              "</style>\n",
              "<table id=\"T_87bd0\" class=\"dataframe\">\n",
              "  <thead>\n",
              "    <tr>\n",
              "      <th class=\"blank level0\" >&nbsp;</th>\n",
              "      <th id=\"T_87bd0_level0_col0\" class=\"col_heading level0 col0\" >Description</th>\n",
              "      <th id=\"T_87bd0_level0_col1\" class=\"col_heading level0 col1\" >Value</th>\n",
              "    </tr>\n",
              "  </thead>\n",
              "  <tbody>\n",
              "    <tr>\n",
              "      <th id=\"T_87bd0_level0_row0\" class=\"row_heading level0 row0\" >0</th>\n",
              "      <td id=\"T_87bd0_row0_col0\" class=\"data row0 col0\" >Session id</td>\n",
              "      <td id=\"T_87bd0_row0_col1\" class=\"data row0 col1\" >5483</td>\n",
              "    </tr>\n",
              "    <tr>\n",
              "      <th id=\"T_87bd0_level0_row1\" class=\"row_heading level0 row1\" >1</th>\n",
              "      <td id=\"T_87bd0_row1_col0\" class=\"data row1 col0\" >Target</td>\n",
              "      <td id=\"T_87bd0_row1_col1\" class=\"data row1 col1\" >Outcome</td>\n",
              "    </tr>\n",
              "    <tr>\n",
              "      <th id=\"T_87bd0_level0_row2\" class=\"row_heading level0 row2\" >2</th>\n",
              "      <td id=\"T_87bd0_row2_col0\" class=\"data row2 col0\" >Target type</td>\n",
              "      <td id=\"T_87bd0_row2_col1\" class=\"data row2 col1\" >Binary</td>\n",
              "    </tr>\n",
              "    <tr>\n",
              "      <th id=\"T_87bd0_level0_row3\" class=\"row_heading level0 row3\" >3</th>\n",
              "      <td id=\"T_87bd0_row3_col0\" class=\"data row3 col0\" >Original data shape</td>\n",
              "      <td id=\"T_87bd0_row3_col1\" class=\"data row3 col1\" >(768, 9)</td>\n",
              "    </tr>\n",
              "    <tr>\n",
              "      <th id=\"T_87bd0_level0_row4\" class=\"row_heading level0 row4\" >4</th>\n",
              "      <td id=\"T_87bd0_row4_col0\" class=\"data row4 col0\" >Transformed data shape</td>\n",
              "      <td id=\"T_87bd0_row4_col1\" class=\"data row4 col1\" >(768, 9)</td>\n",
              "    </tr>\n",
              "    <tr>\n",
              "      <th id=\"T_87bd0_level0_row5\" class=\"row_heading level0 row5\" >5</th>\n",
              "      <td id=\"T_87bd0_row5_col0\" class=\"data row5 col0\" >Transformed train set shape</td>\n",
              "      <td id=\"T_87bd0_row5_col1\" class=\"data row5 col1\" >(537, 9)</td>\n",
              "    </tr>\n",
              "    <tr>\n",
              "      <th id=\"T_87bd0_level0_row6\" class=\"row_heading level0 row6\" >6</th>\n",
              "      <td id=\"T_87bd0_row6_col0\" class=\"data row6 col0\" >Transformed test set shape</td>\n",
              "      <td id=\"T_87bd0_row6_col1\" class=\"data row6 col1\" >(231, 9)</td>\n",
              "    </tr>\n",
              "    <tr>\n",
              "      <th id=\"T_87bd0_level0_row7\" class=\"row_heading level0 row7\" >7</th>\n",
              "      <td id=\"T_87bd0_row7_col0\" class=\"data row7 col0\" >Numeric features</td>\n",
              "      <td id=\"T_87bd0_row7_col1\" class=\"data row7 col1\" >8</td>\n",
              "    </tr>\n",
              "  </tbody>\n",
              "</table>\n"
            ]
          },
          "metadata": {}
        }
      ]
    },
    {
      "cell_type": "code",
      "source": [
        "top5 = compare_models(n_select = 5,\n",
        "                      exclude=['lightgbm','xgboost','dummy','svm','ridge','knn','dt','nb','qda']\n",
        "                     )"
      ],
      "metadata": {
        "id": "AinSpDDryCNG",
        "outputId": "9784f109-a70b-4991-ddf7-dea8c81c3c5f",
        "colab": {
          "base_uri": "https://localhost:8080/",
          "height": 238,
          "referenced_widgets": [
            "d393c103a6a24ac3a36305b63d12a013",
            "17b5ff689a4d4912943bcb62f7991832",
            "4241797eb92a4d67a3c29342b681a30e",
            "bd6c57ae14794ab98bc86069ddc61db3",
            "3de56f528f7148cab9c0c468216f3ea9",
            "5404a95070824c9e871b6aed5a920604",
            "585f4814312541d8b26da0df7a8961f6",
            "cf9c54413ff94fcf931859fc91f80d72",
            "1278c4f21e894fd29d3707e81c5253cd",
            "8a8907995f1240d0aa233e086b1b17e1",
            "0454b7a026714a708bbaa2dee4a1249f"
          ]
        }
      },
      "execution_count": 31,
      "outputs": [
        {
          "output_type": "display_data",
          "data": {
            "text/plain": [
              "<IPython.core.display.HTML object>"
            ],
            "text/html": []
          },
          "metadata": {}
        },
        {
          "output_type": "display_data",
          "data": {
            "text/plain": [
              "<pandas.io.formats.style.Styler at 0x78f794d5cf70>"
            ],
            "text/html": [
              "<style type=\"text/css\">\n",
              "#T_85fcf th {\n",
              "  text-align: left;\n",
              "}\n",
              "#T_85fcf_row0_col0, #T_85fcf_row0_col3, #T_85fcf_row0_col5, #T_85fcf_row0_col6, #T_85fcf_row0_col7, #T_85fcf_row1_col0, #T_85fcf_row1_col2, #T_85fcf_row1_col3, #T_85fcf_row1_col4, #T_85fcf_row2_col0, #T_85fcf_row2_col1, #T_85fcf_row2_col2, #T_85fcf_row2_col4, #T_85fcf_row2_col5, #T_85fcf_row2_col6, #T_85fcf_row2_col7, #T_85fcf_row3_col0, #T_85fcf_row3_col1, #T_85fcf_row3_col2, #T_85fcf_row3_col3, #T_85fcf_row3_col4, #T_85fcf_row3_col5, #T_85fcf_row3_col6, #T_85fcf_row3_col7, #T_85fcf_row4_col0, #T_85fcf_row4_col1, #T_85fcf_row4_col2, #T_85fcf_row4_col3, #T_85fcf_row4_col4, #T_85fcf_row4_col5, #T_85fcf_row4_col6, #T_85fcf_row4_col7, #T_85fcf_row5_col0, #T_85fcf_row5_col1, #T_85fcf_row5_col2, #T_85fcf_row5_col3, #T_85fcf_row5_col4, #T_85fcf_row5_col5, #T_85fcf_row5_col6, #T_85fcf_row5_col7 {\n",
              "  text-align: left;\n",
              "}\n",
              "#T_85fcf_row0_col1, #T_85fcf_row0_col2, #T_85fcf_row0_col4, #T_85fcf_row1_col1, #T_85fcf_row1_col5, #T_85fcf_row1_col6, #T_85fcf_row1_col7, #T_85fcf_row2_col3 {\n",
              "  text-align: left;\n",
              "  background-color: yellow;\n",
              "}\n",
              "#T_85fcf_row0_col8, #T_85fcf_row2_col8, #T_85fcf_row3_col8, #T_85fcf_row4_col8, #T_85fcf_row5_col8 {\n",
              "  text-align: left;\n",
              "  background-color: lightgrey;\n",
              "}\n",
              "#T_85fcf_row1_col8 {\n",
              "  text-align: left;\n",
              "  background-color: yellow;\n",
              "  background-color: lightgrey;\n",
              "}\n",
              "</style>\n",
              "<table id=\"T_85fcf\" class=\"dataframe\">\n",
              "  <thead>\n",
              "    <tr>\n",
              "      <th class=\"blank level0\" >&nbsp;</th>\n",
              "      <th id=\"T_85fcf_level0_col0\" class=\"col_heading level0 col0\" >Model</th>\n",
              "      <th id=\"T_85fcf_level0_col1\" class=\"col_heading level0 col1\" >Accuracy</th>\n",
              "      <th id=\"T_85fcf_level0_col2\" class=\"col_heading level0 col2\" >AUC</th>\n",
              "      <th id=\"T_85fcf_level0_col3\" class=\"col_heading level0 col3\" >Recall</th>\n",
              "      <th id=\"T_85fcf_level0_col4\" class=\"col_heading level0 col4\" >Prec.</th>\n",
              "      <th id=\"T_85fcf_level0_col5\" class=\"col_heading level0 col5\" >F1</th>\n",
              "      <th id=\"T_85fcf_level0_col6\" class=\"col_heading level0 col6\" >Kappa</th>\n",
              "      <th id=\"T_85fcf_level0_col7\" class=\"col_heading level0 col7\" >MCC</th>\n",
              "      <th id=\"T_85fcf_level0_col8\" class=\"col_heading level0 col8\" >TT (Sec)</th>\n",
              "    </tr>\n",
              "  </thead>\n",
              "  <tbody>\n",
              "    <tr>\n",
              "      <th id=\"T_85fcf_level0_row0\" class=\"row_heading level0 row0\" >lr</th>\n",
              "      <td id=\"T_85fcf_row0_col0\" class=\"data row0 col0\" >Logistic Regression</td>\n",
              "      <td id=\"T_85fcf_row0_col1\" class=\"data row0 col1\" >0.7656</td>\n",
              "      <td id=\"T_85fcf_row0_col2\" class=\"data row0 col2\" >0.8209</td>\n",
              "      <td id=\"T_85fcf_row0_col3\" class=\"data row0 col3\" >0.5614</td>\n",
              "      <td id=\"T_85fcf_row0_col4\" class=\"data row0 col4\" >0.7172</td>\n",
              "      <td id=\"T_85fcf_row0_col5\" class=\"data row0 col5\" >0.6253</td>\n",
              "      <td id=\"T_85fcf_row0_col6\" class=\"data row0 col6\" >0.4587</td>\n",
              "      <td id=\"T_85fcf_row0_col7\" class=\"data row0 col7\" >0.4689</td>\n",
              "      <td id=\"T_85fcf_row0_col8\" class=\"data row0 col8\" >0.6750</td>\n",
              "    </tr>\n",
              "    <tr>\n",
              "      <th id=\"T_85fcf_level0_row1\" class=\"row_heading level0 row1\" >lda</th>\n",
              "      <td id=\"T_85fcf_row1_col0\" class=\"data row1 col0\" >Linear Discriminant Analysis</td>\n",
              "      <td id=\"T_85fcf_row1_col1\" class=\"data row1 col1\" >0.7656</td>\n",
              "      <td id=\"T_85fcf_row1_col2\" class=\"data row1 col2\" >0.8199</td>\n",
              "      <td id=\"T_85fcf_row1_col3\" class=\"data row1 col3\" >0.5667</td>\n",
              "      <td id=\"T_85fcf_row1_col4\" class=\"data row1 col4\" >0.7165</td>\n",
              "      <td id=\"T_85fcf_row1_col5\" class=\"data row1 col5\" >0.6287</td>\n",
              "      <td id=\"T_85fcf_row1_col6\" class=\"data row1 col6\" >0.4607</td>\n",
              "      <td id=\"T_85fcf_row1_col7\" class=\"data row1 col7\" >0.4704</td>\n",
              "      <td id=\"T_85fcf_row1_col8\" class=\"data row1 col8\" >0.1310</td>\n",
              "    </tr>\n",
              "    <tr>\n",
              "      <th id=\"T_85fcf_level0_row2\" class=\"row_heading level0 row2\" >ada</th>\n",
              "      <td id=\"T_85fcf_row2_col0\" class=\"data row2 col0\" >Ada Boost Classifier</td>\n",
              "      <td id=\"T_85fcf_row2_col1\" class=\"data row2 col1\" >0.7523</td>\n",
              "      <td id=\"T_85fcf_row2_col2\" class=\"data row2 col2\" >0.7668</td>\n",
              "      <td id=\"T_85fcf_row2_col3\" class=\"data row2 col3\" >0.5865</td>\n",
              "      <td id=\"T_85fcf_row2_col4\" class=\"data row2 col4\" >0.6685</td>\n",
              "      <td id=\"T_85fcf_row2_col5\" class=\"data row2 col5\" >0.6193</td>\n",
              "      <td id=\"T_85fcf_row2_col6\" class=\"data row2 col6\" >0.4378</td>\n",
              "      <td id=\"T_85fcf_row2_col7\" class=\"data row2 col7\" >0.4437</td>\n",
              "      <td id=\"T_85fcf_row2_col8\" class=\"data row2 col8\" >0.2880</td>\n",
              "    </tr>\n",
              "    <tr>\n",
              "      <th id=\"T_85fcf_level0_row3\" class=\"row_heading level0 row3\" >gbc</th>\n",
              "      <td id=\"T_85fcf_row3_col0\" class=\"data row3 col0\" >Gradient Boosting Classifier</td>\n",
              "      <td id=\"T_85fcf_row3_col1\" class=\"data row3 col1\" >0.7412</td>\n",
              "      <td id=\"T_85fcf_row3_col2\" class=\"data row3 col2\" >0.8006</td>\n",
              "      <td id=\"T_85fcf_row3_col3\" class=\"data row3 col3\" >0.5658</td>\n",
              "      <td id=\"T_85fcf_row3_col4\" class=\"data row3 col4\" >0.6560</td>\n",
              "      <td id=\"T_85fcf_row3_col5\" class=\"data row3 col5\" >0.6037</td>\n",
              "      <td id=\"T_85fcf_row3_col6\" class=\"data row3 col6\" >0.4136</td>\n",
              "      <td id=\"T_85fcf_row3_col7\" class=\"data row3 col7\" >0.4185</td>\n",
              "      <td id=\"T_85fcf_row3_col8\" class=\"data row3 col8\" >0.4950</td>\n",
              "    </tr>\n",
              "    <tr>\n",
              "      <th id=\"T_85fcf_level0_row4\" class=\"row_heading level0 row4\" >rf</th>\n",
              "      <td id=\"T_85fcf_row4_col0\" class=\"data row4 col0\" >Random Forest Classifier</td>\n",
              "      <td id=\"T_85fcf_row4_col1\" class=\"data row4 col1\" >0.7318</td>\n",
              "      <td id=\"T_85fcf_row4_col2\" class=\"data row4 col2\" >0.7907</td>\n",
              "      <td id=\"T_85fcf_row4_col3\" class=\"data row4 col3\" >0.5383</td>\n",
              "      <td id=\"T_85fcf_row4_col4\" class=\"data row4 col4\" >0.6324</td>\n",
              "      <td id=\"T_85fcf_row4_col5\" class=\"data row4 col5\" >0.5774</td>\n",
              "      <td id=\"T_85fcf_row4_col6\" class=\"data row4 col6\" >0.3844</td>\n",
              "      <td id=\"T_85fcf_row4_col7\" class=\"data row4 col7\" >0.3888</td>\n",
              "      <td id=\"T_85fcf_row4_col8\" class=\"data row4 col8\" >0.4810</td>\n",
              "    </tr>\n",
              "    <tr>\n",
              "      <th id=\"T_85fcf_level0_row5\" class=\"row_heading level0 row5\" >et</th>\n",
              "      <td id=\"T_85fcf_row5_col0\" class=\"data row5 col0\" >Extra Trees Classifier</td>\n",
              "      <td id=\"T_85fcf_row5_col1\" class=\"data row5 col1\" >0.7245</td>\n",
              "      <td id=\"T_85fcf_row5_col2\" class=\"data row5 col2\" >0.7904</td>\n",
              "      <td id=\"T_85fcf_row5_col3\" class=\"data row5 col3\" >0.5181</td>\n",
              "      <td id=\"T_85fcf_row5_col4\" class=\"data row5 col4\" >0.6256</td>\n",
              "      <td id=\"T_85fcf_row5_col5\" class=\"data row5 col5\" >0.5633</td>\n",
              "      <td id=\"T_85fcf_row5_col6\" class=\"data row5 col6\" >0.3662</td>\n",
              "      <td id=\"T_85fcf_row5_col7\" class=\"data row5 col7\" >0.3710</td>\n",
              "      <td id=\"T_85fcf_row5_col8\" class=\"data row5 col8\" >0.5740</td>\n",
              "    </tr>\n",
              "  </tbody>\n",
              "</table>\n"
            ]
          },
          "metadata": {}
        },
        {
          "output_type": "display_data",
          "data": {
            "text/plain": [
              "Processing:   0%|          | 0/33 [00:00<?, ?it/s]"
            ],
            "application/vnd.jupyter.widget-view+json": {
              "version_major": 2,
              "version_minor": 0,
              "model_id": "d393c103a6a24ac3a36305b63d12a013"
            }
          },
          "metadata": {
            "application/vnd.jupyter.widget-view+json": {
              "colab": {
                "custom_widget_manager": {
                  "url": "https://ssl.gstatic.com/colaboratory-static/widgets/colab-cdn-widget-manager/b3e629b1971e1542/manager.min.js"
                }
              }
            }
          }
        },
        {
          "output_type": "display_data",
          "data": {
            "text/plain": [
              "<IPython.core.display.HTML object>"
            ],
            "text/html": []
          },
          "metadata": {}
        }
      ]
    },
    {
      "cell_type": "code",
      "source": [
        "rf = create_model('rf')\n",
        "lr = create_model('lr')\n",
        "ada = create_model('ada')\n",
        "lda = create_model('lda')\n",
        "gbc = create_model('gbc')"
      ],
      "metadata": {
        "id": "sZnosa9JxHK9",
        "outputId": "f760b8dd-f581-4ee1-aa77-3fe76810d48c",
        "colab": {
          "base_uri": "https://localhost:8080/",
          "height": 1000,
          "referenced_widgets": [
            "a0bae6958dea40c283708cba3bd2f54d",
            "fce70097042a4ceebcc3ea2774783197",
            "a41e84bb8b57463eafa9f0d36d6876a2",
            "c94c1e75ad1d4b639e032a794b0919eb",
            "87a098434e15493e9a7197f1fe4fec26",
            "86cd54319b81430e85bd27cadfa57739",
            "8258502d1a2647cc97cc3494ec709e42",
            "34080c7231d54719a37bc489a5999531",
            "671eba6704734eb98cd3c7004a7471bb",
            "5ad61069c4ff4f01ae7017ab57855fc4",
            "17b5397be941418a8b369920fd3517ae",
            "99b7bc355eba40f4b9df222015a59212",
            "ccfb508d618c4ea9abcf15eb51eb4319",
            "cf06f12d9e414c738199ba3bca236452",
            "6d073b28b0014e99bafedacd237f2079",
            "fbd984ef150b4ba4b1395c42d4258c5c",
            "467bedf88e0247598cd9a6e219f0f4cc",
            "d1f9bd060c194c69a8ff5714918fcee5",
            "36e8f8e1bcbc4f8eb1b564bf77850789",
            "4e9e78d0da2143a8a11da5e2dedba54e",
            "c76728ca6a9b46a09b1ae0230ea8cbf0",
            "f901a80df0a642a89292b5a4accb70b7",
            "fe153665319b424e8e249578adad329d",
            "66a420150b0d4f53a7fbc9ca38cd3148",
            "956f8e0e670a43e8aa8469602a66e99f",
            "aaf547db17d8458a8fda8063b1a87473",
            "9a11853ca3ad4b36a6e34497a5d7f370",
            "11418e47b61b4733a8b6b39729cedeed",
            "8ac48f282f594641acaead6787484ab3",
            "90b1a9fac9d3463d8bff8da7e478f6cd",
            "64074d29d630478199326ac747f07c4a",
            "6770ed44746e45178833e04284f00b8b",
            "9cb8c597793142b9865c567f77457220",
            "a06d637fb3044c67a0cba3f3499a7898",
            "824b263a14164323b2da460609e09b95",
            "d9fab4afcff54ea4a2c1f2553d61d66e",
            "af0cb797a6264c0c9fe24f3b827c2208",
            "9532a45e16304955be62f2f43d68a75f",
            "58603dd8f2154780b1a8833ff8bbc169",
            "bcd6e696f4de4ba48fd1a3fcd9604dba",
            "883cafae76fb47d79ea4a98c938bcc40",
            "bee212628ede49b893541a490ec443b5",
            "c8a47243e68e426bbc059a9faae6c994",
            "2962301e84924fbba702cc41c7cc6a9b",
            "3b9f3ae05c7b47a5a10adacf0651a355",
            "b60a6507feea40c6a9c89a72976d6bdc",
            "19f1e412bcb84b669570afe95073db4d",
            "51b64fce36cf448b8c1b06a427055d5c",
            "19a108cb0b414206a6467c9888c2da8c",
            "67a0b06c16214c3695f795b3460789a3",
            "fcbe049995674e5fa35ef4ce4ec0be61",
            "4c05aaa45bc543f28d18d69947367545",
            "283999a621d9469facef144495c5e2e3",
            "285e54ca2d9d4a938014c9c405cc99fd",
            "f055ad764ec0428293124f84063a928c"
          ]
        }
      },
      "execution_count": 32,
      "outputs": [
        {
          "output_type": "display_data",
          "data": {
            "text/plain": [
              "<IPython.core.display.HTML object>"
            ],
            "text/html": []
          },
          "metadata": {}
        },
        {
          "output_type": "display_data",
          "data": {
            "text/plain": [
              "<pandas.io.formats.style.Styler at 0x78f794d25810>"
            ],
            "text/html": [
              "<style type=\"text/css\">\n",
              "#T_f0412_row10_col0, #T_f0412_row10_col1, #T_f0412_row10_col2, #T_f0412_row10_col3, #T_f0412_row10_col4, #T_f0412_row10_col5, #T_f0412_row10_col6 {\n",
              "  background: yellow;\n",
              "}\n",
              "</style>\n",
              "<table id=\"T_f0412\" class=\"dataframe\">\n",
              "  <thead>\n",
              "    <tr>\n",
              "      <th class=\"blank level0\" >&nbsp;</th>\n",
              "      <th id=\"T_f0412_level0_col0\" class=\"col_heading level0 col0\" >Accuracy</th>\n",
              "      <th id=\"T_f0412_level0_col1\" class=\"col_heading level0 col1\" >AUC</th>\n",
              "      <th id=\"T_f0412_level0_col2\" class=\"col_heading level0 col2\" >Recall</th>\n",
              "      <th id=\"T_f0412_level0_col3\" class=\"col_heading level0 col3\" >Prec.</th>\n",
              "      <th id=\"T_f0412_level0_col4\" class=\"col_heading level0 col4\" >F1</th>\n",
              "      <th id=\"T_f0412_level0_col5\" class=\"col_heading level0 col5\" >Kappa</th>\n",
              "      <th id=\"T_f0412_level0_col6\" class=\"col_heading level0 col6\" >MCC</th>\n",
              "    </tr>\n",
              "    <tr>\n",
              "      <th class=\"index_name level0\" >Fold</th>\n",
              "      <th class=\"blank col0\" >&nbsp;</th>\n",
              "      <th class=\"blank col1\" >&nbsp;</th>\n",
              "      <th class=\"blank col2\" >&nbsp;</th>\n",
              "      <th class=\"blank col3\" >&nbsp;</th>\n",
              "      <th class=\"blank col4\" >&nbsp;</th>\n",
              "      <th class=\"blank col5\" >&nbsp;</th>\n",
              "      <th class=\"blank col6\" >&nbsp;</th>\n",
              "    </tr>\n",
              "  </thead>\n",
              "  <tbody>\n",
              "    <tr>\n",
              "      <th id=\"T_f0412_level0_row0\" class=\"row_heading level0 row0\" >0</th>\n",
              "      <td id=\"T_f0412_row0_col0\" class=\"data row0 col0\" >0.6852</td>\n",
              "      <td id=\"T_f0412_row0_col1\" class=\"data row0 col1\" >0.7459</td>\n",
              "      <td id=\"T_f0412_row0_col2\" class=\"data row0 col2\" >0.5789</td>\n",
              "      <td id=\"T_f0412_row0_col3\" class=\"data row0 col3\" >0.5500</td>\n",
              "      <td id=\"T_f0412_row0_col4\" class=\"data row0 col4\" >0.5641</td>\n",
              "      <td id=\"T_f0412_row0_col5\" class=\"data row0 col5\" >0.3180</td>\n",
              "      <td id=\"T_f0412_row0_col6\" class=\"data row0 col6\" >0.3182</td>\n",
              "    </tr>\n",
              "    <tr>\n",
              "      <th id=\"T_f0412_level0_row1\" class=\"row_heading level0 row1\" >1</th>\n",
              "      <td id=\"T_f0412_row1_col0\" class=\"data row1 col0\" >0.7593</td>\n",
              "      <td id=\"T_f0412_row1_col1\" class=\"data row1 col1\" >0.8391</td>\n",
              "      <td id=\"T_f0412_row1_col2\" class=\"data row1 col2\" >0.6316</td>\n",
              "      <td id=\"T_f0412_row1_col3\" class=\"data row1 col3\" >0.6667</td>\n",
              "      <td id=\"T_f0412_row1_col4\" class=\"data row1 col4\" >0.6486</td>\n",
              "      <td id=\"T_f0412_row1_col5\" class=\"data row1 col5\" >0.4658</td>\n",
              "      <td id=\"T_f0412_row1_col6\" class=\"data row1 col6\" >0.4661</td>\n",
              "    </tr>\n",
              "    <tr>\n",
              "      <th id=\"T_f0412_level0_row2\" class=\"row_heading level0 row2\" >2</th>\n",
              "      <td id=\"T_f0412_row2_col0\" class=\"data row2 col0\" >0.7778</td>\n",
              "      <td id=\"T_f0412_row2_col1\" class=\"data row2 col1\" >0.8368</td>\n",
              "      <td id=\"T_f0412_row2_col2\" class=\"data row2 col2\" >0.6316</td>\n",
              "      <td id=\"T_f0412_row2_col3\" class=\"data row2 col3\" >0.7059</td>\n",
              "      <td id=\"T_f0412_row2_col4\" class=\"data row2 col4\" >0.6667</td>\n",
              "      <td id=\"T_f0412_row2_col5\" class=\"data row2 col5\" >0.5008</td>\n",
              "      <td id=\"T_f0412_row2_col6\" class=\"data row2 col6\" >0.5025</td>\n",
              "    </tr>\n",
              "    <tr>\n",
              "      <th id=\"T_f0412_level0_row3\" class=\"row_heading level0 row3\" >3</th>\n",
              "      <td id=\"T_f0412_row3_col0\" class=\"data row3 col0\" >0.6852</td>\n",
              "      <td id=\"T_f0412_row3_col1\" class=\"data row3 col1\" >0.7564</td>\n",
              "      <td id=\"T_f0412_row3_col2\" class=\"data row3 col2\" >0.5263</td>\n",
              "      <td id=\"T_f0412_row3_col3\" class=\"data row3 col3\" >0.5556</td>\n",
              "      <td id=\"T_f0412_row3_col4\" class=\"data row3 col4\" >0.5405</td>\n",
              "      <td id=\"T_f0412_row3_col5\" class=\"data row3 col5\" >0.3014</td>\n",
              "      <td id=\"T_f0412_row3_col6\" class=\"data row3 col6\" >0.3016</td>\n",
              "    </tr>\n",
              "    <tr>\n",
              "      <th id=\"T_f0412_level0_row4\" class=\"row_heading level0 row4\" >4</th>\n",
              "      <td id=\"T_f0412_row4_col0\" class=\"data row4 col0\" >0.7778</td>\n",
              "      <td id=\"T_f0412_row4_col1\" class=\"data row4 col1\" >0.8226</td>\n",
              "      <td id=\"T_f0412_row4_col2\" class=\"data row4 col2\" >0.6316</td>\n",
              "      <td id=\"T_f0412_row4_col3\" class=\"data row4 col3\" >0.7059</td>\n",
              "      <td id=\"T_f0412_row4_col4\" class=\"data row4 col4\" >0.6667</td>\n",
              "      <td id=\"T_f0412_row4_col5\" class=\"data row4 col5\" >0.5008</td>\n",
              "      <td id=\"T_f0412_row4_col6\" class=\"data row4 col6\" >0.5025</td>\n",
              "    </tr>\n",
              "    <tr>\n",
              "      <th id=\"T_f0412_level0_row5\" class=\"row_heading level0 row5\" >5</th>\n",
              "      <td id=\"T_f0412_row5_col0\" class=\"data row5 col0\" >0.7778</td>\n",
              "      <td id=\"T_f0412_row5_col1\" class=\"data row5 col1\" >0.8383</td>\n",
              "      <td id=\"T_f0412_row5_col2\" class=\"data row5 col2\" >0.6842</td>\n",
              "      <td id=\"T_f0412_row5_col3\" class=\"data row5 col3\" >0.6842</td>\n",
              "      <td id=\"T_f0412_row5_col4\" class=\"data row5 col4\" >0.6842</td>\n",
              "      <td id=\"T_f0412_row5_col5\" class=\"data row5 col5\" >0.5128</td>\n",
              "      <td id=\"T_f0412_row5_col6\" class=\"data row5 col6\" >0.5128</td>\n",
              "    </tr>\n",
              "    <tr>\n",
              "      <th id=\"T_f0412_level0_row6\" class=\"row_heading level0 row6\" >6</th>\n",
              "      <td id=\"T_f0412_row6_col0\" class=\"data row6 col0\" >0.6852</td>\n",
              "      <td id=\"T_f0412_row6_col1\" class=\"data row6 col1\" >0.6481</td>\n",
              "      <td id=\"T_f0412_row6_col2\" class=\"data row6 col2\" >0.4211</td>\n",
              "      <td id=\"T_f0412_row6_col3\" class=\"data row6 col3\" >0.5714</td>\n",
              "      <td id=\"T_f0412_row6_col4\" class=\"data row6 col4\" >0.4848</td>\n",
              "      <td id=\"T_f0412_row6_col5\" class=\"data row6 col5\" >0.2656</td>\n",
              "      <td id=\"T_f0412_row6_col6\" class=\"data row6 col6\" >0.2720</td>\n",
              "    </tr>\n",
              "    <tr>\n",
              "      <th id=\"T_f0412_level0_row7\" class=\"row_heading level0 row7\" >7</th>\n",
              "      <td id=\"T_f0412_row7_col0\" class=\"data row7 col0\" >0.6604</td>\n",
              "      <td id=\"T_f0412_row7_col1\" class=\"data row7 col1\" >0.7540</td>\n",
              "      <td id=\"T_f0412_row7_col2\" class=\"data row7 col2\" >0.2778</td>\n",
              "      <td id=\"T_f0412_row7_col3\" class=\"data row7 col3\" >0.5000</td>\n",
              "      <td id=\"T_f0412_row7_col4\" class=\"data row7 col4\" >0.3571</td>\n",
              "      <td id=\"T_f0412_row7_col5\" class=\"data row7 col5\" >0.1512</td>\n",
              "      <td id=\"T_f0412_row7_col6\" class=\"data row7 col6\" >0.1633</td>\n",
              "    </tr>\n",
              "    <tr>\n",
              "      <th id=\"T_f0412_level0_row8\" class=\"row_heading level0 row8\" >8</th>\n",
              "      <td id=\"T_f0412_row8_col0\" class=\"data row8 col0\" >0.7547</td>\n",
              "      <td id=\"T_f0412_row8_col1\" class=\"data row8 col1\" >0.8349</td>\n",
              "      <td id=\"T_f0412_row8_col2\" class=\"data row8 col2\" >0.5000</td>\n",
              "      <td id=\"T_f0412_row8_col3\" class=\"data row8 col3\" >0.6923</td>\n",
              "      <td id=\"T_f0412_row8_col4\" class=\"data row8 col4\" >0.5806</td>\n",
              "      <td id=\"T_f0412_row8_col5\" class=\"data row8 col5\" >0.4136</td>\n",
              "      <td id=\"T_f0412_row8_col6\" class=\"data row8 col6\" >0.4246</td>\n",
              "    </tr>\n",
              "    <tr>\n",
              "      <th id=\"T_f0412_level0_row9\" class=\"row_heading level0 row9\" >9</th>\n",
              "      <td id=\"T_f0412_row9_col0\" class=\"data row9 col0\" >0.7547</td>\n",
              "      <td id=\"T_f0412_row9_col1\" class=\"data row9 col1\" >0.8310</td>\n",
              "      <td id=\"T_f0412_row9_col2\" class=\"data row9 col2\" >0.5000</td>\n",
              "      <td id=\"T_f0412_row9_col3\" class=\"data row9 col3\" >0.6923</td>\n",
              "      <td id=\"T_f0412_row9_col4\" class=\"data row9 col4\" >0.5806</td>\n",
              "      <td id=\"T_f0412_row9_col5\" class=\"data row9 col5\" >0.4136</td>\n",
              "      <td id=\"T_f0412_row9_col6\" class=\"data row9 col6\" >0.4246</td>\n",
              "    </tr>\n",
              "    <tr>\n",
              "      <th id=\"T_f0412_level0_row10\" class=\"row_heading level0 row10\" >Mean</th>\n",
              "      <td id=\"T_f0412_row10_col0\" class=\"data row10 col0\" >0.7318</td>\n",
              "      <td id=\"T_f0412_row10_col1\" class=\"data row10 col1\" >0.7907</td>\n",
              "      <td id=\"T_f0412_row10_col2\" class=\"data row10 col2\" >0.5383</td>\n",
              "      <td id=\"T_f0412_row10_col3\" class=\"data row10 col3\" >0.6324</td>\n",
              "      <td id=\"T_f0412_row10_col4\" class=\"data row10 col4\" >0.5774</td>\n",
              "      <td id=\"T_f0412_row10_col5\" class=\"data row10 col5\" >0.3844</td>\n",
              "      <td id=\"T_f0412_row10_col6\" class=\"data row10 col6\" >0.3888</td>\n",
              "    </tr>\n",
              "    <tr>\n",
              "      <th id=\"T_f0412_level0_row11\" class=\"row_heading level0 row11\" >Std</th>\n",
              "      <td id=\"T_f0412_row11_col0\" class=\"data row11 col0\" >0.0445</td>\n",
              "      <td id=\"T_f0412_row11_col1\" class=\"data row11 col1\" >0.0602</td>\n",
              "      <td id=\"T_f0412_row11_col2\" class=\"data row11 col2\" >0.1156</td>\n",
              "      <td id=\"T_f0412_row11_col3\" class=\"data row11 col3\" >0.0747</td>\n",
              "      <td id=\"T_f0412_row11_col4\" class=\"data row11 col4\" >0.0954</td>\n",
              "      <td id=\"T_f0412_row11_col5\" class=\"data row11 col5\" >0.1147</td>\n",
              "      <td id=\"T_f0412_row11_col6\" class=\"data row11 col6\" >0.1126</td>\n",
              "    </tr>\n",
              "  </tbody>\n",
              "</table>\n"
            ]
          },
          "metadata": {}
        },
        {
          "output_type": "display_data",
          "data": {
            "text/plain": [
              "Processing:   0%|          | 0/4 [00:00<?, ?it/s]"
            ],
            "application/vnd.jupyter.widget-view+json": {
              "version_major": 2,
              "version_minor": 0,
              "model_id": "a0bae6958dea40c283708cba3bd2f54d"
            }
          },
          "metadata": {
            "application/vnd.jupyter.widget-view+json": {
              "colab": {
                "custom_widget_manager": {
                  "url": "https://ssl.gstatic.com/colaboratory-static/widgets/colab-cdn-widget-manager/b3e629b1971e1542/manager.min.js"
                }
              }
            }
          }
        },
        {
          "output_type": "display_data",
          "data": {
            "text/plain": [
              "<IPython.core.display.HTML object>"
            ],
            "text/html": []
          },
          "metadata": {}
        },
        {
          "output_type": "display_data",
          "data": {
            "text/plain": [
              "<IPython.core.display.HTML object>"
            ],
            "text/html": []
          },
          "metadata": {}
        },
        {
          "output_type": "display_data",
          "data": {
            "text/plain": [
              "<pandas.io.formats.style.Styler at 0x78f7817a1ae0>"
            ],
            "text/html": [
              "<style type=\"text/css\">\n",
              "#T_4ecbe_row10_col0, #T_4ecbe_row10_col1, #T_4ecbe_row10_col2, #T_4ecbe_row10_col3, #T_4ecbe_row10_col4, #T_4ecbe_row10_col5, #T_4ecbe_row10_col6 {\n",
              "  background: yellow;\n",
              "}\n",
              "</style>\n",
              "<table id=\"T_4ecbe\" class=\"dataframe\">\n",
              "  <thead>\n",
              "    <tr>\n",
              "      <th class=\"blank level0\" >&nbsp;</th>\n",
              "      <th id=\"T_4ecbe_level0_col0\" class=\"col_heading level0 col0\" >Accuracy</th>\n",
              "      <th id=\"T_4ecbe_level0_col1\" class=\"col_heading level0 col1\" >AUC</th>\n",
              "      <th id=\"T_4ecbe_level0_col2\" class=\"col_heading level0 col2\" >Recall</th>\n",
              "      <th id=\"T_4ecbe_level0_col3\" class=\"col_heading level0 col3\" >Prec.</th>\n",
              "      <th id=\"T_4ecbe_level0_col4\" class=\"col_heading level0 col4\" >F1</th>\n",
              "      <th id=\"T_4ecbe_level0_col5\" class=\"col_heading level0 col5\" >Kappa</th>\n",
              "      <th id=\"T_4ecbe_level0_col6\" class=\"col_heading level0 col6\" >MCC</th>\n",
              "    </tr>\n",
              "    <tr>\n",
              "      <th class=\"index_name level0\" >Fold</th>\n",
              "      <th class=\"blank col0\" >&nbsp;</th>\n",
              "      <th class=\"blank col1\" >&nbsp;</th>\n",
              "      <th class=\"blank col2\" >&nbsp;</th>\n",
              "      <th class=\"blank col3\" >&nbsp;</th>\n",
              "      <th class=\"blank col4\" >&nbsp;</th>\n",
              "      <th class=\"blank col5\" >&nbsp;</th>\n",
              "      <th class=\"blank col6\" >&nbsp;</th>\n",
              "    </tr>\n",
              "  </thead>\n",
              "  <tbody>\n",
              "    <tr>\n",
              "      <th id=\"T_4ecbe_level0_row0\" class=\"row_heading level0 row0\" >0</th>\n",
              "      <td id=\"T_4ecbe_row0_col0\" class=\"data row0 col0\" >0.6852</td>\n",
              "      <td id=\"T_4ecbe_row0_col1\" class=\"data row0 col1\" >0.7729</td>\n",
              "      <td id=\"T_4ecbe_row0_col2\" class=\"data row0 col2\" >0.5789</td>\n",
              "      <td id=\"T_4ecbe_row0_col3\" class=\"data row0 col3\" >0.5500</td>\n",
              "      <td id=\"T_4ecbe_row0_col4\" class=\"data row0 col4\" >0.5641</td>\n",
              "      <td id=\"T_4ecbe_row0_col5\" class=\"data row0 col5\" >0.3180</td>\n",
              "      <td id=\"T_4ecbe_row0_col6\" class=\"data row0 col6\" >0.3182</td>\n",
              "    </tr>\n",
              "    <tr>\n",
              "      <th id=\"T_4ecbe_level0_row1\" class=\"row_heading level0 row1\" >1</th>\n",
              "      <td id=\"T_4ecbe_row1_col0\" class=\"data row1 col0\" >0.8333</td>\n",
              "      <td id=\"T_4ecbe_row1_col1\" class=\"data row1 col1\" >0.9023</td>\n",
              "      <td id=\"T_4ecbe_row1_col2\" class=\"data row1 col2\" >0.6842</td>\n",
              "      <td id=\"T_4ecbe_row1_col3\" class=\"data row1 col3\" >0.8125</td>\n",
              "      <td id=\"T_4ecbe_row1_col4\" class=\"data row1 col4\" >0.7429</td>\n",
              "      <td id=\"T_4ecbe_row1_col5\" class=\"data row1 col5\" >0.6209</td>\n",
              "      <td id=\"T_4ecbe_row1_col6\" class=\"data row1 col6\" >0.6259</td>\n",
              "    </tr>\n",
              "    <tr>\n",
              "      <th id=\"T_4ecbe_level0_row2\" class=\"row_heading level0 row2\" >2</th>\n",
              "      <td id=\"T_4ecbe_row2_col0\" class=\"data row2 col0\" >0.7593</td>\n",
              "      <td id=\"T_4ecbe_row2_col1\" class=\"data row2 col1\" >0.8632</td>\n",
              "      <td id=\"T_4ecbe_row2_col2\" class=\"data row2 col2\" >0.5789</td>\n",
              "      <td id=\"T_4ecbe_row2_col3\" class=\"data row2 col3\" >0.6875</td>\n",
              "      <td id=\"T_4ecbe_row2_col4\" class=\"data row2 col4\" >0.6286</td>\n",
              "      <td id=\"T_4ecbe_row2_col5\" class=\"data row2 col5\" >0.4524</td>\n",
              "      <td id=\"T_4ecbe_row2_col6\" class=\"data row2 col6\" >0.4561</td>\n",
              "    </tr>\n",
              "    <tr>\n",
              "      <th id=\"T_4ecbe_level0_row3\" class=\"row_heading level0 row3\" >3</th>\n",
              "      <td id=\"T_4ecbe_row3_col0\" class=\"data row3 col0\" >0.7222</td>\n",
              "      <td id=\"T_4ecbe_row3_col1\" class=\"data row3 col1\" >0.7820</td>\n",
              "      <td id=\"T_4ecbe_row3_col2\" class=\"data row3 col2\" >0.5789</td>\n",
              "      <td id=\"T_4ecbe_row3_col3\" class=\"data row3 col3\" >0.6111</td>\n",
              "      <td id=\"T_4ecbe_row3_col4\" class=\"data row3 col4\" >0.5946</td>\n",
              "      <td id=\"T_4ecbe_row3_col5\" class=\"data row3 col5\" >0.3836</td>\n",
              "      <td id=\"T_4ecbe_row3_col6\" class=\"data row3 col6\" >0.3839</td>\n",
              "    </tr>\n",
              "    <tr>\n",
              "      <th id=\"T_4ecbe_level0_row4\" class=\"row_heading level0 row4\" >4</th>\n",
              "      <td id=\"T_4ecbe_row4_col0\" class=\"data row4 col0\" >0.8148</td>\n",
              "      <td id=\"T_4ecbe_row4_col1\" class=\"data row4 col1\" >0.8286</td>\n",
              "      <td id=\"T_4ecbe_row4_col2\" class=\"data row4 col2\" >0.6316</td>\n",
              "      <td id=\"T_4ecbe_row4_col3\" class=\"data row4 col3\" >0.8000</td>\n",
              "      <td id=\"T_4ecbe_row4_col4\" class=\"data row4 col4\" >0.7059</td>\n",
              "      <td id=\"T_4ecbe_row4_col5\" class=\"data row4 col5\" >0.5735</td>\n",
              "      <td id=\"T_4ecbe_row4_col6\" class=\"data row4 col6\" >0.5820</td>\n",
              "    </tr>\n",
              "    <tr>\n",
              "      <th id=\"T_4ecbe_level0_row5\" class=\"row_heading level0 row5\" >5</th>\n",
              "      <td id=\"T_4ecbe_row5_col0\" class=\"data row5 col0\" >0.7222</td>\n",
              "      <td id=\"T_4ecbe_row5_col1\" class=\"data row5 col1\" >0.7639</td>\n",
              "      <td id=\"T_4ecbe_row5_col2\" class=\"data row5 col2\" >0.5263</td>\n",
              "      <td id=\"T_4ecbe_row5_col3\" class=\"data row5 col3\" >0.6250</td>\n",
              "      <td id=\"T_4ecbe_row5_col4\" class=\"data row5 col4\" >0.5714</td>\n",
              "      <td id=\"T_4ecbe_row5_col5\" class=\"data row5 col5\" >0.3682</td>\n",
              "      <td id=\"T_4ecbe_row5_col6\" class=\"data row5 col6\" >0.3711</td>\n",
              "    </tr>\n",
              "    <tr>\n",
              "      <th id=\"T_4ecbe_level0_row6\" class=\"row_heading level0 row6\" >6</th>\n",
              "      <td id=\"T_4ecbe_row6_col0\" class=\"data row6 col0\" >0.7037</td>\n",
              "      <td id=\"T_4ecbe_row6_col1\" class=\"data row6 col1\" >0.7323</td>\n",
              "      <td id=\"T_4ecbe_row6_col2\" class=\"data row6 col2\" >0.3684</td>\n",
              "      <td id=\"T_4ecbe_row6_col3\" class=\"data row6 col3\" >0.6364</td>\n",
              "      <td id=\"T_4ecbe_row6_col4\" class=\"data row6 col4\" >0.4667</td>\n",
              "      <td id=\"T_4ecbe_row6_col5\" class=\"data row6 col5\" >0.2812</td>\n",
              "      <td id=\"T_4ecbe_row6_col6\" class=\"data row6 col6\" >0.3013</td>\n",
              "    </tr>\n",
              "    <tr>\n",
              "      <th id=\"T_4ecbe_level0_row7\" class=\"row_heading level0 row7\" >7</th>\n",
              "      <td id=\"T_4ecbe_row7_col0\" class=\"data row7 col0\" >0.7736</td>\n",
              "      <td id=\"T_4ecbe_row7_col1\" class=\"data row7 col1\" >0.7968</td>\n",
              "      <td id=\"T_4ecbe_row7_col2\" class=\"data row7 col2\" >0.5556</td>\n",
              "      <td id=\"T_4ecbe_row7_col3\" class=\"data row7 col3\" >0.7143</td>\n",
              "      <td id=\"T_4ecbe_row7_col4\" class=\"data row7 col4\" >0.6250</td>\n",
              "      <td id=\"T_4ecbe_row7_col5\" class=\"data row7 col5\" >0.4664</td>\n",
              "      <td id=\"T_4ecbe_row7_col6\" class=\"data row7 col6\" >0.4740</td>\n",
              "    </tr>\n",
              "    <tr>\n",
              "      <th id=\"T_4ecbe_level0_row8\" class=\"row_heading level0 row8\" >8</th>\n",
              "      <td id=\"T_4ecbe_row8_col0\" class=\"data row8 col0\" >0.7925</td>\n",
              "      <td id=\"T_4ecbe_row8_col1\" class=\"data row8 col1\" >0.8683</td>\n",
              "      <td id=\"T_4ecbe_row8_col2\" class=\"data row8 col2\" >0.5000</td>\n",
              "      <td id=\"T_4ecbe_row8_col3\" class=\"data row8 col3\" >0.8182</td>\n",
              "      <td id=\"T_4ecbe_row8_col4\" class=\"data row8 col4\" >0.6207</td>\n",
              "      <td id=\"T_4ecbe_row8_col5\" class=\"data row8 col5\" >0.4890</td>\n",
              "      <td id=\"T_4ecbe_row8_col6\" class=\"data row8 col6\" >0.5171</td>\n",
              "    </tr>\n",
              "    <tr>\n",
              "      <th id=\"T_4ecbe_level0_row9\" class=\"row_heading level0 row9\" >9</th>\n",
              "      <td id=\"T_4ecbe_row9_col0\" class=\"data row9 col0\" >0.8491</td>\n",
              "      <td id=\"T_4ecbe_row9_col1\" class=\"data row9 col1\" >0.8984</td>\n",
              "      <td id=\"T_4ecbe_row9_col2\" class=\"data row9 col2\" >0.6111</td>\n",
              "      <td id=\"T_4ecbe_row9_col3\" class=\"data row9 col3\" >0.9167</td>\n",
              "      <td id=\"T_4ecbe_row9_col4\" class=\"data row9 col4\" >0.7333</td>\n",
              "      <td id=\"T_4ecbe_row9_col5\" class=\"data row9 col5\" >0.6339</td>\n",
              "      <td id=\"T_4ecbe_row9_col6\" class=\"data row9 col6\" >0.6592</td>\n",
              "    </tr>\n",
              "    <tr>\n",
              "      <th id=\"T_4ecbe_level0_row10\" class=\"row_heading level0 row10\" >Mean</th>\n",
              "      <td id=\"T_4ecbe_row10_col0\" class=\"data row10 col0\" >0.7656</td>\n",
              "      <td id=\"T_4ecbe_row10_col1\" class=\"data row10 col1\" >0.8209</td>\n",
              "      <td id=\"T_4ecbe_row10_col2\" class=\"data row10 col2\" >0.5614</td>\n",
              "      <td id=\"T_4ecbe_row10_col3\" class=\"data row10 col3\" >0.7172</td>\n",
              "      <td id=\"T_4ecbe_row10_col4\" class=\"data row10 col4\" >0.6253</td>\n",
              "      <td id=\"T_4ecbe_row10_col5\" class=\"data row10 col5\" >0.4587</td>\n",
              "      <td id=\"T_4ecbe_row10_col6\" class=\"data row10 col6\" >0.4689</td>\n",
              "    </tr>\n",
              "    <tr>\n",
              "      <th id=\"T_4ecbe_level0_row11\" class=\"row_heading level0 row11\" >Std</th>\n",
              "      <td id=\"T_4ecbe_row11_col0\" class=\"data row11 col0\" >0.0537</td>\n",
              "      <td id=\"T_4ecbe_row11_col1\" class=\"data row11 col1\" >0.0567</td>\n",
              "      <td id=\"T_4ecbe_row11_col2\" class=\"data row11 col2\" >0.0810</td>\n",
              "      <td id=\"T_4ecbe_row11_col3\" class=\"data row11 col3\" >0.1100</td>\n",
              "      <td id=\"T_4ecbe_row11_col4\" class=\"data row11 col4\" >0.0805</td>\n",
              "      <td id=\"T_4ecbe_row11_col5\" class=\"data row11 col5\" >0.1168</td>\n",
              "      <td id=\"T_4ecbe_row11_col6\" class=\"data row11 col6\" >0.1199</td>\n",
              "    </tr>\n",
              "  </tbody>\n",
              "</table>\n"
            ]
          },
          "metadata": {}
        },
        {
          "output_type": "display_data",
          "data": {
            "text/plain": [
              "Processing:   0%|          | 0/4 [00:00<?, ?it/s]"
            ],
            "application/vnd.jupyter.widget-view+json": {
              "version_major": 2,
              "version_minor": 0,
              "model_id": "f901a80df0a642a89292b5a4accb70b7"
            }
          },
          "metadata": {
            "application/vnd.jupyter.widget-view+json": {
              "colab": {
                "custom_widget_manager": {
                  "url": "https://ssl.gstatic.com/colaboratory-static/widgets/colab-cdn-widget-manager/b3e629b1971e1542/manager.min.js"
                }
              }
            }
          }
        },
        {
          "output_type": "display_data",
          "data": {
            "text/plain": [
              "<IPython.core.display.HTML object>"
            ],
            "text/html": []
          },
          "metadata": {}
        },
        {
          "output_type": "display_data",
          "data": {
            "text/plain": [
              "<IPython.core.display.HTML object>"
            ],
            "text/html": []
          },
          "metadata": {}
        },
        {
          "output_type": "display_data",
          "data": {
            "text/plain": [
              "<pandas.io.formats.style.Styler at 0x78f794d7afb0>"
            ],
            "text/html": [
              "<style type=\"text/css\">\n",
              "#T_18f5d_row10_col0, #T_18f5d_row10_col1, #T_18f5d_row10_col2, #T_18f5d_row10_col3, #T_18f5d_row10_col4, #T_18f5d_row10_col5, #T_18f5d_row10_col6 {\n",
              "  background: yellow;\n",
              "}\n",
              "</style>\n",
              "<table id=\"T_18f5d\" class=\"dataframe\">\n",
              "  <thead>\n",
              "    <tr>\n",
              "      <th class=\"blank level0\" >&nbsp;</th>\n",
              "      <th id=\"T_18f5d_level0_col0\" class=\"col_heading level0 col0\" >Accuracy</th>\n",
              "      <th id=\"T_18f5d_level0_col1\" class=\"col_heading level0 col1\" >AUC</th>\n",
              "      <th id=\"T_18f5d_level0_col2\" class=\"col_heading level0 col2\" >Recall</th>\n",
              "      <th id=\"T_18f5d_level0_col3\" class=\"col_heading level0 col3\" >Prec.</th>\n",
              "      <th id=\"T_18f5d_level0_col4\" class=\"col_heading level0 col4\" >F1</th>\n",
              "      <th id=\"T_18f5d_level0_col5\" class=\"col_heading level0 col5\" >Kappa</th>\n",
              "      <th id=\"T_18f5d_level0_col6\" class=\"col_heading level0 col6\" >MCC</th>\n",
              "    </tr>\n",
              "    <tr>\n",
              "      <th class=\"index_name level0\" >Fold</th>\n",
              "      <th class=\"blank col0\" >&nbsp;</th>\n",
              "      <th class=\"blank col1\" >&nbsp;</th>\n",
              "      <th class=\"blank col2\" >&nbsp;</th>\n",
              "      <th class=\"blank col3\" >&nbsp;</th>\n",
              "      <th class=\"blank col4\" >&nbsp;</th>\n",
              "      <th class=\"blank col5\" >&nbsp;</th>\n",
              "      <th class=\"blank col6\" >&nbsp;</th>\n",
              "    </tr>\n",
              "  </thead>\n",
              "  <tbody>\n",
              "    <tr>\n",
              "      <th id=\"T_18f5d_level0_row0\" class=\"row_heading level0 row0\" >0</th>\n",
              "      <td id=\"T_18f5d_row0_col0\" class=\"data row0 col0\" >0.7222</td>\n",
              "      <td id=\"T_18f5d_row0_col1\" class=\"data row0 col1\" >0.7504</td>\n",
              "      <td id=\"T_18f5d_row0_col2\" class=\"data row0 col2\" >0.7368</td>\n",
              "      <td id=\"T_18f5d_row0_col3\" class=\"data row0 col3\" >0.5833</td>\n",
              "      <td id=\"T_18f5d_row0_col4\" class=\"data row0 col4\" >0.6512</td>\n",
              "      <td id=\"T_18f5d_row0_col5\" class=\"data row0 col5\" >0.4255</td>\n",
              "      <td id=\"T_18f5d_row0_col6\" class=\"data row0 col6\" >0.4336</td>\n",
              "    </tr>\n",
              "    <tr>\n",
              "      <th id=\"T_18f5d_level0_row1\" class=\"row_heading level0 row1\" >1</th>\n",
              "      <td id=\"T_18f5d_row1_col0\" class=\"data row1 col0\" >0.7593</td>\n",
              "      <td id=\"T_18f5d_row1_col1\" class=\"data row1 col1\" >0.7534</td>\n",
              "      <td id=\"T_18f5d_row1_col2\" class=\"data row1 col2\" >0.6316</td>\n",
              "      <td id=\"T_18f5d_row1_col3\" class=\"data row1 col3\" >0.6667</td>\n",
              "      <td id=\"T_18f5d_row1_col4\" class=\"data row1 col4\" >0.6486</td>\n",
              "      <td id=\"T_18f5d_row1_col5\" class=\"data row1 col5\" >0.4658</td>\n",
              "      <td id=\"T_18f5d_row1_col6\" class=\"data row1 col6\" >0.4661</td>\n",
              "    </tr>\n",
              "    <tr>\n",
              "      <th id=\"T_18f5d_level0_row2\" class=\"row_heading level0 row2\" >2</th>\n",
              "      <td id=\"T_18f5d_row2_col0\" class=\"data row2 col0\" >0.7963</td>\n",
              "      <td id=\"T_18f5d_row2_col1\" class=\"data row2 col1\" >0.8496</td>\n",
              "      <td id=\"T_18f5d_row2_col2\" class=\"data row2 col2\" >0.6842</td>\n",
              "      <td id=\"T_18f5d_row2_col3\" class=\"data row2 col3\" >0.7222</td>\n",
              "      <td id=\"T_18f5d_row2_col4\" class=\"data row2 col4\" >0.7027</td>\n",
              "      <td id=\"T_18f5d_row2_col5\" class=\"data row2 col5\" >0.5479</td>\n",
              "      <td id=\"T_18f5d_row2_col6\" class=\"data row2 col6\" >0.5484</td>\n",
              "    </tr>\n",
              "    <tr>\n",
              "      <th id=\"T_18f5d_level0_row3\" class=\"row_heading level0 row3\" >3</th>\n",
              "      <td id=\"T_18f5d_row3_col0\" class=\"data row3 col0\" >0.7222</td>\n",
              "      <td id=\"T_18f5d_row3_col1\" class=\"data row3 col1\" >0.6992</td>\n",
              "      <td id=\"T_18f5d_row3_col2\" class=\"data row3 col2\" >0.5263</td>\n",
              "      <td id=\"T_18f5d_row3_col3\" class=\"data row3 col3\" >0.6250</td>\n",
              "      <td id=\"T_18f5d_row3_col4\" class=\"data row3 col4\" >0.5714</td>\n",
              "      <td id=\"T_18f5d_row3_col5\" class=\"data row3 col5\" >0.3682</td>\n",
              "      <td id=\"T_18f5d_row3_col6\" class=\"data row3 col6\" >0.3711</td>\n",
              "    </tr>\n",
              "    <tr>\n",
              "      <th id=\"T_18f5d_level0_row4\" class=\"row_heading level0 row4\" >4</th>\n",
              "      <td id=\"T_18f5d_row4_col0\" class=\"data row4 col0\" >0.7963</td>\n",
              "      <td id=\"T_18f5d_row4_col1\" class=\"data row4 col1\" >0.8113</td>\n",
              "      <td id=\"T_18f5d_row4_col2\" class=\"data row4 col2\" >0.6316</td>\n",
              "      <td id=\"T_18f5d_row4_col3\" class=\"data row4 col3\" >0.7500</td>\n",
              "      <td id=\"T_18f5d_row4_col4\" class=\"data row4 col4\" >0.6857</td>\n",
              "      <td id=\"T_18f5d_row4_col5\" class=\"data row4 col5\" >0.5367</td>\n",
              "      <td id=\"T_18f5d_row4_col6\" class=\"data row4 col6\" >0.5410</td>\n",
              "    </tr>\n",
              "    <tr>\n",
              "      <th id=\"T_18f5d_level0_row5\" class=\"row_heading level0 row5\" >5</th>\n",
              "      <td id=\"T_18f5d_row5_col0\" class=\"data row5 col0\" >0.7593</td>\n",
              "      <td id=\"T_18f5d_row5_col1\" class=\"data row5 col1\" >0.7955</td>\n",
              "      <td id=\"T_18f5d_row5_col2\" class=\"data row5 col2\" >0.6842</td>\n",
              "      <td id=\"T_18f5d_row5_col3\" class=\"data row5 col3\" >0.6500</td>\n",
              "      <td id=\"T_18f5d_row5_col4\" class=\"data row5 col4\" >0.6667</td>\n",
              "      <td id=\"T_18f5d_row5_col5\" class=\"data row5 col5\" >0.4785</td>\n",
              "      <td id=\"T_18f5d_row5_col6\" class=\"data row5 col6\" >0.4788</td>\n",
              "    </tr>\n",
              "    <tr>\n",
              "      <th id=\"T_18f5d_level0_row6\" class=\"row_heading level0 row6\" >6</th>\n",
              "      <td id=\"T_18f5d_row6_col0\" class=\"data row6 col0\" >0.7222</td>\n",
              "      <td id=\"T_18f5d_row6_col1\" class=\"data row6 col1\" >0.7233</td>\n",
              "      <td id=\"T_18f5d_row6_col2\" class=\"data row6 col2\" >0.5263</td>\n",
              "      <td id=\"T_18f5d_row6_col3\" class=\"data row6 col3\" >0.6250</td>\n",
              "      <td id=\"T_18f5d_row6_col4\" class=\"data row6 col4\" >0.5714</td>\n",
              "      <td id=\"T_18f5d_row6_col5\" class=\"data row6 col5\" >0.3682</td>\n",
              "      <td id=\"T_18f5d_row6_col6\" class=\"data row6 col6\" >0.3711</td>\n",
              "    </tr>\n",
              "    <tr>\n",
              "      <th id=\"T_18f5d_level0_row7\" class=\"row_heading level0 row7\" >7</th>\n",
              "      <td id=\"T_18f5d_row7_col0\" class=\"data row7 col0\" >0.7547</td>\n",
              "      <td id=\"T_18f5d_row7_col1\" class=\"data row7 col1\" >0.7349</td>\n",
              "      <td id=\"T_18f5d_row7_col2\" class=\"data row7 col2\" >0.4444</td>\n",
              "      <td id=\"T_18f5d_row7_col3\" class=\"data row7 col3\" >0.7273</td>\n",
              "      <td id=\"T_18f5d_row7_col4\" class=\"data row7 col4\" >0.5517</td>\n",
              "      <td id=\"T_18f5d_row7_col5\" class=\"data row7 col5\" >0.3961</td>\n",
              "      <td id=\"T_18f5d_row7_col6\" class=\"data row7 col6\" >0.4189</td>\n",
              "    </tr>\n",
              "    <tr>\n",
              "      <th id=\"T_18f5d_level0_row8\" class=\"row_heading level0 row8\" >8</th>\n",
              "      <td id=\"T_18f5d_row8_col0\" class=\"data row8 col0\" >0.7358</td>\n",
              "      <td id=\"T_18f5d_row8_col1\" class=\"data row8 col1\" >0.8079</td>\n",
              "      <td id=\"T_18f5d_row8_col2\" class=\"data row8 col2\" >0.5000</td>\n",
              "      <td id=\"T_18f5d_row8_col3\" class=\"data row8 col3\" >0.6429</td>\n",
              "      <td id=\"T_18f5d_row8_col4\" class=\"data row8 col4\" >0.5625</td>\n",
              "      <td id=\"T_18f5d_row8_col5\" class=\"data row8 col5\" >0.3775</td>\n",
              "      <td id=\"T_18f5d_row8_col6\" class=\"data row8 col6\" >0.3836</td>\n",
              "    </tr>\n",
              "    <tr>\n",
              "      <th id=\"T_18f5d_level0_row9\" class=\"row_heading level0 row9\" >9</th>\n",
              "      <td id=\"T_18f5d_row9_col0\" class=\"data row9 col0\" >0.7547</td>\n",
              "      <td id=\"T_18f5d_row9_col1\" class=\"data row9 col1\" >0.7421</td>\n",
              "      <td id=\"T_18f5d_row9_col2\" class=\"data row9 col2\" >0.5000</td>\n",
              "      <td id=\"T_18f5d_row9_col3\" class=\"data row9 col3\" >0.6923</td>\n",
              "      <td id=\"T_18f5d_row9_col4\" class=\"data row9 col4\" >0.5806</td>\n",
              "      <td id=\"T_18f5d_row9_col5\" class=\"data row9 col5\" >0.4136</td>\n",
              "      <td id=\"T_18f5d_row9_col6\" class=\"data row9 col6\" >0.4246</td>\n",
              "    </tr>\n",
              "    <tr>\n",
              "      <th id=\"T_18f5d_level0_row10\" class=\"row_heading level0 row10\" >Mean</th>\n",
              "      <td id=\"T_18f5d_row10_col0\" class=\"data row10 col0\" >0.7523</td>\n",
              "      <td id=\"T_18f5d_row10_col1\" class=\"data row10 col1\" >0.7668</td>\n",
              "      <td id=\"T_18f5d_row10_col2\" class=\"data row10 col2\" >0.5865</td>\n",
              "      <td id=\"T_18f5d_row10_col3\" class=\"data row10 col3\" >0.6685</td>\n",
              "      <td id=\"T_18f5d_row10_col4\" class=\"data row10 col4\" >0.6193</td>\n",
              "      <td id=\"T_18f5d_row10_col5\" class=\"data row10 col5\" >0.4378</td>\n",
              "      <td id=\"T_18f5d_row10_col6\" class=\"data row10 col6\" >0.4437</td>\n",
              "    </tr>\n",
              "    <tr>\n",
              "      <th id=\"T_18f5d_level0_row11\" class=\"row_heading level0 row11\" >Std</th>\n",
              "      <td id=\"T_18f5d_row11_col0\" class=\"data row11 col0\" >0.0264</td>\n",
              "      <td id=\"T_18f5d_row11_col1\" class=\"data row11 col1\" >0.0446</td>\n",
              "      <td id=\"T_18f5d_row11_col2\" class=\"data row11 col2\" >0.0939</td>\n",
              "      <td id=\"T_18f5d_row11_col3\" class=\"data row11 col3\" >0.0506</td>\n",
              "      <td id=\"T_18f5d_row11_col4\" class=\"data row11 col4\" >0.0542</td>\n",
              "      <td id=\"T_18f5d_row11_col5\" class=\"data row11 col5\" >0.0634</td>\n",
              "      <td id=\"T_18f5d_row11_col6\" class=\"data row11 col6\" >0.0611</td>\n",
              "    </tr>\n",
              "  </tbody>\n",
              "</table>\n"
            ]
          },
          "metadata": {}
        },
        {
          "output_type": "display_data",
          "data": {
            "text/plain": [
              "Processing:   0%|          | 0/4 [00:00<?, ?it/s]"
            ],
            "application/vnd.jupyter.widget-view+json": {
              "version_major": 2,
              "version_minor": 0,
              "model_id": "9cb8c597793142b9865c567f77457220"
            }
          },
          "metadata": {
            "application/vnd.jupyter.widget-view+json": {
              "colab": {
                "custom_widget_manager": {
                  "url": "https://ssl.gstatic.com/colaboratory-static/widgets/colab-cdn-widget-manager/b3e629b1971e1542/manager.min.js"
                }
              }
            }
          }
        },
        {
          "output_type": "display_data",
          "data": {
            "text/plain": [
              "<IPython.core.display.HTML object>"
            ],
            "text/html": []
          },
          "metadata": {}
        },
        {
          "output_type": "display_data",
          "data": {
            "text/plain": [
              "<IPython.core.display.HTML object>"
            ],
            "text/html": []
          },
          "metadata": {}
        },
        {
          "output_type": "display_data",
          "data": {
            "text/plain": [
              "<pandas.io.formats.style.Styler at 0x78f78875e9b0>"
            ],
            "text/html": [
              "<style type=\"text/css\">\n",
              "#T_c3802_row10_col0, #T_c3802_row10_col1, #T_c3802_row10_col2, #T_c3802_row10_col3, #T_c3802_row10_col4, #T_c3802_row10_col5, #T_c3802_row10_col6 {\n",
              "  background: yellow;\n",
              "}\n",
              "</style>\n",
              "<table id=\"T_c3802\" class=\"dataframe\">\n",
              "  <thead>\n",
              "    <tr>\n",
              "      <th class=\"blank level0\" >&nbsp;</th>\n",
              "      <th id=\"T_c3802_level0_col0\" class=\"col_heading level0 col0\" >Accuracy</th>\n",
              "      <th id=\"T_c3802_level0_col1\" class=\"col_heading level0 col1\" >AUC</th>\n",
              "      <th id=\"T_c3802_level0_col2\" class=\"col_heading level0 col2\" >Recall</th>\n",
              "      <th id=\"T_c3802_level0_col3\" class=\"col_heading level0 col3\" >Prec.</th>\n",
              "      <th id=\"T_c3802_level0_col4\" class=\"col_heading level0 col4\" >F1</th>\n",
              "      <th id=\"T_c3802_level0_col5\" class=\"col_heading level0 col5\" >Kappa</th>\n",
              "      <th id=\"T_c3802_level0_col6\" class=\"col_heading level0 col6\" >MCC</th>\n",
              "    </tr>\n",
              "    <tr>\n",
              "      <th class=\"index_name level0\" >Fold</th>\n",
              "      <th class=\"blank col0\" >&nbsp;</th>\n",
              "      <th class=\"blank col1\" >&nbsp;</th>\n",
              "      <th class=\"blank col2\" >&nbsp;</th>\n",
              "      <th class=\"blank col3\" >&nbsp;</th>\n",
              "      <th class=\"blank col4\" >&nbsp;</th>\n",
              "      <th class=\"blank col5\" >&nbsp;</th>\n",
              "      <th class=\"blank col6\" >&nbsp;</th>\n",
              "    </tr>\n",
              "  </thead>\n",
              "  <tbody>\n",
              "    <tr>\n",
              "      <th id=\"T_c3802_level0_row0\" class=\"row_heading level0 row0\" >0</th>\n",
              "      <td id=\"T_c3802_row0_col0\" class=\"data row0 col0\" >0.6852</td>\n",
              "      <td id=\"T_c3802_row0_col1\" class=\"data row0 col1\" >0.7759</td>\n",
              "      <td id=\"T_c3802_row0_col2\" class=\"data row0 col2\" >0.5789</td>\n",
              "      <td id=\"T_c3802_row0_col3\" class=\"data row0 col3\" >0.5500</td>\n",
              "      <td id=\"T_c3802_row0_col4\" class=\"data row0 col4\" >0.5641</td>\n",
              "      <td id=\"T_c3802_row0_col5\" class=\"data row0 col5\" >0.3180</td>\n",
              "      <td id=\"T_c3802_row0_col6\" class=\"data row0 col6\" >0.3182</td>\n",
              "    </tr>\n",
              "    <tr>\n",
              "      <th id=\"T_c3802_level0_row1\" class=\"row_heading level0 row1\" >1</th>\n",
              "      <td id=\"T_c3802_row1_col0\" class=\"data row1 col0\" >0.8333</td>\n",
              "      <td id=\"T_c3802_row1_col1\" class=\"data row1 col1\" >0.9038</td>\n",
              "      <td id=\"T_c3802_row1_col2\" class=\"data row1 col2\" >0.6842</td>\n",
              "      <td id=\"T_c3802_row1_col3\" class=\"data row1 col3\" >0.8125</td>\n",
              "      <td id=\"T_c3802_row1_col4\" class=\"data row1 col4\" >0.7429</td>\n",
              "      <td id=\"T_c3802_row1_col5\" class=\"data row1 col5\" >0.6209</td>\n",
              "      <td id=\"T_c3802_row1_col6\" class=\"data row1 col6\" >0.6259</td>\n",
              "    </tr>\n",
              "    <tr>\n",
              "      <th id=\"T_c3802_level0_row2\" class=\"row_heading level0 row2\" >2</th>\n",
              "      <td id=\"T_c3802_row2_col0\" class=\"data row2 col0\" >0.7593</td>\n",
              "      <td id=\"T_c3802_row2_col1\" class=\"data row2 col1\" >0.8571</td>\n",
              "      <td id=\"T_c3802_row2_col2\" class=\"data row2 col2\" >0.5789</td>\n",
              "      <td id=\"T_c3802_row2_col3\" class=\"data row2 col3\" >0.6875</td>\n",
              "      <td id=\"T_c3802_row2_col4\" class=\"data row2 col4\" >0.6286</td>\n",
              "      <td id=\"T_c3802_row2_col5\" class=\"data row2 col5\" >0.4524</td>\n",
              "      <td id=\"T_c3802_row2_col6\" class=\"data row2 col6\" >0.4561</td>\n",
              "    </tr>\n",
              "    <tr>\n",
              "      <th id=\"T_c3802_level0_row3\" class=\"row_heading level0 row3\" >3</th>\n",
              "      <td id=\"T_c3802_row3_col0\" class=\"data row3 col0\" >0.7222</td>\n",
              "      <td id=\"T_c3802_row3_col1\" class=\"data row3 col1\" >0.7880</td>\n",
              "      <td id=\"T_c3802_row3_col2\" class=\"data row3 col2\" >0.5789</td>\n",
              "      <td id=\"T_c3802_row3_col3\" class=\"data row3 col3\" >0.6111</td>\n",
              "      <td id=\"T_c3802_row3_col4\" class=\"data row3 col4\" >0.5946</td>\n",
              "      <td id=\"T_c3802_row3_col5\" class=\"data row3 col5\" >0.3836</td>\n",
              "      <td id=\"T_c3802_row3_col6\" class=\"data row3 col6\" >0.3839</td>\n",
              "    </tr>\n",
              "    <tr>\n",
              "      <th id=\"T_c3802_level0_row4\" class=\"row_heading level0 row4\" >4</th>\n",
              "      <td id=\"T_c3802_row4_col0\" class=\"data row4 col0\" >0.8148</td>\n",
              "      <td id=\"T_c3802_row4_col1\" class=\"data row4 col1\" >0.8316</td>\n",
              "      <td id=\"T_c3802_row4_col2\" class=\"data row4 col2\" >0.6316</td>\n",
              "      <td id=\"T_c3802_row4_col3\" class=\"data row4 col3\" >0.8000</td>\n",
              "      <td id=\"T_c3802_row4_col4\" class=\"data row4 col4\" >0.7059</td>\n",
              "      <td id=\"T_c3802_row4_col5\" class=\"data row4 col5\" >0.5735</td>\n",
              "      <td id=\"T_c3802_row4_col6\" class=\"data row4 col6\" >0.5820</td>\n",
              "    </tr>\n",
              "    <tr>\n",
              "      <th id=\"T_c3802_level0_row5\" class=\"row_heading level0 row5\" >5</th>\n",
              "      <td id=\"T_c3802_row5_col0\" class=\"data row5 col0\" >0.7037</td>\n",
              "      <td id=\"T_c3802_row5_col1\" class=\"data row5 col1\" >0.7624</td>\n",
              "      <td id=\"T_c3802_row5_col2\" class=\"data row5 col2\" >0.5263</td>\n",
              "      <td id=\"T_c3802_row5_col3\" class=\"data row5 col3\" >0.5882</td>\n",
              "      <td id=\"T_c3802_row5_col4\" class=\"data row5 col4\" >0.5556</td>\n",
              "      <td id=\"T_c3802_row5_col5\" class=\"data row5 col5\" >0.3344</td>\n",
              "      <td id=\"T_c3802_row5_col6\" class=\"data row5 col6\" >0.3355</td>\n",
              "    </tr>\n",
              "    <tr>\n",
              "      <th id=\"T_c3802_level0_row6\" class=\"row_heading level0 row6\" >6</th>\n",
              "      <td id=\"T_c3802_row6_col0\" class=\"data row6 col0\" >0.7222</td>\n",
              "      <td id=\"T_c3802_row6_col1\" class=\"data row6 col1\" >0.7293</td>\n",
              "      <td id=\"T_c3802_row6_col2\" class=\"data row6 col2\" >0.4211</td>\n",
              "      <td id=\"T_c3802_row6_col3\" class=\"data row6 col3\" >0.6667</td>\n",
              "      <td id=\"T_c3802_row6_col4\" class=\"data row6 col4\" >0.5161</td>\n",
              "      <td id=\"T_c3802_row6_col5\" class=\"data row6 col5\" >0.3350</td>\n",
              "      <td id=\"T_c3802_row6_col6\" class=\"data row6 col6\" >0.3524</td>\n",
              "    </tr>\n",
              "    <tr>\n",
              "      <th id=\"T_c3802_level0_row7\" class=\"row_heading level0 row7\" >7</th>\n",
              "      <td id=\"T_c3802_row7_col0\" class=\"data row7 col0\" >0.7736</td>\n",
              "      <td id=\"T_c3802_row7_col1\" class=\"data row7 col1\" >0.7984</td>\n",
              "      <td id=\"T_c3802_row7_col2\" class=\"data row7 col2\" >0.5556</td>\n",
              "      <td id=\"T_c3802_row7_col3\" class=\"data row7 col3\" >0.7143</td>\n",
              "      <td id=\"T_c3802_row7_col4\" class=\"data row7 col4\" >0.6250</td>\n",
              "      <td id=\"T_c3802_row7_col5\" class=\"data row7 col5\" >0.4664</td>\n",
              "      <td id=\"T_c3802_row7_col6\" class=\"data row7 col6\" >0.4740</td>\n",
              "    </tr>\n",
              "    <tr>\n",
              "      <th id=\"T_c3802_level0_row8\" class=\"row_heading level0 row8\" >8</th>\n",
              "      <td id=\"T_c3802_row8_col0\" class=\"data row8 col0\" >0.7925</td>\n",
              "      <td id=\"T_c3802_row8_col1\" class=\"data row8 col1\" >0.8619</td>\n",
              "      <td id=\"T_c3802_row8_col2\" class=\"data row8 col2\" >0.5000</td>\n",
              "      <td id=\"T_c3802_row8_col3\" class=\"data row8 col3\" >0.8182</td>\n",
              "      <td id=\"T_c3802_row8_col4\" class=\"data row8 col4\" >0.6207</td>\n",
              "      <td id=\"T_c3802_row8_col5\" class=\"data row8 col5\" >0.4890</td>\n",
              "      <td id=\"T_c3802_row8_col6\" class=\"data row8 col6\" >0.5171</td>\n",
              "    </tr>\n",
              "    <tr>\n",
              "      <th id=\"T_c3802_level0_row9\" class=\"row_heading level0 row9\" >9</th>\n",
              "      <td id=\"T_c3802_row9_col0\" class=\"data row9 col0\" >0.8491</td>\n",
              "      <td id=\"T_c3802_row9_col1\" class=\"data row9 col1\" >0.8905</td>\n",
              "      <td id=\"T_c3802_row9_col2\" class=\"data row9 col2\" >0.6111</td>\n",
              "      <td id=\"T_c3802_row9_col3\" class=\"data row9 col3\" >0.9167</td>\n",
              "      <td id=\"T_c3802_row9_col4\" class=\"data row9 col4\" >0.7333</td>\n",
              "      <td id=\"T_c3802_row9_col5\" class=\"data row9 col5\" >0.6339</td>\n",
              "      <td id=\"T_c3802_row9_col6\" class=\"data row9 col6\" >0.6592</td>\n",
              "    </tr>\n",
              "    <tr>\n",
              "      <th id=\"T_c3802_level0_row10\" class=\"row_heading level0 row10\" >Mean</th>\n",
              "      <td id=\"T_c3802_row10_col0\" class=\"data row10 col0\" >0.7656</td>\n",
              "      <td id=\"T_c3802_row10_col1\" class=\"data row10 col1\" >0.8199</td>\n",
              "      <td id=\"T_c3802_row10_col2\" class=\"data row10 col2\" >0.5667</td>\n",
              "      <td id=\"T_c3802_row10_col3\" class=\"data row10 col3\" >0.7165</td>\n",
              "      <td id=\"T_c3802_row10_col4\" class=\"data row10 col4\" >0.6287</td>\n",
              "      <td id=\"T_c3802_row10_col5\" class=\"data row10 col5\" >0.4607</td>\n",
              "      <td id=\"T_c3802_row10_col6\" class=\"data row10 col6\" >0.4704</td>\n",
              "    </tr>\n",
              "    <tr>\n",
              "      <th id=\"T_c3802_level0_row11\" class=\"row_heading level0 row11\" >Std</th>\n",
              "      <td id=\"T_c3802_row11_col0\" class=\"data row11 col0\" >0.0537</td>\n",
              "      <td id=\"T_c3802_row11_col1\" class=\"data row11 col1\" >0.0550</td>\n",
              "      <td id=\"T_c3802_row11_col2\" class=\"data row11 col2\" >0.0692</td>\n",
              "      <td id=\"T_c3802_row11_col3\" class=\"data row11 col3\" >0.1119</td>\n",
              "      <td id=\"T_c3802_row11_col4\" class=\"data row11 col4\" >0.0731</td>\n",
              "      <td id=\"T_c3802_row11_col5\" class=\"data row11 col5\" >0.1129</td>\n",
              "      <td id=\"T_c3802_row11_col6\" class=\"data row11 col6\" >0.1172</td>\n",
              "    </tr>\n",
              "  </tbody>\n",
              "</table>\n"
            ]
          },
          "metadata": {}
        },
        {
          "output_type": "display_data",
          "data": {
            "text/plain": [
              "Processing:   0%|          | 0/4 [00:00<?, ?it/s]"
            ],
            "application/vnd.jupyter.widget-view+json": {
              "version_major": 2,
              "version_minor": 0,
              "model_id": "2962301e84924fbba702cc41c7cc6a9b"
            }
          },
          "metadata": {
            "application/vnd.jupyter.widget-view+json": {
              "colab": {
                "custom_widget_manager": {
                  "url": "https://ssl.gstatic.com/colaboratory-static/widgets/colab-cdn-widget-manager/b3e629b1971e1542/manager.min.js"
                }
              }
            }
          }
        },
        {
          "output_type": "display_data",
          "data": {
            "text/plain": [
              "<IPython.core.display.HTML object>"
            ],
            "text/html": []
          },
          "metadata": {}
        },
        {
          "output_type": "display_data",
          "data": {
            "text/plain": [
              "<IPython.core.display.HTML object>"
            ],
            "text/html": []
          },
          "metadata": {}
        },
        {
          "output_type": "display_data",
          "data": {
            "text/plain": [
              "<pandas.io.formats.style.Styler at 0x78f790752260>"
            ],
            "text/html": [
              "<style type=\"text/css\">\n",
              "#T_12dcf_row10_col0, #T_12dcf_row10_col1, #T_12dcf_row10_col2, #T_12dcf_row10_col3, #T_12dcf_row10_col4, #T_12dcf_row10_col5, #T_12dcf_row10_col6 {\n",
              "  background: yellow;\n",
              "}\n",
              "</style>\n",
              "<table id=\"T_12dcf\" class=\"dataframe\">\n",
              "  <thead>\n",
              "    <tr>\n",
              "      <th class=\"blank level0\" >&nbsp;</th>\n",
              "      <th id=\"T_12dcf_level0_col0\" class=\"col_heading level0 col0\" >Accuracy</th>\n",
              "      <th id=\"T_12dcf_level0_col1\" class=\"col_heading level0 col1\" >AUC</th>\n",
              "      <th id=\"T_12dcf_level0_col2\" class=\"col_heading level0 col2\" >Recall</th>\n",
              "      <th id=\"T_12dcf_level0_col3\" class=\"col_heading level0 col3\" >Prec.</th>\n",
              "      <th id=\"T_12dcf_level0_col4\" class=\"col_heading level0 col4\" >F1</th>\n",
              "      <th id=\"T_12dcf_level0_col5\" class=\"col_heading level0 col5\" >Kappa</th>\n",
              "      <th id=\"T_12dcf_level0_col6\" class=\"col_heading level0 col6\" >MCC</th>\n",
              "    </tr>\n",
              "    <tr>\n",
              "      <th class=\"index_name level0\" >Fold</th>\n",
              "      <th class=\"blank col0\" >&nbsp;</th>\n",
              "      <th class=\"blank col1\" >&nbsp;</th>\n",
              "      <th class=\"blank col2\" >&nbsp;</th>\n",
              "      <th class=\"blank col3\" >&nbsp;</th>\n",
              "      <th class=\"blank col4\" >&nbsp;</th>\n",
              "      <th class=\"blank col5\" >&nbsp;</th>\n",
              "      <th class=\"blank col6\" >&nbsp;</th>\n",
              "    </tr>\n",
              "  </thead>\n",
              "  <tbody>\n",
              "    <tr>\n",
              "      <th id=\"T_12dcf_level0_row0\" class=\"row_heading level0 row0\" >0</th>\n",
              "      <td id=\"T_12dcf_row0_col0\" class=\"data row0 col0\" >0.6111</td>\n",
              "      <td id=\"T_12dcf_row0_col1\" class=\"data row0 col1\" >0.7278</td>\n",
              "      <td id=\"T_12dcf_row0_col2\" class=\"data row0 col2\" >0.5263</td>\n",
              "      <td id=\"T_12dcf_row0_col3\" class=\"data row0 col3\" >0.4545</td>\n",
              "      <td id=\"T_12dcf_row0_col4\" class=\"data row0 col4\" >0.4878</td>\n",
              "      <td id=\"T_12dcf_row0_col5\" class=\"data row0 col5\" >0.1771</td>\n",
              "      <td id=\"T_12dcf_row0_col6\" class=\"data row0 col6\" >0.1783</td>\n",
              "    </tr>\n",
              "    <tr>\n",
              "      <th id=\"T_12dcf_level0_row1\" class=\"row_heading level0 row1\" >1</th>\n",
              "      <td id=\"T_12dcf_row1_col0\" class=\"data row1 col0\" >0.7778</td>\n",
              "      <td id=\"T_12dcf_row1_col1\" class=\"data row1 col1\" >0.8767</td>\n",
              "      <td id=\"T_12dcf_row1_col2\" class=\"data row1 col2\" >0.6842</td>\n",
              "      <td id=\"T_12dcf_row1_col3\" class=\"data row1 col3\" >0.6842</td>\n",
              "      <td id=\"T_12dcf_row1_col4\" class=\"data row1 col4\" >0.6842</td>\n",
              "      <td id=\"T_12dcf_row1_col5\" class=\"data row1 col5\" >0.5128</td>\n",
              "      <td id=\"T_12dcf_row1_col6\" class=\"data row1 col6\" >0.5128</td>\n",
              "    </tr>\n",
              "    <tr>\n",
              "      <th id=\"T_12dcf_level0_row2\" class=\"row_heading level0 row2\" >2</th>\n",
              "      <td id=\"T_12dcf_row2_col0\" class=\"data row2 col0\" >0.8148</td>\n",
              "      <td id=\"T_12dcf_row2_col1\" class=\"data row2 col1\" >0.8857</td>\n",
              "      <td id=\"T_12dcf_row2_col2\" class=\"data row2 col2\" >0.6316</td>\n",
              "      <td id=\"T_12dcf_row2_col3\" class=\"data row2 col3\" >0.8000</td>\n",
              "      <td id=\"T_12dcf_row2_col4\" class=\"data row2 col4\" >0.7059</td>\n",
              "      <td id=\"T_12dcf_row2_col5\" class=\"data row2 col5\" >0.5735</td>\n",
              "      <td id=\"T_12dcf_row2_col6\" class=\"data row2 col6\" >0.5820</td>\n",
              "    </tr>\n",
              "    <tr>\n",
              "      <th id=\"T_12dcf_level0_row3\" class=\"row_heading level0 row3\" >3</th>\n",
              "      <td id=\"T_12dcf_row3_col0\" class=\"data row3 col0\" >0.6481</td>\n",
              "      <td id=\"T_12dcf_row3_col1\" class=\"data row3 col1\" >0.7188</td>\n",
              "      <td id=\"T_12dcf_row3_col2\" class=\"data row3 col2\" >0.5263</td>\n",
              "      <td id=\"T_12dcf_row3_col3\" class=\"data row3 col3\" >0.5000</td>\n",
              "      <td id=\"T_12dcf_row3_col4\" class=\"data row3 col4\" >0.5128</td>\n",
              "      <td id=\"T_12dcf_row3_col5\" class=\"data row3 col5\" >0.2377</td>\n",
              "      <td id=\"T_12dcf_row3_col6\" class=\"data row3 col6\" >0.2379</td>\n",
              "    </tr>\n",
              "    <tr>\n",
              "      <th id=\"T_12dcf_level0_row4\" class=\"row_heading level0 row4\" >4</th>\n",
              "      <td id=\"T_12dcf_row4_col0\" class=\"data row4 col0\" >0.8333</td>\n",
              "      <td id=\"T_12dcf_row4_col1\" class=\"data row4 col1\" >0.8992</td>\n",
              "      <td id=\"T_12dcf_row4_col2\" class=\"data row4 col2\" >0.6842</td>\n",
              "      <td id=\"T_12dcf_row4_col3\" class=\"data row4 col3\" >0.8125</td>\n",
              "      <td id=\"T_12dcf_row4_col4\" class=\"data row4 col4\" >0.7429</td>\n",
              "      <td id=\"T_12dcf_row4_col5\" class=\"data row4 col5\" >0.6209</td>\n",
              "      <td id=\"T_12dcf_row4_col6\" class=\"data row4 col6\" >0.6259</td>\n",
              "    </tr>\n",
              "    <tr>\n",
              "      <th id=\"T_12dcf_level0_row5\" class=\"row_heading level0 row5\" >5</th>\n",
              "      <td id=\"T_12dcf_row5_col0\" class=\"data row5 col0\" >0.7963</td>\n",
              "      <td id=\"T_12dcf_row5_col1\" class=\"data row5 col1\" >0.8075</td>\n",
              "      <td id=\"T_12dcf_row5_col2\" class=\"data row5 col2\" >0.6842</td>\n",
              "      <td id=\"T_12dcf_row5_col3\" class=\"data row5 col3\" >0.7222</td>\n",
              "      <td id=\"T_12dcf_row5_col4\" class=\"data row5 col4\" >0.7027</td>\n",
              "      <td id=\"T_12dcf_row5_col5\" class=\"data row5 col5\" >0.5479</td>\n",
              "      <td id=\"T_12dcf_row5_col6\" class=\"data row5 col6\" >0.5484</td>\n",
              "    </tr>\n",
              "    <tr>\n",
              "      <th id=\"T_12dcf_level0_row6\" class=\"row_heading level0 row6\" >6</th>\n",
              "      <td id=\"T_12dcf_row6_col0\" class=\"data row6 col0\" >0.6852</td>\n",
              "      <td id=\"T_12dcf_row6_col1\" class=\"data row6 col1\" >0.6586</td>\n",
              "      <td id=\"T_12dcf_row6_col2\" class=\"data row6 col2\" >0.4211</td>\n",
              "      <td id=\"T_12dcf_row6_col3\" class=\"data row6 col3\" >0.5714</td>\n",
              "      <td id=\"T_12dcf_row6_col4\" class=\"data row6 col4\" >0.4848</td>\n",
              "      <td id=\"T_12dcf_row6_col5\" class=\"data row6 col5\" >0.2656</td>\n",
              "      <td id=\"T_12dcf_row6_col6\" class=\"data row6 col6\" >0.2720</td>\n",
              "    </tr>\n",
              "    <tr>\n",
              "      <th id=\"T_12dcf_level0_row7\" class=\"row_heading level0 row7\" >7</th>\n",
              "      <td id=\"T_12dcf_row7_col0\" class=\"data row7 col0\" >0.7358</td>\n",
              "      <td id=\"T_12dcf_row7_col1\" class=\"data row7 col1\" >0.7460</td>\n",
              "      <td id=\"T_12dcf_row7_col2\" class=\"data row7 col2\" >0.4444</td>\n",
              "      <td id=\"T_12dcf_row7_col3\" class=\"data row7 col3\" >0.6667</td>\n",
              "      <td id=\"T_12dcf_row7_col4\" class=\"data row7 col4\" >0.5333</td>\n",
              "      <td id=\"T_12dcf_row7_col5\" class=\"data row7 col5\" >0.3592</td>\n",
              "      <td id=\"T_12dcf_row7_col6\" class=\"data row7 col6\" >0.3736</td>\n",
              "    </tr>\n",
              "    <tr>\n",
              "      <th id=\"T_12dcf_level0_row8\" class=\"row_heading level0 row8\" >8</th>\n",
              "      <td id=\"T_12dcf_row8_col0\" class=\"data row8 col0\" >0.7925</td>\n",
              "      <td id=\"T_12dcf_row8_col1\" class=\"data row8 col1\" >0.8571</td>\n",
              "      <td id=\"T_12dcf_row8_col2\" class=\"data row8 col2\" >0.6111</td>\n",
              "      <td id=\"T_12dcf_row8_col3\" class=\"data row8 col3\" >0.7333</td>\n",
              "      <td id=\"T_12dcf_row8_col4\" class=\"data row8 col4\" >0.6667</td>\n",
              "      <td id=\"T_12dcf_row8_col5\" class=\"data row8 col5\" >0.5178</td>\n",
              "      <td id=\"T_12dcf_row8_col6\" class=\"data row8 col6\" >0.5223</td>\n",
              "    </tr>\n",
              "    <tr>\n",
              "      <th id=\"T_12dcf_level0_row9\" class=\"row_heading level0 row9\" >9</th>\n",
              "      <td id=\"T_12dcf_row9_col0\" class=\"data row9 col0\" >0.7170</td>\n",
              "      <td id=\"T_12dcf_row9_col1\" class=\"data row9 col1\" >0.8286</td>\n",
              "      <td id=\"T_12dcf_row9_col2\" class=\"data row9 col2\" >0.4444</td>\n",
              "      <td id=\"T_12dcf_row9_col3\" class=\"data row9 col3\" >0.6154</td>\n",
              "      <td id=\"T_12dcf_row9_col4\" class=\"data row9 col4\" >0.5161</td>\n",
              "      <td id=\"T_12dcf_row9_col5\" class=\"data row9 col5\" >0.3234</td>\n",
              "      <td id=\"T_12dcf_row9_col6\" class=\"data row9 col6\" >0.3320</td>\n",
              "    </tr>\n",
              "    <tr>\n",
              "      <th id=\"T_12dcf_level0_row10\" class=\"row_heading level0 row10\" >Mean</th>\n",
              "      <td id=\"T_12dcf_row10_col0\" class=\"data row10 col0\" >0.7412</td>\n",
              "      <td id=\"T_12dcf_row10_col1\" class=\"data row10 col1\" >0.8006</td>\n",
              "      <td id=\"T_12dcf_row10_col2\" class=\"data row10 col2\" >0.5658</td>\n",
              "      <td id=\"T_12dcf_row10_col3\" class=\"data row10 col3\" >0.6560</td>\n",
              "      <td id=\"T_12dcf_row10_col4\" class=\"data row10 col4\" >0.6037</td>\n",
              "      <td id=\"T_12dcf_row10_col5\" class=\"data row10 col5\" >0.4136</td>\n",
              "      <td id=\"T_12dcf_row10_col6\" class=\"data row10 col6\" >0.4185</td>\n",
              "    </tr>\n",
              "    <tr>\n",
              "      <th id=\"T_12dcf_level0_row11\" class=\"row_heading level0 row11\" >Std</th>\n",
              "      <td id=\"T_12dcf_row11_col0\" class=\"data row11 col0\" >0.0709</td>\n",
              "      <td id=\"T_12dcf_row11_col1\" class=\"data row11 col1\" >0.0787</td>\n",
              "      <td id=\"T_12dcf_row11_col2\" class=\"data row11 col2\" >0.1010</td>\n",
              "      <td id=\"T_12dcf_row11_col3\" class=\"data row11 col3\" >0.1141</td>\n",
              "      <td id=\"T_12dcf_row11_col4\" class=\"data row11 col4\" >0.0992</td>\n",
              "      <td id=\"T_12dcf_row11_col5\" class=\"data row11 col5\" >0.1507</td>\n",
              "      <td id=\"T_12dcf_row11_col6\" class=\"data row11 col6\" >0.1509</td>\n",
              "    </tr>\n",
              "  </tbody>\n",
              "</table>\n"
            ]
          },
          "metadata": {}
        },
        {
          "output_type": "display_data",
          "data": {
            "text/plain": [
              "Processing:   0%|          | 0/4 [00:00<?, ?it/s]"
            ],
            "application/vnd.jupyter.widget-view+json": {
              "version_major": 2,
              "version_minor": 0,
              "model_id": "f055ad764ec0428293124f84063a928c"
            }
          },
          "metadata": {
            "application/vnd.jupyter.widget-view+json": {
              "colab": {
                "custom_widget_manager": {
                  "url": "https://ssl.gstatic.com/colaboratory-static/widgets/colab-cdn-widget-manager/b3e629b1971e1542/manager.min.js"
                }
              }
            }
          }
        },
        {
          "output_type": "display_data",
          "data": {
            "text/plain": [
              "<IPython.core.display.HTML object>"
            ],
            "text/html": []
          },
          "metadata": {}
        }
      ]
    },
    {
      "cell_type": "code",
      "source": [
        "tuned_rf = tune_model(rf, optimize = 'Accuracy')"
      ],
      "metadata": {
        "id": "i2KMHqWJ12A_",
        "outputId": "2dbb73a7-733e-4905-e50b-21c2a25b0f67",
        "colab": {
          "base_uri": "https://localhost:8080/",
          "height": 475,
          "referenced_widgets": [
            "a54da56c24ef4fd8a37ba1a2a21a0d3d",
            "98127275612b46429fee497b6d5a331c",
            "4da00598a81b482ba530d45e5d98bada",
            "c45863c0fdbb4d3ebcbbe7d252ddd220",
            "31eca9eeed8c40578eb9ab474d1d2699",
            "5273c51144bd4c1fba375f6771a558ef",
            "a058b24254eb4e07bf08506925cf22d6",
            "b6b3f0a935734bb4aab646e7278b1335",
            "42b4f526176549538b3aaa066d770392",
            "f322d132ee6745b4bf9130019fd7b4ec",
            "40773a275ebf406eb6cc883f135d692f"
          ]
        }
      },
      "execution_count": 33,
      "outputs": [
        {
          "output_type": "display_data",
          "data": {
            "text/plain": [
              "<IPython.core.display.HTML object>"
            ],
            "text/html": []
          },
          "metadata": {}
        },
        {
          "output_type": "display_data",
          "data": {
            "text/plain": [
              "<pandas.io.formats.style.Styler at 0x78f7817a0490>"
            ],
            "text/html": [
              "<style type=\"text/css\">\n",
              "#T_d2bcf_row10_col0, #T_d2bcf_row10_col1, #T_d2bcf_row10_col2, #T_d2bcf_row10_col3, #T_d2bcf_row10_col4, #T_d2bcf_row10_col5, #T_d2bcf_row10_col6 {\n",
              "  background: yellow;\n",
              "}\n",
              "</style>\n",
              "<table id=\"T_d2bcf\" class=\"dataframe\">\n",
              "  <thead>\n",
              "    <tr>\n",
              "      <th class=\"blank level0\" >&nbsp;</th>\n",
              "      <th id=\"T_d2bcf_level0_col0\" class=\"col_heading level0 col0\" >Accuracy</th>\n",
              "      <th id=\"T_d2bcf_level0_col1\" class=\"col_heading level0 col1\" >AUC</th>\n",
              "      <th id=\"T_d2bcf_level0_col2\" class=\"col_heading level0 col2\" >Recall</th>\n",
              "      <th id=\"T_d2bcf_level0_col3\" class=\"col_heading level0 col3\" >Prec.</th>\n",
              "      <th id=\"T_d2bcf_level0_col4\" class=\"col_heading level0 col4\" >F1</th>\n",
              "      <th id=\"T_d2bcf_level0_col5\" class=\"col_heading level0 col5\" >Kappa</th>\n",
              "      <th id=\"T_d2bcf_level0_col6\" class=\"col_heading level0 col6\" >MCC</th>\n",
              "    </tr>\n",
              "    <tr>\n",
              "      <th class=\"index_name level0\" >Fold</th>\n",
              "      <th class=\"blank col0\" >&nbsp;</th>\n",
              "      <th class=\"blank col1\" >&nbsp;</th>\n",
              "      <th class=\"blank col2\" >&nbsp;</th>\n",
              "      <th class=\"blank col3\" >&nbsp;</th>\n",
              "      <th class=\"blank col4\" >&nbsp;</th>\n",
              "      <th class=\"blank col5\" >&nbsp;</th>\n",
              "      <th class=\"blank col6\" >&nbsp;</th>\n",
              "    </tr>\n",
              "  </thead>\n",
              "  <tbody>\n",
              "    <tr>\n",
              "      <th id=\"T_d2bcf_level0_row0\" class=\"row_heading level0 row0\" >0</th>\n",
              "      <td id=\"T_d2bcf_row0_col0\" class=\"data row0 col0\" >0.6852</td>\n",
              "      <td id=\"T_d2bcf_row0_col1\" class=\"data row0 col1\" >0.6940</td>\n",
              "      <td id=\"T_d2bcf_row0_col2\" class=\"data row0 col2\" >0.4211</td>\n",
              "      <td id=\"T_d2bcf_row0_col3\" class=\"data row0 col3\" >0.5714</td>\n",
              "      <td id=\"T_d2bcf_row0_col4\" class=\"data row0 col4\" >0.4848</td>\n",
              "      <td id=\"T_d2bcf_row0_col5\" class=\"data row0 col5\" >0.2656</td>\n",
              "      <td id=\"T_d2bcf_row0_col6\" class=\"data row0 col6\" >0.2720</td>\n",
              "    </tr>\n",
              "    <tr>\n",
              "      <th id=\"T_d2bcf_level0_row1\" class=\"row_heading level0 row1\" >1</th>\n",
              "      <td id=\"T_d2bcf_row1_col0\" class=\"data row1 col0\" >0.7778</td>\n",
              "      <td id=\"T_d2bcf_row1_col1\" class=\"data row1 col1\" >0.7835</td>\n",
              "      <td id=\"T_d2bcf_row1_col2\" class=\"data row1 col2\" >0.4737</td>\n",
              "      <td id=\"T_d2bcf_row1_col3\" class=\"data row1 col3\" >0.8182</td>\n",
              "      <td id=\"T_d2bcf_row1_col4\" class=\"data row1 col4\" >0.6000</td>\n",
              "      <td id=\"T_d2bcf_row1_col5\" class=\"data row1 col5\" >0.4609</td>\n",
              "      <td id=\"T_d2bcf_row1_col6\" class=\"data row1 col6\" >0.4939</td>\n",
              "    </tr>\n",
              "    <tr>\n",
              "      <th id=\"T_d2bcf_level0_row2\" class=\"row_heading level0 row2\" >2</th>\n",
              "      <td id=\"T_d2bcf_row2_col0\" class=\"data row2 col0\" >0.8148</td>\n",
              "      <td id=\"T_d2bcf_row2_col1\" class=\"data row2 col1\" >0.8165</td>\n",
              "      <td id=\"T_d2bcf_row2_col2\" class=\"data row2 col2\" >0.5263</td>\n",
              "      <td id=\"T_d2bcf_row2_col3\" class=\"data row2 col3\" >0.9091</td>\n",
              "      <td id=\"T_d2bcf_row2_col4\" class=\"data row2 col4\" >0.6667</td>\n",
              "      <td id=\"T_d2bcf_row2_col5\" class=\"data row2 col5\" >0.5507</td>\n",
              "      <td id=\"T_d2bcf_row2_col6\" class=\"data row2 col6\" >0.5902</td>\n",
              "    </tr>\n",
              "    <tr>\n",
              "      <th id=\"T_d2bcf_level0_row3\" class=\"row_heading level0 row3\" >3</th>\n",
              "      <td id=\"T_d2bcf_row3_col0\" class=\"data row3 col0\" >0.6852</td>\n",
              "      <td id=\"T_d2bcf_row3_col1\" class=\"data row3 col1\" >0.6496</td>\n",
              "      <td id=\"T_d2bcf_row3_col2\" class=\"data row3 col2\" >0.3158</td>\n",
              "      <td id=\"T_d2bcf_row3_col3\" class=\"data row3 col3\" >0.6000</td>\n",
              "      <td id=\"T_d2bcf_row3_col4\" class=\"data row3 col4\" >0.4138</td>\n",
              "      <td id=\"T_d2bcf_row3_col5\" class=\"data row3 col5\" >0.2260</td>\n",
              "      <td id=\"T_d2bcf_row3_col6\" class=\"data row3 col6\" >0.2477</td>\n",
              "    </tr>\n",
              "    <tr>\n",
              "      <th id=\"T_d2bcf_level0_row4\" class=\"row_heading level0 row4\" >4</th>\n",
              "      <td id=\"T_d2bcf_row4_col0\" class=\"data row4 col0\" >0.7407</td>\n",
              "      <td id=\"T_d2bcf_row4_col1\" class=\"data row4 col1\" >0.7120</td>\n",
              "      <td id=\"T_d2bcf_row4_col2\" class=\"data row4 col2\" >0.3158</td>\n",
              "      <td id=\"T_d2bcf_row4_col3\" class=\"data row4 col3\" >0.8571</td>\n",
              "      <td id=\"T_d2bcf_row4_col4\" class=\"data row4 col4\" >0.4615</td>\n",
              "      <td id=\"T_d2bcf_row4_col5\" class=\"data row4 col5\" >0.3357</td>\n",
              "      <td id=\"T_d2bcf_row4_col6\" class=\"data row4 col6\" >0.4083</td>\n",
              "    </tr>\n",
              "    <tr>\n",
              "      <th id=\"T_d2bcf_level0_row5\" class=\"row_heading level0 row5\" >5</th>\n",
              "      <td id=\"T_d2bcf_row5_col0\" class=\"data row5 col0\" >0.7963</td>\n",
              "      <td id=\"T_d2bcf_row5_col1\" class=\"data row5 col1\" >0.7436</td>\n",
              "      <td id=\"T_d2bcf_row5_col2\" class=\"data row5 col2\" >0.4737</td>\n",
              "      <td id=\"T_d2bcf_row5_col3\" class=\"data row5 col3\" >0.9000</td>\n",
              "      <td id=\"T_d2bcf_row5_col4\" class=\"data row5 col4\" >0.6207</td>\n",
              "      <td id=\"T_d2bcf_row5_col5\" class=\"data row5 col5\" >0.4992</td>\n",
              "      <td id=\"T_d2bcf_row5_col6\" class=\"data row5 col6\" >0.5472</td>\n",
              "    </tr>\n",
              "    <tr>\n",
              "      <th id=\"T_d2bcf_level0_row6\" class=\"row_heading level0 row6\" >6</th>\n",
              "      <td id=\"T_d2bcf_row6_col0\" class=\"data row6 col0\" >0.7778</td>\n",
              "      <td id=\"T_d2bcf_row6_col1\" class=\"data row6 col1\" >0.7030</td>\n",
              "      <td id=\"T_d2bcf_row6_col2\" class=\"data row6 col2\" >0.4211</td>\n",
              "      <td id=\"T_d2bcf_row6_col3\" class=\"data row6 col3\" >0.8889</td>\n",
              "      <td id=\"T_d2bcf_row6_col4\" class=\"data row6 col4\" >0.5714</td>\n",
              "      <td id=\"T_d2bcf_row6_col5\" class=\"data row6 col5\" >0.4462</td>\n",
              "      <td id=\"T_d2bcf_row6_col6\" class=\"data row6 col6\" >0.5029</td>\n",
              "    </tr>\n",
              "    <tr>\n",
              "      <th id=\"T_d2bcf_level0_row7\" class=\"row_heading level0 row7\" >7</th>\n",
              "      <td id=\"T_d2bcf_row7_col0\" class=\"data row7 col0\" >0.7736</td>\n",
              "      <td id=\"T_d2bcf_row7_col1\" class=\"data row7 col1\" >0.7714</td>\n",
              "      <td id=\"T_d2bcf_row7_col2\" class=\"data row7 col2\" >0.3333</td>\n",
              "      <td id=\"T_d2bcf_row7_col3\" class=\"data row7 col3\" >1.0000</td>\n",
              "      <td id=\"T_d2bcf_row7_col4\" class=\"data row7 col4\" >0.5000</td>\n",
              "      <td id=\"T_d2bcf_row7_col5\" class=\"data row7 col5\" >0.3977</td>\n",
              "      <td id=\"T_d2bcf_row7_col6\" class=\"data row7 col6\" >0.4982</td>\n",
              "    </tr>\n",
              "    <tr>\n",
              "      <th id=\"T_d2bcf_level0_row8\" class=\"row_heading level0 row8\" >8</th>\n",
              "      <td id=\"T_d2bcf_row8_col0\" class=\"data row8 col0\" >0.7925</td>\n",
              "      <td id=\"T_d2bcf_row8_col1\" class=\"data row8 col1\" >0.8032</td>\n",
              "      <td id=\"T_d2bcf_row8_col2\" class=\"data row8 col2\" >0.4444</td>\n",
              "      <td id=\"T_d2bcf_row8_col3\" class=\"data row8 col3\" >0.8889</td>\n",
              "      <td id=\"T_d2bcf_row8_col4\" class=\"data row8 col4\" >0.5926</td>\n",
              "      <td id=\"T_d2bcf_row8_col5\" class=\"data row8 col5\" >0.4734</td>\n",
              "      <td id=\"T_d2bcf_row8_col6\" class=\"data row8 col6\" >0.5245</td>\n",
              "    </tr>\n",
              "    <tr>\n",
              "      <th id=\"T_d2bcf_level0_row9\" class=\"row_heading level0 row9\" >9</th>\n",
              "      <td id=\"T_d2bcf_row9_col0\" class=\"data row9 col0\" >0.7170</td>\n",
              "      <td id=\"T_d2bcf_row9_col1\" class=\"data row9 col1\" >0.7143</td>\n",
              "      <td id=\"T_d2bcf_row9_col2\" class=\"data row9 col2\" >0.2222</td>\n",
              "      <td id=\"T_d2bcf_row9_col3\" class=\"data row9 col3\" >0.8000</td>\n",
              "      <td id=\"T_d2bcf_row9_col4\" class=\"data row9 col4\" >0.3478</td>\n",
              "      <td id=\"T_d2bcf_row9_col5\" class=\"data row9 col5\" >0.2348</td>\n",
              "      <td id=\"T_d2bcf_row9_col6\" class=\"data row9 col6\" >0.3138</td>\n",
              "    </tr>\n",
              "    <tr>\n",
              "      <th id=\"T_d2bcf_level0_row10\" class=\"row_heading level0 row10\" >Mean</th>\n",
              "      <td id=\"T_d2bcf_row10_col0\" class=\"data row10 col0\" >0.7561</td>\n",
              "      <td id=\"T_d2bcf_row10_col1\" class=\"data row10 col1\" >0.7391</td>\n",
              "      <td id=\"T_d2bcf_row10_col2\" class=\"data row10 col2\" >0.3947</td>\n",
              "      <td id=\"T_d2bcf_row10_col3\" class=\"data row10 col3\" >0.8234</td>\n",
              "      <td id=\"T_d2bcf_row10_col4\" class=\"data row10 col4\" >0.5259</td>\n",
              "      <td id=\"T_d2bcf_row10_col5\" class=\"data row10 col5\" >0.3890</td>\n",
              "      <td id=\"T_d2bcf_row10_col6\" class=\"data row10 col6\" >0.4399</td>\n",
              "    </tr>\n",
              "    <tr>\n",
              "      <th id=\"T_d2bcf_level0_row11\" class=\"row_heading level0 row11\" >Std</th>\n",
              "      <td id=\"T_d2bcf_row11_col0\" class=\"data row11 col0\" >0.0441</td>\n",
              "      <td id=\"T_d2bcf_row11_col1\" class=\"data row11 col1\" >0.0508</td>\n",
              "      <td id=\"T_d2bcf_row11_col2\" class=\"data row11 col2\" >0.0892</td>\n",
              "      <td id=\"T_d2bcf_row11_col3\" class=\"data row11 col3\" >0.1296</td>\n",
              "      <td id=\"T_d2bcf_row11_col4\" class=\"data row11 col4\" >0.0957</td>\n",
              "      <td id=\"T_d2bcf_row11_col5\" class=\"data row11 col5\" >0.1106</td>\n",
              "      <td id=\"T_d2bcf_row11_col6\" class=\"data row11 col6\" >0.1156</td>\n",
              "    </tr>\n",
              "  </tbody>\n",
              "</table>\n"
            ]
          },
          "metadata": {}
        },
        {
          "output_type": "display_data",
          "data": {
            "text/plain": [
              "Processing:   0%|          | 0/7 [00:00<?, ?it/s]"
            ],
            "application/vnd.jupyter.widget-view+json": {
              "version_major": 2,
              "version_minor": 0,
              "model_id": "a54da56c24ef4fd8a37ba1a2a21a0d3d"
            }
          },
          "metadata": {
            "application/vnd.jupyter.widget-view+json": {
              "colab": {
                "custom_widget_manager": {
                  "url": "https://ssl.gstatic.com/colaboratory-static/widgets/colab-cdn-widget-manager/b3e629b1971e1542/manager.min.js"
                }
              }
            }
          }
        },
        {
          "output_type": "stream",
          "name": "stdout",
          "text": [
            "Fitting 10 folds for each of 10 candidates, totalling 100 fits\n"
          ]
        },
        {
          "output_type": "display_data",
          "data": {
            "text/plain": [
              "<IPython.core.display.HTML object>"
            ],
            "text/html": []
          },
          "metadata": {}
        }
      ]
    },
    {
      "cell_type": "code",
      "source": [
        "tuned_lr = tune_model(lr, optimize = 'Accuracy')\n",
        "tuned_lda = tune_model(lda, optimize = 'Accuracy')\n",
        "tuned_ada = tune_model(ada, optimize = 'Accuracy')\n",
        "tuned_gbc = tune_model(gbc, optimize = 'Accuracy')\n"
      ],
      "metadata": {
        "id": "cRd0s3kRy0zW",
        "outputId": "c73a67b2-311f-4a77-d2c0-957bcf9a46bc",
        "colab": {
          "base_uri": "https://localhost:8080/",
          "height": 1000,
          "referenced_widgets": [
            "896b5ba70ccd4e839b535149094f5918",
            "07f71ccc908f426fb4dc8e5257269b53",
            "7049a509ed4048089af86a3f03b30d6e",
            "bb025ee4e4c44150a03c40140dc3ddc3",
            "288dc3b02cc147d58a755fe7a79f11c7",
            "06228e1d56bd42bba71d619ffdf70cb3",
            "8f40fbe27615406a9eb03a800d8d76ff",
            "cfd8fe678aa54e00818b739b106fa8e3",
            "488d4d0cec1c4a6dad075af9aad147b7",
            "bb3ca74cda9e48c6ace6ef56a9d1d83f",
            "bac5c873601048dc81166e5f8a870ef8",
            "26af26bfb95946e9acf729e46079b90b",
            "b26d443192794bd49208dd8680abe1f3",
            "4943551d05f74b4c8c1b467dc756ea4c",
            "06cb87c6325346d5a2915b02ab5eb6ec",
            "9449fb8a0ad04212bc4133a105365ed8",
            "b216be5eee244060a7d5c490aa3e3630",
            "d31ead0d131c45d3a4397793c7f6a812",
            "94b02ea061904070915290ed31b1c3e4",
            "f08cb2097ee74c8582ab91c2073374f3",
            "5644d41bf9e74d33bf7ae603e5376957",
            "50adcbb46e404f8a9106965a34a5e188",
            "b3a053e4b39543d2bdbd170e451fe0ce",
            "486d83bd964b496fbe5e08566e2b1d11",
            "59916646b5c541bf83526ec791cd08e4",
            "5daabb50fce74795a73ca9f64fbeccad",
            "9074767a60d64efdbb56d7b8246d620e",
            "261022bb4b434b27b038fb6d24f85071",
            "48c265bf01614c688bee7257e73b0acc",
            "07e86e3d1817497793589c381d9f25a1",
            "3da03436186f4acf963619a231008eb3",
            "dd93a8720ed14c7dab043fde71b7370b",
            "3cd4d26c8b064f55b0a1a81982ac3a82",
            "6255435a5ae649038e1e1319e3eb8db8",
            "a179629f8f114a629343c25fded3d8d9",
            "b5fbb0efc5df43779e0ccfbc44227157",
            "47ff8f6f94ba49fd9f243343b2db82ef",
            "713714e64cc044488a8629201f57de68",
            "c561f569906b4e75bc31b24afe704253",
            "ea2e0bc49f074af0a0265b28b66291c7",
            "ef363f7e848e4c06b2e94ca1bf9645f8",
            "5e3fecaae16c4c9898ce6c51d0d94a2e",
            "7229d56ec97f405985b5b0cd8e3cf0f1",
            "b1ad4004db3244c5b0a2129d61a0c57e"
          ]
        }
      },
      "execution_count": 34,
      "outputs": [
        {
          "output_type": "display_data",
          "data": {
            "text/plain": [
              "<IPython.core.display.HTML object>"
            ],
            "text/html": []
          },
          "metadata": {}
        },
        {
          "output_type": "display_data",
          "data": {
            "text/plain": [
              "<pandas.io.formats.style.Styler at 0x78f794d7bdf0>"
            ],
            "text/html": [
              "<style type=\"text/css\">\n",
              "#T_d60dd_row10_col0, #T_d60dd_row10_col1, #T_d60dd_row10_col2, #T_d60dd_row10_col3, #T_d60dd_row10_col4, #T_d60dd_row10_col5, #T_d60dd_row10_col6 {\n",
              "  background: yellow;\n",
              "}\n",
              "</style>\n",
              "<table id=\"T_d60dd\" class=\"dataframe\">\n",
              "  <thead>\n",
              "    <tr>\n",
              "      <th class=\"blank level0\" >&nbsp;</th>\n",
              "      <th id=\"T_d60dd_level0_col0\" class=\"col_heading level0 col0\" >Accuracy</th>\n",
              "      <th id=\"T_d60dd_level0_col1\" class=\"col_heading level0 col1\" >AUC</th>\n",
              "      <th id=\"T_d60dd_level0_col2\" class=\"col_heading level0 col2\" >Recall</th>\n",
              "      <th id=\"T_d60dd_level0_col3\" class=\"col_heading level0 col3\" >Prec.</th>\n",
              "      <th id=\"T_d60dd_level0_col4\" class=\"col_heading level0 col4\" >F1</th>\n",
              "      <th id=\"T_d60dd_level0_col5\" class=\"col_heading level0 col5\" >Kappa</th>\n",
              "      <th id=\"T_d60dd_level0_col6\" class=\"col_heading level0 col6\" >MCC</th>\n",
              "    </tr>\n",
              "    <tr>\n",
              "      <th class=\"index_name level0\" >Fold</th>\n",
              "      <th class=\"blank col0\" >&nbsp;</th>\n",
              "      <th class=\"blank col1\" >&nbsp;</th>\n",
              "      <th class=\"blank col2\" >&nbsp;</th>\n",
              "      <th class=\"blank col3\" >&nbsp;</th>\n",
              "      <th class=\"blank col4\" >&nbsp;</th>\n",
              "      <th class=\"blank col5\" >&nbsp;</th>\n",
              "      <th class=\"blank col6\" >&nbsp;</th>\n",
              "    </tr>\n",
              "  </thead>\n",
              "  <tbody>\n",
              "    <tr>\n",
              "      <th id=\"T_d60dd_level0_row0\" class=\"row_heading level0 row0\" >0</th>\n",
              "      <td id=\"T_d60dd_row0_col0\" class=\"data row0 col0\" >0.6852</td>\n",
              "      <td id=\"T_d60dd_row0_col1\" class=\"data row0 col1\" >0.7744</td>\n",
              "      <td id=\"T_d60dd_row0_col2\" class=\"data row0 col2\" >0.5789</td>\n",
              "      <td id=\"T_d60dd_row0_col3\" class=\"data row0 col3\" >0.5500</td>\n",
              "      <td id=\"T_d60dd_row0_col4\" class=\"data row0 col4\" >0.5641</td>\n",
              "      <td id=\"T_d60dd_row0_col5\" class=\"data row0 col5\" >0.3180</td>\n",
              "      <td id=\"T_d60dd_row0_col6\" class=\"data row0 col6\" >0.3182</td>\n",
              "    </tr>\n",
              "    <tr>\n",
              "      <th id=\"T_d60dd_level0_row1\" class=\"row_heading level0 row1\" >1</th>\n",
              "      <td id=\"T_d60dd_row1_col0\" class=\"data row1 col0\" >0.8333</td>\n",
              "      <td id=\"T_d60dd_row1_col1\" class=\"data row1 col1\" >0.9038</td>\n",
              "      <td id=\"T_d60dd_row1_col2\" class=\"data row1 col2\" >0.6842</td>\n",
              "      <td id=\"T_d60dd_row1_col3\" class=\"data row1 col3\" >0.8125</td>\n",
              "      <td id=\"T_d60dd_row1_col4\" class=\"data row1 col4\" >0.7429</td>\n",
              "      <td id=\"T_d60dd_row1_col5\" class=\"data row1 col5\" >0.6209</td>\n",
              "      <td id=\"T_d60dd_row1_col6\" class=\"data row1 col6\" >0.6259</td>\n",
              "    </tr>\n",
              "    <tr>\n",
              "      <th id=\"T_d60dd_level0_row2\" class=\"row_heading level0 row2\" >2</th>\n",
              "      <td id=\"T_d60dd_row2_col0\" class=\"data row2 col0\" >0.7593</td>\n",
              "      <td id=\"T_d60dd_row2_col1\" class=\"data row2 col1\" >0.8617</td>\n",
              "      <td id=\"T_d60dd_row2_col2\" class=\"data row2 col2\" >0.5789</td>\n",
              "      <td id=\"T_d60dd_row2_col3\" class=\"data row2 col3\" >0.6875</td>\n",
              "      <td id=\"T_d60dd_row2_col4\" class=\"data row2 col4\" >0.6286</td>\n",
              "      <td id=\"T_d60dd_row2_col5\" class=\"data row2 col5\" >0.4524</td>\n",
              "      <td id=\"T_d60dd_row2_col6\" class=\"data row2 col6\" >0.4561</td>\n",
              "    </tr>\n",
              "    <tr>\n",
              "      <th id=\"T_d60dd_level0_row3\" class=\"row_heading level0 row3\" >3</th>\n",
              "      <td id=\"T_d60dd_row3_col0\" class=\"data row3 col0\" >0.7222</td>\n",
              "      <td id=\"T_d60dd_row3_col1\" class=\"data row3 col1\" >0.7865</td>\n",
              "      <td id=\"T_d60dd_row3_col2\" class=\"data row3 col2\" >0.5789</td>\n",
              "      <td id=\"T_d60dd_row3_col3\" class=\"data row3 col3\" >0.6111</td>\n",
              "      <td id=\"T_d60dd_row3_col4\" class=\"data row3 col4\" >0.5946</td>\n",
              "      <td id=\"T_d60dd_row3_col5\" class=\"data row3 col5\" >0.3836</td>\n",
              "      <td id=\"T_d60dd_row3_col6\" class=\"data row3 col6\" >0.3839</td>\n",
              "    </tr>\n",
              "    <tr>\n",
              "      <th id=\"T_d60dd_level0_row4\" class=\"row_heading level0 row4\" >4</th>\n",
              "      <td id=\"T_d60dd_row4_col0\" class=\"data row4 col0\" >0.8148</td>\n",
              "      <td id=\"T_d60dd_row4_col1\" class=\"data row4 col1\" >0.8286</td>\n",
              "      <td id=\"T_d60dd_row4_col2\" class=\"data row4 col2\" >0.6316</td>\n",
              "      <td id=\"T_d60dd_row4_col3\" class=\"data row4 col3\" >0.8000</td>\n",
              "      <td id=\"T_d60dd_row4_col4\" class=\"data row4 col4\" >0.7059</td>\n",
              "      <td id=\"T_d60dd_row4_col5\" class=\"data row4 col5\" >0.5735</td>\n",
              "      <td id=\"T_d60dd_row4_col6\" class=\"data row4 col6\" >0.5820</td>\n",
              "    </tr>\n",
              "    <tr>\n",
              "      <th id=\"T_d60dd_level0_row5\" class=\"row_heading level0 row5\" >5</th>\n",
              "      <td id=\"T_d60dd_row5_col0\" class=\"data row5 col0\" >0.7222</td>\n",
              "      <td id=\"T_d60dd_row5_col1\" class=\"data row5 col1\" >0.7624</td>\n",
              "      <td id=\"T_d60dd_row5_col2\" class=\"data row5 col2\" >0.5263</td>\n",
              "      <td id=\"T_d60dd_row5_col3\" class=\"data row5 col3\" >0.6250</td>\n",
              "      <td id=\"T_d60dd_row5_col4\" class=\"data row5 col4\" >0.5714</td>\n",
              "      <td id=\"T_d60dd_row5_col5\" class=\"data row5 col5\" >0.3682</td>\n",
              "      <td id=\"T_d60dd_row5_col6\" class=\"data row5 col6\" >0.3711</td>\n",
              "    </tr>\n",
              "    <tr>\n",
              "      <th id=\"T_d60dd_level0_row6\" class=\"row_heading level0 row6\" >6</th>\n",
              "      <td id=\"T_d60dd_row6_col0\" class=\"data row6 col0\" >0.7037</td>\n",
              "      <td id=\"T_d60dd_row6_col1\" class=\"data row6 col1\" >0.7308</td>\n",
              "      <td id=\"T_d60dd_row6_col2\" class=\"data row6 col2\" >0.3684</td>\n",
              "      <td id=\"T_d60dd_row6_col3\" class=\"data row6 col3\" >0.6364</td>\n",
              "      <td id=\"T_d60dd_row6_col4\" class=\"data row6 col4\" >0.4667</td>\n",
              "      <td id=\"T_d60dd_row6_col5\" class=\"data row6 col5\" >0.2812</td>\n",
              "      <td id=\"T_d60dd_row6_col6\" class=\"data row6 col6\" >0.3013</td>\n",
              "    </tr>\n",
              "    <tr>\n",
              "      <th id=\"T_d60dd_level0_row7\" class=\"row_heading level0 row7\" >7</th>\n",
              "      <td id=\"T_d60dd_row7_col0\" class=\"data row7 col0\" >0.7736</td>\n",
              "      <td id=\"T_d60dd_row7_col1\" class=\"data row7 col1\" >0.7937</td>\n",
              "      <td id=\"T_d60dd_row7_col2\" class=\"data row7 col2\" >0.5556</td>\n",
              "      <td id=\"T_d60dd_row7_col3\" class=\"data row7 col3\" >0.7143</td>\n",
              "      <td id=\"T_d60dd_row7_col4\" class=\"data row7 col4\" >0.6250</td>\n",
              "      <td id=\"T_d60dd_row7_col5\" class=\"data row7 col5\" >0.4664</td>\n",
              "      <td id=\"T_d60dd_row7_col6\" class=\"data row7 col6\" >0.4740</td>\n",
              "    </tr>\n",
              "    <tr>\n",
              "      <th id=\"T_d60dd_level0_row8\" class=\"row_heading level0 row8\" >8</th>\n",
              "      <td id=\"T_d60dd_row8_col0\" class=\"data row8 col0\" >0.7925</td>\n",
              "      <td id=\"T_d60dd_row8_col1\" class=\"data row8 col1\" >0.8683</td>\n",
              "      <td id=\"T_d60dd_row8_col2\" class=\"data row8 col2\" >0.5000</td>\n",
              "      <td id=\"T_d60dd_row8_col3\" class=\"data row8 col3\" >0.8182</td>\n",
              "      <td id=\"T_d60dd_row8_col4\" class=\"data row8 col4\" >0.6207</td>\n",
              "      <td id=\"T_d60dd_row8_col5\" class=\"data row8 col5\" >0.4890</td>\n",
              "      <td id=\"T_d60dd_row8_col6\" class=\"data row8 col6\" >0.5171</td>\n",
              "    </tr>\n",
              "    <tr>\n",
              "      <th id=\"T_d60dd_level0_row9\" class=\"row_heading level0 row9\" >9</th>\n",
              "      <td id=\"T_d60dd_row9_col0\" class=\"data row9 col0\" >0.8491</td>\n",
              "      <td id=\"T_d60dd_row9_col1\" class=\"data row9 col1\" >0.9000</td>\n",
              "      <td id=\"T_d60dd_row9_col2\" class=\"data row9 col2\" >0.6111</td>\n",
              "      <td id=\"T_d60dd_row9_col3\" class=\"data row9 col3\" >0.9167</td>\n",
              "      <td id=\"T_d60dd_row9_col4\" class=\"data row9 col4\" >0.7333</td>\n",
              "      <td id=\"T_d60dd_row9_col5\" class=\"data row9 col5\" >0.6339</td>\n",
              "      <td id=\"T_d60dd_row9_col6\" class=\"data row9 col6\" >0.6592</td>\n",
              "    </tr>\n",
              "    <tr>\n",
              "      <th id=\"T_d60dd_level0_row10\" class=\"row_heading level0 row10\" >Mean</th>\n",
              "      <td id=\"T_d60dd_row10_col0\" class=\"data row10 col0\" >0.7656</td>\n",
              "      <td id=\"T_d60dd_row10_col1\" class=\"data row10 col1\" >0.8210</td>\n",
              "      <td id=\"T_d60dd_row10_col2\" class=\"data row10 col2\" >0.5614</td>\n",
              "      <td id=\"T_d60dd_row10_col3\" class=\"data row10 col3\" >0.7172</td>\n",
              "      <td id=\"T_d60dd_row10_col4\" class=\"data row10 col4\" >0.6253</td>\n",
              "      <td id=\"T_d60dd_row10_col5\" class=\"data row10 col5\" >0.4587</td>\n",
              "      <td id=\"T_d60dd_row10_col6\" class=\"data row10 col6\" >0.4689</td>\n",
              "    </tr>\n",
              "    <tr>\n",
              "      <th id=\"T_d60dd_level0_row11\" class=\"row_heading level0 row11\" >Std</th>\n",
              "      <td id=\"T_d60dd_row11_col0\" class=\"data row11 col0\" >0.0537</td>\n",
              "      <td id=\"T_d60dd_row11_col1\" class=\"data row11 col1\" >0.0572</td>\n",
              "      <td id=\"T_d60dd_row11_col2\" class=\"data row11 col2\" >0.0810</td>\n",
              "      <td id=\"T_d60dd_row11_col3\" class=\"data row11 col3\" >0.1100</td>\n",
              "      <td id=\"T_d60dd_row11_col4\" class=\"data row11 col4\" >0.0805</td>\n",
              "      <td id=\"T_d60dd_row11_col5\" class=\"data row11 col5\" >0.1168</td>\n",
              "      <td id=\"T_d60dd_row11_col6\" class=\"data row11 col6\" >0.1199</td>\n",
              "    </tr>\n",
              "  </tbody>\n",
              "</table>\n"
            ]
          },
          "metadata": {}
        },
        {
          "output_type": "display_data",
          "data": {
            "text/plain": [
              "Processing:   0%|          | 0/7 [00:00<?, ?it/s]"
            ],
            "application/vnd.jupyter.widget-view+json": {
              "version_major": 2,
              "version_minor": 0,
              "model_id": "896b5ba70ccd4e839b535149094f5918"
            }
          },
          "metadata": {
            "application/vnd.jupyter.widget-view+json": {
              "colab": {
                "custom_widget_manager": {
                  "url": "https://ssl.gstatic.com/colaboratory-static/widgets/colab-cdn-widget-manager/b3e629b1971e1542/manager.min.js"
                }
              }
            }
          }
        },
        {
          "output_type": "stream",
          "name": "stdout",
          "text": [
            "Fitting 10 folds for each of 10 candidates, totalling 100 fits\n"
          ]
        },
        {
          "output_type": "display_data",
          "data": {
            "text/plain": [
              "<IPython.core.display.HTML object>"
            ],
            "text/html": []
          },
          "metadata": {}
        },
        {
          "output_type": "stream",
          "name": "stdout",
          "text": [
            "Original model was better than the tuned model, hence it will be returned. NOTE: The display metrics are for the tuned model (not the original one).\n"
          ]
        },
        {
          "output_type": "display_data",
          "data": {
            "text/plain": [
              "<IPython.core.display.HTML object>"
            ],
            "text/html": []
          },
          "metadata": {}
        },
        {
          "output_type": "display_data",
          "data": {
            "text/plain": [
              "<pandas.io.formats.style.Styler at 0x78f794d7b280>"
            ],
            "text/html": [
              "<style type=\"text/css\">\n",
              "#T_94e48_row10_col0, #T_94e48_row10_col1, #T_94e48_row10_col2, #T_94e48_row10_col3, #T_94e48_row10_col4, #T_94e48_row10_col5, #T_94e48_row10_col6 {\n",
              "  background: yellow;\n",
              "}\n",
              "</style>\n",
              "<table id=\"T_94e48\" class=\"dataframe\">\n",
              "  <thead>\n",
              "    <tr>\n",
              "      <th class=\"blank level0\" >&nbsp;</th>\n",
              "      <th id=\"T_94e48_level0_col0\" class=\"col_heading level0 col0\" >Accuracy</th>\n",
              "      <th id=\"T_94e48_level0_col1\" class=\"col_heading level0 col1\" >AUC</th>\n",
              "      <th id=\"T_94e48_level0_col2\" class=\"col_heading level0 col2\" >Recall</th>\n",
              "      <th id=\"T_94e48_level0_col3\" class=\"col_heading level0 col3\" >Prec.</th>\n",
              "      <th id=\"T_94e48_level0_col4\" class=\"col_heading level0 col4\" >F1</th>\n",
              "      <th id=\"T_94e48_level0_col5\" class=\"col_heading level0 col5\" >Kappa</th>\n",
              "      <th id=\"T_94e48_level0_col6\" class=\"col_heading level0 col6\" >MCC</th>\n",
              "    </tr>\n",
              "    <tr>\n",
              "      <th class=\"index_name level0\" >Fold</th>\n",
              "      <th class=\"blank col0\" >&nbsp;</th>\n",
              "      <th class=\"blank col1\" >&nbsp;</th>\n",
              "      <th class=\"blank col2\" >&nbsp;</th>\n",
              "      <th class=\"blank col3\" >&nbsp;</th>\n",
              "      <th class=\"blank col4\" >&nbsp;</th>\n",
              "      <th class=\"blank col5\" >&nbsp;</th>\n",
              "      <th class=\"blank col6\" >&nbsp;</th>\n",
              "    </tr>\n",
              "  </thead>\n",
              "  <tbody>\n",
              "    <tr>\n",
              "      <th id=\"T_94e48_level0_row0\" class=\"row_heading level0 row0\" >0</th>\n",
              "      <td id=\"T_94e48_row0_col0\" class=\"data row0 col0\" >0.6852</td>\n",
              "      <td id=\"T_94e48_row0_col1\" class=\"data row0 col1\" >0.7729</td>\n",
              "      <td id=\"T_94e48_row0_col2\" class=\"data row0 col2\" >0.5789</td>\n",
              "      <td id=\"T_94e48_row0_col3\" class=\"data row0 col3\" >0.5500</td>\n",
              "      <td id=\"T_94e48_row0_col4\" class=\"data row0 col4\" >0.5641</td>\n",
              "      <td id=\"T_94e48_row0_col5\" class=\"data row0 col5\" >0.3180</td>\n",
              "      <td id=\"T_94e48_row0_col6\" class=\"data row0 col6\" >0.3182</td>\n",
              "    </tr>\n",
              "    <tr>\n",
              "      <th id=\"T_94e48_level0_row1\" class=\"row_heading level0 row1\" >1</th>\n",
              "      <td id=\"T_94e48_row1_col0\" class=\"data row1 col0\" >0.8148</td>\n",
              "      <td id=\"T_94e48_row1_col1\" class=\"data row1 col1\" >0.8977</td>\n",
              "      <td id=\"T_94e48_row1_col2\" class=\"data row1 col2\" >0.6316</td>\n",
              "      <td id=\"T_94e48_row1_col3\" class=\"data row1 col3\" >0.8000</td>\n",
              "      <td id=\"T_94e48_row1_col4\" class=\"data row1 col4\" >0.7059</td>\n",
              "      <td id=\"T_94e48_row1_col5\" class=\"data row1 col5\" >0.5735</td>\n",
              "      <td id=\"T_94e48_row1_col6\" class=\"data row1 col6\" >0.5820</td>\n",
              "    </tr>\n",
              "    <tr>\n",
              "      <th id=\"T_94e48_level0_row2\" class=\"row_heading level0 row2\" >2</th>\n",
              "      <td id=\"T_94e48_row2_col0\" class=\"data row2 col0\" >0.7593</td>\n",
              "      <td id=\"T_94e48_row2_col1\" class=\"data row2 col1\" >0.8481</td>\n",
              "      <td id=\"T_94e48_row2_col2\" class=\"data row2 col2\" >0.5789</td>\n",
              "      <td id=\"T_94e48_row2_col3\" class=\"data row2 col3\" >0.6875</td>\n",
              "      <td id=\"T_94e48_row2_col4\" class=\"data row2 col4\" >0.6286</td>\n",
              "      <td id=\"T_94e48_row2_col5\" class=\"data row2 col5\" >0.4524</td>\n",
              "      <td id=\"T_94e48_row2_col6\" class=\"data row2 col6\" >0.4561</td>\n",
              "    </tr>\n",
              "    <tr>\n",
              "      <th id=\"T_94e48_level0_row3\" class=\"row_heading level0 row3\" >3</th>\n",
              "      <td id=\"T_94e48_row3_col0\" class=\"data row3 col0\" >0.7222</td>\n",
              "      <td id=\"T_94e48_row3_col1\" class=\"data row3 col1\" >0.7820</td>\n",
              "      <td id=\"T_94e48_row3_col2\" class=\"data row3 col2\" >0.5789</td>\n",
              "      <td id=\"T_94e48_row3_col3\" class=\"data row3 col3\" >0.6111</td>\n",
              "      <td id=\"T_94e48_row3_col4\" class=\"data row3 col4\" >0.5946</td>\n",
              "      <td id=\"T_94e48_row3_col5\" class=\"data row3 col5\" >0.3836</td>\n",
              "      <td id=\"T_94e48_row3_col6\" class=\"data row3 col6\" >0.3839</td>\n",
              "    </tr>\n",
              "    <tr>\n",
              "      <th id=\"T_94e48_level0_row4\" class=\"row_heading level0 row4\" >4</th>\n",
              "      <td id=\"T_94e48_row4_col0\" class=\"data row4 col0\" >0.7963</td>\n",
              "      <td id=\"T_94e48_row4_col1\" class=\"data row4 col1\" >0.8286</td>\n",
              "      <td id=\"T_94e48_row4_col2\" class=\"data row4 col2\" >0.6316</td>\n",
              "      <td id=\"T_94e48_row4_col3\" class=\"data row4 col3\" >0.7500</td>\n",
              "      <td id=\"T_94e48_row4_col4\" class=\"data row4 col4\" >0.6857</td>\n",
              "      <td id=\"T_94e48_row4_col5\" class=\"data row4 col5\" >0.5367</td>\n",
              "      <td id=\"T_94e48_row4_col6\" class=\"data row4 col6\" >0.5410</td>\n",
              "    </tr>\n",
              "    <tr>\n",
              "      <th id=\"T_94e48_level0_row5\" class=\"row_heading level0 row5\" >5</th>\n",
              "      <td id=\"T_94e48_row5_col0\" class=\"data row5 col0\" >0.7037</td>\n",
              "      <td id=\"T_94e48_row5_col1\" class=\"data row5 col1\" >0.7549</td>\n",
              "      <td id=\"T_94e48_row5_col2\" class=\"data row5 col2\" >0.5263</td>\n",
              "      <td id=\"T_94e48_row5_col3\" class=\"data row5 col3\" >0.5882</td>\n",
              "      <td id=\"T_94e48_row5_col4\" class=\"data row5 col4\" >0.5556</td>\n",
              "      <td id=\"T_94e48_row5_col5\" class=\"data row5 col5\" >0.3344</td>\n",
              "      <td id=\"T_94e48_row5_col6\" class=\"data row5 col6\" >0.3355</td>\n",
              "    </tr>\n",
              "    <tr>\n",
              "      <th id=\"T_94e48_level0_row6\" class=\"row_heading level0 row6\" >6</th>\n",
              "      <td id=\"T_94e48_row6_col0\" class=\"data row6 col0\" >0.7222</td>\n",
              "      <td id=\"T_94e48_row6_col1\" class=\"data row6 col1\" >0.7368</td>\n",
              "      <td id=\"T_94e48_row6_col2\" class=\"data row6 col2\" >0.4211</td>\n",
              "      <td id=\"T_94e48_row6_col3\" class=\"data row6 col3\" >0.6667</td>\n",
              "      <td id=\"T_94e48_row6_col4\" class=\"data row6 col4\" >0.5161</td>\n",
              "      <td id=\"T_94e48_row6_col5\" class=\"data row6 col5\" >0.3350</td>\n",
              "      <td id=\"T_94e48_row6_col6\" class=\"data row6 col6\" >0.3524</td>\n",
              "    </tr>\n",
              "    <tr>\n",
              "      <th id=\"T_94e48_level0_row7\" class=\"row_heading level0 row7\" >7</th>\n",
              "      <td id=\"T_94e48_row7_col0\" class=\"data row7 col0\" >0.7736</td>\n",
              "      <td id=\"T_94e48_row7_col1\" class=\"data row7 col1\" >0.7968</td>\n",
              "      <td id=\"T_94e48_row7_col2\" class=\"data row7 col2\" >0.5556</td>\n",
              "      <td id=\"T_94e48_row7_col3\" class=\"data row7 col3\" >0.7143</td>\n",
              "      <td id=\"T_94e48_row7_col4\" class=\"data row7 col4\" >0.6250</td>\n",
              "      <td id=\"T_94e48_row7_col5\" class=\"data row7 col5\" >0.4664</td>\n",
              "      <td id=\"T_94e48_row7_col6\" class=\"data row7 col6\" >0.4740</td>\n",
              "    </tr>\n",
              "    <tr>\n",
              "      <th id=\"T_94e48_level0_row8\" class=\"row_heading level0 row8\" >8</th>\n",
              "      <td id=\"T_94e48_row8_col0\" class=\"data row8 col0\" >0.7925</td>\n",
              "      <td id=\"T_94e48_row8_col1\" class=\"data row8 col1\" >0.8556</td>\n",
              "      <td id=\"T_94e48_row8_col2\" class=\"data row8 col2\" >0.5000</td>\n",
              "      <td id=\"T_94e48_row8_col3\" class=\"data row8 col3\" >0.8182</td>\n",
              "      <td id=\"T_94e48_row8_col4\" class=\"data row8 col4\" >0.6207</td>\n",
              "      <td id=\"T_94e48_row8_col5\" class=\"data row8 col5\" >0.4890</td>\n",
              "      <td id=\"T_94e48_row8_col6\" class=\"data row8 col6\" >0.5171</td>\n",
              "    </tr>\n",
              "    <tr>\n",
              "      <th id=\"T_94e48_level0_row9\" class=\"row_heading level0 row9\" >9</th>\n",
              "      <td id=\"T_94e48_row9_col0\" class=\"data row9 col0\" >0.8491</td>\n",
              "      <td id=\"T_94e48_row9_col1\" class=\"data row9 col1\" >0.8905</td>\n",
              "      <td id=\"T_94e48_row9_col2\" class=\"data row9 col2\" >0.6111</td>\n",
              "      <td id=\"T_94e48_row9_col3\" class=\"data row9 col3\" >0.9167</td>\n",
              "      <td id=\"T_94e48_row9_col4\" class=\"data row9 col4\" >0.7333</td>\n",
              "      <td id=\"T_94e48_row9_col5\" class=\"data row9 col5\" >0.6339</td>\n",
              "      <td id=\"T_94e48_row9_col6\" class=\"data row9 col6\" >0.6592</td>\n",
              "    </tr>\n",
              "    <tr>\n",
              "      <th id=\"T_94e48_level0_row10\" class=\"row_heading level0 row10\" >Mean</th>\n",
              "      <td id=\"T_94e48_row10_col0\" class=\"data row10 col0\" >0.7619</td>\n",
              "      <td id=\"T_94e48_row10_col1\" class=\"data row10 col1\" >0.8164</td>\n",
              "      <td id=\"T_94e48_row10_col2\" class=\"data row10 col2\" >0.5614</td>\n",
              "      <td id=\"T_94e48_row10_col3\" class=\"data row10 col3\" >0.7103</td>\n",
              "      <td id=\"T_94e48_row10_col4\" class=\"data row10 col4\" >0.6230</td>\n",
              "      <td id=\"T_94e48_row10_col5\" class=\"data row10 col5\" >0.4523</td>\n",
              "      <td id=\"T_94e48_row10_col6\" class=\"data row10 col6\" >0.4619</td>\n",
              "    </tr>\n",
              "    <tr>\n",
              "      <th id=\"T_94e48_level0_row11\" class=\"row_heading level0 row11\" >Std</th>\n",
              "      <td id=\"T_94e48_row11_col0\" class=\"data row11 col0\" >0.0501</td>\n",
              "      <td id=\"T_94e48_row11_col1\" class=\"data row11 col1\" >0.0533</td>\n",
              "      <td id=\"T_94e48_row11_col2\" class=\"data row11 col2\" >0.0616</td>\n",
              "      <td id=\"T_94e48_row11_col3\" class=\"data row11 col3\" >0.1080</td>\n",
              "      <td id=\"T_94e48_row11_col4\" class=\"data row11 col4\" >0.0658</td>\n",
              "      <td id=\"T_94e48_row11_col5\" class=\"data row11 col5\" >0.1033</td>\n",
              "      <td id=\"T_94e48_row11_col6\" class=\"data row11 col6\" >0.1084</td>\n",
              "    </tr>\n",
              "  </tbody>\n",
              "</table>\n"
            ]
          },
          "metadata": {}
        },
        {
          "output_type": "display_data",
          "data": {
            "text/plain": [
              "Processing:   0%|          | 0/7 [00:00<?, ?it/s]"
            ],
            "application/vnd.jupyter.widget-view+json": {
              "version_major": 2,
              "version_minor": 0,
              "model_id": "50adcbb46e404f8a9106965a34a5e188"
            }
          },
          "metadata": {
            "application/vnd.jupyter.widget-view+json": {
              "colab": {
                "custom_widget_manager": {
                  "url": "https://ssl.gstatic.com/colaboratory-static/widgets/colab-cdn-widget-manager/b3e629b1971e1542/manager.min.js"
                }
              }
            }
          }
        },
        {
          "output_type": "stream",
          "name": "stdout",
          "text": [
            "Fitting 10 folds for each of 10 candidates, totalling 100 fits\n"
          ]
        },
        {
          "output_type": "display_data",
          "data": {
            "text/plain": [
              "<IPython.core.display.HTML object>"
            ],
            "text/html": []
          },
          "metadata": {}
        },
        {
          "output_type": "stream",
          "name": "stdout",
          "text": [
            "Original model was better than the tuned model, hence it will be returned. NOTE: The display metrics are for the tuned model (not the original one).\n"
          ]
        },
        {
          "output_type": "display_data",
          "data": {
            "text/plain": [
              "<IPython.core.display.HTML object>"
            ],
            "text/html": []
          },
          "metadata": {}
        },
        {
          "output_type": "display_data",
          "data": {
            "text/plain": [
              "<pandas.io.formats.style.Styler at 0x78f790752ec0>"
            ],
            "text/html": [
              "<style type=\"text/css\">\n",
              "#T_782b7_row10_col0, #T_782b7_row10_col1, #T_782b7_row10_col2, #T_782b7_row10_col3, #T_782b7_row10_col4, #T_782b7_row10_col5, #T_782b7_row10_col6 {\n",
              "  background: yellow;\n",
              "}\n",
              "</style>\n",
              "<table id=\"T_782b7\" class=\"dataframe\">\n",
              "  <thead>\n",
              "    <tr>\n",
              "      <th class=\"blank level0\" >&nbsp;</th>\n",
              "      <th id=\"T_782b7_level0_col0\" class=\"col_heading level0 col0\" >Accuracy</th>\n",
              "      <th id=\"T_782b7_level0_col1\" class=\"col_heading level0 col1\" >AUC</th>\n",
              "      <th id=\"T_782b7_level0_col2\" class=\"col_heading level0 col2\" >Recall</th>\n",
              "      <th id=\"T_782b7_level0_col3\" class=\"col_heading level0 col3\" >Prec.</th>\n",
              "      <th id=\"T_782b7_level0_col4\" class=\"col_heading level0 col4\" >F1</th>\n",
              "      <th id=\"T_782b7_level0_col5\" class=\"col_heading level0 col5\" >Kappa</th>\n",
              "      <th id=\"T_782b7_level0_col6\" class=\"col_heading level0 col6\" >MCC</th>\n",
              "    </tr>\n",
              "    <tr>\n",
              "      <th class=\"index_name level0\" >Fold</th>\n",
              "      <th class=\"blank col0\" >&nbsp;</th>\n",
              "      <th class=\"blank col1\" >&nbsp;</th>\n",
              "      <th class=\"blank col2\" >&nbsp;</th>\n",
              "      <th class=\"blank col3\" >&nbsp;</th>\n",
              "      <th class=\"blank col4\" >&nbsp;</th>\n",
              "      <th class=\"blank col5\" >&nbsp;</th>\n",
              "      <th class=\"blank col6\" >&nbsp;</th>\n",
              "    </tr>\n",
              "  </thead>\n",
              "  <tbody>\n",
              "    <tr>\n",
              "      <th id=\"T_782b7_level0_row0\" class=\"row_heading level0 row0\" >0</th>\n",
              "      <td id=\"T_782b7_row0_col0\" class=\"data row0 col0\" >0.6481</td>\n",
              "      <td id=\"T_782b7_row0_col1\" class=\"data row0 col1\" >0.7594</td>\n",
              "      <td id=\"T_782b7_row0_col2\" class=\"data row0 col2\" >0.5263</td>\n",
              "      <td id=\"T_782b7_row0_col3\" class=\"data row0 col3\" >0.5000</td>\n",
              "      <td id=\"T_782b7_row0_col4\" class=\"data row0 col4\" >0.5128</td>\n",
              "      <td id=\"T_782b7_row0_col5\" class=\"data row0 col5\" >0.2377</td>\n",
              "      <td id=\"T_782b7_row0_col6\" class=\"data row0 col6\" >0.2379</td>\n",
              "    </tr>\n",
              "    <tr>\n",
              "      <th id=\"T_782b7_level0_row1\" class=\"row_heading level0 row1\" >1</th>\n",
              "      <td id=\"T_782b7_row1_col0\" class=\"data row1 col0\" >0.7222</td>\n",
              "      <td id=\"T_782b7_row1_col1\" class=\"data row1 col1\" >0.7714</td>\n",
              "      <td id=\"T_782b7_row1_col2\" class=\"data row1 col2\" >0.4211</td>\n",
              "      <td id=\"T_782b7_row1_col3\" class=\"data row1 col3\" >0.6667</td>\n",
              "      <td id=\"T_782b7_row1_col4\" class=\"data row1 col4\" >0.5161</td>\n",
              "      <td id=\"T_782b7_row1_col5\" class=\"data row1 col5\" >0.3350</td>\n",
              "      <td id=\"T_782b7_row1_col6\" class=\"data row1 col6\" >0.3524</td>\n",
              "    </tr>\n",
              "    <tr>\n",
              "      <th id=\"T_782b7_level0_row2\" class=\"row_heading level0 row2\" >2</th>\n",
              "      <td id=\"T_782b7_row2_col0\" class=\"data row2 col0\" >0.7963</td>\n",
              "      <td id=\"T_782b7_row2_col1\" class=\"data row2 col1\" >0.8647</td>\n",
              "      <td id=\"T_782b7_row2_col2\" class=\"data row2 col2\" >0.6316</td>\n",
              "      <td id=\"T_782b7_row2_col3\" class=\"data row2 col3\" >0.7500</td>\n",
              "      <td id=\"T_782b7_row2_col4\" class=\"data row2 col4\" >0.6857</td>\n",
              "      <td id=\"T_782b7_row2_col5\" class=\"data row2 col5\" >0.5367</td>\n",
              "      <td id=\"T_782b7_row2_col6\" class=\"data row2 col6\" >0.5410</td>\n",
              "    </tr>\n",
              "    <tr>\n",
              "      <th id=\"T_782b7_level0_row3\" class=\"row_heading level0 row3\" >3</th>\n",
              "      <td id=\"T_782b7_row3_col0\" class=\"data row3 col0\" >0.7593</td>\n",
              "      <td id=\"T_782b7_row3_col1\" class=\"data row3 col1\" >0.7782</td>\n",
              "      <td id=\"T_782b7_row3_col2\" class=\"data row3 col2\" >0.5789</td>\n",
              "      <td id=\"T_782b7_row3_col3\" class=\"data row3 col3\" >0.6875</td>\n",
              "      <td id=\"T_782b7_row3_col4\" class=\"data row3 col4\" >0.6286</td>\n",
              "      <td id=\"T_782b7_row3_col5\" class=\"data row3 col5\" >0.4524</td>\n",
              "      <td id=\"T_782b7_row3_col6\" class=\"data row3 col6\" >0.4561</td>\n",
              "    </tr>\n",
              "    <tr>\n",
              "      <th id=\"T_782b7_level0_row4\" class=\"row_heading level0 row4\" >4</th>\n",
              "      <td id=\"T_782b7_row4_col0\" class=\"data row4 col0\" >0.8519</td>\n",
              "      <td id=\"T_782b7_row4_col1\" class=\"data row4 col1\" >0.8594</td>\n",
              "      <td id=\"T_782b7_row4_col2\" class=\"data row4 col2\" >0.6842</td>\n",
              "      <td id=\"T_782b7_row4_col3\" class=\"data row4 col3\" >0.8667</td>\n",
              "      <td id=\"T_782b7_row4_col4\" class=\"data row4 col4\" >0.7647</td>\n",
              "      <td id=\"T_782b7_row4_col5\" class=\"data row4 col5\" >0.6588</td>\n",
              "      <td id=\"T_782b7_row4_col6\" class=\"data row4 col6\" >0.6686</td>\n",
              "    </tr>\n",
              "    <tr>\n",
              "      <th id=\"T_782b7_level0_row5\" class=\"row_heading level0 row5\" >5</th>\n",
              "      <td id=\"T_782b7_row5_col0\" class=\"data row5 col0\" >0.7963</td>\n",
              "      <td id=\"T_782b7_row5_col1\" class=\"data row5 col1\" >0.8331</td>\n",
              "      <td id=\"T_782b7_row5_col2\" class=\"data row5 col2\" >0.6316</td>\n",
              "      <td id=\"T_782b7_row5_col3\" class=\"data row5 col3\" >0.7500</td>\n",
              "      <td id=\"T_782b7_row5_col4\" class=\"data row5 col4\" >0.6857</td>\n",
              "      <td id=\"T_782b7_row5_col5\" class=\"data row5 col5\" >0.5367</td>\n",
              "      <td id=\"T_782b7_row5_col6\" class=\"data row5 col6\" >0.5410</td>\n",
              "    </tr>\n",
              "    <tr>\n",
              "      <th id=\"T_782b7_level0_row6\" class=\"row_heading level0 row6\" >6</th>\n",
              "      <td id=\"T_782b7_row6_col0\" class=\"data row6 col0\" >0.6852</td>\n",
              "      <td id=\"T_782b7_row6_col1\" class=\"data row6 col1\" >0.7083</td>\n",
              "      <td id=\"T_782b7_row6_col2\" class=\"data row6 col2\" >0.4211</td>\n",
              "      <td id=\"T_782b7_row6_col3\" class=\"data row6 col3\" >0.5714</td>\n",
              "      <td id=\"T_782b7_row6_col4\" class=\"data row6 col4\" >0.4848</td>\n",
              "      <td id=\"T_782b7_row6_col5\" class=\"data row6 col5\" >0.2656</td>\n",
              "      <td id=\"T_782b7_row6_col6\" class=\"data row6 col6\" >0.2720</td>\n",
              "    </tr>\n",
              "    <tr>\n",
              "      <th id=\"T_782b7_level0_row7\" class=\"row_heading level0 row7\" >7</th>\n",
              "      <td id=\"T_782b7_row7_col0\" class=\"data row7 col0\" >0.7547</td>\n",
              "      <td id=\"T_782b7_row7_col1\" class=\"data row7 col1\" >0.7492</td>\n",
              "      <td id=\"T_782b7_row7_col2\" class=\"data row7 col2\" >0.5000</td>\n",
              "      <td id=\"T_782b7_row7_col3\" class=\"data row7 col3\" >0.6923</td>\n",
              "      <td id=\"T_782b7_row7_col4\" class=\"data row7 col4\" >0.5806</td>\n",
              "      <td id=\"T_782b7_row7_col5\" class=\"data row7 col5\" >0.4136</td>\n",
              "      <td id=\"T_782b7_row7_col6\" class=\"data row7 col6\" >0.4246</td>\n",
              "    </tr>\n",
              "    <tr>\n",
              "      <th id=\"T_782b7_level0_row8\" class=\"row_heading level0 row8\" >8</th>\n",
              "      <td id=\"T_782b7_row8_col0\" class=\"data row8 col0\" >0.7547</td>\n",
              "      <td id=\"T_782b7_row8_col1\" class=\"data row8 col1\" >0.8333</td>\n",
              "      <td id=\"T_782b7_row8_col2\" class=\"data row8 col2\" >0.5000</td>\n",
              "      <td id=\"T_782b7_row8_col3\" class=\"data row8 col3\" >0.6923</td>\n",
              "      <td id=\"T_782b7_row8_col4\" class=\"data row8 col4\" >0.5806</td>\n",
              "      <td id=\"T_782b7_row8_col5\" class=\"data row8 col5\" >0.4136</td>\n",
              "      <td id=\"T_782b7_row8_col6\" class=\"data row8 col6\" >0.4246</td>\n",
              "    </tr>\n",
              "    <tr>\n",
              "      <th id=\"T_782b7_level0_row9\" class=\"row_heading level0 row9\" >9</th>\n",
              "      <td id=\"T_782b7_row9_col0\" class=\"data row9 col0\" >0.8302</td>\n",
              "      <td id=\"T_782b7_row9_col1\" class=\"data row9 col1\" >0.8802</td>\n",
              "      <td id=\"T_782b7_row9_col2\" class=\"data row9 col2\" >0.5556</td>\n",
              "      <td id=\"T_782b7_row9_col3\" class=\"data row9 col3\" >0.9091</td>\n",
              "      <td id=\"T_782b7_row9_col4\" class=\"data row9 col4\" >0.6897</td>\n",
              "      <td id=\"T_782b7_row9_col5\" class=\"data row9 col5\" >0.5819</td>\n",
              "      <td id=\"T_782b7_row9_col6\" class=\"data row9 col6\" >0.6154</td>\n",
              "    </tr>\n",
              "    <tr>\n",
              "      <th id=\"T_782b7_level0_row10\" class=\"row_heading level0 row10\" >Mean</th>\n",
              "      <td id=\"T_782b7_row10_col0\" class=\"data row10 col0\" >0.7599</td>\n",
              "      <td id=\"T_782b7_row10_col1\" class=\"data row10 col1\" >0.8037</td>\n",
              "      <td id=\"T_782b7_row10_col2\" class=\"data row10 col2\" >0.5450</td>\n",
              "      <td id=\"T_782b7_row10_col3\" class=\"data row10 col3\" >0.7086</td>\n",
              "      <td id=\"T_782b7_row10_col4\" class=\"data row10 col4\" >0.6129</td>\n",
              "      <td id=\"T_782b7_row10_col5\" class=\"data row10 col5\" >0.4432</td>\n",
              "      <td id=\"T_782b7_row10_col6\" class=\"data row10 col6\" >0.4533</td>\n",
              "    </tr>\n",
              "    <tr>\n",
              "      <th id=\"T_782b7_level0_row11\" class=\"row_heading level0 row11\" >Std</th>\n",
              "      <td id=\"T_782b7_row11_col0\" class=\"data row11 col0\" >0.0597</td>\n",
              "      <td id=\"T_782b7_row11_col1\" class=\"data row11 col1\" >0.0549</td>\n",
              "      <td id=\"T_782b7_row11_col2\" class=\"data row11 col2\" >0.0841</td>\n",
              "      <td id=\"T_782b7_row11_col3\" class=\"data row11 col3\" >0.1156</td>\n",
              "      <td id=\"T_782b7_row11_col4\" class=\"data row11 col4\" >0.0881</td>\n",
              "      <td id=\"T_782b7_row11_col5\" class=\"data row11 col5\" >0.1306</td>\n",
              "      <td id=\"T_782b7_row11_col6\" class=\"data row11 col6\" >0.1338</td>\n",
              "    </tr>\n",
              "  </tbody>\n",
              "</table>\n"
            ]
          },
          "metadata": {}
        },
        {
          "output_type": "display_data",
          "data": {
            "text/plain": [
              "Processing:   0%|          | 0/7 [00:00<?, ?it/s]"
            ],
            "application/vnd.jupyter.widget-view+json": {
              "version_major": 2,
              "version_minor": 0,
              "model_id": "3cd4d26c8b064f55b0a1a81982ac3a82"
            }
          },
          "metadata": {
            "application/vnd.jupyter.widget-view+json": {
              "colab": {
                "custom_widget_manager": {
                  "url": "https://ssl.gstatic.com/colaboratory-static/widgets/colab-cdn-widget-manager/b3e629b1971e1542/manager.min.js"
                }
              }
            }
          }
        },
        {
          "output_type": "stream",
          "name": "stdout",
          "text": [
            "Fitting 10 folds for each of 10 candidates, totalling 100 fits\n"
          ]
        },
        {
          "output_type": "display_data",
          "data": {
            "text/plain": [
              "<IPython.core.display.HTML object>"
            ],
            "text/html": []
          },
          "metadata": {}
        },
        {
          "output_type": "display_data",
          "data": {
            "text/plain": [
              "<IPython.core.display.HTML object>"
            ],
            "text/html": []
          },
          "metadata": {}
        },
        {
          "output_type": "display_data",
          "data": {
            "text/plain": [
              "<pandas.io.formats.style.Styler at 0x78f78175d5a0>"
            ],
            "text/html": [
              "<style type=\"text/css\">\n",
              "#T_8cce4_row10_col0, #T_8cce4_row10_col1, #T_8cce4_row10_col2, #T_8cce4_row10_col3, #T_8cce4_row10_col4, #T_8cce4_row10_col5, #T_8cce4_row10_col6 {\n",
              "  background: yellow;\n",
              "}\n",
              "</style>\n",
              "<table id=\"T_8cce4\" class=\"dataframe\">\n",
              "  <thead>\n",
              "    <tr>\n",
              "      <th class=\"blank level0\" >&nbsp;</th>\n",
              "      <th id=\"T_8cce4_level0_col0\" class=\"col_heading level0 col0\" >Accuracy</th>\n",
              "      <th id=\"T_8cce4_level0_col1\" class=\"col_heading level0 col1\" >AUC</th>\n",
              "      <th id=\"T_8cce4_level0_col2\" class=\"col_heading level0 col2\" >Recall</th>\n",
              "      <th id=\"T_8cce4_level0_col3\" class=\"col_heading level0 col3\" >Prec.</th>\n",
              "      <th id=\"T_8cce4_level0_col4\" class=\"col_heading level0 col4\" >F1</th>\n",
              "      <th id=\"T_8cce4_level0_col5\" class=\"col_heading level0 col5\" >Kappa</th>\n",
              "      <th id=\"T_8cce4_level0_col6\" class=\"col_heading level0 col6\" >MCC</th>\n",
              "    </tr>\n",
              "    <tr>\n",
              "      <th class=\"index_name level0\" >Fold</th>\n",
              "      <th class=\"blank col0\" >&nbsp;</th>\n",
              "      <th class=\"blank col1\" >&nbsp;</th>\n",
              "      <th class=\"blank col2\" >&nbsp;</th>\n",
              "      <th class=\"blank col3\" >&nbsp;</th>\n",
              "      <th class=\"blank col4\" >&nbsp;</th>\n",
              "      <th class=\"blank col5\" >&nbsp;</th>\n",
              "      <th class=\"blank col6\" >&nbsp;</th>\n",
              "    </tr>\n",
              "  </thead>\n",
              "  <tbody>\n",
              "    <tr>\n",
              "      <th id=\"T_8cce4_level0_row0\" class=\"row_heading level0 row0\" >0</th>\n",
              "      <td id=\"T_8cce4_row0_col0\" class=\"data row0 col0\" >0.6667</td>\n",
              "      <td id=\"T_8cce4_row0_col1\" class=\"data row0 col1\" >0.7173</td>\n",
              "      <td id=\"T_8cce4_row0_col2\" class=\"data row0 col2\" >0.6316</td>\n",
              "      <td id=\"T_8cce4_row0_col3\" class=\"data row0 col3\" >0.5217</td>\n",
              "      <td id=\"T_8cce4_row0_col4\" class=\"data row0 col4\" >0.5714</td>\n",
              "      <td id=\"T_8cce4_row0_col5\" class=\"data row0 col5\" >0.3027</td>\n",
              "      <td id=\"T_8cce4_row0_col6\" class=\"data row0 col6\" >0.3064</td>\n",
              "    </tr>\n",
              "    <tr>\n",
              "      <th id=\"T_8cce4_level0_row1\" class=\"row_heading level0 row1\" >1</th>\n",
              "      <td id=\"T_8cce4_row1_col0\" class=\"data row1 col0\" >0.7778</td>\n",
              "      <td id=\"T_8cce4_row1_col1\" class=\"data row1 col1\" >0.8256</td>\n",
              "      <td id=\"T_8cce4_row1_col2\" class=\"data row1 col2\" >0.5263</td>\n",
              "      <td id=\"T_8cce4_row1_col3\" class=\"data row1 col3\" >0.7692</td>\n",
              "      <td id=\"T_8cce4_row1_col4\" class=\"data row1 col4\" >0.6250</td>\n",
              "      <td id=\"T_8cce4_row1_col5\" class=\"data row1 col5\" >0.4749</td>\n",
              "      <td id=\"T_8cce4_row1_col6\" class=\"data row1 col6\" >0.4921</td>\n",
              "    </tr>\n",
              "    <tr>\n",
              "      <th id=\"T_8cce4_level0_row2\" class=\"row_heading level0 row2\" >2</th>\n",
              "      <td id=\"T_8cce4_row2_col0\" class=\"data row2 col0\" >0.7593</td>\n",
              "      <td id=\"T_8cce4_row2_col1\" class=\"data row2 col1\" >0.8301</td>\n",
              "      <td id=\"T_8cce4_row2_col2\" class=\"data row2 col2\" >0.6316</td>\n",
              "      <td id=\"T_8cce4_row2_col3\" class=\"data row2 col3\" >0.6667</td>\n",
              "      <td id=\"T_8cce4_row2_col4\" class=\"data row2 col4\" >0.6486</td>\n",
              "      <td id=\"T_8cce4_row2_col5\" class=\"data row2 col5\" >0.4658</td>\n",
              "      <td id=\"T_8cce4_row2_col6\" class=\"data row2 col6\" >0.4661</td>\n",
              "    </tr>\n",
              "    <tr>\n",
              "      <th id=\"T_8cce4_level0_row3\" class=\"row_heading level0 row3\" >3</th>\n",
              "      <td id=\"T_8cce4_row3_col0\" class=\"data row3 col0\" >0.7037</td>\n",
              "      <td id=\"T_8cce4_row3_col1\" class=\"data row3 col1\" >0.7474</td>\n",
              "      <td id=\"T_8cce4_row3_col2\" class=\"data row3 col2\" >0.6316</td>\n",
              "      <td id=\"T_8cce4_row3_col3\" class=\"data row3 col3\" >0.5714</td>\n",
              "      <td id=\"T_8cce4_row3_col4\" class=\"data row3 col4\" >0.6000</td>\n",
              "      <td id=\"T_8cce4_row3_col5\" class=\"data row3 col5\" >0.3656</td>\n",
              "      <td id=\"T_8cce4_row3_col6\" class=\"data row3 col6\" >0.3668</td>\n",
              "    </tr>\n",
              "    <tr>\n",
              "      <th id=\"T_8cce4_level0_row4\" class=\"row_heading level0 row4\" >4</th>\n",
              "      <td id=\"T_8cce4_row4_col0\" class=\"data row4 col0\" >0.7963</td>\n",
              "      <td id=\"T_8cce4_row4_col1\" class=\"data row4 col1\" >0.8226</td>\n",
              "      <td id=\"T_8cce4_row4_col2\" class=\"data row4 col2\" >0.6316</td>\n",
              "      <td id=\"T_8cce4_row4_col3\" class=\"data row4 col3\" >0.7500</td>\n",
              "      <td id=\"T_8cce4_row4_col4\" class=\"data row4 col4\" >0.6857</td>\n",
              "      <td id=\"T_8cce4_row4_col5\" class=\"data row4 col5\" >0.5367</td>\n",
              "      <td id=\"T_8cce4_row4_col6\" class=\"data row4 col6\" >0.5410</td>\n",
              "    </tr>\n",
              "    <tr>\n",
              "      <th id=\"T_8cce4_level0_row5\" class=\"row_heading level0 row5\" >5</th>\n",
              "      <td id=\"T_8cce4_row5_col0\" class=\"data row5 col0\" >0.7222</td>\n",
              "      <td id=\"T_8cce4_row5_col1\" class=\"data row5 col1\" >0.8180</td>\n",
              "      <td id=\"T_8cce4_row5_col2\" class=\"data row5 col2\" >0.5789</td>\n",
              "      <td id=\"T_8cce4_row5_col3\" class=\"data row5 col3\" >0.6111</td>\n",
              "      <td id=\"T_8cce4_row5_col4\" class=\"data row5 col4\" >0.5946</td>\n",
              "      <td id=\"T_8cce4_row5_col5\" class=\"data row5 col5\" >0.3836</td>\n",
              "      <td id=\"T_8cce4_row5_col6\" class=\"data row5 col6\" >0.3839</td>\n",
              "    </tr>\n",
              "    <tr>\n",
              "      <th id=\"T_8cce4_level0_row6\" class=\"row_heading level0 row6\" >6</th>\n",
              "      <td id=\"T_8cce4_row6_col0\" class=\"data row6 col0\" >0.6481</td>\n",
              "      <td id=\"T_8cce4_row6_col1\" class=\"data row6 col1\" >0.6406</td>\n",
              "      <td id=\"T_8cce4_row6_col2\" class=\"data row6 col2\" >0.2632</td>\n",
              "      <td id=\"T_8cce4_row6_col3\" class=\"data row6 col3\" >0.5000</td>\n",
              "      <td id=\"T_8cce4_row6_col4\" class=\"data row6 col4\" >0.3448</td>\n",
              "      <td id=\"T_8cce4_row6_col5\" class=\"data row6 col5\" >0.1349</td>\n",
              "      <td id=\"T_8cce4_row6_col6\" class=\"data row6 col6\" >0.1479</td>\n",
              "    </tr>\n",
              "    <tr>\n",
              "      <th id=\"T_8cce4_level0_row7\" class=\"row_heading level0 row7\" >7</th>\n",
              "      <td id=\"T_8cce4_row7_col0\" class=\"data row7 col0\" >0.6981</td>\n",
              "      <td id=\"T_8cce4_row7_col1\" class=\"data row7 col1\" >0.7111</td>\n",
              "      <td id=\"T_8cce4_row7_col2\" class=\"data row7 col2\" >0.3333</td>\n",
              "      <td id=\"T_8cce4_row7_col3\" class=\"data row7 col3\" >0.6000</td>\n",
              "      <td id=\"T_8cce4_row7_col4\" class=\"data row7 col4\" >0.4286</td>\n",
              "      <td id=\"T_8cce4_row7_col5\" class=\"data row7 col5\" >0.2456</td>\n",
              "      <td id=\"T_8cce4_row7_col6\" class=\"data row7 col6\" >0.2651</td>\n",
              "    </tr>\n",
              "    <tr>\n",
              "      <th id=\"T_8cce4_level0_row8\" class=\"row_heading level0 row8\" >8</th>\n",
              "      <td id=\"T_8cce4_row8_col0\" class=\"data row8 col0\" >0.8113</td>\n",
              "      <td id=\"T_8cce4_row8_col1\" class=\"data row8 col1\" >0.8397</td>\n",
              "      <td id=\"T_8cce4_row8_col2\" class=\"data row8 col2\" >0.5556</td>\n",
              "      <td id=\"T_8cce4_row8_col3\" class=\"data row8 col3\" >0.8333</td>\n",
              "      <td id=\"T_8cce4_row8_col4\" class=\"data row8 col4\" >0.6667</td>\n",
              "      <td id=\"T_8cce4_row8_col5\" class=\"data row8 col5\" >0.5423</td>\n",
              "      <td id=\"T_8cce4_row8_col6\" class=\"data row8 col6\" >0.5640</td>\n",
              "    </tr>\n",
              "    <tr>\n",
              "      <th id=\"T_8cce4_level0_row9\" class=\"row_heading level0 row9\" >9</th>\n",
              "      <td id=\"T_8cce4_row9_col0\" class=\"data row9 col0\" >0.7358</td>\n",
              "      <td id=\"T_8cce4_row9_col1\" class=\"data row9 col1\" >0.7825</td>\n",
              "      <td id=\"T_8cce4_row9_col2\" class=\"data row9 col2\" >0.4444</td>\n",
              "      <td id=\"T_8cce4_row9_col3\" class=\"data row9 col3\" >0.6667</td>\n",
              "      <td id=\"T_8cce4_row9_col4\" class=\"data row9 col4\" >0.5333</td>\n",
              "      <td id=\"T_8cce4_row9_col5\" class=\"data row9 col5\" >0.3592</td>\n",
              "      <td id=\"T_8cce4_row9_col6\" class=\"data row9 col6\" >0.3736</td>\n",
              "    </tr>\n",
              "    <tr>\n",
              "      <th id=\"T_8cce4_level0_row10\" class=\"row_heading level0 row10\" >Mean</th>\n",
              "      <td id=\"T_8cce4_row10_col0\" class=\"data row10 col0\" >0.7319</td>\n",
              "      <td id=\"T_8cce4_row10_col1\" class=\"data row10 col1\" >0.7735</td>\n",
              "      <td id=\"T_8cce4_row10_col2\" class=\"data row10 col2\" >0.5228</td>\n",
              "      <td id=\"T_8cce4_row10_col3\" class=\"data row10 col3\" >0.6490</td>\n",
              "      <td id=\"T_8cce4_row10_col4\" class=\"data row10 col4\" >0.5699</td>\n",
              "      <td id=\"T_8cce4_row10_col5\" class=\"data row10 col5\" >0.3811</td>\n",
              "      <td id=\"T_8cce4_row10_col6\" class=\"data row10 col6\" >0.3907</td>\n",
              "    </tr>\n",
              "    <tr>\n",
              "      <th id=\"T_8cce4_level0_row11\" class=\"row_heading level0 row11\" >Std</th>\n",
              "      <td id=\"T_8cce4_row11_col0\" class=\"data row11 col0\" >0.0516</td>\n",
              "      <td id=\"T_8cce4_row11_col1\" class=\"data row11 col1\" >0.0634</td>\n",
              "      <td id=\"T_8cce4_row11_col2\" class=\"data row11 col2\" >0.1269</td>\n",
              "      <td id=\"T_8cce4_row11_col3\" class=\"data row11 col3\" >0.1037</td>\n",
              "      <td id=\"T_8cce4_row11_col4\" class=\"data row11 col4\" >0.1027</td>\n",
              "      <td id=\"T_8cce4_row11_col5\" class=\"data row11 col5\" >0.1233</td>\n",
              "      <td id=\"T_8cce4_row11_col6\" class=\"data row11 col6\" >0.1230</td>\n",
              "    </tr>\n",
              "  </tbody>\n",
              "</table>\n"
            ]
          },
          "metadata": {}
        },
        {
          "output_type": "display_data",
          "data": {
            "text/plain": [
              "Processing:   0%|          | 0/7 [00:00<?, ?it/s]"
            ],
            "application/vnd.jupyter.widget-view+json": {
              "version_major": 2,
              "version_minor": 0,
              "model_id": "b1ad4004db3244c5b0a2129d61a0c57e"
            }
          },
          "metadata": {
            "application/vnd.jupyter.widget-view+json": {
              "colab": {
                "custom_widget_manager": {
                  "url": "https://ssl.gstatic.com/colaboratory-static/widgets/colab-cdn-widget-manager/b3e629b1971e1542/manager.min.js"
                }
              }
            }
          }
        },
        {
          "output_type": "stream",
          "name": "stdout",
          "text": [
            "Fitting 10 folds for each of 10 candidates, totalling 100 fits\n"
          ]
        },
        {
          "output_type": "display_data",
          "data": {
            "text/plain": [
              "<IPython.core.display.HTML object>"
            ],
            "text/html": []
          },
          "metadata": {}
        },
        {
          "output_type": "stream",
          "name": "stdout",
          "text": [
            "Original model was better than the tuned model, hence it will be returned. NOTE: The display metrics are for the tuned model (not the original one).\n"
          ]
        }
      ]
    },
    {
      "cell_type": "code",
      "source": [
        "stack_model = stack_models(estimator_list = top5, meta_model = top5[0],optimize = 'Accuracy')"
      ],
      "metadata": {
        "id": "Mu1lsH_izEi_",
        "outputId": "21870f9f-a7f3-43bf-f49a-06c48f865d22",
        "colab": {
          "base_uri": "https://localhost:8080/",
          "height": 457,
          "referenced_widgets": [
            "9dc481b1ebc24c2fb2563028436fa637",
            "6bcf19516d2e434cb4c33ee5554919ab",
            "1f01f3a91b424ac1bde4a5547b2583db",
            "813b6176c2b440b69cfc6ba8c2f5907f",
            "ba15e0688e294d67bb26e53bf08dcda2",
            "117222a8698d450d9348553737f451e6",
            "d1759994e578476bafe76fcbd2c0e11a",
            "ae6242f9f519482fbb2b628df32e7df0",
            "8a84f3ae55e740bb92e1f95310fe0744",
            "ed4afca58276456a80526d205aca46e5",
            "5c6c34c2ab4d48a8a062af7e0958cc85"
          ]
        }
      },
      "execution_count": 35,
      "outputs": [
        {
          "output_type": "display_data",
          "data": {
            "text/plain": [
              "<IPython.core.display.HTML object>"
            ],
            "text/html": []
          },
          "metadata": {}
        },
        {
          "output_type": "display_data",
          "data": {
            "text/plain": [
              "<pandas.io.formats.style.Styler at 0x78f790752020>"
            ],
            "text/html": [
              "<style type=\"text/css\">\n",
              "#T_d5453_row10_col0, #T_d5453_row10_col1, #T_d5453_row10_col2, #T_d5453_row10_col3, #T_d5453_row10_col4, #T_d5453_row10_col5, #T_d5453_row10_col6 {\n",
              "  background: yellow;\n",
              "}\n",
              "</style>\n",
              "<table id=\"T_d5453\" class=\"dataframe\">\n",
              "  <thead>\n",
              "    <tr>\n",
              "      <th class=\"blank level0\" >&nbsp;</th>\n",
              "      <th id=\"T_d5453_level0_col0\" class=\"col_heading level0 col0\" >Accuracy</th>\n",
              "      <th id=\"T_d5453_level0_col1\" class=\"col_heading level0 col1\" >AUC</th>\n",
              "      <th id=\"T_d5453_level0_col2\" class=\"col_heading level0 col2\" >Recall</th>\n",
              "      <th id=\"T_d5453_level0_col3\" class=\"col_heading level0 col3\" >Prec.</th>\n",
              "      <th id=\"T_d5453_level0_col4\" class=\"col_heading level0 col4\" >F1</th>\n",
              "      <th id=\"T_d5453_level0_col5\" class=\"col_heading level0 col5\" >Kappa</th>\n",
              "      <th id=\"T_d5453_level0_col6\" class=\"col_heading level0 col6\" >MCC</th>\n",
              "    </tr>\n",
              "    <tr>\n",
              "      <th class=\"index_name level0\" >Fold</th>\n",
              "      <th class=\"blank col0\" >&nbsp;</th>\n",
              "      <th class=\"blank col1\" >&nbsp;</th>\n",
              "      <th class=\"blank col2\" >&nbsp;</th>\n",
              "      <th class=\"blank col3\" >&nbsp;</th>\n",
              "      <th class=\"blank col4\" >&nbsp;</th>\n",
              "      <th class=\"blank col5\" >&nbsp;</th>\n",
              "      <th class=\"blank col6\" >&nbsp;</th>\n",
              "    </tr>\n",
              "  </thead>\n",
              "  <tbody>\n",
              "    <tr>\n",
              "      <th id=\"T_d5453_level0_row0\" class=\"row_heading level0 row0\" >0</th>\n",
              "      <td id=\"T_d5453_row0_col0\" class=\"data row0 col0\" >0.6667</td>\n",
              "      <td id=\"T_d5453_row0_col1\" class=\"data row0 col1\" >0.7699</td>\n",
              "      <td id=\"T_d5453_row0_col2\" class=\"data row0 col2\" >0.5789</td>\n",
              "      <td id=\"T_d5453_row0_col3\" class=\"data row0 col3\" >0.5238</td>\n",
              "      <td id=\"T_d5453_row0_col4\" class=\"data row0 col4\" >0.5500</td>\n",
              "      <td id=\"T_d5453_row0_col5\" class=\"data row0 col5\" >0.2863</td>\n",
              "      <td id=\"T_d5453_row0_col6\" class=\"data row0 col6\" >0.2872</td>\n",
              "    </tr>\n",
              "    <tr>\n",
              "      <th id=\"T_d5453_level0_row1\" class=\"row_heading level0 row1\" >1</th>\n",
              "      <td id=\"T_d5453_row1_col0\" class=\"data row1 col0\" >0.8333</td>\n",
              "      <td id=\"T_d5453_row1_col1\" class=\"data row1 col1\" >0.9053</td>\n",
              "      <td id=\"T_d5453_row1_col2\" class=\"data row1 col2\" >0.6842</td>\n",
              "      <td id=\"T_d5453_row1_col3\" class=\"data row1 col3\" >0.8125</td>\n",
              "      <td id=\"T_d5453_row1_col4\" class=\"data row1 col4\" >0.7429</td>\n",
              "      <td id=\"T_d5453_row1_col5\" class=\"data row1 col5\" >0.6209</td>\n",
              "      <td id=\"T_d5453_row1_col6\" class=\"data row1 col6\" >0.6259</td>\n",
              "    </tr>\n",
              "    <tr>\n",
              "      <th id=\"T_d5453_level0_row2\" class=\"row_heading level0 row2\" >2</th>\n",
              "      <td id=\"T_d5453_row2_col0\" class=\"data row2 col0\" >0.7593</td>\n",
              "      <td id=\"T_d5453_row2_col1\" class=\"data row2 col1\" >0.8632</td>\n",
              "      <td id=\"T_d5453_row2_col2\" class=\"data row2 col2\" >0.5789</td>\n",
              "      <td id=\"T_d5453_row2_col3\" class=\"data row2 col3\" >0.6875</td>\n",
              "      <td id=\"T_d5453_row2_col4\" class=\"data row2 col4\" >0.6286</td>\n",
              "      <td id=\"T_d5453_row2_col5\" class=\"data row2 col5\" >0.4524</td>\n",
              "      <td id=\"T_d5453_row2_col6\" class=\"data row2 col6\" >0.4561</td>\n",
              "    </tr>\n",
              "    <tr>\n",
              "      <th id=\"T_d5453_level0_row3\" class=\"row_heading level0 row3\" >3</th>\n",
              "      <td id=\"T_d5453_row3_col0\" class=\"data row3 col0\" >0.7222</td>\n",
              "      <td id=\"T_d5453_row3_col1\" class=\"data row3 col1\" >0.7865</td>\n",
              "      <td id=\"T_d5453_row3_col2\" class=\"data row3 col2\" >0.5789</td>\n",
              "      <td id=\"T_d5453_row3_col3\" class=\"data row3 col3\" >0.6111</td>\n",
              "      <td id=\"T_d5453_row3_col4\" class=\"data row3 col4\" >0.5946</td>\n",
              "      <td id=\"T_d5453_row3_col5\" class=\"data row3 col5\" >0.3836</td>\n",
              "      <td id=\"T_d5453_row3_col6\" class=\"data row3 col6\" >0.3839</td>\n",
              "    </tr>\n",
              "    <tr>\n",
              "      <th id=\"T_d5453_level0_row4\" class=\"row_heading level0 row4\" >4</th>\n",
              "      <td id=\"T_d5453_row4_col0\" class=\"data row4 col0\" >0.7963</td>\n",
              "      <td id=\"T_d5453_row4_col1\" class=\"data row4 col1\" >0.8301</td>\n",
              "      <td id=\"T_d5453_row4_col2\" class=\"data row4 col2\" >0.6316</td>\n",
              "      <td id=\"T_d5453_row4_col3\" class=\"data row4 col3\" >0.7500</td>\n",
              "      <td id=\"T_d5453_row4_col4\" class=\"data row4 col4\" >0.6857</td>\n",
              "      <td id=\"T_d5453_row4_col5\" class=\"data row4 col5\" >0.5367</td>\n",
              "      <td id=\"T_d5453_row4_col6\" class=\"data row4 col6\" >0.5410</td>\n",
              "    </tr>\n",
              "    <tr>\n",
              "      <th id=\"T_d5453_level0_row5\" class=\"row_heading level0 row5\" >5</th>\n",
              "      <td id=\"T_d5453_row5_col0\" class=\"data row5 col0\" >0.7222</td>\n",
              "      <td id=\"T_d5453_row5_col1\" class=\"data row5 col1\" >0.7549</td>\n",
              "      <td id=\"T_d5453_row5_col2\" class=\"data row5 col2\" >0.5263</td>\n",
              "      <td id=\"T_d5453_row5_col3\" class=\"data row5 col3\" >0.6250</td>\n",
              "      <td id=\"T_d5453_row5_col4\" class=\"data row5 col4\" >0.5714</td>\n",
              "      <td id=\"T_d5453_row5_col5\" class=\"data row5 col5\" >0.3682</td>\n",
              "      <td id=\"T_d5453_row5_col6\" class=\"data row5 col6\" >0.3711</td>\n",
              "    </tr>\n",
              "    <tr>\n",
              "      <th id=\"T_d5453_level0_row6\" class=\"row_heading level0 row6\" >6</th>\n",
              "      <td id=\"T_d5453_row6_col0\" class=\"data row6 col0\" >0.7037</td>\n",
              "      <td id=\"T_d5453_row6_col1\" class=\"data row6 col1\" >0.7203</td>\n",
              "      <td id=\"T_d5453_row6_col2\" class=\"data row6 col2\" >0.3684</td>\n",
              "      <td id=\"T_d5453_row6_col3\" class=\"data row6 col3\" >0.6364</td>\n",
              "      <td id=\"T_d5453_row6_col4\" class=\"data row6 col4\" >0.4667</td>\n",
              "      <td id=\"T_d5453_row6_col5\" class=\"data row6 col5\" >0.2812</td>\n",
              "      <td id=\"T_d5453_row6_col6\" class=\"data row6 col6\" >0.3013</td>\n",
              "    </tr>\n",
              "    <tr>\n",
              "      <th id=\"T_d5453_level0_row7\" class=\"row_heading level0 row7\" >7</th>\n",
              "      <td id=\"T_d5453_row7_col0\" class=\"data row7 col0\" >0.7736</td>\n",
              "      <td id=\"T_d5453_row7_col1\" class=\"data row7 col1\" >0.8016</td>\n",
              "      <td id=\"T_d5453_row7_col2\" class=\"data row7 col2\" >0.5556</td>\n",
              "      <td id=\"T_d5453_row7_col3\" class=\"data row7 col3\" >0.7143</td>\n",
              "      <td id=\"T_d5453_row7_col4\" class=\"data row7 col4\" >0.6250</td>\n",
              "      <td id=\"T_d5453_row7_col5\" class=\"data row7 col5\" >0.4664</td>\n",
              "      <td id=\"T_d5453_row7_col6\" class=\"data row7 col6\" >0.4740</td>\n",
              "    </tr>\n",
              "    <tr>\n",
              "      <th id=\"T_d5453_level0_row8\" class=\"row_heading level0 row8\" >8</th>\n",
              "      <td id=\"T_d5453_row8_col0\" class=\"data row8 col0\" >0.8113</td>\n",
              "      <td id=\"T_d5453_row8_col1\" class=\"data row8 col1\" >0.8698</td>\n",
              "      <td id=\"T_d5453_row8_col2\" class=\"data row8 col2\" >0.5556</td>\n",
              "      <td id=\"T_d5453_row8_col3\" class=\"data row8 col3\" >0.8333</td>\n",
              "      <td id=\"T_d5453_row8_col4\" class=\"data row8 col4\" >0.6667</td>\n",
              "      <td id=\"T_d5453_row8_col5\" class=\"data row8 col5\" >0.5423</td>\n",
              "      <td id=\"T_d5453_row8_col6\" class=\"data row8 col6\" >0.5640</td>\n",
              "    </tr>\n",
              "    <tr>\n",
              "      <th id=\"T_d5453_level0_row9\" class=\"row_heading level0 row9\" >9</th>\n",
              "      <td id=\"T_d5453_row9_col0\" class=\"data row9 col0\" >0.8491</td>\n",
              "      <td id=\"T_d5453_row9_col1\" class=\"data row9 col1\" >0.8968</td>\n",
              "      <td id=\"T_d5453_row9_col2\" class=\"data row9 col2\" >0.6111</td>\n",
              "      <td id=\"T_d5453_row9_col3\" class=\"data row9 col3\" >0.9167</td>\n",
              "      <td id=\"T_d5453_row9_col4\" class=\"data row9 col4\" >0.7333</td>\n",
              "      <td id=\"T_d5453_row9_col5\" class=\"data row9 col5\" >0.6339</td>\n",
              "      <td id=\"T_d5453_row9_col6\" class=\"data row9 col6\" >0.6592</td>\n",
              "    </tr>\n",
              "    <tr>\n",
              "      <th id=\"T_d5453_level0_row10\" class=\"row_heading level0 row10\" >Mean</th>\n",
              "      <td id=\"T_d5453_row10_col0\" class=\"data row10 col0\" >0.7638</td>\n",
              "      <td id=\"T_d5453_row10_col1\" class=\"data row10 col1\" >0.8198</td>\n",
              "      <td id=\"T_d5453_row10_col2\" class=\"data row10 col2\" >0.5670</td>\n",
              "      <td id=\"T_d5453_row10_col3\" class=\"data row10 col3\" >0.7111</td>\n",
              "      <td id=\"T_d5453_row10_col4\" class=\"data row10 col4\" >0.6265</td>\n",
              "      <td id=\"T_d5453_row10_col5\" class=\"data row10 col5\" >0.4572</td>\n",
              "      <td id=\"T_d5453_row10_col6\" class=\"data row10 col6\" >0.4664</td>\n",
              "    </tr>\n",
              "    <tr>\n",
              "      <th id=\"T_d5453_level0_row11\" class=\"row_heading level0 row11\" >Std</th>\n",
              "      <td id=\"T_d5453_row11_col0\" class=\"data row11 col0\" >0.0566</td>\n",
              "      <td id=\"T_d5453_row11_col1\" class=\"data row11 col1\" >0.0598</td>\n",
              "      <td id=\"T_d5453_row11_col2\" class=\"data row11 col2\" >0.0785</td>\n",
              "      <td id=\"T_d5453_row11_col3\" class=\"data row11 col3\" >0.1130</td>\n",
              "      <td id=\"T_d5453_row11_col4\" class=\"data row11 col4\" >0.0809</td>\n",
              "      <td id=\"T_d5453_row11_col5\" class=\"data row11 col5\" >0.1205</td>\n",
              "      <td id=\"T_d5453_row11_col6\" class=\"data row11 col6\" >0.1237</td>\n",
              "    </tr>\n",
              "  </tbody>\n",
              "</table>\n"
            ]
          },
          "metadata": {}
        },
        {
          "output_type": "display_data",
          "data": {
            "text/plain": [
              "Processing:   0%|          | 0/6 [00:00<?, ?it/s]"
            ],
            "application/vnd.jupyter.widget-view+json": {
              "version_major": 2,
              "version_minor": 0,
              "model_id": "9dc481b1ebc24c2fb2563028436fa637"
            }
          },
          "metadata": {
            "application/vnd.jupyter.widget-view+json": {
              "colab": {
                "custom_widget_manager": {
                  "url": "https://ssl.gstatic.com/colaboratory-static/widgets/colab-cdn-widget-manager/b3e629b1971e1542/manager.min.js"
                }
              }
            }
          }
        },
        {
          "output_type": "display_data",
          "data": {
            "text/plain": [
              "<IPython.core.display.HTML object>"
            ],
            "text/html": []
          },
          "metadata": {}
        }
      ]
    },
    {
      "cell_type": "code",
      "source": [
        "import matplotlib.pyplot as plt\n",
        "\n",
        "plt.figure(figsize=(8, 8))\n",
        "plot_model(stack_model, plot='boundary')"
      ],
      "metadata": {
        "id": "hbSqyNxK2Tnv",
        "outputId": "96163cf1-a3a8-4d9c-b864-4c106255e47f",
        "colab": {
          "base_uri": "https://localhost:8080/",
          "height": 696
        }
      },
      "execution_count": 36,
      "outputs": [
        {
          "output_type": "display_data",
          "data": {
            "text/plain": [
              "<IPython.core.display.HTML object>"
            ],
            "text/html": []
          },
          "metadata": {}
        },
        {
          "output_type": "display_data",
          "data": {
            "text/plain": [
              "<Figure size 800x800 with 1 Axes>"
            ],
            "image/png": "[encoded data removed]"
          },
          "metadata": {}
        }
      ]
    },
    {
      "cell_type": "code",
      "source": [
        "from sklearn.metrics import confusion_matrix, precision_score, recall_score, f1_score, roc_auc_score\n",
        "\n",
        "def get_clf_eval(y_test, pred=None, pred_proba=None):\n",
        "    confusion = confusion_matrix( y_test, pred)\n",
        "    accuracy = accuracy_score(y_test , pred)\n",
        "    precision = precision_score(y_test , pred)\n",
        "    recall = recall_score(y_test , pred)\n",
        "    f1 = f1_score(y_test,pred)\n",
        "\n",
        "    roc_auc = roc_auc_score(y_test, pred_proba)\n",
        "\n",
        "    # ROC-AUC print\n",
        "    print('accuracy: {0:.4f}, precision: {1:.4f}, recall: {2:.4f},\\\n",
        "    F1: {3:.4f}, AUC:{4:.4f}'.format(accuracy, precision, recall, f1, roc_auc))\n",
        "    return confusion"
      ],
      "metadata": {
        "id": "Sct-xi_R3yc1"
      },
      "execution_count": 37,
      "outputs": []
    },
    {
      "cell_type": "code",
      "source": [
        "pred = stack_model.predict(X_test_std)\n",
        "pred_proba = stack_model.predict_proba(X_test_std)[:,1]\n",
        "confusion_stack = get_clf_eval(y_test,pred,pred_proba)"
      ],
      "metadata": {
        "id": "de9rgGRN2ey2",
        "outputId": "e9b9caef-ed5c-45f9-c5e7-bb867afcbb80",
        "colab": {
          "base_uri": "https://localhost:8080/"
        }
      },
      "execution_count": 38,
      "outputs": [
        {
          "output_type": "stream",
          "name": "stdout",
          "text": [
            "accuracy: 0.6494, precision: 0.0000, recall: 0.0000,    F1: 0.0000, AUC:0.7037\n"
          ]
        }
      ]
    },
    {
      "cell_type": "code",
      "source": [
        "import seaborn as sns\n",
        "\n",
        "plt.figure(figsize=(8, 6))\n",
        "ax = sns.heatmap(confusion_stack, cmap = 'YlGnBu',annot = True, fmt='d')\n",
        "ax.set_title('Confusion Matrix (Stacking)')"
      ],
      "metadata": {
        "id": "dSImHbTi2smb",
        "outputId": "0454efeb-6c0b-4c3e-b577-74dea5bcfda1",
        "colab": {
          "base_uri": "https://localhost:8080/",
          "height": 560
        }
      },
      "execution_count": 39,
      "outputs": [
        {
          "output_type": "execute_result",
          "data": {
            "text/plain": [
              "Text(0.5, 1.0, 'Confusion Matrix (Stacking)')"
            ]
          },
          "metadata": {},
          "execution_count": 39
        },
        {
          "output_type": "display_data",
          "data": {
            "text/plain": [
              "<Figure size 800x600 with 2 Axes>"
            ],
            "image/png": "[encoded data removed]"
          },
          "metadata": {}
        }
      ]
    },
    {
      "cell_type": "code",
      "source": [
        "# lakukan soft voting\n",
        "\n",
        "blend_soft = blend_models(estimator_list = top5, optimize = 'Accuracy',method = 'soft')"
      ],
      "metadata": {
        "id": "VU2sxQMQ2zor",
        "outputId": "e309cb58-f89e-4149-89df-40074237a203",
        "colab": {
          "base_uri": "https://localhost:8080/",
          "height": 457,
          "referenced_widgets": [
            "2b5f6a4390ac4a21932de6cf0cfb701c",
            "036613b136ca417a8d03c06fcab30dcf",
            "b33a9b4790274d15a50fecb9de9d50a2",
            "69cbe413aa184097b928cf228557eec1",
            "7ecd1c5975ab4bc282e86e99ef6dbc44",
            "9e190d4a02ae448fa612a6314f04ed96",
            "cf3acb415f934015b10138597a670569",
            "c5f1595aa6064fd0b00baf8dfbb30642",
            "90026972240445b9849e62891409b823",
            "e3606ade73544c18be8c99e4a9e0bc98",
            "15dc37c5e8574c0592341827e6bcb55d"
          ]
        }
      },
      "execution_count": 40,
      "outputs": [
        {
          "output_type": "display_data",
          "data": {
            "text/plain": [
              "<IPython.core.display.HTML object>"
            ],
            "text/html": []
          },
          "metadata": {}
        },
        {
          "output_type": "display_data",
          "data": {
            "text/plain": [
              "<pandas.io.formats.style.Styler at 0x78f7951e6ec0>"
            ],
            "text/html": [
              "<style type=\"text/css\">\n",
              "#T_fbb90_row10_col0, #T_fbb90_row10_col1, #T_fbb90_row10_col2, #T_fbb90_row10_col3, #T_fbb90_row10_col4, #T_fbb90_row10_col5, #T_fbb90_row10_col6 {\n",
              "  background: yellow;\n",
              "}\n",
              "</style>\n",
              "<table id=\"T_fbb90\" class=\"dataframe\">\n",
              "  <thead>\n",
              "    <tr>\n",
              "      <th class=\"blank level0\" >&nbsp;</th>\n",
              "      <th id=\"T_fbb90_level0_col0\" class=\"col_heading level0 col0\" >Accuracy</th>\n",
              "      <th id=\"T_fbb90_level0_col1\" class=\"col_heading level0 col1\" >AUC</th>\n",
              "      <th id=\"T_fbb90_level0_col2\" class=\"col_heading level0 col2\" >Recall</th>\n",
              "      <th id=\"T_fbb90_level0_col3\" class=\"col_heading level0 col3\" >Prec.</th>\n",
              "      <th id=\"T_fbb90_level0_col4\" class=\"col_heading level0 col4\" >F1</th>\n",
              "      <th id=\"T_fbb90_level0_col5\" class=\"col_heading level0 col5\" >Kappa</th>\n",
              "      <th id=\"T_fbb90_level0_col6\" class=\"col_heading level0 col6\" >MCC</th>\n",
              "    </tr>\n",
              "    <tr>\n",
              "      <th class=\"index_name level0\" >Fold</th>\n",
              "      <th class=\"blank col0\" >&nbsp;</th>\n",
              "      <th class=\"blank col1\" >&nbsp;</th>\n",
              "      <th class=\"blank col2\" >&nbsp;</th>\n",
              "      <th class=\"blank col3\" >&nbsp;</th>\n",
              "      <th class=\"blank col4\" >&nbsp;</th>\n",
              "      <th class=\"blank col5\" >&nbsp;</th>\n",
              "      <th class=\"blank col6\" >&nbsp;</th>\n",
              "    </tr>\n",
              "  </thead>\n",
              "  <tbody>\n",
              "    <tr>\n",
              "      <th id=\"T_fbb90_level0_row0\" class=\"row_heading level0 row0\" >0</th>\n",
              "      <td id=\"T_fbb90_row0_col0\" class=\"data row0 col0\" >0.6481</td>\n",
              "      <td id=\"T_fbb90_row0_col1\" class=\"data row0 col1\" >0.7729</td>\n",
              "      <td id=\"T_fbb90_row0_col2\" class=\"data row0 col2\" >0.5789</td>\n",
              "      <td id=\"T_fbb90_row0_col3\" class=\"data row0 col3\" >0.5000</td>\n",
              "      <td id=\"T_fbb90_row0_col4\" class=\"data row0 col4\" >0.5366</td>\n",
              "      <td id=\"T_fbb90_row0_col5\" class=\"data row0 col5\" >0.2554</td>\n",
              "      <td id=\"T_fbb90_row0_col6\" class=\"data row0 col6\" >0.2572</td>\n",
              "    </tr>\n",
              "    <tr>\n",
              "      <th id=\"T_fbb90_level0_row1\" class=\"row_heading level0 row1\" >1</th>\n",
              "      <td id=\"T_fbb90_row1_col0\" class=\"data row1 col0\" >0.7963</td>\n",
              "      <td id=\"T_fbb90_row1_col1\" class=\"data row1 col1\" >0.8842</td>\n",
              "      <td id=\"T_fbb90_row1_col2\" class=\"data row1 col2\" >0.6316</td>\n",
              "      <td id=\"T_fbb90_row1_col3\" class=\"data row1 col3\" >0.7500</td>\n",
              "      <td id=\"T_fbb90_row1_col4\" class=\"data row1 col4\" >0.6857</td>\n",
              "      <td id=\"T_fbb90_row1_col5\" class=\"data row1 col5\" >0.5367</td>\n",
              "      <td id=\"T_fbb90_row1_col6\" class=\"data row1 col6\" >0.5410</td>\n",
              "    </tr>\n",
              "    <tr>\n",
              "      <th id=\"T_fbb90_level0_row2\" class=\"row_heading level0 row2\" >2</th>\n",
              "      <td id=\"T_fbb90_row2_col0\" class=\"data row2 col0\" >0.7593</td>\n",
              "      <td id=\"T_fbb90_row2_col1\" class=\"data row2 col1\" >0.8707</td>\n",
              "      <td id=\"T_fbb90_row2_col2\" class=\"data row2 col2\" >0.5789</td>\n",
              "      <td id=\"T_fbb90_row2_col3\" class=\"data row2 col3\" >0.6875</td>\n",
              "      <td id=\"T_fbb90_row2_col4\" class=\"data row2 col4\" >0.6286</td>\n",
              "      <td id=\"T_fbb90_row2_col5\" class=\"data row2 col5\" >0.4524</td>\n",
              "      <td id=\"T_fbb90_row2_col6\" class=\"data row2 col6\" >0.4561</td>\n",
              "    </tr>\n",
              "    <tr>\n",
              "      <th id=\"T_fbb90_level0_row3\" class=\"row_heading level0 row3\" >3</th>\n",
              "      <td id=\"T_fbb90_row3_col0\" class=\"data row3 col0\" >0.7037</td>\n",
              "      <td id=\"T_fbb90_row3_col1\" class=\"data row3 col1\" >0.7789</td>\n",
              "      <td id=\"T_fbb90_row3_col2\" class=\"data row3 col2\" >0.5263</td>\n",
              "      <td id=\"T_fbb90_row3_col3\" class=\"data row3 col3\" >0.5882</td>\n",
              "      <td id=\"T_fbb90_row3_col4\" class=\"data row3 col4\" >0.5556</td>\n",
              "      <td id=\"T_fbb90_row3_col5\" class=\"data row3 col5\" >0.3344</td>\n",
              "      <td id=\"T_fbb90_row3_col6\" class=\"data row3 col6\" >0.3355</td>\n",
              "    </tr>\n",
              "    <tr>\n",
              "      <th id=\"T_fbb90_level0_row4\" class=\"row_heading level0 row4\" >4</th>\n",
              "      <td id=\"T_fbb90_row4_col0\" class=\"data row4 col0\" >0.7593</td>\n",
              "      <td id=\"T_fbb90_row4_col1\" class=\"data row4 col1\" >0.8617</td>\n",
              "      <td id=\"T_fbb90_row4_col2\" class=\"data row4 col2\" >0.5789</td>\n",
              "      <td id=\"T_fbb90_row4_col3\" class=\"data row4 col3\" >0.6875</td>\n",
              "      <td id=\"T_fbb90_row4_col4\" class=\"data row4 col4\" >0.6286</td>\n",
              "      <td id=\"T_fbb90_row4_col5\" class=\"data row4 col5\" >0.4524</td>\n",
              "      <td id=\"T_fbb90_row4_col6\" class=\"data row4 col6\" >0.4561</td>\n",
              "    </tr>\n",
              "    <tr>\n",
              "      <th id=\"T_fbb90_level0_row5\" class=\"row_heading level0 row5\" >5</th>\n",
              "      <td id=\"T_fbb90_row5_col0\" class=\"data row5 col0\" >0.7407</td>\n",
              "      <td id=\"T_fbb90_row5_col1\" class=\"data row5 col1\" >0.8180</td>\n",
              "      <td id=\"T_fbb90_row5_col2\" class=\"data row5 col2\" >0.5263</td>\n",
              "      <td id=\"T_fbb90_row5_col3\" class=\"data row5 col3\" >0.6667</td>\n",
              "      <td id=\"T_fbb90_row5_col4\" class=\"data row5 col4\" >0.5882</td>\n",
              "      <td id=\"T_fbb90_row5_col5\" class=\"data row5 col5\" >0.4028</td>\n",
              "      <td id=\"T_fbb90_row5_col6\" class=\"data row5 col6\" >0.4088</td>\n",
              "    </tr>\n",
              "    <tr>\n",
              "      <th id=\"T_fbb90_level0_row6\" class=\"row_heading level0 row6\" >6</th>\n",
              "      <td id=\"T_fbb90_row6_col0\" class=\"data row6 col0\" >0.6852</td>\n",
              "      <td id=\"T_fbb90_row6_col1\" class=\"data row6 col1\" >0.6977</td>\n",
              "      <td id=\"T_fbb90_row6_col2\" class=\"data row6 col2\" >0.3158</td>\n",
              "      <td id=\"T_fbb90_row6_col3\" class=\"data row6 col3\" >0.6000</td>\n",
              "      <td id=\"T_fbb90_row6_col4\" class=\"data row6 col4\" >0.4138</td>\n",
              "      <td id=\"T_fbb90_row6_col5\" class=\"data row6 col5\" >0.2260</td>\n",
              "      <td id=\"T_fbb90_row6_col6\" class=\"data row6 col6\" >0.2477</td>\n",
              "    </tr>\n",
              "    <tr>\n",
              "      <th id=\"T_fbb90_level0_row7\" class=\"row_heading level0 row7\" >7</th>\n",
              "      <td id=\"T_fbb90_row7_col0\" class=\"data row7 col0\" >0.7170</td>\n",
              "      <td id=\"T_fbb90_row7_col1\" class=\"data row7 col1\" >0.8000</td>\n",
              "      <td id=\"T_fbb90_row7_col2\" class=\"data row7 col2\" >0.4444</td>\n",
              "      <td id=\"T_fbb90_row7_col3\" class=\"data row7 col3\" >0.6154</td>\n",
              "      <td id=\"T_fbb90_row7_col4\" class=\"data row7 col4\" >0.5161</td>\n",
              "      <td id=\"T_fbb90_row7_col5\" class=\"data row7 col5\" >0.3234</td>\n",
              "      <td id=\"T_fbb90_row7_col6\" class=\"data row7 col6\" >0.3320</td>\n",
              "    </tr>\n",
              "    <tr>\n",
              "      <th id=\"T_fbb90_level0_row8\" class=\"row_heading level0 row8\" >8</th>\n",
              "      <td id=\"T_fbb90_row8_col0\" class=\"data row8 col0\" >0.7925</td>\n",
              "      <td id=\"T_fbb90_row8_col1\" class=\"data row8 col1\" >0.8603</td>\n",
              "      <td id=\"T_fbb90_row8_col2\" class=\"data row8 col2\" >0.5556</td>\n",
              "      <td id=\"T_fbb90_row8_col3\" class=\"data row8 col3\" >0.7692</td>\n",
              "      <td id=\"T_fbb90_row8_col4\" class=\"data row8 col4\" >0.6452</td>\n",
              "      <td id=\"T_fbb90_row8_col5\" class=\"data row8 col5\" >0.5038</td>\n",
              "      <td id=\"T_fbb90_row8_col6\" class=\"data row8 col6\" >0.5172</td>\n",
              "    </tr>\n",
              "    <tr>\n",
              "      <th id=\"T_fbb90_level0_row9\" class=\"row_heading level0 row9\" >9</th>\n",
              "      <td id=\"T_fbb90_row9_col0\" class=\"data row9 col0\" >0.7925</td>\n",
              "      <td id=\"T_fbb90_row9_col1\" class=\"data row9 col1\" >0.8714</td>\n",
              "      <td id=\"T_fbb90_row9_col2\" class=\"data row9 col2\" >0.5556</td>\n",
              "      <td id=\"T_fbb90_row9_col3\" class=\"data row9 col3\" >0.7692</td>\n",
              "      <td id=\"T_fbb90_row9_col4\" class=\"data row9 col4\" >0.6452</td>\n",
              "      <td id=\"T_fbb90_row9_col5\" class=\"data row9 col5\" >0.5038</td>\n",
              "      <td id=\"T_fbb90_row9_col6\" class=\"data row9 col6\" >0.5172</td>\n",
              "    </tr>\n",
              "    <tr>\n",
              "      <th id=\"T_fbb90_level0_row10\" class=\"row_heading level0 row10\" >Mean</th>\n",
              "      <td id=\"T_fbb90_row10_col0\" class=\"data row10 col0\" >0.7394</td>\n",
              "      <td id=\"T_fbb90_row10_col1\" class=\"data row10 col1\" >0.8216</td>\n",
              "      <td id=\"T_fbb90_row10_col2\" class=\"data row10 col2\" >0.5292</td>\n",
              "      <td id=\"T_fbb90_row10_col3\" class=\"data row10 col3\" >0.6634</td>\n",
              "      <td id=\"T_fbb90_row10_col4\" class=\"data row10 col4\" >0.5843</td>\n",
              "      <td id=\"T_fbb90_row10_col5\" class=\"data row10 col5\" >0.3991</td>\n",
              "      <td id=\"T_fbb90_row10_col6\" class=\"data row10 col6\" >0.4069</td>\n",
              "    </tr>\n",
              "    <tr>\n",
              "      <th id=\"T_fbb90_level0_row11\" class=\"row_heading level0 row11\" >Std</th>\n",
              "      <td id=\"T_fbb90_row11_col0\" class=\"data row11 col0\" >0.0476</td>\n",
              "      <td id=\"T_fbb90_row11_col1\" class=\"data row11 col1\" >0.0565</td>\n",
              "      <td id=\"T_fbb90_row11_col2\" class=\"data row11 col2\" >0.0849</td>\n",
              "      <td id=\"T_fbb90_row11_col3\" class=\"data row11 col3\" >0.0835</td>\n",
              "      <td id=\"T_fbb90_row11_col4\" class=\"data row11 col4\" >0.0765</td>\n",
              "      <td id=\"T_fbb90_row11_col5\" class=\"data row11 col5\" >0.1035</td>\n",
              "      <td id=\"T_fbb90_row11_col6\" class=\"data row11 col6\" >0.1028</td>\n",
              "    </tr>\n",
              "  </tbody>\n",
              "</table>\n"
            ]
          },
          "metadata": {}
        },
        {
          "output_type": "display_data",
          "data": {
            "text/plain": [
              "Processing:   0%|          | 0/6 [00:00<?, ?it/s]"
            ],
            "application/vnd.jupyter.widget-view+json": {
              "version_major": 2,
              "version_minor": 0,
              "model_id": "2b5f6a4390ac4a21932de6cf0cfb701c"
            }
          },
          "metadata": {
            "application/vnd.jupyter.widget-view+json": {
              "colab": {
                "custom_widget_manager": {
                  "url": "https://ssl.gstatic.com/colaboratory-static/widgets/colab-cdn-widget-manager/b3e629b1971e1542/manager.min.js"
                }
              }
            }
          }
        },
        {
          "output_type": "display_data",
          "data": {
            "text/plain": [
              "<IPython.core.display.HTML object>"
            ],
            "text/html": []
          },
          "metadata": {}
        }
      ]
    },
    {
      "cell_type": "code",
      "source": [
        "plt.figure(figsize=(8, 8))\n",
        "plot_model(blend_soft, plot='boundary')"
      ],
      "metadata": {
        "id": "EjrKZ14E3AJ4",
        "outputId": "e1955ebb-7b95-4c5c-ee08-3da0884f3920",
        "colab": {
          "base_uri": "https://localhost:8080/",
          "height": 696
        }
      },
      "execution_count": 41,
      "outputs": [
        {
          "output_type": "display_data",
          "data": {
            "text/plain": [
              "<IPython.core.display.HTML object>"
            ],
            "text/html": []
          },
          "metadata": {}
        },
        {
          "output_type": "display_data",
          "data": {
            "text/plain": [
              "<Figure size 800x800 with 1 Axes>"
            ],
            "image/png": "[encoded data removed]"
          },
          "metadata": {}
        }
      ]
    },
    {
      "cell_type": "code",
      "source": [
        "#prediction\n",
        "pred = blend_soft.predict(X_test_std)\n",
        "pred_proba = blend_soft.predict_proba(X_test_std)[:,1]\n",
        "#Accuracy\n",
        "confusion_soft = get_clf_eval(y_test,pred,pred_proba)"
      ],
      "metadata": {
        "id": "9B1bb6HF3GfK",
        "outputId": "dca12a5f-9670-4d7f-fba7-59545d2996d1",
        "colab": {
          "base_uri": "https://localhost:8080/"
        }
      },
      "execution_count": 42,
      "outputs": [
        {
          "output_type": "stream",
          "name": "stdout",
          "text": [
            "accuracy: 0.6494, precision: 0.0000, recall: 0.0000,    F1: 0.0000, AUC:0.6809\n"
          ]
        }
      ]
    },
    {
      "cell_type": "code",
      "source": [
        "plt.figure(figsize=(8, 6))\n",
        "ax = sns.heatmap(confusion_soft, cmap = 'YlGnBu',annot = True, fmt='d')\n",
        "ax.set_title('Confusion Matrix (Soft Blending)')"
      ],
      "metadata": {
        "id": "m9edHtU-3NO4",
        "outputId": "91c1a6bc-7583-41ca-d9f2-71fe73d797a2",
        "colab": {
          "base_uri": "https://localhost:8080/",
          "height": 560
        }
      },
      "execution_count": 43,
      "outputs": [
        {
          "output_type": "execute_result",
          "data": {
            "text/plain": [
              "Text(0.5, 1.0, 'Confusion Matrix (Soft Blending)')"
            ]
          },
          "metadata": {},
          "execution_count": 43
        },
        {
          "output_type": "display_data",
          "data": {
            "text/plain": [
              "<Figure size 800x600 with 2 Axes>"
            ],
            "image/png": "[encoded data removed]"
          },
          "metadata": {}
        }
      ]
    },
    {
      "cell_type": "code",
      "source": [
        "blend_hard = blend_models(estimator_list = top5, optimize = 'AUC',method = 'hard')"
      ],
      "metadata": {
        "id": "uMLMoCLW4Vum",
        "outputId": "003de66f-0b12-4eae-b38f-6fc08f37dcd6",
        "colab": {
          "base_uri": "https://localhost:8080/",
          "height": 457,
          "referenced_widgets": [
            "1bf45f7a0739495aaabcd10d7bdc4dfe",
            "75ecfee8255a4e35ace24a9ee1479941",
            "1f5fad515102406cb42a83d77b1a1bed",
            "fc78777157fd4cf0a16a6597ad0a6527",
            "2ed52e52c241498ca75eb0d81d83ad06",
            "d00b03258a794c13b3b1cad12272cf47",
            "e5f82ff745fc427480ddea64372446b5",
            "3237a1f8458d42809d8247244a5bf5ab",
            "f093593a63b6447abdcb7daec662b9ef",
            "f7d85a52948647a68a20f6de3bef95bd",
            "7928e6c9add54bde917555283da54b0c"
          ]
        }
      },
      "execution_count": 44,
      "outputs": [
        {
          "output_type": "display_data",
          "data": {
            "text/plain": [
              "<IPython.core.display.HTML object>"
            ],
            "text/html": []
          },
          "metadata": {}
        },
        {
          "output_type": "display_data",
          "data": {
            "text/plain": [
              "<pandas.io.formats.style.Styler at 0x78f799d7f5b0>"
            ],
            "text/html": [
              "<style type=\"text/css\">\n",
              "#T_093ff_row10_col0, #T_093ff_row10_col1, #T_093ff_row10_col2, #T_093ff_row10_col3, #T_093ff_row10_col4, #T_093ff_row10_col5, #T_093ff_row10_col6 {\n",
              "  background: yellow;\n",
              "}\n",
              "</style>\n",
              "<table id=\"T_093ff\" class=\"dataframe\">\n",
              "  <thead>\n",
              "    <tr>\n",
              "      <th class=\"blank level0\" >&nbsp;</th>\n",
              "      <th id=\"T_093ff_level0_col0\" class=\"col_heading level0 col0\" >Accuracy</th>\n",
              "      <th id=\"T_093ff_level0_col1\" class=\"col_heading level0 col1\" >AUC</th>\n",
              "      <th id=\"T_093ff_level0_col2\" class=\"col_heading level0 col2\" >Recall</th>\n",
              "      <th id=\"T_093ff_level0_col3\" class=\"col_heading level0 col3\" >Prec.</th>\n",
              "      <th id=\"T_093ff_level0_col4\" class=\"col_heading level0 col4\" >F1</th>\n",
              "      <th id=\"T_093ff_level0_col5\" class=\"col_heading level0 col5\" >Kappa</th>\n",
              "      <th id=\"T_093ff_level0_col6\" class=\"col_heading level0 col6\" >MCC</th>\n",
              "    </tr>\n",
              "    <tr>\n",
              "      <th class=\"index_name level0\" >Fold</th>\n",
              "      <th class=\"blank col0\" >&nbsp;</th>\n",
              "      <th class=\"blank col1\" >&nbsp;</th>\n",
              "      <th class=\"blank col2\" >&nbsp;</th>\n",
              "      <th class=\"blank col3\" >&nbsp;</th>\n",
              "      <th class=\"blank col4\" >&nbsp;</th>\n",
              "      <th class=\"blank col5\" >&nbsp;</th>\n",
              "      <th class=\"blank col6\" >&nbsp;</th>\n",
              "    </tr>\n",
              "  </thead>\n",
              "  <tbody>\n",
              "    <tr>\n",
              "      <th id=\"T_093ff_level0_row0\" class=\"row_heading level0 row0\" >0</th>\n",
              "      <td id=\"T_093ff_row0_col0\" class=\"data row0 col0\" >0.6481</td>\n",
              "      <td id=\"T_093ff_row0_col1\" class=\"data row0 col1\" >0.0000</td>\n",
              "      <td id=\"T_093ff_row0_col2\" class=\"data row0 col2\" >0.5789</td>\n",
              "      <td id=\"T_093ff_row0_col3\" class=\"data row0 col3\" >0.5000</td>\n",
              "      <td id=\"T_093ff_row0_col4\" class=\"data row0 col4\" >0.5366</td>\n",
              "      <td id=\"T_093ff_row0_col5\" class=\"data row0 col5\" >0.2554</td>\n",
              "      <td id=\"T_093ff_row0_col6\" class=\"data row0 col6\" >0.2572</td>\n",
              "    </tr>\n",
              "    <tr>\n",
              "      <th id=\"T_093ff_level0_row1\" class=\"row_heading level0 row1\" >1</th>\n",
              "      <td id=\"T_093ff_row1_col0\" class=\"data row1 col0\" >0.7593</td>\n",
              "      <td id=\"T_093ff_row1_col1\" class=\"data row1 col1\" >0.0000</td>\n",
              "      <td id=\"T_093ff_row1_col2\" class=\"data row1 col2\" >0.6316</td>\n",
              "      <td id=\"T_093ff_row1_col3\" class=\"data row1 col3\" >0.6667</td>\n",
              "      <td id=\"T_093ff_row1_col4\" class=\"data row1 col4\" >0.6486</td>\n",
              "      <td id=\"T_093ff_row1_col5\" class=\"data row1 col5\" >0.4658</td>\n",
              "      <td id=\"T_093ff_row1_col6\" class=\"data row1 col6\" >0.4661</td>\n",
              "    </tr>\n",
              "    <tr>\n",
              "      <th id=\"T_093ff_level0_row2\" class=\"row_heading level0 row2\" >2</th>\n",
              "      <td id=\"T_093ff_row2_col0\" class=\"data row2 col0\" >0.7593</td>\n",
              "      <td id=\"T_093ff_row2_col1\" class=\"data row2 col1\" >0.0000</td>\n",
              "      <td id=\"T_093ff_row2_col2\" class=\"data row2 col2\" >0.5789</td>\n",
              "      <td id=\"T_093ff_row2_col3\" class=\"data row2 col3\" >0.6875</td>\n",
              "      <td id=\"T_093ff_row2_col4\" class=\"data row2 col4\" >0.6286</td>\n",
              "      <td id=\"T_093ff_row2_col5\" class=\"data row2 col5\" >0.4524</td>\n",
              "      <td id=\"T_093ff_row2_col6\" class=\"data row2 col6\" >0.4561</td>\n",
              "    </tr>\n",
              "    <tr>\n",
              "      <th id=\"T_093ff_level0_row3\" class=\"row_heading level0 row3\" >3</th>\n",
              "      <td id=\"T_093ff_row3_col0\" class=\"data row3 col0\" >0.7222</td>\n",
              "      <td id=\"T_093ff_row3_col1\" class=\"data row3 col1\" >0.0000</td>\n",
              "      <td id=\"T_093ff_row3_col2\" class=\"data row3 col2\" >0.5789</td>\n",
              "      <td id=\"T_093ff_row3_col3\" class=\"data row3 col3\" >0.6111</td>\n",
              "      <td id=\"T_093ff_row3_col4\" class=\"data row3 col4\" >0.5946</td>\n",
              "      <td id=\"T_093ff_row3_col5\" class=\"data row3 col5\" >0.3836</td>\n",
              "      <td id=\"T_093ff_row3_col6\" class=\"data row3 col6\" >0.3839</td>\n",
              "    </tr>\n",
              "    <tr>\n",
              "      <th id=\"T_093ff_level0_row4\" class=\"row_heading level0 row4\" >4</th>\n",
              "      <td id=\"T_093ff_row4_col0\" class=\"data row4 col0\" >0.8333</td>\n",
              "      <td id=\"T_093ff_row4_col1\" class=\"data row4 col1\" >0.0000</td>\n",
              "      <td id=\"T_093ff_row4_col2\" class=\"data row4 col2\" >0.6842</td>\n",
              "      <td id=\"T_093ff_row4_col3\" class=\"data row4 col3\" >0.8125</td>\n",
              "      <td id=\"T_093ff_row4_col4\" class=\"data row4 col4\" >0.7429</td>\n",
              "      <td id=\"T_093ff_row4_col5\" class=\"data row4 col5\" >0.6209</td>\n",
              "      <td id=\"T_093ff_row4_col6\" class=\"data row4 col6\" >0.6259</td>\n",
              "    </tr>\n",
              "    <tr>\n",
              "      <th id=\"T_093ff_level0_row5\" class=\"row_heading level0 row5\" >5</th>\n",
              "      <td id=\"T_093ff_row5_col0\" class=\"data row5 col0\" >0.7963</td>\n",
              "      <td id=\"T_093ff_row5_col1\" class=\"data row5 col1\" >0.0000</td>\n",
              "      <td id=\"T_093ff_row5_col2\" class=\"data row5 col2\" >0.7368</td>\n",
              "      <td id=\"T_093ff_row5_col3\" class=\"data row5 col3\" >0.7000</td>\n",
              "      <td id=\"T_093ff_row5_col4\" class=\"data row5 col4\" >0.7179</td>\n",
              "      <td id=\"T_093ff_row5_col5\" class=\"data row5 col5\" >0.5587</td>\n",
              "      <td id=\"T_093ff_row5_col6\" class=\"data row5 col6\" >0.5591</td>\n",
              "    </tr>\n",
              "    <tr>\n",
              "      <th id=\"T_093ff_level0_row6\" class=\"row_heading level0 row6\" >6</th>\n",
              "      <td id=\"T_093ff_row6_col0\" class=\"data row6 col0\" >0.7037</td>\n",
              "      <td id=\"T_093ff_row6_col1\" class=\"data row6 col1\" >0.0000</td>\n",
              "      <td id=\"T_093ff_row6_col2\" class=\"data row6 col2\" >0.3684</td>\n",
              "      <td id=\"T_093ff_row6_col3\" class=\"data row6 col3\" >0.6364</td>\n",
              "      <td id=\"T_093ff_row6_col4\" class=\"data row6 col4\" >0.4667</td>\n",
              "      <td id=\"T_093ff_row6_col5\" class=\"data row6 col5\" >0.2812</td>\n",
              "      <td id=\"T_093ff_row6_col6\" class=\"data row6 col6\" >0.3013</td>\n",
              "    </tr>\n",
              "    <tr>\n",
              "      <th id=\"T_093ff_level0_row7\" class=\"row_heading level0 row7\" >7</th>\n",
              "      <td id=\"T_093ff_row7_col0\" class=\"data row7 col0\" >0.7547</td>\n",
              "      <td id=\"T_093ff_row7_col1\" class=\"data row7 col1\" >0.0000</td>\n",
              "      <td id=\"T_093ff_row7_col2\" class=\"data row7 col2\" >0.5000</td>\n",
              "      <td id=\"T_093ff_row7_col3\" class=\"data row7 col3\" >0.6923</td>\n",
              "      <td id=\"T_093ff_row7_col4\" class=\"data row7 col4\" >0.5806</td>\n",
              "      <td id=\"T_093ff_row7_col5\" class=\"data row7 col5\" >0.4136</td>\n",
              "      <td id=\"T_093ff_row7_col6\" class=\"data row7 col6\" >0.4246</td>\n",
              "    </tr>\n",
              "    <tr>\n",
              "      <th id=\"T_093ff_level0_row8\" class=\"row_heading level0 row8\" >8</th>\n",
              "      <td id=\"T_093ff_row8_col0\" class=\"data row8 col0\" >0.7547</td>\n",
              "      <td id=\"T_093ff_row8_col1\" class=\"data row8 col1\" >0.0000</td>\n",
              "      <td id=\"T_093ff_row8_col2\" class=\"data row8 col2\" >0.5000</td>\n",
              "      <td id=\"T_093ff_row8_col3\" class=\"data row8 col3\" >0.6923</td>\n",
              "      <td id=\"T_093ff_row8_col4\" class=\"data row8 col4\" >0.5806</td>\n",
              "      <td id=\"T_093ff_row8_col5\" class=\"data row8 col5\" >0.4136</td>\n",
              "      <td id=\"T_093ff_row8_col6\" class=\"data row8 col6\" >0.4246</td>\n",
              "    </tr>\n",
              "    <tr>\n",
              "      <th id=\"T_093ff_level0_row9\" class=\"row_heading level0 row9\" >9</th>\n",
              "      <td id=\"T_093ff_row9_col0\" class=\"data row9 col0\" >0.8113</td>\n",
              "      <td id=\"T_093ff_row9_col1\" class=\"data row9 col1\" >0.0000</td>\n",
              "      <td id=\"T_093ff_row9_col2\" class=\"data row9 col2\" >0.5556</td>\n",
              "      <td id=\"T_093ff_row9_col3\" class=\"data row9 col3\" >0.8333</td>\n",
              "      <td id=\"T_093ff_row9_col4\" class=\"data row9 col4\" >0.6667</td>\n",
              "      <td id=\"T_093ff_row9_col5\" class=\"data row9 col5\" >0.5423</td>\n",
              "      <td id=\"T_093ff_row9_col6\" class=\"data row9 col6\" >0.5640</td>\n",
              "    </tr>\n",
              "    <tr>\n",
              "      <th id=\"T_093ff_level0_row10\" class=\"row_heading level0 row10\" >Mean</th>\n",
              "      <td id=\"T_093ff_row10_col0\" class=\"data row10 col0\" >0.7543</td>\n",
              "      <td id=\"T_093ff_row10_col1\" class=\"data row10 col1\" >0.0000</td>\n",
              "      <td id=\"T_093ff_row10_col2\" class=\"data row10 col2\" >0.5713</td>\n",
              "      <td id=\"T_093ff_row10_col3\" class=\"data row10 col3\" >0.6832</td>\n",
              "      <td id=\"T_093ff_row10_col4\" class=\"data row10 col4\" >0.6164</td>\n",
              "      <td id=\"T_093ff_row10_col5\" class=\"data row10 col5\" >0.4388</td>\n",
              "      <td id=\"T_093ff_row10_col6\" class=\"data row10 col6\" >0.4463</td>\n",
              "    </tr>\n",
              "    <tr>\n",
              "      <th id=\"T_093ff_level0_row11\" class=\"row_heading level0 row11\" >Std</th>\n",
              "      <td id=\"T_093ff_row11_col0\" class=\"data row11 col0\" >0.0512</td>\n",
              "      <td id=\"T_093ff_row11_col1\" class=\"data row11 col1\" >0.0000</td>\n",
              "      <td id=\"T_093ff_row11_col2\" class=\"data row11 col2\" >0.0977</td>\n",
              "      <td id=\"T_093ff_row11_col3\" class=\"data row11 col3\" >0.0900</td>\n",
              "      <td id=\"T_093ff_row11_col4\" class=\"data row11 col4\" >0.0786</td>\n",
              "      <td id=\"T_093ff_row11_col5\" class=\"data row11 col5\" >0.1104</td>\n",
              "      <td id=\"T_093ff_row11_col6\" class=\"data row11 col6\" >0.1100</td>\n",
              "    </tr>\n",
              "  </tbody>\n",
              "</table>\n"
            ]
          },
          "metadata": {}
        },
        {
          "output_type": "display_data",
          "data": {
            "text/plain": [
              "Processing:   0%|          | 0/6 [00:00<?, ?it/s]"
            ],
            "application/vnd.jupyter.widget-view+json": {
              "version_major": 2,
              "version_minor": 0,
              "model_id": "1bf45f7a0739495aaabcd10d7bdc4dfe"
            }
          },
          "metadata": {
            "application/vnd.jupyter.widget-view+json": {
              "colab": {
                "custom_widget_manager": {
                  "url": "https://ssl.gstatic.com/colaboratory-static/widgets/colab-cdn-widget-manager/b3e629b1971e1542/manager.min.js"
                }
              }
            }
          }
        },
        {
          "output_type": "display_data",
          "data": {
            "text/plain": [
              "<IPython.core.display.HTML object>"
            ],
            "text/html": []
          },
          "metadata": {}
        }
      ]
    },
    {
      "cell_type": "code",
      "source": [
        "plt.figure(figsize=(8, 8))\n",
        "plot_model(blend_hard, plot='boundary')"
      ],
      "metadata": {
        "id": "n0RGPSXA4YyR",
        "outputId": "4c9a5a28-a2ea-4e15-bd6d-12978d85277a",
        "colab": {
          "base_uri": "https://localhost:8080/",
          "height": 696
        }
      },
      "execution_count": 45,
      "outputs": [
        {
          "output_type": "display_data",
          "data": {
            "text/plain": [
              "<IPython.core.display.HTML object>"
            ],
            "text/html": []
          },
          "metadata": {}
        },
        {
          "output_type": "display_data",
          "data": {
            "text/plain": [
              "<Figure size 800x800 with 1 Axes>"
            ],
            "image/png": "[encoded data removed]"
          },
          "metadata": {}
        }
      ]
    },
    {
      "cell_type": "code",
      "source": [
        "#prediction\n",
        "pred = blend_hard.predict(X_test_std)\n",
        "#Accuracy\n",
        "confusion_hard = confusion_matrix( y_test, pred)\n",
        "accuracy = accuracy_score(y_test , pred)\n",
        "precision = precision_score(y_test , pred)\n",
        "recall = recall_score(y_test , pred)\n",
        "f1 = f1_score(y_test,pred)\n",
        "print('accuracy: {0:.4f}, precision: {1:.4f}, recall: {2:.4f},\\\n",
        "F1: {3:.4f}'.format(accuracy, precision, recall, f1))"
      ],
      "metadata": {
        "id": "cY2JJYO-4b3O",
        "outputId": "b792795c-b653-45a2-e81e-08aa28a99d34",
        "colab": {
          "base_uri": "https://localhost:8080/"
        }
      },
      "execution_count": 46,
      "outputs": [
        {
          "output_type": "stream",
          "name": "stdout",
          "text": [
            "accuracy: 0.6494, precision: 0.0000, recall: 0.0000,F1: 0.0000\n"
          ]
        }
      ]
    },
    {
      "cell_type": "code",
      "source": [
        "plt.figure(figsize=(8, 6))\n",
        "ax = sns.heatmap(confusion_hard, cmap = 'YlGnBu',annot = True, fmt='d')\n",
        "ax.set_title('Confusion Matrix (Hard Blending)')"
      ],
      "metadata": {
        "id": "GY9f2ItJ41G3",
        "outputId": "773d44f4-7f0d-466a-8f09-41b75436a002",
        "colab": {
          "base_uri": "https://localhost:8080/",
          "height": 560
        }
      },
      "execution_count": 47,
      "outputs": [
        {
          "output_type": "execute_result",
          "data": {
            "text/plain": [
              "Text(0.5, 1.0, 'Confusion Matrix (Hard Blending)')"
            ]
          },
          "metadata": {},
          "execution_count": 47
        },
        {
          "output_type": "display_data",
          "data": {
            "text/plain": [
              "<Figure size 800x600 with 2 Axes>"
            ],
            "image/png": "[encoded data removed]"
          },
          "metadata": {}
        }
      ]
    },
    {
      "cell_type": "code",
      "source": [
        "cali_model = calibrate_model(blend_soft)"
      ],
      "metadata": {
        "id": "Z1h9gWxT4kMf",
        "outputId": "f4740f21-6383-44b4-b09a-2993692bed5c",
        "colab": {
          "base_uri": "https://localhost:8080/",
          "height": 457,
          "referenced_widgets": [
            "26209f0ac036493295ad954c49a41779",
            "c357b30390534b2793fc668743fc7dde",
            "23126a8fc92a45a3bc10748a2bcab888",
            "ec872154c96a4f25a9b7510ed6701646",
            "6d16647b1c6c4fb597757e4259a6199b",
            "9a99cfe451d147c6be9c95a5ee176487",
            "9e267e2e387e4551a5a0af4dac094e50",
            "bf5fe0df06364c4b91f1e698d63322a9",
            "310c435593fd47d9a79797d98aefeca1",
            "620a209bbaf94c6183d0349f52662f19",
            "48a06b00a6a4468f8a83a5d6341101a6"
          ]
        }
      },
      "execution_count": 48,
      "outputs": [
        {
          "output_type": "display_data",
          "data": {
            "text/plain": [
              "<IPython.core.display.HTML object>"
            ],
            "text/html": []
          },
          "metadata": {}
        },
        {
          "output_type": "display_data",
          "data": {
            "text/plain": [
              "<pandas.io.formats.style.Styler at 0x78f79b5a22c0>"
            ],
            "text/html": [
              "<style type=\"text/css\">\n",
              "#T_d49d1_row10_col0, #T_d49d1_row10_col1, #T_d49d1_row10_col2, #T_d49d1_row10_col3, #T_d49d1_row10_col4, #T_d49d1_row10_col5, #T_d49d1_row10_col6 {\n",
              "  background: yellow;\n",
              "}\n",
              "</style>\n",
              "<table id=\"T_d49d1\" class=\"dataframe\">\n",
              "  <thead>\n",
              "    <tr>\n",
              "      <th class=\"blank level0\" >&nbsp;</th>\n",
              "      <th id=\"T_d49d1_level0_col0\" class=\"col_heading level0 col0\" >Accuracy</th>\n",
              "      <th id=\"T_d49d1_level0_col1\" class=\"col_heading level0 col1\" >AUC</th>\n",
              "      <th id=\"T_d49d1_level0_col2\" class=\"col_heading level0 col2\" >Recall</th>\n",
              "      <th id=\"T_d49d1_level0_col3\" class=\"col_heading level0 col3\" >Prec.</th>\n",
              "      <th id=\"T_d49d1_level0_col4\" class=\"col_heading level0 col4\" >F1</th>\n",
              "      <th id=\"T_d49d1_level0_col5\" class=\"col_heading level0 col5\" >Kappa</th>\n",
              "      <th id=\"T_d49d1_level0_col6\" class=\"col_heading level0 col6\" >MCC</th>\n",
              "    </tr>\n",
              "    <tr>\n",
              "      <th class=\"index_name level0\" >Fold</th>\n",
              "      <th class=\"blank col0\" >&nbsp;</th>\n",
              "      <th class=\"blank col1\" >&nbsp;</th>\n",
              "      <th class=\"blank col2\" >&nbsp;</th>\n",
              "      <th class=\"blank col3\" >&nbsp;</th>\n",
              "      <th class=\"blank col4\" >&nbsp;</th>\n",
              "      <th class=\"blank col5\" >&nbsp;</th>\n",
              "      <th class=\"blank col6\" >&nbsp;</th>\n",
              "    </tr>\n",
              "  </thead>\n",
              "  <tbody>\n",
              "    <tr>\n",
              "      <th id=\"T_d49d1_level0_row0\" class=\"row_heading level0 row0\" >0</th>\n",
              "      <td id=\"T_d49d1_row0_col0\" class=\"data row0 col0\" >0.6481</td>\n",
              "      <td id=\"T_d49d1_row0_col1\" class=\"data row0 col1\" >0.7729</td>\n",
              "      <td id=\"T_d49d1_row0_col2\" class=\"data row0 col2\" >0.5789</td>\n",
              "      <td id=\"T_d49d1_row0_col3\" class=\"data row0 col3\" >0.5000</td>\n",
              "      <td id=\"T_d49d1_row0_col4\" class=\"data row0 col4\" >0.5366</td>\n",
              "      <td id=\"T_d49d1_row0_col5\" class=\"data row0 col5\" >0.2554</td>\n",
              "      <td id=\"T_d49d1_row0_col6\" class=\"data row0 col6\" >0.2572</td>\n",
              "    </tr>\n",
              "    <tr>\n",
              "      <th id=\"T_d49d1_level0_row1\" class=\"row_heading level0 row1\" >1</th>\n",
              "      <td id=\"T_d49d1_row1_col0\" class=\"data row1 col0\" >0.7778</td>\n",
              "      <td id=\"T_d49d1_row1_col1\" class=\"data row1 col1\" >0.8917</td>\n",
              "      <td id=\"T_d49d1_row1_col2\" class=\"data row1 col2\" >0.5789</td>\n",
              "      <td id=\"T_d49d1_row1_col3\" class=\"data row1 col3\" >0.7333</td>\n",
              "      <td id=\"T_d49d1_row1_col4\" class=\"data row1 col4\" >0.6471</td>\n",
              "      <td id=\"T_d49d1_row1_col5\" class=\"data row1 col5\" >0.4882</td>\n",
              "      <td id=\"T_d49d1_row1_col6\" class=\"data row1 col6\" >0.4954</td>\n",
              "    </tr>\n",
              "    <tr>\n",
              "      <th id=\"T_d49d1_level0_row2\" class=\"row_heading level0 row2\" >2</th>\n",
              "      <td id=\"T_d49d1_row2_col0\" class=\"data row2 col0\" >0.7593</td>\n",
              "      <td id=\"T_d49d1_row2_col1\" class=\"data row2 col1\" >0.8632</td>\n",
              "      <td id=\"T_d49d1_row2_col2\" class=\"data row2 col2\" >0.5789</td>\n",
              "      <td id=\"T_d49d1_row2_col3\" class=\"data row2 col3\" >0.6875</td>\n",
              "      <td id=\"T_d49d1_row2_col4\" class=\"data row2 col4\" >0.6286</td>\n",
              "      <td id=\"T_d49d1_row2_col5\" class=\"data row2 col5\" >0.4524</td>\n",
              "      <td id=\"T_d49d1_row2_col6\" class=\"data row2 col6\" >0.4561</td>\n",
              "    </tr>\n",
              "    <tr>\n",
              "      <th id=\"T_d49d1_level0_row3\" class=\"row_heading level0 row3\" >3</th>\n",
              "      <td id=\"T_d49d1_row3_col0\" class=\"data row3 col0\" >0.7037</td>\n",
              "      <td id=\"T_d49d1_row3_col1\" class=\"data row3 col1\" >0.7895</td>\n",
              "      <td id=\"T_d49d1_row3_col2\" class=\"data row3 col2\" >0.5263</td>\n",
              "      <td id=\"T_d49d1_row3_col3\" class=\"data row3 col3\" >0.5882</td>\n",
              "      <td id=\"T_d49d1_row3_col4\" class=\"data row3 col4\" >0.5556</td>\n",
              "      <td id=\"T_d49d1_row3_col5\" class=\"data row3 col5\" >0.3344</td>\n",
              "      <td id=\"T_d49d1_row3_col6\" class=\"data row3 col6\" >0.3355</td>\n",
              "    </tr>\n",
              "    <tr>\n",
              "      <th id=\"T_d49d1_level0_row4\" class=\"row_heading level0 row4\" >4</th>\n",
              "      <td id=\"T_d49d1_row4_col0\" class=\"data row4 col0\" >0.7593</td>\n",
              "      <td id=\"T_d49d1_row4_col1\" class=\"data row4 col1\" >0.8481</td>\n",
              "      <td id=\"T_d49d1_row4_col2\" class=\"data row4 col2\" >0.5789</td>\n",
              "      <td id=\"T_d49d1_row4_col3\" class=\"data row4 col3\" >0.6875</td>\n",
              "      <td id=\"T_d49d1_row4_col4\" class=\"data row4 col4\" >0.6286</td>\n",
              "      <td id=\"T_d49d1_row4_col5\" class=\"data row4 col5\" >0.4524</td>\n",
              "      <td id=\"T_d49d1_row4_col6\" class=\"data row4 col6\" >0.4561</td>\n",
              "    </tr>\n",
              "    <tr>\n",
              "      <th id=\"T_d49d1_level0_row5\" class=\"row_heading level0 row5\" >5</th>\n",
              "      <td id=\"T_d49d1_row5_col0\" class=\"data row5 col0\" >0.7778</td>\n",
              "      <td id=\"T_d49d1_row5_col1\" class=\"data row5 col1\" >0.8180</td>\n",
              "      <td id=\"T_d49d1_row5_col2\" class=\"data row5 col2\" >0.5263</td>\n",
              "      <td id=\"T_d49d1_row5_col3\" class=\"data row5 col3\" >0.7692</td>\n",
              "      <td id=\"T_d49d1_row5_col4\" class=\"data row5 col4\" >0.6250</td>\n",
              "      <td id=\"T_d49d1_row5_col5\" class=\"data row5 col5\" >0.4749</td>\n",
              "      <td id=\"T_d49d1_row5_col6\" class=\"data row5 col6\" >0.4921</td>\n",
              "    </tr>\n",
              "    <tr>\n",
              "      <th id=\"T_d49d1_level0_row6\" class=\"row_heading level0 row6\" >6</th>\n",
              "      <td id=\"T_d49d1_row6_col0\" class=\"data row6 col0\" >0.6852</td>\n",
              "      <td id=\"T_d49d1_row6_col1\" class=\"data row6 col1\" >0.7128</td>\n",
              "      <td id=\"T_d49d1_row6_col2\" class=\"data row6 col2\" >0.3158</td>\n",
              "      <td id=\"T_d49d1_row6_col3\" class=\"data row6 col3\" >0.6000</td>\n",
              "      <td id=\"T_d49d1_row6_col4\" class=\"data row6 col4\" >0.4138</td>\n",
              "      <td id=\"T_d49d1_row6_col5\" class=\"data row6 col5\" >0.2260</td>\n",
              "      <td id=\"T_d49d1_row6_col6\" class=\"data row6 col6\" >0.2477</td>\n",
              "    </tr>\n",
              "    <tr>\n",
              "      <th id=\"T_d49d1_level0_row7\" class=\"row_heading level0 row7\" >7</th>\n",
              "      <td id=\"T_d49d1_row7_col0\" class=\"data row7 col0\" >0.7170</td>\n",
              "      <td id=\"T_d49d1_row7_col1\" class=\"data row7 col1\" >0.7968</td>\n",
              "      <td id=\"T_d49d1_row7_col2\" class=\"data row7 col2\" >0.4444</td>\n",
              "      <td id=\"T_d49d1_row7_col3\" class=\"data row7 col3\" >0.6154</td>\n",
              "      <td id=\"T_d49d1_row7_col4\" class=\"data row7 col4\" >0.5161</td>\n",
              "      <td id=\"T_d49d1_row7_col5\" class=\"data row7 col5\" >0.3234</td>\n",
              "      <td id=\"T_d49d1_row7_col6\" class=\"data row7 col6\" >0.3320</td>\n",
              "    </tr>\n",
              "    <tr>\n",
              "      <th id=\"T_d49d1_level0_row8\" class=\"row_heading level0 row8\" >8</th>\n",
              "      <td id=\"T_d49d1_row8_col0\" class=\"data row8 col0\" >0.7736</td>\n",
              "      <td id=\"T_d49d1_row8_col1\" class=\"data row8 col1\" >0.8619</td>\n",
              "      <td id=\"T_d49d1_row8_col2\" class=\"data row8 col2\" >0.5000</td>\n",
              "      <td id=\"T_d49d1_row8_col3\" class=\"data row8 col3\" >0.7500</td>\n",
              "      <td id=\"T_d49d1_row8_col4\" class=\"data row8 col4\" >0.6000</td>\n",
              "      <td id=\"T_d49d1_row8_col5\" class=\"data row8 col5\" >0.4508</td>\n",
              "      <td id=\"T_d49d1_row8_col6\" class=\"data row8 col6\" >0.4688</td>\n",
              "    </tr>\n",
              "    <tr>\n",
              "      <th id=\"T_d49d1_level0_row9\" class=\"row_heading level0 row9\" >9</th>\n",
              "      <td id=\"T_d49d1_row9_col0\" class=\"data row9 col0\" >0.7925</td>\n",
              "      <td id=\"T_d49d1_row9_col1\" class=\"data row9 col1\" >0.8730</td>\n",
              "      <td id=\"T_d49d1_row9_col2\" class=\"data row9 col2\" >0.5556</td>\n",
              "      <td id=\"T_d49d1_row9_col3\" class=\"data row9 col3\" >0.7692</td>\n",
              "      <td id=\"T_d49d1_row9_col4\" class=\"data row9 col4\" >0.6452</td>\n",
              "      <td id=\"T_d49d1_row9_col5\" class=\"data row9 col5\" >0.5038</td>\n",
              "      <td id=\"T_d49d1_row9_col6\" class=\"data row9 col6\" >0.5172</td>\n",
              "    </tr>\n",
              "    <tr>\n",
              "      <th id=\"T_d49d1_level0_row10\" class=\"row_heading level0 row10\" >Mean</th>\n",
              "      <td id=\"T_d49d1_row10_col0\" class=\"data row10 col0\" >0.7394</td>\n",
              "      <td id=\"T_d49d1_row10_col1\" class=\"data row10 col1\" >0.8228</td>\n",
              "      <td id=\"T_d49d1_row10_col2\" class=\"data row10 col2\" >0.5184</td>\n",
              "      <td id=\"T_d49d1_row10_col3\" class=\"data row10 col3\" >0.6700</td>\n",
              "      <td id=\"T_d49d1_row10_col4\" class=\"data row10 col4\" >0.5796</td>\n",
              "      <td id=\"T_d49d1_row10_col5\" class=\"data row10 col5\" >0.3962</td>\n",
              "      <td id=\"T_d49d1_row10_col6\" class=\"data row10 col6\" >0.4058</td>\n",
              "    </tr>\n",
              "    <tr>\n",
              "      <th id=\"T_d49d1_level0_row11\" class=\"row_heading level0 row11\" >Std</th>\n",
              "      <td id=\"T_d49d1_row11_col0\" class=\"data row11 col0\" >0.0456</td>\n",
              "      <td id=\"T_d49d1_row11_col1\" class=\"data row11 col1\" >0.0524</td>\n",
              "      <td id=\"T_d49d1_row11_col2\" class=\"data row11 col2\" >0.0794</td>\n",
              "      <td id=\"T_d49d1_row11_col3\" class=\"data row11 col3\" >0.0861</td>\n",
              "      <td id=\"T_d49d1_row11_col4\" class=\"data row11 col4\" >0.0708</td>\n",
              "      <td id=\"T_d49d1_row11_col5\" class=\"data row11 col5\" >0.0967</td>\n",
              "      <td id=\"T_d49d1_row11_col6\" class=\"data row11 col6\" >0.0971</td>\n",
              "    </tr>\n",
              "  </tbody>\n",
              "</table>\n"
            ]
          },
          "metadata": {}
        },
        {
          "output_type": "display_data",
          "data": {
            "text/plain": [
              "Processing:   0%|          | 0/6 [00:00<?, ?it/s]"
            ],
            "application/vnd.jupyter.widget-view+json": {
              "version_major": 2,
              "version_minor": 0,
              "model_id": "26209f0ac036493295ad954c49a41779"
            }
          },
          "metadata": {
            "application/vnd.jupyter.widget-view+json": {
              "colab": {
                "custom_widget_manager": {
                  "url": "https://ssl.gstatic.com/colaboratory-static/widgets/colab-cdn-widget-manager/b3e629b1971e1542/manager.min.js"
                }
              }
            }
          }
        },
        {
          "output_type": "display_data",
          "data": {
            "text/plain": [
              "<IPython.core.display.HTML object>"
            ],
            "text/html": []
          },
          "metadata": {}
        }
      ]
    },
    {
      "cell_type": "code",
      "source": [
        "final_model = finalize_model(cali_model)"
      ],
      "metadata": {
        "id": "JclPeaDC4mb-"
      },
      "execution_count": 49,
      "outputs": []
    },
    {
      "cell_type": "code",
      "source": [
        "plt.figure(figsize=(8, 8))\n",
        "plot_model(final_model, plot='threshold')"
      ],
      "metadata": {
        "id": "kIkXI3Eh4n7n",
        "outputId": "5f4a05da-f3e4-4b53-ce69-ef45c5b4c789",
        "colab": {
          "base_uri": "https://localhost:8080/",
          "height": 716
        }
      },
      "execution_count": 50,
      "outputs": [
        {
          "output_type": "display_data",
          "data": {
            "text/plain": [
              "<IPython.core.display.HTML object>"
            ],
            "text/html": []
          },
          "metadata": {}
        },
        {
          "output_type": "display_data",
          "data": {
            "text/plain": [
              "<Figure size 800x800 with 1 Axes>"
            ],
            "image/png": "[encoded data removed]"
          },
          "metadata": {}
        }
      ]
    },
    {
      "cell_type": "code",
      "source": [
        "plt.figure(figsize=(8, 8))\n",
        "plot_model(final_model, plot='boundary')"
      ],
      "metadata": {
        "id": "zowYUqC54pu_",
        "outputId": "bc162a85-381e-4f4f-b240-79249749a0ec",
        "colab": {
          "base_uri": "https://localhost:8080/",
          "height": 696
        }
      },
      "execution_count": 51,
      "outputs": [
        {
          "output_type": "display_data",
          "data": {
            "text/plain": [
              "<IPython.core.display.HTML object>"
            ],
            "text/html": []
          },
          "metadata": {}
        },
        {
          "output_type": "display_data",
          "data": {
            "text/plain": [
              "<Figure size 800x800 with 1 Axes>"
            ],
            "image/png": "[encoded data removed]"
          },
          "metadata": {}
        }
      ]
    },
    {
      "cell_type": "code",
      "source": [
        "#prediction\n",
        "pred = final_model.predict(X_test_std)\n",
        "#Accuracy\n",
        "final_model = confusion_matrix( y_test, pred)\n",
        "accuracy = accuracy_score(y_test , pred)\n",
        "precision = precision_score(y_test , pred)\n",
        "recall = recall_score(y_test , pred)\n",
        "f1 = f1_score(y_test,pred)\n",
        "print('accuracy: {0:.4f}, precision: {1:.4f}, recall: {2:.4f},\\\n",
        "F1: {3:.4f}'.format(accuracy, precision, recall, f1))"
      ],
      "metadata": {
        "id": "nTp1a9zV4sAK",
        "outputId": "9209efab-cb7a-4528-ad24-847611a0fb19",
        "colab": {
          "base_uri": "https://localhost:8080/"
        }
      },
      "execution_count": 52,
      "outputs": [
        {
          "output_type": "stream",
          "name": "stdout",
          "text": [
            "accuracy: 0.6494, precision: 0.0000, recall: 0.0000,F1: 0.0000\n"
          ]
        }
      ]
    },
    {
      "cell_type": "code",
      "source": [
        "plt.figure(figsize=(8, 6))\n",
        "ax = sns.heatmap(confusion_hard, cmap = 'YlGnBu',annot = True, fmt='d')\n",
        "ax.set_title('Confusion Matrix (final_model)')"
      ],
      "metadata": {
        "id": "tL2mAA_g4vdQ",
        "outputId": "2cac882e-3adf-49b7-eec4-fe5fed6df59f",
        "colab": {
          "base_uri": "https://localhost:8080/",
          "height": 560
        }
      },
      "execution_count": 53,
      "outputs": [
        {
          "output_type": "execute_result",
          "data": {
            "text/plain": [
              "Text(0.5, 1.0, 'Confusion Matrix (final_model)')"
            ]
          },
          "metadata": {},
          "execution_count": 53
        },
        {
          "output_type": "display_data",
          "data": {
            "text/plain": [
              "<Figure size 800x600 with 2 Axes>"
            ],
            "image/png": "[encoded data removed]"
          },
          "metadata": {}
        }
      ]
    }
  ],
  "metadata": {
    "accelerator": "GPU",
    "colab": {
      "provenance": []
    },
    "kernelspec": {
      "display_name": "Python 3",
      "name": "python3"
    },
    "language_info": {
      "codemirror_mode": {
        "name": "ipython",
        "version": 3
      },
      "file_extension": ".py",
      "mimetype": "text/x-python",
      "name": "python",
      "nbconvert_exporter": "python",
      "pygments_lexer": "ipython3",
      "version": "3.10.10"
    },
    "vscode": {
      "interpreter": {
        "hash": "398dc28c06ad810e77de546bbdfa897a6ee0b83e59a5207339dda01a7843e01d"
      }
    },
    "widgets": {
      "application/vnd.jupyter.widget-state+json": {
        "d393c103a6a24ac3a36305b63d12a013": {
          "model_module": "@jupyter-widgets/controls",
          "model_name": "HBoxModel",
          "model_module_version": "1.5.0",
          "state": {
            "_dom_classes": [],
            "_model_module": "@jupyter-widgets/controls",
            "_model_module_version": "1.5.0",
            "_model_name": "HBoxModel",
            "_view_count": null,
            "_view_module": "@jupyter-widgets/controls",
            "_view_module_version": "1.5.0",
            "_view_name": "HBoxView",
            "box_style": "",
            "children": [
              "IPY_MODEL_17b5ff689a4d4912943bcb62f7991832",
              "IPY_MODEL_4241797eb92a4d67a3c29342b681a30e",
              "IPY_MODEL_bd6c57ae14794ab98bc86069ddc61db3"
            ],
            "layout": "IPY_MODEL_3de56f528f7148cab9c0c468216f3ea9"
          }
        },
        "17b5ff689a4d4912943bcb62f7991832": {
          "model_module": "@jupyter-widgets/controls",
          "model_name": "HTMLModel",
          "model_module_version": "1.5.0",
          "state": {
            "_dom_classes": [],
            "_model_module": "@jupyter-widgets/controls",
            "_model_module_version": "1.5.0",
            "_model_name": "HTMLModel",
            "_view_count": null,
            "_view_module": "@jupyter-widgets/controls",
            "_view_module_version": "1.5.0",
            "_view_name": "HTMLView",
            "description": "",
            "description_tooltip": null,
            "layout": "IPY_MODEL_5404a95070824c9e871b6aed5a920604",
            "placeholder": "​",
            "style": "IPY_MODEL_585f4814312541d8b26da0df7a8961f6",
            "value": "Processing: 100%"
          }
        },
        "4241797eb92a4d67a3c29342b681a30e": {
          "model_module": "@jupyter-widgets/controls",
          "model_name": "FloatProgressModel",
          "model_module_version": "1.5.0",
          "state": {
            "_dom_classes": [],
            "_model_module": "@jupyter-widgets/controls",
            "_model_module_version": "1.5.0",
            "_model_name": "FloatProgressModel",
            "_view_count": null,
            "_view_module": "@jupyter-widgets/controls",
            "_view_module_version": "1.5.0",
            "_view_name": "ProgressView",
            "bar_style": "",
            "description": "",
            "description_tooltip": null,
            "layout": "IPY_MODEL_cf9c54413ff94fcf931859fc91f80d72",
            "max": 33,
            "min": 0,
            "orientation": "horizontal",
            "style": "IPY_MODEL_1278c4f21e894fd29d3707e81c5253cd",
            "value": 33
          }
        },
        "bd6c57ae14794ab98bc86069ddc61db3": {
          "model_module": "@jupyter-widgets/controls",
          "model_name": "HTMLModel",
          "model_module_version": "1.5.0",
          "state": {
            "_dom_classes": [],
            "_model_module": "@jupyter-widgets/controls",
            "_model_module_version": "1.5.0",
            "_model_name": "HTMLModel",
            "_view_count": null,
            "_view_module": "@jupyter-widgets/controls",
            "_view_module_version": "1.5.0",
            "_view_name": "HTMLView",
            "description": "",
            "description_tooltip": null,
            "layout": "IPY_MODEL_8a8907995f1240d0aa233e086b1b17e1",
            "placeholder": "​",
            "style": "IPY_MODEL_0454b7a026714a708bbaa2dee4a1249f",
            "value": " 33/33 [00:33&lt;00:00,  1.48it/s]"
          }
        },
        "3de56f528f7148cab9c0c468216f3ea9": {
          "model_module": "@jupyter-widgets/base",
          "model_name": "LayoutModel",
          "model_module_version": "1.2.0",
          "state": {
            "_model_module": "@jupyter-widgets/base",
            "_model_module_version": "1.2.0",
            "_model_name": "LayoutModel",
            "_view_count": null,
            "_view_module": "@jupyter-widgets/base",
            "_view_module_version": "1.2.0",
            "_view_name": "LayoutView",
            "align_content": null,
            "align_items": null,
            "align_self": null,
            "border": null,
            "bottom": null,
            "display": null,
            "flex": null,
            "flex_flow": null,
            "grid_area": null,
            "grid_auto_columns": null,
            "grid_auto_flow": null,
            "grid_auto_rows": null,
            "grid_column": null,
            "grid_gap": null,
            "grid_row": null,
            "grid_template_areas": null,
            "grid_template_columns": null,
            "grid_template_rows": null,
            "height": null,
            "justify_content": null,
            "justify_items": null,
            "left": null,
            "margin": null,
            "max_height": null,
            "max_width": null,
            "min_height": null,
            "min_width": null,
            "object_fit": null,
            "object_position": null,
            "order": null,
            "overflow": null,
            "overflow_x": null,
            "overflow_y": null,
            "padding": null,
            "right": null,
            "top": null,
            "visibility": "hidden",
            "width": null
          }
        },
        "5404a95070824c9e871b6aed5a920604": {
          "model_module": "@jupyter-widgets/base",
          "model_name": "LayoutModel",
          "model_module_version": "1.2.0",
          "state": {
            "_model_module": "@jupyter-widgets/base",
            "_model_module_version": "1.2.0",
            "_model_name": "LayoutModel",
            "_view_count": null,
            "_view_module": "@jupyter-widgets/base",
            "_view_module_version": "1.2.0",
            "_view_name": "LayoutView",
            "align_content": null,
            "align_items": null,
            "align_self": null,
            "border": null,
            "bottom": null,
            "display": null,
            "flex": null,
            "flex_flow": null,
            "grid_area": null,
            "grid_auto_columns": null,
            "grid_auto_flow": null,
            "grid_auto_rows": null,
            "grid_column": null,
            "grid_gap": null,
            "grid_row": null,
            "grid_template_areas": null,
            "grid_template_columns": null,
            "grid_template_rows": null,
            "height": null,
            "justify_content": null,
            "justify_items": null,
            "left": null,
            "margin": null,
            "max_height": null,
            "max_width": null,
            "min_height": null,
            "min_width": null,
            "object_fit": null,
            "object_position": null,
            "order": null,
            "overflow": null,
            "overflow_x": null,
            "overflow_y": null,
            "padding": null,
            "right": null,
            "top": null,
            "visibility": null,
            "width": null
          }
        },
        "585f4814312541d8b26da0df7a8961f6": {
          "model_module": "@jupyter-widgets/controls",
          "model_name": "DescriptionStyleModel",
          "model_module_version": "1.5.0",
          "state": {
            "_model_module": "@jupyter-widgets/controls",
            "_model_module_version": "1.5.0",
            "_model_name": "DescriptionStyleModel",
            "_view_count": null,
            "_view_module": "@jupyter-widgets/base",
            "_view_module_version": "1.2.0",
            "_view_name": "StyleView",
            "description_width": ""
          }
        },
        "cf9c54413ff94fcf931859fc91f80d72": {
          "model_module": "@jupyter-widgets/base",
          "model_name": "LayoutModel",
          "model_module_version": "1.2.0",
          "state": {
            "_model_module": "@jupyter-widgets/base",
            "_model_module_version": "1.2.0",
            "_model_name": "LayoutModel",
            "_view_count": null,
            "_view_module": "@jupyter-widgets/base",
            "_view_module_version": "1.2.0",
            "_view_name": "LayoutView",
            "align_content": null,
            "align_items": null,
            "align_self": null,
            "border": null,
            "bottom": null,
            "display": null,
            "flex": null,
            "flex_flow": null,
            "grid_area": null,
            "grid_auto_columns": null,
            "grid_auto_flow": null,
            "grid_auto_rows": null,
            "grid_column": null,
            "grid_gap": null,
            "grid_row": null,
            "grid_template_areas": null,
            "grid_template_columns": null,
            "grid_template_rows": null,
            "height": null,
            "justify_content": null,
            "justify_items": null,
            "left": null,
            "margin": null,
            "max_height": null,
            "max_width": null,
            "min_height": null,
            "min_width": null,
            "object_fit": null,
            "object_position": null,
            "order": null,
            "overflow": null,
            "overflow_x": null,
            "overflow_y": null,
            "padding": null,
            "right": null,
            "top": null,
            "visibility": null,
            "width": null
          }
        },
        "1278c4f21e894fd29d3707e81c5253cd": {
          "model_module": "@jupyter-widgets/controls",
          "model_name": "ProgressStyleModel",
          "model_module_version": "1.5.0",
          "state": {
            "_model_module": "@jupyter-widgets/controls",
            "_model_module_version": "1.5.0",
            "_model_name": "ProgressStyleModel",
            "_view_count": null,
            "_view_module": "@jupyter-widgets/base",
            "_view_module_version": "1.2.0",
            "_view_name": "StyleView",
            "bar_color": null,
            "description_width": ""
          }
        },
        "8a8907995f1240d0aa233e086b1b17e1": {
          "model_module": "@jupyter-widgets/base",
          "model_name": "LayoutModel",
          "model_module_version": "1.2.0",
          "state": {
            "_model_module": "@jupyter-widgets/base",
            "_model_module_version": "1.2.0",
            "_model_name": "LayoutModel",
            "_view_count": null,
            "_view_module": "@jupyter-widgets/base",
            "_view_module_version": "1.2.0",
            "_view_name": "LayoutView",
            "align_content": null,
            "align_items": null,
            "align_self": null,
            "border": null,
            "bottom": null,
            "display": null,
            "flex": null,
            "flex_flow": null,
            "grid_area": null,
            "grid_auto_columns": null,
            "grid_auto_flow": null,
            "grid_auto_rows": null,
            "grid_column": null,
            "grid_gap": null,
            "grid_row": null,
            "grid_template_areas": null,
            "grid_template_columns": null,
            "grid_template_rows": null,
            "height": null,
            "justify_content": null,
            "justify_items": null,
            "left": null,
            "margin": null,
            "max_height": null,
            "max_width": null,
            "min_height": null,
            "min_width": null,
            "object_fit": null,
            "object_position": null,
            "order": null,
            "overflow": null,
            "overflow_x": null,
            "overflow_y": null,
            "padding": null,
            "right": null,
            "top": null,
            "visibility": null,
            "width": null
          }
        },
        "0454b7a026714a708bbaa2dee4a1249f": {
          "model_module": "@jupyter-widgets/controls",
          "model_name": "DescriptionStyleModel",
          "model_module_version": "1.5.0",
          "state": {
            "_model_module": "@jupyter-widgets/controls",
            "_model_module_version": "1.5.0",
            "_model_name": "DescriptionStyleModel",
            "_view_count": null,
            "_view_module": "@jupyter-widgets/base",
            "_view_module_version": "1.2.0",
            "_view_name": "StyleView",
            "description_width": ""
          }
        },
        "a0bae6958dea40c283708cba3bd2f54d": {
          "model_module": "@jupyter-widgets/controls",
          "model_name": "HBoxModel",
          "model_module_version": "1.5.0",
          "state": {
            "_dom_classes": [],
            "_model_module": "@jupyter-widgets/controls",
            "_model_module_version": "1.5.0",
            "_model_name": "HBoxModel",
            "_view_count": null,
            "_view_module": "@jupyter-widgets/controls",
            "_view_module_version": "1.5.0",
            "_view_name": "HBoxView",
            "box_style": "",
            "children": [
              "IPY_MODEL_fce70097042a4ceebcc3ea2774783197",
              "IPY_MODEL_a41e84bb8b57463eafa9f0d36d6876a2",
              "IPY_MODEL_c94c1e75ad1d4b639e032a794b0919eb"
            ],
            "layout": "IPY_MODEL_87a098434e15493e9a7197f1fe4fec26"
          }
        },
        "fce70097042a4ceebcc3ea2774783197": {
          "model_module": "@jupyter-widgets/controls",
          "model_name": "HTMLModel",
          "model_module_version": "1.5.0",
          "state": {
            "_dom_classes": [],
            "_model_module": "@jupyter-widgets/controls",
            "_model_module_version": "1.5.0",
            "_model_name": "HTMLModel",
            "_view_count": null,
            "_view_module": "@jupyter-widgets/controls",
            "_view_module_version": "1.5.0",
            "_view_name": "HTMLView",
            "description": "",
            "description_tooltip": null,
            "layout": "IPY_MODEL_86cd54319b81430e85bd27cadfa57739",
            "placeholder": "​",
            "style": "IPY_MODEL_8258502d1a2647cc97cc3494ec709e42",
            "value": "Processing: 100%"
          }
        },
        "a41e84bb8b57463eafa9f0d36d6876a2": {
          "model_module": "@jupyter-widgets/controls",
          "model_name": "FloatProgressModel",
          "model_module_version": "1.5.0",
          "state": {
            "_dom_classes": [],
            "_model_module": "@jupyter-widgets/controls",
            "_model_module_version": "1.5.0",
            "_model_name": "FloatProgressModel",
            "_view_count": null,
            "_view_module": "@jupyter-widgets/controls",
            "_view_module_version": "1.5.0",
            "_view_name": "ProgressView",
            "bar_style": "",
            "description": "",
            "description_tooltip": null,
            "layout": "IPY_MODEL_34080c7231d54719a37bc489a5999531",
            "max": 4,
            "min": 0,
            "orientation": "horizontal",
            "style": "IPY_MODEL_671eba6704734eb98cd3c7004a7471bb",
            "value": 4
          }
        },
        "c94c1e75ad1d4b639e032a794b0919eb": {
          "model_module": "@jupyter-widgets/controls",
          "model_name": "HTMLModel",
          "model_module_version": "1.5.0",
          "state": {
            "_dom_classes": [],
            "_model_module": "@jupyter-widgets/controls",
            "_model_module_version": "1.5.0",
            "_model_name": "HTMLModel",
            "_view_count": null,
            "_view_module": "@jupyter-widgets/controls",
            "_view_module_version": "1.5.0",
            "_view_name": "HTMLView",
            "description": "",
            "description_tooltip": null,
            "layout": "IPY_MODEL_5ad61069c4ff4f01ae7017ab57855fc4",
            "placeholder": "​",
            "style": "IPY_MODEL_17b5397be941418a8b369920fd3517ae",
            "value": " 4/4 [00:02&lt;00:00,  1.60it/s]"
          }
        },
        "87a098434e15493e9a7197f1fe4fec26": {
          "model_module": "@jupyter-widgets/base",
          "model_name": "LayoutModel",
          "model_module_version": "1.2.0",
          "state": {
            "_model_module": "@jupyter-widgets/base",
            "_model_module_version": "1.2.0",
            "_model_name": "LayoutModel",
            "_view_count": null,
            "_view_module": "@jupyter-widgets/base",
            "_view_module_version": "1.2.0",
            "_view_name": "LayoutView",
            "align_content": null,
            "align_items": null,
            "align_self": null,
            "border": null,
            "bottom": null,
            "display": null,
            "flex": null,
            "flex_flow": null,
            "grid_area": null,
            "grid_auto_columns": null,
            "grid_auto_flow": null,
            "grid_auto_rows": null,
            "grid_column": null,
            "grid_gap": null,
            "grid_row": null,
            "grid_template_areas": null,
            "grid_template_columns": null,
            "grid_template_rows": null,
            "height": null,
            "justify_content": null,
            "justify_items": null,
            "left": null,
            "margin": null,
            "max_height": null,
            "max_width": null,
            "min_height": null,
            "min_width": null,
            "object_fit": null,
            "object_position": null,
            "order": null,
            "overflow": null,
            "overflow_x": null,
            "overflow_y": null,
            "padding": null,
            "right": null,
            "top": null,
            "visibility": "hidden",
            "width": null
          }
        },
        "86cd54319b81430e85bd27cadfa57739": {
          "model_module": "@jupyter-widgets/base",
          "model_name": "LayoutModel",
          "model_module_version": "1.2.0",
          "state": {
            "_model_module": "@jupyter-widgets/base",
            "_model_module_version": "1.2.0",
            "_model_name": "LayoutModel",
            "_view_count": null,
            "_view_module": "@jupyter-widgets/base",
            "_view_module_version": "1.2.0",
            "_view_name": "LayoutView",
            "align_content": null,
            "align_items": null,
            "align_self": null,
            "border": null,
            "bottom": null,
            "display": null,
            "flex": null,
            "flex_flow": null,
            "grid_area": null,
            "grid_auto_columns": null,
            "grid_auto_flow": null,
            "grid_auto_rows": null,
            "grid_column": null,
            "grid_gap": null,
            "grid_row": null,
            "grid_template_areas": null,
            "grid_template_columns": null,
            "grid_template_rows": null,
            "height": null,
            "justify_content": null,
            "justify_items": null,
            "left": null,
            "margin": null,
            "max_height": null,
            "max_width": null,
            "min_height": null,
            "min_width": null,
            "object_fit": null,
            "object_position": null,
            "order": null,
            "overflow": null,
            "overflow_x": null,
            "overflow_y": null,
            "padding": null,
            "right": null,
            "top": null,
            "visibility": null,
            "width": null
          }
        },
        "8258502d1a2647cc97cc3494ec709e42": {
          "model_module": "@jupyter-widgets/controls",
          "model_name": "DescriptionStyleModel",
          "model_module_version": "1.5.0",
          "state": {
            "_model_module": "@jupyter-widgets/controls",
            "_model_module_version": "1.5.0",
            "_model_name": "DescriptionStyleModel",
            "_view_count": null,
            "_view_module": "@jupyter-widgets/base",
            "_view_module_version": "1.2.0",
            "_view_name": "StyleView",
            "description_width": ""
          }
        },
        "34080c7231d54719a37bc489a5999531": {
          "model_module": "@jupyter-widgets/base",
          "model_name": "LayoutModel",
          "model_module_version": "1.2.0",
          "state": {
            "_model_module": "@jupyter-widgets/base",
            "_model_module_version": "1.2.0",
            "_model_name": "LayoutModel",
            "_view_count": null,
            "_view_module": "@jupyter-widgets/base",
            "_view_module_version": "1.2.0",
            "_view_name": "LayoutView",
            "align_content": null,
            "align_items": null,
            "align_self": null,
            "border": null,
            "bottom": null,
            "display": null,
            "flex": null,
            "flex_flow": null,
            "grid_area": null,
            "grid_auto_columns": null,
            "grid_auto_flow": null,
            "grid_auto_rows": null,
            "grid_column": null,
            "grid_gap": null,
            "grid_row": null,
            "grid_template_areas": null,
            "grid_template_columns": null,
            "grid_template_rows": null,
            "height": null,
            "justify_content": null,
            "justify_items": null,
            "left": null,
            "margin": null,
            "max_height": null,
            "max_width": null,
            "min_height": null,
            "min_width": null,
            "object_fit": null,
            "object_position": null,
            "order": null,
            "overflow": null,
            "overflow_x": null,
            "overflow_y": null,
            "padding": null,
            "right": null,
            "top": null,
            "visibility": null,
            "width": null
          }
        },
        "671eba6704734eb98cd3c7004a7471bb": {
          "model_module": "@jupyter-widgets/controls",
          "model_name": "ProgressStyleModel",
          "model_module_version": "1.5.0",
          "state": {
            "_model_module": "@jupyter-widgets/controls",
            "_model_module_version": "1.5.0",
            "_model_name": "ProgressStyleModel",
            "_view_count": null,
            "_view_module": "@jupyter-widgets/base",
            "_view_module_version": "1.2.0",
            "_view_name": "StyleView",
            "bar_color": null,
            "description_width": ""
          }
        },
        "5ad61069c4ff4f01ae7017ab57855fc4": {
          "model_module": "@jupyter-widgets/base",
          "model_name": "LayoutModel",
          "model_module_version": "1.2.0",
          "state": {
            "_model_module": "@jupyter-widgets/base",
            "_model_module_version": "1.2.0",
            "_model_name": "LayoutModel",
            "_view_count": null,
            "_view_module": "@jupyter-widgets/base",
            "_view_module_version": "1.2.0",
            "_view_name": "LayoutView",
            "align_content": null,
            "align_items": null,
            "align_self": null,
            "border": null,
            "bottom": null,
            "display": null,
            "flex": null,
            "flex_flow": null,
            "grid_area": null,
            "grid_auto_columns": null,
            "grid_auto_flow": null,
            "grid_auto_rows": null,
            "grid_column": null,
            "grid_gap": null,
            "grid_row": null,
            "grid_template_areas": null,
            "grid_template_columns": null,
            "grid_template_rows": null,
            "height": null,
            "justify_content": null,
            "justify_items": null,
            "left": null,
            "margin": null,
            "max_height": null,
            "max_width": null,
            "min_height": null,
            "min_width": null,
            "object_fit": null,
            "object_position": null,
            "order": null,
            "overflow": null,
            "overflow_x": null,
            "overflow_y": null,
            "padding": null,
            "right": null,
            "top": null,
            "visibility": null,
            "width": null
          }
        },
        "17b5397be941418a8b369920fd3517ae": {
          "model_module": "@jupyter-widgets/controls",
          "model_name": "DescriptionStyleModel",
          "model_module_version": "1.5.0",
          "state": {
            "_model_module": "@jupyter-widgets/controls",
            "_model_module_version": "1.5.0",
            "_model_name": "DescriptionStyleModel",
            "_view_count": null,
            "_view_module": "@jupyter-widgets/base",
            "_view_module_version": "1.2.0",
            "_view_name": "StyleView",
            "description_width": ""
          }
        },
        "99b7bc355eba40f4b9df222015a59212": {
          "model_module": "@jupyter-widgets/base",
          "model_name": "LayoutModel",
          "model_module_version": "1.2.0",
          "state": {
            "_model_module": "@jupyter-widgets/base",
            "_model_module_version": "1.2.0",
            "_model_name": "LayoutModel",
            "_view_count": null,
            "_view_module": "@jupyter-widgets/base",
            "_view_module_version": "1.2.0",
            "_view_name": "LayoutView",
            "align_content": null,
            "align_items": null,
            "align_self": null,
            "border": null,
            "bottom": null,
            "display": null,
            "flex": null,
            "flex_flow": null,
            "grid_area": null,
            "grid_auto_columns": null,
            "grid_auto_flow": null,
            "grid_auto_rows": null,
            "grid_column": null,
            "grid_gap": null,
            "grid_row": null,
            "grid_template_areas": null,
            "grid_template_columns": null,
            "grid_template_rows": null,
            "height": null,
            "justify_content": null,
            "justify_items": null,
            "left": null,
            "margin": null,
            "max_height": null,
            "max_width": null,
            "min_height": null,
            "min_width": null,
            "object_fit": null,
            "object_position": null,
            "order": null,
            "overflow": null,
            "overflow_x": null,
            "overflow_y": null,
            "padding": null,
            "right": null,
            "top": null,
            "visibility": null,
            "width": null
          }
        },
        "ccfb508d618c4ea9abcf15eb51eb4319": {
          "model_module": "@jupyter-widgets/controls",
          "model_name": "ProgressStyleModel",
          "model_module_version": "1.5.0",
          "state": {
            "_model_module": "@jupyter-widgets/controls",
            "_model_module_version": "1.5.0",
            "_model_name": "ProgressStyleModel",
            "_view_count": null,
            "_view_module": "@jupyter-widgets/base",
            "_view_module_version": "1.2.0",
            "_view_name": "StyleView",
            "bar_color": null,
            "description_width": ""
          }
        },
        "cf06f12d9e414c738199ba3bca236452": {
          "model_module": "@jupyter-widgets/base",
          "model_name": "LayoutModel",
          "model_module_version": "1.2.0",
          "state": {
            "_model_module": "@jupyter-widgets/base",
            "_model_module_version": "1.2.0",
            "_model_name": "LayoutModel",
            "_view_count": null,
            "_view_module": "@jupyter-widgets/base",
            "_view_module_version": "1.2.0",
            "_view_name": "LayoutView",
            "align_content": null,
            "align_items": null,
            "align_self": null,
            "border": null,
            "bottom": null,
            "display": null,
            "flex": null,
            "flex_flow": null,
            "grid_area": null,
            "grid_auto_columns": null,
            "grid_auto_flow": null,
            "grid_auto_rows": null,
            "grid_column": null,
            "grid_gap": null,
            "grid_row": null,
            "grid_template_areas": null,
            "grid_template_columns": null,
            "grid_template_rows": null,
            "height": null,
            "justify_content": null,
            "justify_items": null,
            "left": null,
            "margin": null,
            "max_height": null,
            "max_width": null,
            "min_height": null,
            "min_width": null,
            "object_fit": null,
            "object_position": null,
            "order": null,
            "overflow": null,
            "overflow_x": null,
            "overflow_y": null,
            "padding": null,
            "right": null,
            "top": null,
            "visibility": null,
            "width": null
          }
        },
        "6d073b28b0014e99bafedacd237f2079": {
          "model_module": "@jupyter-widgets/controls",
          "model_name": "DescriptionStyleModel",
          "model_module_version": "1.5.0",
          "state": {
            "_model_module": "@jupyter-widgets/controls",
            "_model_module_version": "1.5.0",
            "_model_name": "DescriptionStyleModel",
            "_view_count": null,
            "_view_module": "@jupyter-widgets/base",
            "_view_module_version": "1.2.0",
            "_view_name": "StyleView",
            "description_width": ""
          }
        },
        "fbd984ef150b4ba4b1395c42d4258c5c": {
          "model_module": "@jupyter-widgets/base",
          "model_name": "LayoutModel",
          "model_module_version": "1.2.0",
          "state": {
            "_model_module": "@jupyter-widgets/base",
            "_model_module_version": "1.2.0",
            "_model_name": "LayoutModel",
            "_view_count": null,
            "_view_module": "@jupyter-widgets/base",
            "_view_module_version": "1.2.0",
            "_view_name": "LayoutView",
            "align_content": null,
            "align_items": null,
            "align_self": null,
            "border": null,
            "bottom": null,
            "display": null,
            "flex": null,
            "flex_flow": null,
            "grid_area": null,
            "grid_auto_columns": null,
            "grid_auto_flow": null,
            "grid_auto_rows": null,
            "grid_column": null,
            "grid_gap": null,
            "grid_row": null,
            "grid_template_areas": null,
            "grid_template_columns": null,
            "grid_template_rows": null,
            "height": null,
            "justify_content": null,
            "justify_items": null,
            "left": null,
            "margin": null,
            "max_height": null,
            "max_width": null,
            "min_height": null,
            "min_width": null,
            "object_fit": null,
            "object_position": null,
            "order": null,
            "overflow": null,
            "overflow_x": null,
            "overflow_y": null,
            "padding": null,
            "right": null,
            "top": null,
            "visibility": null,
            "width": null
          }
        },
        "467bedf88e0247598cd9a6e219f0f4cc": {
          "model_module": "@jupyter-widgets/controls",
          "model_name": "DescriptionStyleModel",
          "model_module_version": "1.5.0",
          "state": {
            "_model_module": "@jupyter-widgets/controls",
            "_model_module_version": "1.5.0",
            "_model_name": "DescriptionStyleModel",
            "_view_count": null,
            "_view_module": "@jupyter-widgets/base",
            "_view_module_version": "1.2.0",
            "_view_name": "StyleView",
            "description_width": ""
          }
        },
        "d1f9bd060c194c69a8ff5714918fcee5": {
          "model_module": "@jupyter-widgets/controls",
          "model_name": "HTMLModel",
          "model_module_version": "1.5.0",
          "state": {
            "_dom_classes": [],
            "_model_module": "@jupyter-widgets/controls",
            "_model_module_version": "1.5.0",
            "_model_name": "HTMLModel",
            "_view_count": null,
            "_view_module": "@jupyter-widgets/controls",
            "_view_module_version": "1.5.0",
            "_view_name": "HTMLView",
            "description": "",
            "description_tooltip": null,
            "layout": "IPY_MODEL_cf06f12d9e414c738199ba3bca236452",
            "placeholder": "​",
            "style": "IPY_MODEL_6d073b28b0014e99bafedacd237f2079",
            "value": "Processing: 100%"
          }
        },
        "36e8f8e1bcbc4f8eb1b564bf77850789": {
          "model_module": "@jupyter-widgets/controls",
          "model_name": "FloatProgressModel",
          "model_module_version": "1.5.0",
          "state": {
            "_dom_classes": [],
            "_model_module": "@jupyter-widgets/controls",
            "_model_module_version": "1.5.0",
            "_model_name": "FloatProgressModel",
            "_view_count": null,
            "_view_module": "@jupyter-widgets/controls",
            "_view_module_version": "1.5.0",
            "_view_name": "ProgressView",
            "bar_style": "",
            "description": "",
            "description_tooltip": null,
            "layout": "IPY_MODEL_99b7bc355eba40f4b9df222015a59212",
            "max": 4,
            "min": 0,
            "orientation": "horizontal",
            "style": "IPY_MODEL_ccfb508d618c4ea9abcf15eb51eb4319",
            "value": 4
          }
        },
        "4e9e78d0da2143a8a11da5e2dedba54e": {
          "model_module": "@jupyter-widgets/controls",
          "model_name": "HTMLModel",
          "model_module_version": "1.5.0",
          "state": {
            "_dom_classes": [],
            "_model_module": "@jupyter-widgets/controls",
            "_model_module_version": "1.5.0",
            "_model_name": "HTMLModel",
            "_view_count": null,
            "_view_module": "@jupyter-widgets/controls",
            "_view_module_version": "1.5.0",
            "_view_name": "HTMLView",
            "description": "",
            "description_tooltip": null,
            "layout": "IPY_MODEL_fbd984ef150b4ba4b1395c42d4258c5c",
            "placeholder": "​",
            "style": "IPY_MODEL_467bedf88e0247598cd9a6e219f0f4cc",
            "value": " 4/4 [00:01&lt;00:00,  3.23it/s]"
          }
        },
        "c76728ca6a9b46a09b1ae0230ea8cbf0": {
          "model_module": "@jupyter-widgets/base",
          "model_name": "LayoutModel",
          "model_module_version": "1.2.0",
          "state": {
            "_model_module": "@jupyter-widgets/base",
            "_model_module_version": "1.2.0",
            "_model_name": "LayoutModel",
            "_view_count": null,
            "_view_module": "@jupyter-widgets/base",
            "_view_module_version": "1.2.0",
            "_view_name": "LayoutView",
            "align_content": null,
            "align_items": null,
            "align_self": null,
            "border": null,
            "bottom": null,
            "display": null,
            "flex": null,
            "flex_flow": null,
            "grid_area": null,
            "grid_auto_columns": null,
            "grid_auto_flow": null,
            "grid_auto_rows": null,
            "grid_column": null,
            "grid_gap": null,
            "grid_row": null,
            "grid_template_areas": null,
            "grid_template_columns": null,
            "grid_template_rows": null,
            "height": null,
            "justify_content": null,
            "justify_items": null,
            "left": null,
            "margin": null,
            "max_height": null,
            "max_width": null,
            "min_height": null,
            "min_width": null,
            "object_fit": null,
            "object_position": null,
            "order": null,
            "overflow": null,
            "overflow_x": null,
            "overflow_y": null,
            "padding": null,
            "right": null,
            "top": null,
            "visibility": "hidden",
            "width": null
          }
        },
        "f901a80df0a642a89292b5a4accb70b7": {
          "model_module": "@jupyter-widgets/controls",
          "model_name": "HBoxModel",
          "model_module_version": "1.5.0",
          "state": {
            "_dom_classes": [],
            "_model_module": "@jupyter-widgets/controls",
            "_model_module_version": "1.5.0",
            "_model_name": "HBoxModel",
            "_view_count": null,
            "_view_module": "@jupyter-widgets/controls",
            "_view_module_version": "1.5.0",
            "_view_name": "HBoxView",
            "box_style": "",
            "children": [
              "IPY_MODEL_d1f9bd060c194c69a8ff5714918fcee5",
              "IPY_MODEL_36e8f8e1bcbc4f8eb1b564bf77850789",
              "IPY_MODEL_4e9e78d0da2143a8a11da5e2dedba54e"
            ],
            "layout": "IPY_MODEL_c76728ca6a9b46a09b1ae0230ea8cbf0"
          }
        },
        "fe153665319b424e8e249578adad329d": {
          "model_module": "@jupyter-widgets/base",
          "model_name": "LayoutModel",
          "model_module_version": "1.2.0",
          "state": {
            "_model_module": "@jupyter-widgets/base",
            "_model_module_version": "1.2.0",
            "_model_name": "LayoutModel",
            "_view_count": null,
            "_view_module": "@jupyter-widgets/base",
            "_view_module_version": "1.2.0",
            "_view_name": "LayoutView",
            "align_content": null,
            "align_items": null,
            "align_self": null,
            "border": null,
            "bottom": null,
            "display": null,
            "flex": null,
            "flex_flow": null,
            "grid_area": null,
            "grid_auto_columns": null,
            "grid_auto_flow": null,
            "grid_auto_rows": null,
            "grid_column": null,
            "grid_gap": null,
            "grid_row": null,
            "grid_template_areas": null,
            "grid_template_columns": null,
            "grid_template_rows": null,
            "height": null,
            "justify_content": null,
            "justify_items": null,
            "left": null,
            "margin": null,
            "max_height": null,
            "max_width": null,
            "min_height": null,
            "min_width": null,
            "object_fit": null,
            "object_position": null,
            "order": null,
            "overflow": null,
            "overflow_x": null,
            "overflow_y": null,
            "padding": null,
            "right": null,
            "top": null,
            "visibility": null,
            "width": null
          }
        },
        "66a420150b0d4f53a7fbc9ca38cd3148": {
          "model_module": "@jupyter-widgets/controls",
          "model_name": "ProgressStyleModel",
          "model_module_version": "1.5.0",
          "state": {
            "_model_module": "@jupyter-widgets/controls",
            "_model_module_version": "1.5.0",
            "_model_name": "ProgressStyleModel",
            "_view_count": null,
            "_view_module": "@jupyter-widgets/base",
            "_view_module_version": "1.2.0",
            "_view_name": "StyleView",
            "bar_color": null,
            "description_width": ""
          }
        },
        "956f8e0e670a43e8aa8469602a66e99f": {
          "model_module": "@jupyter-widgets/base",
          "model_name": "LayoutModel",
          "model_module_version": "1.2.0",
          "state": {
            "_model_module": "@jupyter-widgets/base",
            "_model_module_version": "1.2.0",
            "_model_name": "LayoutModel",
            "_view_count": null,
            "_view_module": "@jupyter-widgets/base",
            "_view_module_version": "1.2.0",
            "_view_name": "LayoutView",
            "align_content": null,
            "align_items": null,
            "align_self": null,
            "border": null,
            "bottom": null,
            "display": null,
            "flex": null,
            "flex_flow": null,
            "grid_area": null,
            "grid_auto_columns": null,
            "grid_auto_flow": null,
            "grid_auto_rows": null,
            "grid_column": null,
            "grid_gap": null,
            "grid_row": null,
            "grid_template_areas": null,
            "grid_template_columns": null,
            "grid_template_rows": null,
            "height": null,
            "justify_content": null,
            "justify_items": null,
            "left": null,
            "margin": null,
            "max_height": null,
            "max_width": null,
            "min_height": null,
            "min_width": null,
            "object_fit": null,
            "object_position": null,
            "order": null,
            "overflow": null,
            "overflow_x": null,
            "overflow_y": null,
            "padding": null,
            "right": null,
            "top": null,
            "visibility": null,
            "width": null
          }
        },
        "aaf547db17d8458a8fda8063b1a87473": {
          "model_module": "@jupyter-widgets/controls",
          "model_name": "DescriptionStyleModel",
          "model_module_version": "1.5.0",
          "state": {
            "_model_module": "@jupyter-widgets/controls",
            "_model_module_version": "1.5.0",
            "_model_name": "DescriptionStyleModel",
            "_view_count": null,
            "_view_module": "@jupyter-widgets/base",
            "_view_module_version": "1.2.0",
            "_view_name": "StyleView",
            "description_width": ""
          }
        },
        "9a11853ca3ad4b36a6e34497a5d7f370": {
          "model_module": "@jupyter-widgets/base",
          "model_name": "LayoutModel",
          "model_module_version": "1.2.0",
          "state": {
            "_model_module": "@jupyter-widgets/base",
            "_model_module_version": "1.2.0",
            "_model_name": "LayoutModel",
            "_view_count": null,
            "_view_module": "@jupyter-widgets/base",
            "_view_module_version": "1.2.0",
            "_view_name": "LayoutView",
            "align_content": null,
            "align_items": null,
            "align_self": null,
            "border": null,
            "bottom": null,
            "display": null,
            "flex": null,
            "flex_flow": null,
            "grid_area": null,
            "grid_auto_columns": null,
            "grid_auto_flow": null,
            "grid_auto_rows": null,
            "grid_column": null,
            "grid_gap": null,
            "grid_row": null,
            "grid_template_areas": null,
            "grid_template_columns": null,
            "grid_template_rows": null,
            "height": null,
            "justify_content": null,
            "justify_items": null,
            "left": null,
            "margin": null,
            "max_height": null,
            "max_width": null,
            "min_height": null,
            "min_width": null,
            "object_fit": null,
            "object_position": null,
            "order": null,
            "overflow": null,
            "overflow_x": null,
            "overflow_y": null,
            "padding": null,
            "right": null,
            "top": null,
            "visibility": null,
            "width": null
          }
        },
        "11418e47b61b4733a8b6b39729cedeed": {
          "model_module": "@jupyter-widgets/controls",
          "model_name": "DescriptionStyleModel",
          "model_module_version": "1.5.0",
          "state": {
            "_model_module": "@jupyter-widgets/controls",
            "_model_module_version": "1.5.0",
            "_model_name": "DescriptionStyleModel",
            "_view_count": null,
            "_view_module": "@jupyter-widgets/base",
            "_view_module_version": "1.2.0",
            "_view_name": "StyleView",
            "description_width": ""
          }
        },
        "8ac48f282f594641acaead6787484ab3": {
          "model_module": "@jupyter-widgets/controls",
          "model_name": "HTMLModel",
          "model_module_version": "1.5.0",
          "state": {
            "_dom_classes": [],
            "_model_module": "@jupyter-widgets/controls",
            "_model_module_version": "1.5.0",
            "_model_name": "HTMLModel",
            "_view_count": null,
            "_view_module": "@jupyter-widgets/controls",
            "_view_module_version": "1.5.0",
            "_view_name": "HTMLView",
            "description": "",
            "description_tooltip": null,
            "layout": "IPY_MODEL_956f8e0e670a43e8aa8469602a66e99f",
            "placeholder": "​",
            "style": "IPY_MODEL_aaf547db17d8458a8fda8063b1a87473",
            "value": "Processing: 100%"
          }
        },
        "90b1a9fac9d3463d8bff8da7e478f6cd": {
          "model_module": "@jupyter-widgets/controls",
          "model_name": "FloatProgressModel",
          "model_module_version": "1.5.0",
          "state": {
            "_dom_classes": [],
            "_model_module": "@jupyter-widgets/controls",
            "_model_module_version": "1.5.0",
            "_model_name": "FloatProgressModel",
            "_view_count": null,
            "_view_module": "@jupyter-widgets/controls",
            "_view_module_version": "1.5.0",
            "_view_name": "ProgressView",
            "bar_style": "",
            "description": "",
            "description_tooltip": null,
            "layout": "IPY_MODEL_fe153665319b424e8e249578adad329d",
            "max": 4,
            "min": 0,
            "orientation": "horizontal",
            "style": "IPY_MODEL_66a420150b0d4f53a7fbc9ca38cd3148",
            "value": 4
          }
        },
        "64074d29d630478199326ac747f07c4a": {
          "model_module": "@jupyter-widgets/controls",
          "model_name": "HTMLModel",
          "model_module_version": "1.5.0",
          "state": {
            "_dom_classes": [],
            "_model_module": "@jupyter-widgets/controls",
            "_model_module_version": "1.5.0",
            "_model_name": "HTMLModel",
            "_view_count": null,
            "_view_module": "@jupyter-widgets/controls",
            "_view_module_version": "1.5.0",
            "_view_name": "HTMLView",
            "description": "",
            "description_tooltip": null,
            "layout": "IPY_MODEL_9a11853ca3ad4b36a6e34497a5d7f370",
            "placeholder": "​",
            "style": "IPY_MODEL_11418e47b61b4733a8b6b39729cedeed",
            "value": " 4/4 [00:03&lt;00:00,  1.29it/s]"
          }
        },
        "6770ed44746e45178833e04284f00b8b": {
          "model_module": "@jupyter-widgets/base",
          "model_name": "LayoutModel",
          "model_module_version": "1.2.0",
          "state": {
            "_model_module": "@jupyter-widgets/base",
            "_model_module_version": "1.2.0",
            "_model_name": "LayoutModel",
            "_view_count": null,
            "_view_module": "@jupyter-widgets/base",
            "_view_module_version": "1.2.0",
            "_view_name": "LayoutView",
            "align_content": null,
            "align_items": null,
            "align_self": null,
            "border": null,
            "bottom": null,
            "display": null,
            "flex": null,
            "flex_flow": null,
            "grid_area": null,
            "grid_auto_columns": null,
            "grid_auto_flow": null,
            "grid_auto_rows": null,
            "grid_column": null,
            "grid_gap": null,
            "grid_row": null,
            "grid_template_areas": null,
            "grid_template_columns": null,
            "grid_template_rows": null,
            "height": null,
            "justify_content": null,
            "justify_items": null,
            "left": null,
            "margin": null,
            "max_height": null,
            "max_width": null,
            "min_height": null,
            "min_width": null,
            "object_fit": null,
            "object_position": null,
            "order": null,
            "overflow": null,
            "overflow_x": null,
            "overflow_y": null,
            "padding": null,
            "right": null,
            "top": null,
            "visibility": "hidden",
            "width": null
          }
        },
        "9cb8c597793142b9865c567f77457220": {
          "model_module": "@jupyter-widgets/controls",
          "model_name": "HBoxModel",
          "model_module_version": "1.5.0",
          "state": {
            "_dom_classes": [],
            "_model_module": "@jupyter-widgets/controls",
            "_model_module_version": "1.5.0",
            "_model_name": "HBoxModel",
            "_view_count": null,
            "_view_module": "@jupyter-widgets/controls",
            "_view_module_version": "1.5.0",
            "_view_name": "HBoxView",
            "box_style": "",
            "children": [
              "IPY_MODEL_8ac48f282f594641acaead6787484ab3",
              "IPY_MODEL_90b1a9fac9d3463d8bff8da7e478f6cd",
              "IPY_MODEL_64074d29d630478199326ac747f07c4a"
            ],
            "layout": "IPY_MODEL_6770ed44746e45178833e04284f00b8b"
          }
        },
        "a06d637fb3044c67a0cba3f3499a7898": {
          "model_module": "@jupyter-widgets/base",
          "model_name": "LayoutModel",
          "model_module_version": "1.2.0",
          "state": {
            "_model_module": "@jupyter-widgets/base",
            "_model_module_version": "1.2.0",
            "_model_name": "LayoutModel",
            "_view_count": null,
            "_view_module": "@jupyter-widgets/base",
            "_view_module_version": "1.2.0",
            "_view_name": "LayoutView",
            "align_content": null,
            "align_items": null,
            "align_self": null,
            "border": null,
            "bottom": null,
            "display": null,
            "flex": null,
            "flex_flow": null,
            "grid_area": null,
            "grid_auto_columns": null,
            "grid_auto_flow": null,
            "grid_auto_rows": null,
            "grid_column": null,
            "grid_gap": null,
            "grid_row": null,
            "grid_template_areas": null,
            "grid_template_columns": null,
            "grid_template_rows": null,
            "height": null,
            "justify_content": null,
            "justify_items": null,
            "left": null,
            "margin": null,
            "max_height": null,
            "max_width": null,
            "min_height": null,
            "min_width": null,
            "object_fit": null,
            "object_position": null,
            "order": null,
            "overflow": null,
            "overflow_x": null,
            "overflow_y": null,
            "padding": null,
            "right": null,
            "top": null,
            "visibility": null,
            "width": null
          }
        },
        "824b263a14164323b2da460609e09b95": {
          "model_module": "@jupyter-widgets/controls",
          "model_name": "ProgressStyleModel",
          "model_module_version": "1.5.0",
          "state": {
            "_model_module": "@jupyter-widgets/controls",
            "_model_module_version": "1.5.0",
            "_model_name": "ProgressStyleModel",
            "_view_count": null,
            "_view_module": "@jupyter-widgets/base",
            "_view_module_version": "1.2.0",
            "_view_name": "StyleView",
            "bar_color": null,
            "description_width": ""
          }
        },
        "d9fab4afcff54ea4a2c1f2553d61d66e": {
          "model_module": "@jupyter-widgets/base",
          "model_name": "LayoutModel",
          "model_module_version": "1.2.0",
          "state": {
            "_model_module": "@jupyter-widgets/base",
            "_model_module_version": "1.2.0",
            "_model_name": "LayoutModel",
            "_view_count": null,
            "_view_module": "@jupyter-widgets/base",
            "_view_module_version": "1.2.0",
            "_view_name": "LayoutView",
            "align_content": null,
            "align_items": null,
            "align_self": null,
            "border": null,
            "bottom": null,
            "display": null,
            "flex": null,
            "flex_flow": null,
            "grid_area": null,
            "grid_auto_columns": null,
            "grid_auto_flow": null,
            "grid_auto_rows": null,
            "grid_column": null,
            "grid_gap": null,
            "grid_row": null,
            "grid_template_areas": null,
            "grid_template_columns": null,
            "grid_template_rows": null,
            "height": null,
            "justify_content": null,
            "justify_items": null,
            "left": null,
            "margin": null,
            "max_height": null,
            "max_width": null,
            "min_height": null,
            "min_width": null,
            "object_fit": null,
            "object_position": null,
            "order": null,
            "overflow": null,
            "overflow_x": null,
            "overflow_y": null,
            "padding": null,
            "right": null,
            "top": null,
            "visibility": null,
            "width": null
          }
        },
        "af0cb797a6264c0c9fe24f3b827c2208": {
          "model_module": "@jupyter-widgets/controls",
          "model_name": "DescriptionStyleModel",
          "model_module_version": "1.5.0",
          "state": {
            "_model_module": "@jupyter-widgets/controls",
            "_model_module_version": "1.5.0",
            "_model_name": "DescriptionStyleModel",
            "_view_count": null,
            "_view_module": "@jupyter-widgets/base",
            "_view_module_version": "1.2.0",
            "_view_name": "StyleView",
            "description_width": ""
          }
        },
        "9532a45e16304955be62f2f43d68a75f": {
          "model_module": "@jupyter-widgets/base",
          "model_name": "LayoutModel",
          "model_module_version": "1.2.0",
          "state": {
            "_model_module": "@jupyter-widgets/base",
            "_model_module_version": "1.2.0",
            "_model_name": "LayoutModel",
            "_view_count": null,
            "_view_module": "@jupyter-widgets/base",
            "_view_module_version": "1.2.0",
            "_view_name": "LayoutView",
            "align_content": null,
            "align_items": null,
            "align_self": null,
            "border": null,
            "bottom": null,
            "display": null,
            "flex": null,
            "flex_flow": null,
            "grid_area": null,
            "grid_auto_columns": null,
            "grid_auto_flow": null,
            "grid_auto_rows": null,
            "grid_column": null,
            "grid_gap": null,
            "grid_row": null,
            "grid_template_areas": null,
            "grid_template_columns": null,
            "grid_template_rows": null,
            "height": null,
            "justify_content": null,
            "justify_items": null,
            "left": null,
            "margin": null,
            "max_height": null,
            "max_width": null,
            "min_height": null,
            "min_width": null,
            "object_fit": null,
            "object_position": null,
            "order": null,
            "overflow": null,
            "overflow_x": null,
            "overflow_y": null,
            "padding": null,
            "right": null,
            "top": null,
            "visibility": null,
            "width": null
          }
        },
        "58603dd8f2154780b1a8833ff8bbc169": {
          "model_module": "@jupyter-widgets/controls",
          "model_name": "DescriptionStyleModel",
          "model_module_version": "1.5.0",
          "state": {
            "_model_module": "@jupyter-widgets/controls",
            "_model_module_version": "1.5.0",
            "_model_name": "DescriptionStyleModel",
            "_view_count": null,
            "_view_module": "@jupyter-widgets/base",
            "_view_module_version": "1.2.0",
            "_view_name": "StyleView",
            "description_width": ""
          }
        },
        "bcd6e696f4de4ba48fd1a3fcd9604dba": {
          "model_module": "@jupyter-widgets/controls",
          "model_name": "HTMLModel",
          "model_module_version": "1.5.0",
          "state": {
            "_dom_classes": [],
            "_model_module": "@jupyter-widgets/controls",
            "_model_module_version": "1.5.0",
            "_model_name": "HTMLModel",
            "_view_count": null,
            "_view_module": "@jupyter-widgets/controls",
            "_view_module_version": "1.5.0",
            "_view_name": "HTMLView",
            "description": "",
            "description_tooltip": null,
            "layout": "IPY_MODEL_d9fab4afcff54ea4a2c1f2553d61d66e",
            "placeholder": "​",
            "style": "IPY_MODEL_af0cb797a6264c0c9fe24f3b827c2208",
            "value": "Processing: 100%"
          }
        },
        "883cafae76fb47d79ea4a98c938bcc40": {
          "model_module": "@jupyter-widgets/controls",
          "model_name": "FloatProgressModel",
          "model_module_version": "1.5.0",
          "state": {
            "_dom_classes": [],
            "_model_module": "@jupyter-widgets/controls",
            "_model_module_version": "1.5.0",
            "_model_name": "FloatProgressModel",
            "_view_count": null,
            "_view_module": "@jupyter-widgets/controls",
            "_view_module_version": "1.5.0",
            "_view_name": "ProgressView",
            "bar_style": "",
            "description": "",
            "description_tooltip": null,
            "layout": "IPY_MODEL_a06d637fb3044c67a0cba3f3499a7898",
            "max": 4,
            "min": 0,
            "orientation": "horizontal",
            "style": "IPY_MODEL_824b263a14164323b2da460609e09b95",
            "value": 4
          }
        },
        "bee212628ede49b893541a490ec443b5": {
          "model_module": "@jupyter-widgets/controls",
          "model_name": "HTMLModel",
          "model_module_version": "1.5.0",
          "state": {
            "_dom_classes": [],
            "_model_module": "@jupyter-widgets/controls",
            "_model_module_version": "1.5.0",
            "_model_name": "HTMLModel",
            "_view_count": null,
            "_view_module": "@jupyter-widgets/controls",
            "_view_module_version": "1.5.0",
            "_view_name": "HTMLView",
            "description": "",
            "description_tooltip": null,
            "layout": "IPY_MODEL_9532a45e16304955be62f2f43d68a75f",
            "placeholder": "​",
            "style": "IPY_MODEL_58603dd8f2154780b1a8833ff8bbc169",
            "value": " 4/4 [00:01&lt;00:00,  2.72it/s]"
          }
        },
        "c8a47243e68e426bbc059a9faae6c994": {
          "model_module": "@jupyter-widgets/base",
          "model_name": "LayoutModel",
          "model_module_version": "1.2.0",
          "state": {
            "_model_module": "@jupyter-widgets/base",
            "_model_module_version": "1.2.0",
            "_model_name": "LayoutModel",
            "_view_count": null,
            "_view_module": "@jupyter-widgets/base",
            "_view_module_version": "1.2.0",
            "_view_name": "LayoutView",
            "align_content": null,
            "align_items": null,
            "align_self": null,
            "border": null,
            "bottom": null,
            "display": null,
            "flex": null,
            "flex_flow": null,
            "grid_area": null,
            "grid_auto_columns": null,
            "grid_auto_flow": null,
            "grid_auto_rows": null,
            "grid_column": null,
            "grid_gap": null,
            "grid_row": null,
            "grid_template_areas": null,
            "grid_template_columns": null,
            "grid_template_rows": null,
            "height": null,
            "justify_content": null,
            "justify_items": null,
            "left": null,
            "margin": null,
            "max_height": null,
            "max_width": null,
            "min_height": null,
            "min_width": null,
            "object_fit": null,
            "object_position": null,
            "order": null,
            "overflow": null,
            "overflow_x": null,
            "overflow_y": null,
            "padding": null,
            "right": null,
            "top": null,
            "visibility": "hidden",
            "width": null
          }
        },
        "2962301e84924fbba702cc41c7cc6a9b": {
          "model_module": "@jupyter-widgets/controls",
          "model_name": "HBoxModel",
          "model_module_version": "1.5.0",
          "state": {
            "_dom_classes": [],
            "_model_module": "@jupyter-widgets/controls",
            "_model_module_version": "1.5.0",
            "_model_name": "HBoxModel",
            "_view_count": null,
            "_view_module": "@jupyter-widgets/controls",
            "_view_module_version": "1.5.0",
            "_view_name": "HBoxView",
            "box_style": "",
            "children": [
              "IPY_MODEL_bcd6e696f4de4ba48fd1a3fcd9604dba",
              "IPY_MODEL_883cafae76fb47d79ea4a98c938bcc40",
              "IPY_MODEL_bee212628ede49b893541a490ec443b5"
            ],
            "layout": "IPY_MODEL_c8a47243e68e426bbc059a9faae6c994"
          }
        },
        "3b9f3ae05c7b47a5a10adacf0651a355": {
          "model_module": "@jupyter-widgets/base",
          "model_name": "LayoutModel",
          "model_module_version": "1.2.0",
          "state": {
            "_model_module": "@jupyter-widgets/base",
            "_model_module_version": "1.2.0",
            "_model_name": "LayoutModel",
            "_view_count": null,
            "_view_module": "@jupyter-widgets/base",
            "_view_module_version": "1.2.0",
            "_view_name": "LayoutView",
            "align_content": null,
            "align_items": null,
            "align_self": null,
            "border": null,
            "bottom": null,
            "display": null,
            "flex": null,
            "flex_flow": null,
            "grid_area": null,
            "grid_auto_columns": null,
            "grid_auto_flow": null,
            "grid_auto_rows": null,
            "grid_column": null,
            "grid_gap": null,
            "grid_row": null,
            "grid_template_areas": null,
            "grid_template_columns": null,
            "grid_template_rows": null,
            "height": null,
            "justify_content": null,
            "justify_items": null,
            "left": null,
            "margin": null,
            "max_height": null,
            "max_width": null,
            "min_height": null,
            "min_width": null,
            "object_fit": null,
            "object_position": null,
            "order": null,
            "overflow": null,
            "overflow_x": null,
            "overflow_y": null,
            "padding": null,
            "right": null,
            "top": null,
            "visibility": null,
            "width": null
          }
        },
        "b60a6507feea40c6a9c89a72976d6bdc": {
          "model_module": "@jupyter-widgets/controls",
          "model_name": "ProgressStyleModel",
          "model_module_version": "1.5.0",
          "state": {
            "_model_module": "@jupyter-widgets/controls",
            "_model_module_version": "1.5.0",
            "_model_name": "ProgressStyleModel",
            "_view_count": null,
            "_view_module": "@jupyter-widgets/base",
            "_view_module_version": "1.2.0",
            "_view_name": "StyleView",
            "bar_color": null,
            "description_width": ""
          }
        },
        "19f1e412bcb84b669570afe95073db4d": {
          "model_module": "@jupyter-widgets/base",
          "model_name": "LayoutModel",
          "model_module_version": "1.2.0",
          "state": {
            "_model_module": "@jupyter-widgets/base",
            "_model_module_version": "1.2.0",
            "_model_name": "LayoutModel",
            "_view_count": null,
            "_view_module": "@jupyter-widgets/base",
            "_view_module_version": "1.2.0",
            "_view_name": "LayoutView",
            "align_content": null,
            "align_items": null,
            "align_self": null,
            "border": null,
            "bottom": null,
            "display": null,
            "flex": null,
            "flex_flow": null,
            "grid_area": null,
            "grid_auto_columns": null,
            "grid_auto_flow": null,
            "grid_auto_rows": null,
            "grid_column": null,
            "grid_gap": null,
            "grid_row": null,
            "grid_template_areas": null,
            "grid_template_columns": null,
            "grid_template_rows": null,
            "height": null,
            "justify_content": null,
            "justify_items": null,
            "left": null,
            "margin": null,
            "max_height": null,
            "max_width": null,
            "min_height": null,
            "min_width": null,
            "object_fit": null,
            "object_position": null,
            "order": null,
            "overflow": null,
            "overflow_x": null,
            "overflow_y": null,
            "padding": null,
            "right": null,
            "top": null,
            "visibility": null,
            "width": null
          }
        },
        "51b64fce36cf448b8c1b06a427055d5c": {
          "model_module": "@jupyter-widgets/controls",
          "model_name": "DescriptionStyleModel",
          "model_module_version": "1.5.0",
          "state": {
            "_model_module": "@jupyter-widgets/controls",
            "_model_module_version": "1.5.0",
            "_model_name": "DescriptionStyleModel",
            "_view_count": null,
            "_view_module": "@jupyter-widgets/base",
            "_view_module_version": "1.2.0",
            "_view_name": "StyleView",
            "description_width": ""
          }
        },
        "19a108cb0b414206a6467c9888c2da8c": {
          "model_module": "@jupyter-widgets/base",
          "model_name": "LayoutModel",
          "model_module_version": "1.2.0",
          "state": {
            "_model_module": "@jupyter-widgets/base",
            "_model_module_version": "1.2.0",
            "_model_name": "LayoutModel",
            "_view_count": null,
            "_view_module": "@jupyter-widgets/base",
            "_view_module_version": "1.2.0",
            "_view_name": "LayoutView",
            "align_content": null,
            "align_items": null,
            "align_self": null,
            "border": null,
            "bottom": null,
            "display": null,
            "flex": null,
            "flex_flow": null,
            "grid_area": null,
            "grid_auto_columns": null,
            "grid_auto_flow": null,
            "grid_auto_rows": null,
            "grid_column": null,
            "grid_gap": null,
            "grid_row": null,
            "grid_template_areas": null,
            "grid_template_columns": null,
            "grid_template_rows": null,
            "height": null,
            "justify_content": null,
            "justify_items": null,
            "left": null,
            "margin": null,
            "max_height": null,
            "max_width": null,
            "min_height": null,
            "min_width": null,
            "object_fit": null,
            "object_position": null,
            "order": null,
            "overflow": null,
            "overflow_x": null,
            "overflow_y": null,
            "padding": null,
            "right": null,
            "top": null,
            "visibility": null,
            "width": null
          }
        },
        "67a0b06c16214c3695f795b3460789a3": {
          "model_module": "@jupyter-widgets/controls",
          "model_name": "DescriptionStyleModel",
          "model_module_version": "1.5.0",
          "state": {
            "_model_module": "@jupyter-widgets/controls",
            "_model_module_version": "1.5.0",
            "_model_name": "DescriptionStyleModel",
            "_view_count": null,
            "_view_module": "@jupyter-widgets/base",
            "_view_module_version": "1.2.0",
            "_view_name": "StyleView",
            "description_width": ""
          }
        },
        "fcbe049995674e5fa35ef4ce4ec0be61": {
          "model_module": "@jupyter-widgets/controls",
          "model_name": "HTMLModel",
          "model_module_version": "1.5.0",
          "state": {
            "_dom_classes": [],
            "_model_module": "@jupyter-widgets/controls",
            "_model_module_version": "1.5.0",
            "_model_name": "HTMLModel",
            "_view_count": null,
            "_view_module": "@jupyter-widgets/controls",
            "_view_module_version": "1.5.0",
            "_view_name": "HTMLView",
            "description": "",
            "description_tooltip": null,
            "layout": "IPY_MODEL_19f1e412bcb84b669570afe95073db4d",
            "placeholder": "​",
            "style": "IPY_MODEL_51b64fce36cf448b8c1b06a427055d5c",
            "value": "Processing: 100%"
          }
        },
        "4c05aaa45bc543f28d18d69947367545": {
          "model_module": "@jupyter-widgets/controls",
          "model_name": "FloatProgressModel",
          "model_module_version": "1.5.0",
          "state": {
            "_dom_classes": [],
            "_model_module": "@jupyter-widgets/controls",
            "_model_module_version": "1.5.0",
            "_model_name": "FloatProgressModel",
            "_view_count": null,
            "_view_module": "@jupyter-widgets/controls",
            "_view_module_version": "1.5.0",
            "_view_name": "ProgressView",
            "bar_style": "",
            "description": "",
            "description_tooltip": null,
            "layout": "IPY_MODEL_3b9f3ae05c7b47a5a10adacf0651a355",
            "max": 4,
            "min": 0,
            "orientation": "horizontal",
            "style": "IPY_MODEL_b60a6507feea40c6a9c89a72976d6bdc",
            "value": 4
          }
        },
        "283999a621d9469facef144495c5e2e3": {
          "model_module": "@jupyter-widgets/controls",
          "model_name": "HTMLModel",
          "model_module_version": "1.5.0",
          "state": {
            "_dom_classes": [],
            "_model_module": "@jupyter-widgets/controls",
            "_model_module_version": "1.5.0",
            "_model_name": "HTMLModel",
            "_view_count": null,
            "_view_module": "@jupyter-widgets/controls",
            "_view_module_version": "1.5.0",
            "_view_name": "HTMLView",
            "description": "",
            "description_tooltip": null,
            "layout": "IPY_MODEL_19a108cb0b414206a6467c9888c2da8c",
            "placeholder": "​",
            "style": "IPY_MODEL_67a0b06c16214c3695f795b3460789a3",
            "value": " 4/4 [00:02&lt;00:00,  1.46it/s]"
          }
        },
        "285e54ca2d9d4a938014c9c405cc99fd": {
          "model_module": "@jupyter-widgets/base",
          "model_name": "LayoutModel",
          "model_module_version": "1.2.0",
          "state": {
            "_model_module": "@jupyter-widgets/base",
            "_model_module_version": "1.2.0",
            "_model_name": "LayoutModel",
            "_view_count": null,
            "_view_module": "@jupyter-widgets/base",
            "_view_module_version": "1.2.0",
            "_view_name": "LayoutView",
            "align_content": null,
            "align_items": null,
            "align_self": null,
            "border": null,
            "bottom": null,
            "display": null,
            "flex": null,
            "flex_flow": null,
            "grid_area": null,
            "grid_auto_columns": null,
            "grid_auto_flow": null,
            "grid_auto_rows": null,
            "grid_column": null,
            "grid_gap": null,
            "grid_row": null,
            "grid_template_areas": null,
            "grid_template_columns": null,
            "grid_template_rows": null,
            "height": null,
            "justify_content": null,
            "justify_items": null,
            "left": null,
            "margin": null,
            "max_height": null,
            "max_width": null,
            "min_height": null,
            "min_width": null,
            "object_fit": null,
            "object_position": null,
            "order": null,
            "overflow": null,
            "overflow_x": null,
            "overflow_y": null,
            "padding": null,
            "right": null,
            "top": null,
            "visibility": "hidden",
            "width": null
          }
        },
        "f055ad764ec0428293124f84063a928c": {
          "model_module": "@jupyter-widgets/controls",
          "model_name": "HBoxModel",
          "model_module_version": "1.5.0",
          "state": {
            "_dom_classes": [],
            "_model_module": "@jupyter-widgets/controls",
            "_model_module_version": "1.5.0",
            "_model_name": "HBoxModel",
            "_view_count": null,
            "_view_module": "@jupyter-widgets/controls",
            "_view_module_version": "1.5.0",
            "_view_name": "HBoxView",
            "box_style": "",
            "children": [
              "IPY_MODEL_fcbe049995674e5fa35ef4ce4ec0be61",
              "IPY_MODEL_4c05aaa45bc543f28d18d69947367545",
              "IPY_MODEL_283999a621d9469facef144495c5e2e3"
            ],
            "layout": "IPY_MODEL_285e54ca2d9d4a938014c9c405cc99fd"
          }
        },
        "a54da56c24ef4fd8a37ba1a2a21a0d3d": {
          "model_module": "@jupyter-widgets/controls",
          "model_name": "HBoxModel",
          "model_module_version": "1.5.0",
          "state": {
            "_dom_classes": [],
            "_model_module": "@jupyter-widgets/controls",
            "_model_module_version": "1.5.0",
            "_model_name": "HBoxModel",
            "_view_count": null,
            "_view_module": "@jupyter-widgets/controls",
            "_view_module_version": "1.5.0",
            "_view_name": "HBoxView",
            "box_style": "",
            "children": [
              "IPY_MODEL_98127275612b46429fee497b6d5a331c",
              "IPY_MODEL_4da00598a81b482ba530d45e5d98bada",
              "IPY_MODEL_c45863c0fdbb4d3ebcbbe7d252ddd220"
            ],
            "layout": "IPY_MODEL_31eca9eeed8c40578eb9ab474d1d2699"
          }
        },
        "98127275612b46429fee497b6d5a331c": {
          "model_module": "@jupyter-widgets/controls",
          "model_name": "HTMLModel",
          "model_module_version": "1.5.0",
          "state": {
            "_dom_classes": [],
            "_model_module": "@jupyter-widgets/controls",
            "_model_module_version": "1.5.0",
            "_model_name": "HTMLModel",
            "_view_count": null,
            "_view_module": "@jupyter-widgets/controls",
            "_view_module_version": "1.5.0",
            "_view_name": "HTMLView",
            "description": "",
            "description_tooltip": null,
            "layout": "IPY_MODEL_5273c51144bd4c1fba375f6771a558ef",
            "placeholder": "​",
            "style": "IPY_MODEL_a058b24254eb4e07bf08506925cf22d6",
            "value": "Processing: 100%"
          }
        },
        "4da00598a81b482ba530d45e5d98bada": {
          "model_module": "@jupyter-widgets/controls",
          "model_name": "FloatProgressModel",
          "model_module_version": "1.5.0",
          "state": {
            "_dom_classes": [],
            "_model_module": "@jupyter-widgets/controls",
            "_model_module_version": "1.5.0",
            "_model_name": "FloatProgressModel",
            "_view_count": null,
            "_view_module": "@jupyter-widgets/controls",
            "_view_module_version": "1.5.0",
            "_view_name": "ProgressView",
            "bar_style": "",
            "description": "",
            "description_tooltip": null,
            "layout": "IPY_MODEL_b6b3f0a935734bb4aab646e7278b1335",
            "max": 7,
            "min": 0,
            "orientation": "horizontal",
            "style": "IPY_MODEL_42b4f526176549538b3aaa066d770392",
            "value": 7
          }
        },
        "c45863c0fdbb4d3ebcbbe7d252ddd220": {
          "model_module": "@jupyter-widgets/controls",
          "model_name": "HTMLModel",
          "model_module_version": "1.5.0",
          "state": {
            "_dom_classes": [],
            "_model_module": "@jupyter-widgets/controls",
            "_model_module_version": "1.5.0",
            "_model_name": "HTMLModel",
            "_view_count": null,
            "_view_module": "@jupyter-widgets/controls",
            "_view_module_version": "1.5.0",
            "_view_name": "HTMLView",
            "description": "",
            "description_tooltip": null,
            "layout": "IPY_MODEL_f322d132ee6745b4bf9130019fd7b4ec",
            "placeholder": "​",
            "style": "IPY_MODEL_40773a275ebf406eb6cc883f135d692f",
            "value": " 7/7 [01:23&lt;00:00,  9.39s/it]"
          }
        },
        "31eca9eeed8c40578eb9ab474d1d2699": {
          "model_module": "@jupyter-widgets/base",
          "model_name": "LayoutModel",
          "model_module_version": "1.2.0",
          "state": {
            "_model_module": "@jupyter-widgets/base",
            "_model_module_version": "1.2.0",
            "_model_name": "LayoutModel",
            "_view_count": null,
            "_view_module": "@jupyter-widgets/base",
            "_view_module_version": "1.2.0",
            "_view_name": "LayoutView",
            "align_content": null,
            "align_items": null,
            "align_self": null,
            "border": null,
            "bottom": null,
            "display": null,
            "flex": null,
            "flex_flow": null,
            "grid_area": null,
            "grid_auto_columns": null,
            "grid_auto_flow": null,
            "grid_auto_rows": null,
            "grid_column": null,
            "grid_gap": null,
            "grid_row": null,
            "grid_template_areas": null,
            "grid_template_columns": null,
            "grid_template_rows": null,
            "height": null,
            "justify_content": null,
            "justify_items": null,
            "left": null,
            "margin": null,
            "max_height": null,
            "max_width": null,
            "min_height": null,
            "min_width": null,
            "object_fit": null,
            "object_position": null,
            "order": null,
            "overflow": null,
            "overflow_x": null,
            "overflow_y": null,
            "padding": null,
            "right": null,
            "top": null,
            "visibility": "hidden",
            "width": null
          }
        },
        "5273c51144bd4c1fba375f6771a558ef": {
          "model_module": "@jupyter-widgets/base",
          "model_name": "LayoutModel",
          "model_module_version": "1.2.0",
          "state": {
            "_model_module": "@jupyter-widgets/base",
            "_model_module_version": "1.2.0",
            "_model_name": "LayoutModel",
            "_view_count": null,
            "_view_module": "@jupyter-widgets/base",
            "_view_module_version": "1.2.0",
            "_view_name": "LayoutView",
            "align_content": null,
            "align_items": null,
            "align_self": null,
            "border": null,
            "bottom": null,
            "display": null,
            "flex": null,
            "flex_flow": null,
            "grid_area": null,
            "grid_auto_columns": null,
            "grid_auto_flow": null,
            "grid_auto_rows": null,
            "grid_column": null,
            "grid_gap": null,
            "grid_row": null,
            "grid_template_areas": null,
            "grid_template_columns": null,
            "grid_template_rows": null,
            "height": null,
            "justify_content": null,
            "justify_items": null,
            "left": null,
            "margin": null,
            "max_height": null,
            "max_width": null,
            "min_height": null,
            "min_width": null,
            "object_fit": null,
            "object_position": null,
            "order": null,
            "overflow": null,
            "overflow_x": null,
            "overflow_y": null,
            "padding": null,
            "right": null,
            "top": null,
            "visibility": null,
            "width": null
          }
        },
        "a058b24254eb4e07bf08506925cf22d6": {
          "model_module": "@jupyter-widgets/controls",
          "model_name": "DescriptionStyleModel",
          "model_module_version": "1.5.0",
          "state": {
            "_model_module": "@jupyter-widgets/controls",
            "_model_module_version": "1.5.0",
            "_model_name": "DescriptionStyleModel",
            "_view_count": null,
            "_view_module": "@jupyter-widgets/base",
            "_view_module_version": "1.2.0",
            "_view_name": "StyleView",
            "description_width": ""
          }
        },
        "b6b3f0a935734bb4aab646e7278b1335": {
          "model_module": "@jupyter-widgets/base",
          "model_name": "LayoutModel",
          "model_module_version": "1.2.0",
          "state": {
            "_model_module": "@jupyter-widgets/base",
            "_model_module_version": "1.2.0",
            "_model_name": "LayoutModel",
            "_view_count": null,
            "_view_module": "@jupyter-widgets/base",
            "_view_module_version": "1.2.0",
            "_view_name": "LayoutView",
            "align_content": null,
            "align_items": null,
            "align_self": null,
            "border": null,
            "bottom": null,
            "display": null,
            "flex": null,
            "flex_flow": null,
            "grid_area": null,
            "grid_auto_columns": null,
            "grid_auto_flow": null,
            "grid_auto_rows": null,
            "grid_column": null,
            "grid_gap": null,
            "grid_row": null,
            "grid_template_areas": null,
            "grid_template_columns": null,
            "grid_template_rows": null,
            "height": null,
            "justify_content": null,
            "justify_items": null,
            "left": null,
            "margin": null,
            "max_height": null,
            "max_width": null,
            "min_height": null,
            "min_width": null,
            "object_fit": null,
            "object_position": null,
            "order": null,
            "overflow": null,
            "overflow_x": null,
            "overflow_y": null,
            "padding": null,
            "right": null,
            "top": null,
            "visibility": null,
            "width": null
          }
        },
        "42b4f526176549538b3aaa066d770392": {
          "model_module": "@jupyter-widgets/controls",
          "model_name": "ProgressStyleModel",
          "model_module_version": "1.5.0",
          "state": {
            "_model_module": "@jupyter-widgets/controls",
            "_model_module_version": "1.5.0",
            "_model_name": "ProgressStyleModel",
            "_view_count": null,
            "_view_module": "@jupyter-widgets/base",
            "_view_module_version": "1.2.0",
            "_view_name": "StyleView",
            "bar_color": null,
            "description_width": ""
          }
        },
        "f322d132ee6745b4bf9130019fd7b4ec": {
          "model_module": "@jupyter-widgets/base",
          "model_name": "LayoutModel",
          "model_module_version": "1.2.0",
          "state": {
            "_model_module": "@jupyter-widgets/base",
            "_model_module_version": "1.2.0",
            "_model_name": "LayoutModel",
            "_view_count": null,
            "_view_module": "@jupyter-widgets/base",
            "_view_module_version": "1.2.0",
            "_view_name": "LayoutView",
            "align_content": null,
            "align_items": null,
            "align_self": null,
            "border": null,
            "bottom": null,
            "display": null,
            "flex": null,
            "flex_flow": null,
            "grid_area": null,
            "grid_auto_columns": null,
            "grid_auto_flow": null,
            "grid_auto_rows": null,
            "grid_column": null,
            "grid_gap": null,
            "grid_row": null,
            "grid_template_areas": null,
            "grid_template_columns": null,
            "grid_template_rows": null,
            "height": null,
            "justify_content": null,
            "justify_items": null,
            "left": null,
            "margin": null,
            "max_height": null,
            "max_width": null,
            "min_height": null,
            "min_width": null,
            "object_fit": null,
            "object_position": null,
            "order": null,
            "overflow": null,
            "overflow_x": null,
            "overflow_y": null,
            "padding": null,
            "right": null,
            "top": null,
            "visibility": null,
            "width": null
          }
        },
        "40773a275ebf406eb6cc883f135d692f": {
          "model_module": "@jupyter-widgets/controls",
          "model_name": "DescriptionStyleModel",
          "model_module_version": "1.5.0",
          "state": {
            "_model_module": "@jupyter-widgets/controls",
            "_model_module_version": "1.5.0",
            "_model_name": "DescriptionStyleModel",
            "_view_count": null,
            "_view_module": "@jupyter-widgets/base",
            "_view_module_version": "1.2.0",
            "_view_name": "StyleView",
            "description_width": ""
          }
        },
        "896b5ba70ccd4e839b535149094f5918": {
          "model_module": "@jupyter-widgets/controls",
          "model_name": "HBoxModel",
          "model_module_version": "1.5.0",
          "state": {
            "_dom_classes": [],
            "_model_module": "@jupyter-widgets/controls",
            "_model_module_version": "1.5.0",
            "_model_name": "HBoxModel",
            "_view_count": null,
            "_view_module": "@jupyter-widgets/controls",
            "_view_module_version": "1.5.0",
            "_view_name": "HBoxView",
            "box_style": "",
            "children": [
              "IPY_MODEL_07f71ccc908f426fb4dc8e5257269b53",
              "IPY_MODEL_7049a509ed4048089af86a3f03b30d6e",
              "IPY_MODEL_bb025ee4e4c44150a03c40140dc3ddc3"
            ],
            "layout": "IPY_MODEL_288dc3b02cc147d58a755fe7a79f11c7"
          }
        },
        "07f71ccc908f426fb4dc8e5257269b53": {
          "model_module": "@jupyter-widgets/controls",
          "model_name": "HTMLModel",
          "model_module_version": "1.5.0",
          "state": {
            "_dom_classes": [],
            "_model_module": "@jupyter-widgets/controls",
            "_model_module_version": "1.5.0",
            "_model_name": "HTMLModel",
            "_view_count": null,
            "_view_module": "@jupyter-widgets/controls",
            "_view_module_version": "1.5.0",
            "_view_name": "HTMLView",
            "description": "",
            "description_tooltip": null,
            "layout": "IPY_MODEL_06228e1d56bd42bba71d619ffdf70cb3",
            "placeholder": "​",
            "style": "IPY_MODEL_8f40fbe27615406a9eb03a800d8d76ff",
            "value": "Processing: 100%"
          }
        },
        "7049a509ed4048089af86a3f03b30d6e": {
          "model_module": "@jupyter-widgets/controls",
          "model_name": "FloatProgressModel",
          "model_module_version": "1.5.0",
          "state": {
            "_dom_classes": [],
            "_model_module": "@jupyter-widgets/controls",
            "_model_module_version": "1.5.0",
            "_model_name": "FloatProgressModel",
            "_view_count": null,
            "_view_module": "@jupyter-widgets/controls",
            "_view_module_version": "1.5.0",
            "_view_name": "ProgressView",
            "bar_style": "",
            "description": "",
            "description_tooltip": null,
            "layout": "IPY_MODEL_cfd8fe678aa54e00818b739b106fa8e3",
            "max": 7,
            "min": 0,
            "orientation": "horizontal",
            "style": "IPY_MODEL_488d4d0cec1c4a6dad075af9aad147b7",
            "value": 7
          }
        },
        "bb025ee4e4c44150a03c40140dc3ddc3": {
          "model_module": "@jupyter-widgets/controls",
          "model_name": "HTMLModel",
          "model_module_version": "1.5.0",
          "state": {
            "_dom_classes": [],
            "_model_module": "@jupyter-widgets/controls",
            "_model_module_version": "1.5.0",
            "_model_name": "HTMLModel",
            "_view_count": null,
            "_view_module": "@jupyter-widgets/controls",
            "_view_module_version": "1.5.0",
            "_view_name": "HTMLView",
            "description": "",
            "description_tooltip": null,
            "layout": "IPY_MODEL_bb3ca74cda9e48c6ace6ef56a9d1d83f",
            "placeholder": "​",
            "style": "IPY_MODEL_bac5c873601048dc81166e5f8a870ef8",
            "value": " 7/7 [00:19&lt;00:00,  2.17s/it]"
          }
        },
        "288dc3b02cc147d58a755fe7a79f11c7": {
          "model_module": "@jupyter-widgets/base",
          "model_name": "LayoutModel",
          "model_module_version": "1.2.0",
          "state": {
            "_model_module": "@jupyter-widgets/base",
            "_model_module_version": "1.2.0",
            "_model_name": "LayoutModel",
            "_view_count": null,
            "_view_module": "@jupyter-widgets/base",
            "_view_module_version": "1.2.0",
            "_view_name": "LayoutView",
            "align_content": null,
            "align_items": null,
            "align_self": null,
            "border": null,
            "bottom": null,
            "display": null,
            "flex": null,
            "flex_flow": null,
            "grid_area": null,
            "grid_auto_columns": null,
            "grid_auto_flow": null,
            "grid_auto_rows": null,
            "grid_column": null,
            "grid_gap": null,
            "grid_row": null,
            "grid_template_areas": null,
            "grid_template_columns": null,
            "grid_template_rows": null,
            "height": null,
            "justify_content": null,
            "justify_items": null,
            "left": null,
            "margin": null,
            "max_height": null,
            "max_width": null,
            "min_height": null,
            "min_width": null,
            "object_fit": null,
            "object_position": null,
            "order": null,
            "overflow": null,
            "overflow_x": null,
            "overflow_y": null,
            "padding": null,
            "right": null,
            "top": null,
            "visibility": "hidden",
            "width": null
          }
        },
        "06228e1d56bd42bba71d619ffdf70cb3": {
          "model_module": "@jupyter-widgets/base",
          "model_name": "LayoutModel",
          "model_module_version": "1.2.0",
          "state": {
            "_model_module": "@jupyter-widgets/base",
            "_model_module_version": "1.2.0",
            "_model_name": "LayoutModel",
            "_view_count": null,
            "_view_module": "@jupyter-widgets/base",
            "_view_module_version": "1.2.0",
            "_view_name": "LayoutView",
            "align_content": null,
            "align_items": null,
            "align_self": null,
            "border": null,
            "bottom": null,
            "display": null,
            "flex": null,
            "flex_flow": null,
            "grid_area": null,
            "grid_auto_columns": null,
            "grid_auto_flow": null,
            "grid_auto_rows": null,
            "grid_column": null,
            "grid_gap": null,
            "grid_row": null,
            "grid_template_areas": null,
            "grid_template_columns": null,
            "grid_template_rows": null,
            "height": null,
            "justify_content": null,
            "justify_items": null,
            "left": null,
            "margin": null,
            "max_height": null,
            "max_width": null,
            "min_height": null,
            "min_width": null,
            "object_fit": null,
            "object_position": null,
            "order": null,
            "overflow": null,
            "overflow_x": null,
            "overflow_y": null,
            "padding": null,
            "right": null,
            "top": null,
            "visibility": null,
            "width": null
          }
        },
        "8f40fbe27615406a9eb03a800d8d76ff": {
          "model_module": "@jupyter-widgets/controls",
          "model_name": "DescriptionStyleModel",
          "model_module_version": "1.5.0",
          "state": {
            "_model_module": "@jupyter-widgets/controls",
            "_model_module_version": "1.5.0",
            "_model_name": "DescriptionStyleModel",
            "_view_count": null,
            "_view_module": "@jupyter-widgets/base",
            "_view_module_version": "1.2.0",
            "_view_name": "StyleView",
            "description_width": ""
          }
        },
        "cfd8fe678aa54e00818b739b106fa8e3": {
          "model_module": "@jupyter-widgets/base",
          "model_name": "LayoutModel",
          "model_module_version": "1.2.0",
          "state": {
            "_model_module": "@jupyter-widgets/base",
            "_model_module_version": "1.2.0",
            "_model_name": "LayoutModel",
            "_view_count": null,
            "_view_module": "@jupyter-widgets/base",
            "_view_module_version": "1.2.0",
            "_view_name": "LayoutView",
            "align_content": null,
            "align_items": null,
            "align_self": null,
            "border": null,
            "bottom": null,
            "display": null,
            "flex": null,
            "flex_flow": null,
            "grid_area": null,
            "grid_auto_columns": null,
            "grid_auto_flow": null,
            "grid_auto_rows": null,
            "grid_column": null,
            "grid_gap": null,
            "grid_row": null,
            "grid_template_areas": null,
            "grid_template_columns": null,
            "grid_template_rows": null,
            "height": null,
            "justify_content": null,
            "justify_items": null,
            "left": null,
            "margin": null,
            "max_height": null,
            "max_width": null,
            "min_height": null,
            "min_width": null,
            "object_fit": null,
            "object_position": null,
            "order": null,
            "overflow": null,
            "overflow_x": null,
            "overflow_y": null,
            "padding": null,
            "right": null,
            "top": null,
            "visibility": null,
            "width": null
          }
        },
        "488d4d0cec1c4a6dad075af9aad147b7": {
          "model_module": "@jupyter-widgets/controls",
          "model_name": "ProgressStyleModel",
          "model_module_version": "1.5.0",
          "state": {
            "_model_module": "@jupyter-widgets/controls",
            "_model_module_version": "1.5.0",
            "_model_name": "ProgressStyleModel",
            "_view_count": null,
            "_view_module": "@jupyter-widgets/base",
            "_view_module_version": "1.2.0",
            "_view_name": "StyleView",
            "bar_color": null,
            "description_width": ""
          }
        },
        "bb3ca74cda9e48c6ace6ef56a9d1d83f": {
          "model_module": "@jupyter-widgets/base",
          "model_name": "LayoutModel",
          "model_module_version": "1.2.0",
          "state": {
            "_model_module": "@jupyter-widgets/base",
            "_model_module_version": "1.2.0",
            "_model_name": "LayoutModel",
            "_view_count": null,
            "_view_module": "@jupyter-widgets/base",
            "_view_module_version": "1.2.0",
            "_view_name": "LayoutView",
            "align_content": null,
            "align_items": null,
            "align_self": null,
            "border": null,
            "bottom": null,
            "display": null,
            "flex": null,
            "flex_flow": null,
            "grid_area": null,
            "grid_auto_columns": null,
            "grid_auto_flow": null,
            "grid_auto_rows": null,
            "grid_column": null,
            "grid_gap": null,
            "grid_row": null,
            "grid_template_areas": null,
            "grid_template_columns": null,
            "grid_template_rows": null,
            "height": null,
            "justify_content": null,
            "justify_items": null,
            "left": null,
            "margin": null,
            "max_height": null,
            "max_width": null,
            "min_height": null,
            "min_width": null,
            "object_fit": null,
            "object_position": null,
            "order": null,
            "overflow": null,
            "overflow_x": null,
            "overflow_y": null,
            "padding": null,
            "right": null,
            "top": null,
            "visibility": null,
            "width": null
          }
        },
        "bac5c873601048dc81166e5f8a870ef8": {
          "model_module": "@jupyter-widgets/controls",
          "model_name": "DescriptionStyleModel",
          "model_module_version": "1.5.0",
          "state": {
            "_model_module": "@jupyter-widgets/controls",
            "_model_module_version": "1.5.0",
            "_model_name": "DescriptionStyleModel",
            "_view_count": null,
            "_view_module": "@jupyter-widgets/base",
            "_view_module_version": "1.2.0",
            "_view_name": "StyleView",
            "description_width": ""
          }
        },
        "26af26bfb95946e9acf729e46079b90b": {
          "model_module": "@jupyter-widgets/base",
          "model_name": "LayoutModel",
          "model_module_version": "1.2.0",
          "state": {
            "_model_module": "@jupyter-widgets/base",
            "_model_module_version": "1.2.0",
            "_model_name": "LayoutModel",
            "_view_count": null,
            "_view_module": "@jupyter-widgets/base",
            "_view_module_version": "1.2.0",
            "_view_name": "LayoutView",
            "align_content": null,
            "align_items": null,
            "align_self": null,
            "border": null,
            "bottom": null,
            "display": null,
            "flex": null,
            "flex_flow": null,
            "grid_area": null,
            "grid_auto_columns": null,
            "grid_auto_flow": null,
            "grid_auto_rows": null,
            "grid_column": null,
            "grid_gap": null,
            "grid_row": null,
            "grid_template_areas": null,
            "grid_template_columns": null,
            "grid_template_rows": null,
            "height": null,
            "justify_content": null,
            "justify_items": null,
            "left": null,
            "margin": null,
            "max_height": null,
            "max_width": null,
            "min_height": null,
            "min_width": null,
            "object_fit": null,
            "object_position": null,
            "order": null,
            "overflow": null,
            "overflow_x": null,
            "overflow_y": null,
            "padding": null,
            "right": null,
            "top": null,
            "visibility": null,
            "width": null
          }
        },
        "b26d443192794bd49208dd8680abe1f3": {
          "model_module": "@jupyter-widgets/controls",
          "model_name": "ProgressStyleModel",
          "model_module_version": "1.5.0",
          "state": {
            "_model_module": "@jupyter-widgets/controls",
            "_model_module_version": "1.5.0",
            "_model_name": "ProgressStyleModel",
            "_view_count": null,
            "_view_module": "@jupyter-widgets/base",
            "_view_module_version": "1.2.0",
            "_view_name": "StyleView",
            "bar_color": null,
            "description_width": ""
          }
        },
        "4943551d05f74b4c8c1b467dc756ea4c": {
          "model_module": "@jupyter-widgets/base",
          "model_name": "LayoutModel",
          "model_module_version": "1.2.0",
          "state": {
            "_model_module": "@jupyter-widgets/base",
            "_model_module_version": "1.2.0",
            "_model_name": "LayoutModel",
            "_view_count": null,
            "_view_module": "@jupyter-widgets/base",
            "_view_module_version": "1.2.0",
            "_view_name": "LayoutView",
            "align_content": null,
            "align_items": null,
            "align_self": null,
            "border": null,
            "bottom": null,
            "display": null,
            "flex": null,
            "flex_flow": null,
            "grid_area": null,
            "grid_auto_columns": null,
            "grid_auto_flow": null,
            "grid_auto_rows": null,
            "grid_column": null,
            "grid_gap": null,
            "grid_row": null,
            "grid_template_areas": null,
            "grid_template_columns": null,
            "grid_template_rows": null,
            "height": null,
            "justify_content": null,
            "justify_items": null,
            "left": null,
            "margin": null,
            "max_height": null,
            "max_width": null,
            "min_height": null,
            "min_width": null,
            "object_fit": null,
            "object_position": null,
            "order": null,
            "overflow": null,
            "overflow_x": null,
            "overflow_y": null,
            "padding": null,
            "right": null,
            "top": null,
            "visibility": null,
            "width": null
          }
        },
        "06cb87c6325346d5a2915b02ab5eb6ec": {
          "model_module": "@jupyter-widgets/controls",
          "model_name": "DescriptionStyleModel",
          "model_module_version": "1.5.0",
          "state": {
            "_model_module": "@jupyter-widgets/controls",
            "_model_module_version": "1.5.0",
            "_model_name": "DescriptionStyleModel",
            "_view_count": null,
            "_view_module": "@jupyter-widgets/base",
            "_view_module_version": "1.2.0",
            "_view_name": "StyleView",
            "description_width": ""
          }
        },
        "9449fb8a0ad04212bc4133a105365ed8": {
          "model_module": "@jupyter-widgets/base",
          "model_name": "LayoutModel",
          "model_module_version": "1.2.0",
          "state": {
            "_model_module": "@jupyter-widgets/base",
            "_model_module_version": "1.2.0",
            "_model_name": "LayoutModel",
            "_view_count": null,
            "_view_module": "@jupyter-widgets/base",
            "_view_module_version": "1.2.0",
            "_view_name": "LayoutView",
            "align_content": null,
            "align_items": null,
            "align_self": null,
            "border": null,
            "bottom": null,
            "display": null,
            "flex": null,
            "flex_flow": null,
            "grid_area": null,
            "grid_auto_columns": null,
            "grid_auto_flow": null,
            "grid_auto_rows": null,
            "grid_column": null,
            "grid_gap": null,
            "grid_row": null,
            "grid_template_areas": null,
            "grid_template_columns": null,
            "grid_template_rows": null,
            "height": null,
            "justify_content": null,
            "justify_items": null,
            "left": null,
            "margin": null,
            "max_height": null,
            "max_width": null,
            "min_height": null,
            "min_width": null,
            "object_fit": null,
            "object_position": null,
            "order": null,
            "overflow": null,
            "overflow_x": null,
            "overflow_y": null,
            "padding": null,
            "right": null,
            "top": null,
            "visibility": null,
            "width": null
          }
        },
        "b216be5eee244060a7d5c490aa3e3630": {
          "model_module": "@jupyter-widgets/controls",
          "model_name": "DescriptionStyleModel",
          "model_module_version": "1.5.0",
          "state": {
            "_model_module": "@jupyter-widgets/controls",
            "_model_module_version": "1.5.0",
            "_model_name": "DescriptionStyleModel",
            "_view_count": null,
            "_view_module": "@jupyter-widgets/base",
            "_view_module_version": "1.2.0",
            "_view_name": "StyleView",
            "description_width": ""
          }
        },
        "d31ead0d131c45d3a4397793c7f6a812": {
          "model_module": "@jupyter-widgets/controls",
          "model_name": "HTMLModel",
          "model_module_version": "1.5.0",
          "state": {
            "_dom_classes": [],
            "_model_module": "@jupyter-widgets/controls",
            "_model_module_version": "1.5.0",
            "_model_name": "HTMLModel",
            "_view_count": null,
            "_view_module": "@jupyter-widgets/controls",
            "_view_module_version": "1.5.0",
            "_view_name": "HTMLView",
            "description": "",
            "description_tooltip": null,
            "layout": "IPY_MODEL_4943551d05f74b4c8c1b467dc756ea4c",
            "placeholder": "​",
            "style": "IPY_MODEL_06cb87c6325346d5a2915b02ab5eb6ec",
            "value": "Processing: 100%"
          }
        },
        "94b02ea061904070915290ed31b1c3e4": {
          "model_module": "@jupyter-widgets/controls",
          "model_name": "FloatProgressModel",
          "model_module_version": "1.5.0",
          "state": {
            "_dom_classes": [],
            "_model_module": "@jupyter-widgets/controls",
            "_model_module_version": "1.5.0",
            "_model_name": "FloatProgressModel",
            "_view_count": null,
            "_view_module": "@jupyter-widgets/controls",
            "_view_module_version": "1.5.0",
            "_view_name": "ProgressView",
            "bar_style": "",
            "description": "",
            "description_tooltip": null,
            "layout": "IPY_MODEL_26af26bfb95946e9acf729e46079b90b",
            "max": 7,
            "min": 0,
            "orientation": "horizontal",
            "style": "IPY_MODEL_b26d443192794bd49208dd8680abe1f3",
            "value": 7
          }
        },
        "f08cb2097ee74c8582ab91c2073374f3": {
          "model_module": "@jupyter-widgets/controls",
          "model_name": "HTMLModel",
          "model_module_version": "1.5.0",
          "state": {
            "_dom_classes": [],
            "_model_module": "@jupyter-widgets/controls",
            "_model_module_version": "1.5.0",
            "_model_name": "HTMLModel",
            "_view_count": null,
            "_view_module": "@jupyter-widgets/controls",
            "_view_module_version": "1.5.0",
            "_view_name": "HTMLView",
            "description": "",
            "description_tooltip": null,
            "layout": "IPY_MODEL_9449fb8a0ad04212bc4133a105365ed8",
            "placeholder": "​",
            "style": "IPY_MODEL_b216be5eee244060a7d5c490aa3e3630",
            "value": " 7/7 [00:15&lt;00:00,  1.75s/it]"
          }
        },
        "5644d41bf9e74d33bf7ae603e5376957": {
          "model_module": "@jupyter-widgets/base",
          "model_name": "LayoutModel",
          "model_module_version": "1.2.0",
          "state": {
            "_model_module": "@jupyter-widgets/base",
            "_model_module_version": "1.2.0",
            "_model_name": "LayoutModel",
            "_view_count": null,
            "_view_module": "@jupyter-widgets/base",
            "_view_module_version": "1.2.0",
            "_view_name": "LayoutView",
            "align_content": null,
            "align_items": null,
            "align_self": null,
            "border": null,
            "bottom": null,
            "display": null,
            "flex": null,
            "flex_flow": null,
            "grid_area": null,
            "grid_auto_columns": null,
            "grid_auto_flow": null,
            "grid_auto_rows": null,
            "grid_column": null,
            "grid_gap": null,
            "grid_row": null,
            "grid_template_areas": null,
            "grid_template_columns": null,
            "grid_template_rows": null,
            "height": null,
            "justify_content": null,
            "justify_items": null,
            "left": null,
            "margin": null,
            "max_height": null,
            "max_width": null,
            "min_height": null,
            "min_width": null,
            "object_fit": null,
            "object_position": null,
            "order": null,
            "overflow": null,
            "overflow_x": null,
            "overflow_y": null,
            "padding": null,
            "right": null,
            "top": null,
            "visibility": "hidden",
            "width": null
          }
        },
        "50adcbb46e404f8a9106965a34a5e188": {
          "model_module": "@jupyter-widgets/controls",
          "model_name": "HBoxModel",
          "model_module_version": "1.5.0",
          "state": {
            "_dom_classes": [],
            "_model_module": "@jupyter-widgets/controls",
            "_model_module_version": "1.5.0",
            "_model_name": "HBoxModel",
            "_view_count": null,
            "_view_module": "@jupyter-widgets/controls",
            "_view_module_version": "1.5.0",
            "_view_name": "HBoxView",
            "box_style": "",
            "children": [
              "IPY_MODEL_d31ead0d131c45d3a4397793c7f6a812",
              "IPY_MODEL_94b02ea061904070915290ed31b1c3e4",
              "IPY_MODEL_f08cb2097ee74c8582ab91c2073374f3"
            ],
            "layout": "IPY_MODEL_5644d41bf9e74d33bf7ae603e5376957"
          }
        },
        "b3a053e4b39543d2bdbd170e451fe0ce": {
          "model_module": "@jupyter-widgets/base",
          "model_name": "LayoutModel",
          "model_module_version": "1.2.0",
          "state": {
            "_model_module": "@jupyter-widgets/base",
            "_model_module_version": "1.2.0",
            "_model_name": "LayoutModel",
            "_view_count": null,
            "_view_module": "@jupyter-widgets/base",
            "_view_module_version": "1.2.0",
            "_view_name": "LayoutView",
            "align_content": null,
            "align_items": null,
            "align_self": null,
            "border": null,
            "bottom": null,
            "display": null,
            "flex": null,
            "flex_flow": null,
            "grid_area": null,
            "grid_auto_columns": null,
            "grid_auto_flow": null,
            "grid_auto_rows": null,
            "grid_column": null,
            "grid_gap": null,
            "grid_row": null,
            "grid_template_areas": null,
            "grid_template_columns": null,
            "grid_template_rows": null,
            "height": null,
            "justify_content": null,
            "justify_items": null,
            "left": null,
            "margin": null,
            "max_height": null,
            "max_width": null,
            "min_height": null,
            "min_width": null,
            "object_fit": null,
            "object_position": null,
            "order": null,
            "overflow": null,
            "overflow_x": null,
            "overflow_y": null,
            "padding": null,
            "right": null,
            "top": null,
            "visibility": null,
            "width": null
          }
        },
        "486d83bd964b496fbe5e08566e2b1d11": {
          "model_module": "@jupyter-widgets/controls",
          "model_name": "ProgressStyleModel",
          "model_module_version": "1.5.0",
          "state": {
            "_model_module": "@jupyter-widgets/controls",
            "_model_module_version": "1.5.0",
            "_model_name": "ProgressStyleModel",
            "_view_count": null,
            "_view_module": "@jupyter-widgets/base",
            "_view_module_version": "1.2.0",
            "_view_name": "StyleView",
            "bar_color": null,
            "description_width": ""
          }
        },
        "59916646b5c541bf83526ec791cd08e4": {
          "model_module": "@jupyter-widgets/base",
          "model_name": "LayoutModel",
          "model_module_version": "1.2.0",
          "state": {
            "_model_module": "@jupyter-widgets/base",
            "_model_module_version": "1.2.0",
            "_model_name": "LayoutModel",
            "_view_count": null,
            "_view_module": "@jupyter-widgets/base",
            "_view_module_version": "1.2.0",
            "_view_name": "LayoutView",
            "align_content": null,
            "align_items": null,
            "align_self": null,
            "border": null,
            "bottom": null,
            "display": null,
            "flex": null,
            "flex_flow": null,
            "grid_area": null,
            "grid_auto_columns": null,
            "grid_auto_flow": null,
            "grid_auto_rows": null,
            "grid_column": null,
            "grid_gap": null,
            "grid_row": null,
            "grid_template_areas": null,
            "grid_template_columns": null,
            "grid_template_rows": null,
            "height": null,
            "justify_content": null,
            "justify_items": null,
            "left": null,
            "margin": null,
            "max_height": null,
            "max_width": null,
            "min_height": null,
            "min_width": null,
            "object_fit": null,
            "object_position": null,
            "order": null,
            "overflow": null,
            "overflow_x": null,
            "overflow_y": null,
            "padding": null,
            "right": null,
            "top": null,
            "visibility": null,
            "width": null
          }
        },
        "5daabb50fce74795a73ca9f64fbeccad": {
          "model_module": "@jupyter-widgets/controls",
          "model_name": "DescriptionStyleModel",
          "model_module_version": "1.5.0",
          "state": {
            "_model_module": "@jupyter-widgets/controls",
            "_model_module_version": "1.5.0",
            "_model_name": "DescriptionStyleModel",
            "_view_count": null,
            "_view_module": "@jupyter-widgets/base",
            "_view_module_version": "1.2.0",
            "_view_name": "StyleView",
            "description_width": ""
          }
        },
        "9074767a60d64efdbb56d7b8246d620e": {
          "model_module": "@jupyter-widgets/base",
          "model_name": "LayoutModel",
          "model_module_version": "1.2.0",
          "state": {
            "_model_module": "@jupyter-widgets/base",
            "_model_module_version": "1.2.0",
            "_model_name": "LayoutModel",
            "_view_count": null,
            "_view_module": "@jupyter-widgets/base",
            "_view_module_version": "1.2.0",
            "_view_name": "LayoutView",
            "align_content": null,
            "align_items": null,
            "align_self": null,
            "border": null,
            "bottom": null,
            "display": null,
            "flex": null,
            "flex_flow": null,
            "grid_area": null,
            "grid_auto_columns": null,
            "grid_auto_flow": null,
            "grid_auto_rows": null,
            "grid_column": null,
            "grid_gap": null,
            "grid_row": null,
            "grid_template_areas": null,
            "grid_template_columns": null,
            "grid_template_rows": null,
            "height": null,
            "justify_content": null,
            "justify_items": null,
            "left": null,
            "margin": null,
            "max_height": null,
            "max_width": null,
            "min_height": null,
            "min_width": null,
            "object_fit": null,
            "object_position": null,
            "order": null,
            "overflow": null,
            "overflow_x": null,
            "overflow_y": null,
            "padding": null,
            "right": null,
            "top": null,
            "visibility": null,
            "width": null
          }
        },
        "261022bb4b434b27b038fb6d24f85071": {
          "model_module": "@jupyter-widgets/controls",
          "model_name": "DescriptionStyleModel",
          "model_module_version": "1.5.0",
          "state": {
            "_model_module": "@jupyter-widgets/controls",
            "_model_module_version": "1.5.0",
            "_model_name": "DescriptionStyleModel",
            "_view_count": null,
            "_view_module": "@jupyter-widgets/base",
            "_view_module_version": "1.2.0",
            "_view_name": "StyleView",
            "description_width": ""
          }
        },
        "48c265bf01614c688bee7257e73b0acc": {
          "model_module": "@jupyter-widgets/controls",
          "model_name": "HTMLModel",
          "model_module_version": "1.5.0",
          "state": {
            "_dom_classes": [],
            "_model_module": "@jupyter-widgets/controls",
            "_model_module_version": "1.5.0",
            "_model_name": "HTMLModel",
            "_view_count": null,
            "_view_module": "@jupyter-widgets/controls",
            "_view_module_version": "1.5.0",
            "_view_name": "HTMLView",
            "description": "",
            "description_tooltip": null,
            "layout": "IPY_MODEL_59916646b5c541bf83526ec791cd08e4",
            "placeholder": "​",
            "style": "IPY_MODEL_5daabb50fce74795a73ca9f64fbeccad",
            "value": "Processing: 100%"
          }
        },
        "07e86e3d1817497793589c381d9f25a1": {
          "model_module": "@jupyter-widgets/controls",
          "model_name": "FloatProgressModel",
          "model_module_version": "1.5.0",
          "state": {
            "_dom_classes": [],
            "_model_module": "@jupyter-widgets/controls",
            "_model_module_version": "1.5.0",
            "_model_name": "FloatProgressModel",
            "_view_count": null,
            "_view_module": "@jupyter-widgets/controls",
            "_view_module_version": "1.5.0",
            "_view_name": "ProgressView",
            "bar_style": "",
            "description": "",
            "description_tooltip": null,
            "layout": "IPY_MODEL_b3a053e4b39543d2bdbd170e451fe0ce",
            "max": 7,
            "min": 0,
            "orientation": "horizontal",
            "style": "IPY_MODEL_486d83bd964b496fbe5e08566e2b1d11",
            "value": 7
          }
        },
        "3da03436186f4acf963619a231008eb3": {
          "model_module": "@jupyter-widgets/controls",
          "model_name": "HTMLModel",
          "model_module_version": "1.5.0",
          "state": {
            "_dom_classes": [],
            "_model_module": "@jupyter-widgets/controls",
            "_model_module_version": "1.5.0",
            "_model_name": "HTMLModel",
            "_view_count": null,
            "_view_module": "@jupyter-widgets/controls",
            "_view_module_version": "1.5.0",
            "_view_name": "HTMLView",
            "description": "",
            "description_tooltip": null,
            "layout": "IPY_MODEL_9074767a60d64efdbb56d7b8246d620e",
            "placeholder": "​",
            "style": "IPY_MODEL_261022bb4b434b27b038fb6d24f85071",
            "value": " 7/7 [01:10&lt;00:00,  7.87s/it]"
          }
        },
        "dd93a8720ed14c7dab043fde71b7370b": {
          "model_module": "@jupyter-widgets/base",
          "model_name": "LayoutModel",
          "model_module_version": "1.2.0",
          "state": {
            "_model_module": "@jupyter-widgets/base",
            "_model_module_version": "1.2.0",
            "_model_name": "LayoutModel",
            "_view_count": null,
            "_view_module": "@jupyter-widgets/base",
            "_view_module_version": "1.2.0",
            "_view_name": "LayoutView",
            "align_content": null,
            "align_items": null,
            "align_self": null,
            "border": null,
            "bottom": null,
            "display": null,
            "flex": null,
            "flex_flow": null,
            "grid_area": null,
            "grid_auto_columns": null,
            "grid_auto_flow": null,
            "grid_auto_rows": null,
            "grid_column": null,
            "grid_gap": null,
            "grid_row": null,
            "grid_template_areas": null,
            "grid_template_columns": null,
            "grid_template_rows": null,
            "height": null,
            "justify_content": null,
            "justify_items": null,
            "left": null,
            "margin": null,
            "max_height": null,
            "max_width": null,
            "min_height": null,
            "min_width": null,
            "object_fit": null,
            "object_position": null,
            "order": null,
            "overflow": null,
            "overflow_x": null,
            "overflow_y": null,
            "padding": null,
            "right": null,
            "top": null,
            "visibility": "hidden",
            "width": null
          }
        },
        "3cd4d26c8b064f55b0a1a81982ac3a82": {
          "model_module": "@jupyter-widgets/controls",
          "model_name": "HBoxModel",
          "model_module_version": "1.5.0",
          "state": {
            "_dom_classes": [],
            "_model_module": "@jupyter-widgets/controls",
            "_model_module_version": "1.5.0",
            "_model_name": "HBoxModel",
            "_view_count": null,
            "_view_module": "@jupyter-widgets/controls",
            "_view_module_version": "1.5.0",
            "_view_name": "HBoxView",
            "box_style": "",
            "children": [
              "IPY_MODEL_48c265bf01614c688bee7257e73b0acc",
              "IPY_MODEL_07e86e3d1817497793589c381d9f25a1",
              "IPY_MODEL_3da03436186f4acf963619a231008eb3"
            ],
            "layout": "IPY_MODEL_dd93a8720ed14c7dab043fde71b7370b"
          }
        },
        "6255435a5ae649038e1e1319e3eb8db8": {
          "model_module": "@jupyter-widgets/base",
          "model_name": "LayoutModel",
          "model_module_version": "1.2.0",
          "state": {
            "_model_module": "@jupyter-widgets/base",
            "_model_module_version": "1.2.0",
            "_model_name": "LayoutModel",
            "_view_count": null,
            "_view_module": "@jupyter-widgets/base",
            "_view_module_version": "1.2.0",
            "_view_name": "LayoutView",
            "align_content": null,
            "align_items": null,
            "align_self": null,
            "border": null,
            "bottom": null,
            "display": null,
            "flex": null,
            "flex_flow": null,
            "grid_area": null,
            "grid_auto_columns": null,
            "grid_auto_flow": null,
            "grid_auto_rows": null,
            "grid_column": null,
            "grid_gap": null,
            "grid_row": null,
            "grid_template_areas": null,
            "grid_template_columns": null,
            "grid_template_rows": null,
            "height": null,
            "justify_content": null,
            "justify_items": null,
            "left": null,
            "margin": null,
            "max_height": null,
            "max_width": null,
            "min_height": null,
            "min_width": null,
            "object_fit": null,
            "object_position": null,
            "order": null,
            "overflow": null,
            "overflow_x": null,
            "overflow_y": null,
            "padding": null,
            "right": null,
            "top": null,
            "visibility": null,
            "width": null
          }
        },
        "a179629f8f114a629343c25fded3d8d9": {
          "model_module": "@jupyter-widgets/controls",
          "model_name": "ProgressStyleModel",
          "model_module_version": "1.5.0",
          "state": {
            "_model_module": "@jupyter-widgets/controls",
            "_model_module_version": "1.5.0",
            "_model_name": "ProgressStyleModel",
            "_view_count": null,
            "_view_module": "@jupyter-widgets/base",
            "_view_module_version": "1.2.0",
            "_view_name": "StyleView",
            "bar_color": null,
            "description_width": ""
          }
        },
        "b5fbb0efc5df43779e0ccfbc44227157": {
          "model_module": "@jupyter-widgets/base",
          "model_name": "LayoutModel",
          "model_module_version": "1.2.0",
          "state": {
            "_model_module": "@jupyter-widgets/base",
            "_model_module_version": "1.2.0",
            "_model_name": "LayoutModel",
            "_view_count": null,
            "_view_module": "@jupyter-widgets/base",
            "_view_module_version": "1.2.0",
            "_view_name": "LayoutView",
            "align_content": null,
            "align_items": null,
            "align_self": null,
            "border": null,
            "bottom": null,
            "display": null,
            "flex": null,
            "flex_flow": null,
            "grid_area": null,
            "grid_auto_columns": null,
            "grid_auto_flow": null,
            "grid_auto_rows": null,
            "grid_column": null,
            "grid_gap": null,
            "grid_row": null,
            "grid_template_areas": null,
            "grid_template_columns": null,
            "grid_template_rows": null,
            "height": null,
            "justify_content": null,
            "justify_items": null,
            "left": null,
            "margin": null,
            "max_height": null,
            "max_width": null,
            "min_height": null,
            "min_width": null,
            "object_fit": null,
            "object_position": null,
            "order": null,
            "overflow": null,
            "overflow_x": null,
            "overflow_y": null,
            "padding": null,
            "right": null,
            "top": null,
            "visibility": null,
            "width": null
          }
        },
        "47ff8f6f94ba49fd9f243343b2db82ef": {
          "model_module": "@jupyter-widgets/controls",
          "model_name": "DescriptionStyleModel",
          "model_module_version": "1.5.0",
          "state": {
            "_model_module": "@jupyter-widgets/controls",
            "_model_module_version": "1.5.0",
            "_model_name": "DescriptionStyleModel",
            "_view_count": null,
            "_view_module": "@jupyter-widgets/base",
            "_view_module_version": "1.2.0",
            "_view_name": "StyleView",
            "description_width": ""
          }
        },
        "713714e64cc044488a8629201f57de68": {
          "model_module": "@jupyter-widgets/base",
          "model_name": "LayoutModel",
          "model_module_version": "1.2.0",
          "state": {
            "_model_module": "@jupyter-widgets/base",
            "_model_module_version": "1.2.0",
            "_model_name": "LayoutModel",
            "_view_count": null,
            "_view_module": "@jupyter-widgets/base",
            "_view_module_version": "1.2.0",
            "_view_name": "LayoutView",
            "align_content": null,
            "align_items": null,
            "align_self": null,
            "border": null,
            "bottom": null,
            "display": null,
            "flex": null,
            "flex_flow": null,
            "grid_area": null,
            "grid_auto_columns": null,
            "grid_auto_flow": null,
            "grid_auto_rows": null,
            "grid_column": null,
            "grid_gap": null,
            "grid_row": null,
            "grid_template_areas": null,
            "grid_template_columns": null,
            "grid_template_rows": null,
            "height": null,
            "justify_content": null,
            "justify_items": null,
            "left": null,
            "margin": null,
            "max_height": null,
            "max_width": null,
            "min_height": null,
            "min_width": null,
            "object_fit": null,
            "object_position": null,
            "order": null,
            "overflow": null,
            "overflow_x": null,
            "overflow_y": null,
            "padding": null,
            "right": null,
            "top": null,
            "visibility": null,
            "width": null
          }
        },
        "c561f569906b4e75bc31b24afe704253": {
          "model_module": "@jupyter-widgets/controls",
          "model_name": "DescriptionStyleModel",
          "model_module_version": "1.5.0",
          "state": {
            "_model_module": "@jupyter-widgets/controls",
            "_model_module_version": "1.5.0",
            "_model_name": "DescriptionStyleModel",
            "_view_count": null,
            "_view_module": "@jupyter-widgets/base",
            "_view_module_version": "1.2.0",
            "_view_name": "StyleView",
            "description_width": ""
          }
        },
        "ea2e0bc49f074af0a0265b28b66291c7": {
          "model_module": "@jupyter-widgets/controls",
          "model_name": "HTMLModel",
          "model_module_version": "1.5.0",
          "state": {
            "_dom_classes": [],
            "_model_module": "@jupyter-widgets/controls",
            "_model_module_version": "1.5.0",
            "_model_name": "HTMLModel",
            "_view_count": null,
            "_view_module": "@jupyter-widgets/controls",
            "_view_module_version": "1.5.0",
            "_view_name": "HTMLView",
            "description": "",
            "description_tooltip": null,
            "layout": "IPY_MODEL_b5fbb0efc5df43779e0ccfbc44227157",
            "placeholder": "​",
            "style": "IPY_MODEL_47ff8f6f94ba49fd9f243343b2db82ef",
            "value": "Processing: 100%"
          }
        },
        "ef363f7e848e4c06b2e94ca1bf9645f8": {
          "model_module": "@jupyter-widgets/controls",
          "model_name": "FloatProgressModel",
          "model_module_version": "1.5.0",
          "state": {
            "_dom_classes": [],
            "_model_module": "@jupyter-widgets/controls",
            "_model_module_version": "1.5.0",
            "_model_name": "FloatProgressModel",
            "_view_count": null,
            "_view_module": "@jupyter-widgets/controls",
            "_view_module_version": "1.5.0",
            "_view_name": "ProgressView",
            "bar_style": "",
            "description": "",
            "description_tooltip": null,
            "layout": "IPY_MODEL_6255435a5ae649038e1e1319e3eb8db8",
            "max": 7,
            "min": 0,
            "orientation": "horizontal",
            "style": "IPY_MODEL_a179629f8f114a629343c25fded3d8d9",
            "value": 7
          }
        },
        "5e3fecaae16c4c9898ce6c51d0d94a2e": {
          "model_module": "@jupyter-widgets/controls",
          "model_name": "HTMLModel",
          "model_module_version": "1.5.0",
          "state": {
            "_dom_classes": [],
            "_model_module": "@jupyter-widgets/controls",
            "_model_module_version": "1.5.0",
            "_model_name": "HTMLModel",
            "_view_count": null,
            "_view_module": "@jupyter-widgets/controls",
            "_view_module_version": "1.5.0",
            "_view_name": "HTMLView",
            "description": "",
            "description_tooltip": null,
            "layout": "IPY_MODEL_713714e64cc044488a8629201f57de68",
            "placeholder": "​",
            "style": "IPY_MODEL_c561f569906b4e75bc31b24afe704253",
            "value": " 7/7 [00:54&lt;00:00,  5.97s/it]"
          }
        },
        "7229d56ec97f405985b5b0cd8e3cf0f1": {
          "model_module": "@jupyter-widgets/base",
          "model_name": "LayoutModel",
          "model_module_version": "1.2.0",
          "state": {
            "_model_module": "@jupyter-widgets/base",
            "_model_module_version": "1.2.0",
            "_model_name": "LayoutModel",
            "_view_count": null,
            "_view_module": "@jupyter-widgets/base",
            "_view_module_version": "1.2.0",
            "_view_name": "LayoutView",
            "align_content": null,
            "align_items": null,
            "align_self": null,
            "border": null,
            "bottom": null,
            "display": null,
            "flex": null,
            "flex_flow": null,
            "grid_area": null,
            "grid_auto_columns": null,
            "grid_auto_flow": null,
            "grid_auto_rows": null,
            "grid_column": null,
            "grid_gap": null,
            "grid_row": null,
            "grid_template_areas": null,
            "grid_template_columns": null,
            "grid_template_rows": null,
            "height": null,
            "justify_content": null,
            "justify_items": null,
            "left": null,
            "margin": null,
            "max_height": null,
            "max_width": null,
            "min_height": null,
            "min_width": null,
            "object_fit": null,
            "object_position": null,
            "order": null,
            "overflow": null,
            "overflow_x": null,
            "overflow_y": null,
            "padding": null,
            "right": null,
            "top": null,
            "visibility": "hidden",
            "width": null
          }
        },
        "b1ad4004db3244c5b0a2129d61a0c57e": {
          "model_module": "@jupyter-widgets/controls",
          "model_name": "HBoxModel",
          "model_module_version": "1.5.0",
          "state": {
            "_dom_classes": [],
            "_model_module": "@jupyter-widgets/controls",
            "_model_module_version": "1.5.0",
            "_model_name": "HBoxModel",
            "_view_count": null,
            "_view_module": "@jupyter-widgets/controls",
            "_view_module_version": "1.5.0",
            "_view_name": "HBoxView",
            "box_style": "",
            "children": [
              "IPY_MODEL_ea2e0bc49f074af0a0265b28b66291c7",
              "IPY_MODEL_ef363f7e848e4c06b2e94ca1bf9645f8",
              "IPY_MODEL_5e3fecaae16c4c9898ce6c51d0d94a2e"
            ],
            "layout": "IPY_MODEL_7229d56ec97f405985b5b0cd8e3cf0f1"
          }
        },
        "9dc481b1ebc24c2fb2563028436fa637": {
          "model_module": "@jupyter-widgets/controls",
          "model_name": "HBoxModel",
          "model_module_version": "1.5.0",
          "state": {
            "_dom_classes": [],
            "_model_module": "@jupyter-widgets/controls",
            "_model_module_version": "1.5.0",
            "_model_name": "HBoxModel",
            "_view_count": null,
            "_view_module": "@jupyter-widgets/controls",
            "_view_module_version": "1.5.0",
            "_view_name": "HBoxView",
            "box_style": "",
            "children": [
              "IPY_MODEL_6bcf19516d2e434cb4c33ee5554919ab",
              "IPY_MODEL_1f01f3a91b424ac1bde4a5547b2583db",
              "IPY_MODEL_813b6176c2b440b69cfc6ba8c2f5907f"
            ],
            "layout": "IPY_MODEL_ba15e0688e294d67bb26e53bf08dcda2"
          }
        },
        "6bcf19516d2e434cb4c33ee5554919ab": {
          "model_module": "@jupyter-widgets/controls",
          "model_name": "HTMLModel",
          "model_module_version": "1.5.0",
          "state": {
            "_dom_classes": [],
            "_model_module": "@jupyter-widgets/controls",
            "_model_module_version": "1.5.0",
            "_model_name": "HTMLModel",
            "_view_count": null,
            "_view_module": "@jupyter-widgets/controls",
            "_view_module_version": "1.5.0",
            "_view_name": "HTMLView",
            "description": "",
            "description_tooltip": null,
            "layout": "IPY_MODEL_117222a8698d450d9348553737f451e6",
            "placeholder": "​",
            "style": "IPY_MODEL_d1759994e578476bafe76fcbd2c0e11a",
            "value": "Processing: 100%"
          }
        },
        "1f01f3a91b424ac1bde4a5547b2583db": {
          "model_module": "@jupyter-widgets/controls",
          "model_name": "FloatProgressModel",
          "model_module_version": "1.5.0",
          "state": {
            "_dom_classes": [],
            "_model_module": "@jupyter-widgets/controls",
            "_model_module_version": "1.5.0",
            "_model_name": "FloatProgressModel",
            "_view_count": null,
            "_view_module": "@jupyter-widgets/controls",
            "_view_module_version": "1.5.0",
            "_view_name": "ProgressView",
            "bar_style": "",
            "description": "",
            "description_tooltip": null,
            "layout": "IPY_MODEL_ae6242f9f519482fbb2b628df32e7df0",
            "max": 6,
            "min": 0,
            "orientation": "horizontal",
            "style": "IPY_MODEL_8a84f3ae55e740bb92e1f95310fe0744",
            "value": 6
          }
        },
        "813b6176c2b440b69cfc6ba8c2f5907f": {
          "model_module": "@jupyter-widgets/controls",
          "model_name": "HTMLModel",
          "model_module_version": "1.5.0",
          "state": {
            "_dom_classes": [],
            "_model_module": "@jupyter-widgets/controls",
            "_model_module_version": "1.5.0",
            "_model_name": "HTMLModel",
            "_view_count": null,
            "_view_module": "@jupyter-widgets/controls",
            "_view_module_version": "1.5.0",
            "_view_name": "HTMLView",
            "description": "",
            "description_tooltip": null,
            "layout": "IPY_MODEL_ed4afca58276456a80526d205aca46e5",
            "placeholder": "​",
            "style": "IPY_MODEL_5c6c34c2ab4d48a8a062af7e0958cc85",
            "value": " 6/6 [00:42&lt;00:00,  6.80s/it]"
          }
        },
        "ba15e0688e294d67bb26e53bf08dcda2": {
          "model_module": "@jupyter-widgets/base",
          "model_name": "LayoutModel",
          "model_module_version": "1.2.0",
          "state": {
            "_model_module": "@jupyter-widgets/base",
            "_model_module_version": "1.2.0",
            "_model_name": "LayoutModel",
            "_view_count": null,
            "_view_module": "@jupyter-widgets/base",
            "_view_module_version": "1.2.0",
            "_view_name": "LayoutView",
            "align_content": null,
            "align_items": null,
            "align_self": null,
            "border": null,
            "bottom": null,
            "display": null,
            "flex": null,
            "flex_flow": null,
            "grid_area": null,
            "grid_auto_columns": null,
            "grid_auto_flow": null,
            "grid_auto_rows": null,
            "grid_column": null,
            "grid_gap": null,
            "grid_row": null,
            "grid_template_areas": null,
            "grid_template_columns": null,
            "grid_template_rows": null,
            "height": null,
            "justify_content": null,
            "justify_items": null,
            "left": null,
            "margin": null,
            "max_height": null,
            "max_width": null,
            "min_height": null,
            "min_width": null,
            "object_fit": null,
            "object_position": null,
            "order": null,
            "overflow": null,
            "overflow_x": null,
            "overflow_y": null,
            "padding": null,
            "right": null,
            "top": null,
            "visibility": "hidden",
            "width": null
          }
        },
        "117222a8698d450d9348553737f451e6": {
          "model_module": "@jupyter-widgets/base",
          "model_name": "LayoutModel",
          "model_module_version": "1.2.0",
          "state": {
            "_model_module": "@jupyter-widgets/base",
            "_model_module_version": "1.2.0",
            "_model_name": "LayoutModel",
            "_view_count": null,
            "_view_module": "@jupyter-widgets/base",
            "_view_module_version": "1.2.0",
            "_view_name": "LayoutView",
            "align_content": null,
            "align_items": null,
            "align_self": null,
            "border": null,
            "bottom": null,
            "display": null,
            "flex": null,
            "flex_flow": null,
            "grid_area": null,
            "grid_auto_columns": null,
            "grid_auto_flow": null,
            "grid_auto_rows": null,
            "grid_column": null,
            "grid_gap": null,
            "grid_row": null,
            "grid_template_areas": null,
            "grid_template_columns": null,
            "grid_template_rows": null,
            "height": null,
            "justify_content": null,
            "justify_items": null,
            "left": null,
            "margin": null,
            "max_height": null,
            "max_width": null,
            "min_height": null,
            "min_width": null,
            "object_fit": null,
            "object_position": null,
            "order": null,
            "overflow": null,
            "overflow_x": null,
            "overflow_y": null,
            "padding": null,
            "right": null,
            "top": null,
            "visibility": null,
            "width": null
          }
        },
        "d1759994e578476bafe76fcbd2c0e11a": {
          "model_module": "@jupyter-widgets/controls",
          "model_name": "DescriptionStyleModel",
          "model_module_version": "1.5.0",
          "state": {
            "_model_module": "@jupyter-widgets/controls",
            "_model_module_version": "1.5.0",
            "_model_name": "DescriptionStyleModel",
            "_view_count": null,
            "_view_module": "@jupyter-widgets/base",
            "_view_module_version": "1.2.0",
            "_view_name": "StyleView",
            "description_width": ""
          }
        },
        "ae6242f9f519482fbb2b628df32e7df0": {
          "model_module": "@jupyter-widgets/base",
          "model_name": "LayoutModel",
          "model_module_version": "1.2.0",
          "state": {
            "_model_module": "@jupyter-widgets/base",
            "_model_module_version": "1.2.0",
            "_model_name": "LayoutModel",
            "_view_count": null,
            "_view_module": "@jupyter-widgets/base",
            "_view_module_version": "1.2.0",
            "_view_name": "LayoutView",
            "align_content": null,
            "align_items": null,
            "align_self": null,
            "border": null,
            "bottom": null,
            "display": null,
            "flex": null,
            "flex_flow": null,
            "grid_area": null,
            "grid_auto_columns": null,
            "grid_auto_flow": null,
            "grid_auto_rows": null,
            "grid_column": null,
            "grid_gap": null,
            "grid_row": null,
            "grid_template_areas": null,
            "grid_template_columns": null,
            "grid_template_rows": null,
            "height": null,
            "justify_content": null,
            "justify_items": null,
            "left": null,
            "margin": null,
            "max_height": null,
            "max_width": null,
            "min_height": null,
            "min_width": null,
            "object_fit": null,
            "object_position": null,
            "order": null,
            "overflow": null,
            "overflow_x": null,
            "overflow_y": null,
            "padding": null,
            "right": null,
            "top": null,
            "visibility": null,
            "width": null
          }
        },
        "8a84f3ae55e740bb92e1f95310fe0744": {
          "model_module": "@jupyter-widgets/controls",
          "model_name": "ProgressStyleModel",
          "model_module_version": "1.5.0",
          "state": {
            "_model_module": "@jupyter-widgets/controls",
            "_model_module_version": "1.5.0",
            "_model_name": "ProgressStyleModel",
            "_view_count": null,
            "_view_module": "@jupyter-widgets/base",
            "_view_module_version": "1.2.0",
            "_view_name": "StyleView",
            "bar_color": null,
            "description_width": ""
          }
        },
        "ed4afca58276456a80526d205aca46e5": {
          "model_module": "@jupyter-widgets/base",
          "model_name": "LayoutModel",
          "model_module_version": "1.2.0",
          "state": {
            "_model_module": "@jupyter-widgets/base",
            "_model_module_version": "1.2.0",
            "_model_name": "LayoutModel",
            "_view_count": null,
            "_view_module": "@jupyter-widgets/base",
            "_view_module_version": "1.2.0",
            "_view_name": "LayoutView",
            "align_content": null,
            "align_items": null,
            "align_self": null,
            "border": null,
            "bottom": null,
            "display": null,
            "flex": null,
            "flex_flow": null,
            "grid_area": null,
            "grid_auto_columns": null,
            "grid_auto_flow": null,
            "grid_auto_rows": null,
            "grid_column": null,
            "grid_gap": null,
            "grid_row": null,
            "grid_template_areas": null,
            "grid_template_columns": null,
            "grid_template_rows": null,
            "height": null,
            "justify_content": null,
            "justify_items": null,
            "left": null,
            "margin": null,
            "max_height": null,
            "max_width": null,
            "min_height": null,
            "min_width": null,
            "object_fit": null,
            "object_position": null,
            "order": null,
            "overflow": null,
            "overflow_x": null,
            "overflow_y": null,
            "padding": null,
            "right": null,
            "top": null,
            "visibility": null,
            "width": null
          }
        },
        "5c6c34c2ab4d48a8a062af7e0958cc85": {
          "model_module": "@jupyter-widgets/controls",
          "model_name": "DescriptionStyleModel",
          "model_module_version": "1.5.0",
          "state": {
            "_model_module": "@jupyter-widgets/controls",
            "_model_module_version": "1.5.0",
            "_model_name": "DescriptionStyleModel",
            "_view_count": null,
            "_view_module": "@jupyter-widgets/base",
            "_view_module_version": "1.2.0",
            "_view_name": "StyleView",
            "description_width": ""
          }
        },
        "2b5f6a4390ac4a21932de6cf0cfb701c": {
          "model_module": "@jupyter-widgets/controls",
          "model_name": "HBoxModel",
          "model_module_version": "1.5.0",
          "state": {
            "_dom_classes": [],
            "_model_module": "@jupyter-widgets/controls",
            "_model_module_version": "1.5.0",
            "_model_name": "HBoxModel",
            "_view_count": null,
            "_view_module": "@jupyter-widgets/controls",
            "_view_module_version": "1.5.0",
            "_view_name": "HBoxView",
            "box_style": "",
            "children": [
              "IPY_MODEL_036613b136ca417a8d03c06fcab30dcf",
              "IPY_MODEL_b33a9b4790274d15a50fecb9de9d50a2",
              "IPY_MODEL_69cbe413aa184097b928cf228557eec1"
            ],
            "layout": "IPY_MODEL_7ecd1c5975ab4bc282e86e99ef6dbc44"
          }
        },
        "036613b136ca417a8d03c06fcab30dcf": {
          "model_module": "@jupyter-widgets/controls",
          "model_name": "HTMLModel",
          "model_module_version": "1.5.0",
          "state": {
            "_dom_classes": [],
            "_model_module": "@jupyter-widgets/controls",
            "_model_module_version": "1.5.0",
            "_model_name": "HTMLModel",
            "_view_count": null,
            "_view_module": "@jupyter-widgets/controls",
            "_view_module_version": "1.5.0",
            "_view_name": "HTMLView",
            "description": "",
            "description_tooltip": null,
            "layout": "IPY_MODEL_9e190d4a02ae448fa612a6314f04ed96",
            "placeholder": "​",
            "style": "IPY_MODEL_cf3acb415f934015b10138597a670569",
            "value": "Processing: 100%"
          }
        },
        "b33a9b4790274d15a50fecb9de9d50a2": {
          "model_module": "@jupyter-widgets/controls",
          "model_name": "FloatProgressModel",
          "model_module_version": "1.5.0",
          "state": {
            "_dom_classes": [],
            "_model_module": "@jupyter-widgets/controls",
            "_model_module_version": "1.5.0",
            "_model_name": "FloatProgressModel",
            "_view_count": null,
            "_view_module": "@jupyter-widgets/controls",
            "_view_module_version": "1.5.0",
            "_view_name": "ProgressView",
            "bar_style": "",
            "description": "",
            "description_tooltip": null,
            "layout": "IPY_MODEL_c5f1595aa6064fd0b00baf8dfbb30642",
            "max": 6,
            "min": 0,
            "orientation": "horizontal",
            "style": "IPY_MODEL_90026972240445b9849e62891409b823",
            "value": 6
          }
        },
        "69cbe413aa184097b928cf228557eec1": {
          "model_module": "@jupyter-widgets/controls",
          "model_name": "HTMLModel",
          "model_module_version": "1.5.0",
          "state": {
            "_dom_classes": [],
            "_model_module": "@jupyter-widgets/controls",
            "_model_module_version": "1.5.0",
            "_model_name": "HTMLModel",
            "_view_count": null,
            "_view_module": "@jupyter-widgets/controls",
            "_view_module_version": "1.5.0",
            "_view_name": "HTMLView",
            "description": "",
            "description_tooltip": null,
            "layout": "IPY_MODEL_e3606ade73544c18be8c99e4a9e0bc98",
            "placeholder": "​",
            "style": "IPY_MODEL_15dc37c5e8574c0592341827e6bcb55d",
            "value": " 6/6 [00:12&lt;00:00,  1.96s/it]"
          }
        },
        "7ecd1c5975ab4bc282e86e99ef6dbc44": {
          "model_module": "@jupyter-widgets/base",
          "model_name": "LayoutModel",
          "model_module_version": "1.2.0",
          "state": {
            "_model_module": "@jupyter-widgets/base",
            "_model_module_version": "1.2.0",
            "_model_name": "LayoutModel",
            "_view_count": null,
            "_view_module": "@jupyter-widgets/base",
            "_view_module_version": "1.2.0",
            "_view_name": "LayoutView",
            "align_content": null,
            "align_items": null,
            "align_self": null,
            "border": null,
            "bottom": null,
            "display": null,
            "flex": null,
            "flex_flow": null,
            "grid_area": null,
            "grid_auto_columns": null,
            "grid_auto_flow": null,
            "grid_auto_rows": null,
            "grid_column": null,
            "grid_gap": null,
            "grid_row": null,
            "grid_template_areas": null,
            "grid_template_columns": null,
            "grid_template_rows": null,
            "height": null,
            "justify_content": null,
            "justify_items": null,
            "left": null,
            "margin": null,
            "max_height": null,
            "max_width": null,
            "min_height": null,
            "min_width": null,
            "object_fit": null,
            "object_position": null,
            "order": null,
            "overflow": null,
            "overflow_x": null,
            "overflow_y": null,
            "padding": null,
            "right": null,
            "top": null,
            "visibility": "hidden",
            "width": null
          }
        },
        "9e190d4a02ae448fa612a6314f04ed96": {
          "model_module": "@jupyter-widgets/base",
          "model_name": "LayoutModel",
          "model_module_version": "1.2.0",
          "state": {
            "_model_module": "@jupyter-widgets/base",
            "_model_module_version": "1.2.0",
            "_model_name": "LayoutModel",
            "_view_count": null,
            "_view_module": "@jupyter-widgets/base",
            "_view_module_version": "1.2.0",
            "_view_name": "LayoutView",
            "align_content": null,
            "align_items": null,
            "align_self": null,
            "border": null,
            "bottom": null,
            "display": null,
            "flex": null,
            "flex_flow": null,
            "grid_area": null,
            "grid_auto_columns": null,
            "grid_auto_flow": null,
            "grid_auto_rows": null,
            "grid_column": null,
            "grid_gap": null,
            "grid_row": null,
            "grid_template_areas": null,
            "grid_template_columns": null,
            "grid_template_rows": null,
            "height": null,
            "justify_content": null,
            "justify_items": null,
            "left": null,
            "margin": null,
            "max_height": null,
            "max_width": null,
            "min_height": null,
            "min_width": null,
            "object_fit": null,
            "object_position": null,
            "order": null,
            "overflow": null,
            "overflow_x": null,
            "overflow_y": null,
            "padding": null,
            "right": null,
            "top": null,
            "visibility": null,
            "width": null
          }
        },
        "cf3acb415f934015b10138597a670569": {
          "model_module": "@jupyter-widgets/controls",
          "model_name": "DescriptionStyleModel",
          "model_module_version": "1.5.0",
          "state": {
            "_model_module": "@jupyter-widgets/controls",
            "_model_module_version": "1.5.0",
            "_model_name": "DescriptionStyleModel",
            "_view_count": null,
            "_view_module": "@jupyter-widgets/base",
            "_view_module_version": "1.2.0",
            "_view_name": "StyleView",
            "description_width": ""
          }
        },
        "c5f1595aa6064fd0b00baf8dfbb30642": {
          "model_module": "@jupyter-widgets/base",
          "model_name": "LayoutModel",
          "model_module_version": "1.2.0",
          "state": {
            "_model_module": "@jupyter-widgets/base",
            "_model_module_version": "1.2.0",
            "_model_name": "LayoutModel",
            "_view_count": null,
            "_view_module": "@jupyter-widgets/base",
            "_view_module_version": "1.2.0",
            "_view_name": "LayoutView",
            "align_content": null,
            "align_items": null,
            "align_self": null,
            "border": null,
            "bottom": null,
            "display": null,
            "flex": null,
            "flex_flow": null,
            "grid_area": null,
            "grid_auto_columns": null,
            "grid_auto_flow": null,
            "grid_auto_rows": null,
            "grid_column": null,
            "grid_gap": null,
            "grid_row": null,
            "grid_template_areas": null,
            "grid_template_columns": null,
            "grid_template_rows": null,
            "height": null,
            "justify_content": null,
            "justify_items": null,
            "left": null,
            "margin": null,
            "max_height": null,
            "max_width": null,
            "min_height": null,
            "min_width": null,
            "object_fit": null,
            "object_position": null,
            "order": null,
            "overflow": null,
            "overflow_x": null,
            "overflow_y": null,
            "padding": null,
            "right": null,
            "top": null,
            "visibility": null,
            "width": null
          }
        },
        "90026972240445b9849e62891409b823": {
          "model_module": "@jupyter-widgets/controls",
          "model_name": "ProgressStyleModel",
          "model_module_version": "1.5.0",
          "state": {
            "_model_module": "@jupyter-widgets/controls",
            "_model_module_version": "1.5.0",
            "_model_name": "ProgressStyleModel",
            "_view_count": null,
            "_view_module": "@jupyter-widgets/base",
            "_view_module_version": "1.2.0",
            "_view_name": "StyleView",
            "bar_color": null,
            "description_width": ""
          }
        },
        "e3606ade73544c18be8c99e4a9e0bc98": {
          "model_module": "@jupyter-widgets/base",
          "model_name": "LayoutModel",
          "model_module_version": "1.2.0",
          "state": {
            "_model_module": "@jupyter-widgets/base",
            "_model_module_version": "1.2.0",
            "_model_name": "LayoutModel",
            "_view_count": null,
            "_view_module": "@jupyter-widgets/base",
            "_view_module_version": "1.2.0",
            "_view_name": "LayoutView",
            "align_content": null,
            "align_items": null,
            "align_self": null,
            "border": null,
            "bottom": null,
            "display": null,
            "flex": null,
            "flex_flow": null,
            "grid_area": null,
            "grid_auto_columns": null,
            "grid_auto_flow": null,
            "grid_auto_rows": null,
            "grid_column": null,
            "grid_gap": null,
            "grid_row": null,
            "grid_template_areas": null,
            "grid_template_columns": null,
            "grid_template_rows": null,
            "height": null,
            "justify_content": null,
            "justify_items": null,
            "left": null,
            "margin": null,
            "max_height": null,
            "max_width": null,
            "min_height": null,
            "min_width": null,
            "object_fit": null,
            "object_position": null,
            "order": null,
            "overflow": null,
            "overflow_x": null,
            "overflow_y": null,
            "padding": null,
            "right": null,
            "top": null,
            "visibility": null,
            "width": null
          }
        },
        "15dc37c5e8574c0592341827e6bcb55d": {
          "model_module": "@jupyter-widgets/controls",
          "model_name": "DescriptionStyleModel",
          "model_module_version": "1.5.0",
          "state": {
            "_model_module": "@jupyter-widgets/controls",
            "_model_module_version": "1.5.0",
            "_model_name": "DescriptionStyleModel",
            "_view_count": null,
            "_view_module": "@jupyter-widgets/base",
            "_view_module_version": "1.2.0",
            "_view_name": "StyleView",
            "description_width": ""
          }
        },
        "1bf45f7a0739495aaabcd10d7bdc4dfe": {
          "model_module": "@jupyter-widgets/controls",
          "model_name": "HBoxModel",
          "model_module_version": "1.5.0",
          "state": {
            "_dom_classes": [],
            "_model_module": "@jupyter-widgets/controls",
            "_model_module_version": "1.5.0",
            "_model_name": "HBoxModel",
            "_view_count": null,
            "_view_module": "@jupyter-widgets/controls",
            "_view_module_version": "1.5.0",
            "_view_name": "HBoxView",
            "box_style": "",
            "children": [
              "IPY_MODEL_75ecfee8255a4e35ace24a9ee1479941",
              "IPY_MODEL_1f5fad515102406cb42a83d77b1a1bed",
              "IPY_MODEL_fc78777157fd4cf0a16a6597ad0a6527"
            ],
            "layout": "IPY_MODEL_2ed52e52c241498ca75eb0d81d83ad06"
          }
        },
        "75ecfee8255a4e35ace24a9ee1479941": {
          "model_module": "@jupyter-widgets/controls",
          "model_name": "HTMLModel",
          "model_module_version": "1.5.0",
          "state": {
            "_dom_classes": [],
            "_model_module": "@jupyter-widgets/controls",
            "_model_module_version": "1.5.0",
            "_model_name": "HTMLModel",
            "_view_count": null,
            "_view_module": "@jupyter-widgets/controls",
            "_view_module_version": "1.5.0",
            "_view_name": "HTMLView",
            "description": "",
            "description_tooltip": null,
            "layout": "IPY_MODEL_d00b03258a794c13b3b1cad12272cf47",
            "placeholder": "​",
            "style": "IPY_MODEL_e5f82ff745fc427480ddea64372446b5",
            "value": "Processing: 100%"
          }
        },
        "1f5fad515102406cb42a83d77b1a1bed": {
          "model_module": "@jupyter-widgets/controls",
          "model_name": "FloatProgressModel",
          "model_module_version": "1.5.0",
          "state": {
            "_dom_classes": [],
            "_model_module": "@jupyter-widgets/controls",
            "_model_module_version": "1.5.0",
            "_model_name": "FloatProgressModel",
            "_view_count": null,
            "_view_module": "@jupyter-widgets/controls",
            "_view_module_version": "1.5.0",
            "_view_name": "ProgressView",
            "bar_style": "",
            "description": "",
            "description_tooltip": null,
            "layout": "IPY_MODEL_3237a1f8458d42809d8247244a5bf5ab",
            "max": 6,
            "min": 0,
            "orientation": "horizontal",
            "style": "IPY_MODEL_f093593a63b6447abdcb7daec662b9ef",
            "value": 6
          }
        },
        "fc78777157fd4cf0a16a6597ad0a6527": {
          "model_module": "@jupyter-widgets/controls",
          "model_name": "HTMLModel",
          "model_module_version": "1.5.0",
          "state": {
            "_dom_classes": [],
            "_model_module": "@jupyter-widgets/controls",
            "_model_module_version": "1.5.0",
            "_model_name": "HTMLModel",
            "_view_count": null,
            "_view_module": "@jupyter-widgets/controls",
            "_view_module_version": "1.5.0",
            "_view_name": "HTMLView",
            "description": "",
            "description_tooltip": null,
            "layout": "IPY_MODEL_f7d85a52948647a68a20f6de3bef95bd",
            "placeholder": "​",
            "style": "IPY_MODEL_7928e6c9add54bde917555283da54b0c",
            "value": " 6/6 [00:09&lt;00:00,  1.57s/it]"
          }
        },
        "2ed52e52c241498ca75eb0d81d83ad06": {
          "model_module": "@jupyter-widgets/base",
          "model_name": "LayoutModel",
          "model_module_version": "1.2.0",
          "state": {
            "_model_module": "@jupyter-widgets/base",
            "_model_module_version": "1.2.0",
            "_model_name": "LayoutModel",
            "_view_count": null,
            "_view_module": "@jupyter-widgets/base",
            "_view_module_version": "1.2.0",
            "_view_name": "LayoutView",
            "align_content": null,
            "align_items": null,
            "align_self": null,
            "border": null,
            "bottom": null,
            "display": null,
            "flex": null,
            "flex_flow": null,
            "grid_area": null,
            "grid_auto_columns": null,
            "grid_auto_flow": null,
            "grid_auto_rows": null,
            "grid_column": null,
            "grid_gap": null,
            "grid_row": null,
            "grid_template_areas": null,
            "grid_template_columns": null,
            "grid_template_rows": null,
            "height": null,
            "justify_content": null,
            "justify_items": null,
            "left": null,
            "margin": null,
            "max_height": null,
            "max_width": null,
            "min_height": null,
            "min_width": null,
            "object_fit": null,
            "object_position": null,
            "order": null,
            "overflow": null,
            "overflow_x": null,
            "overflow_y": null,
            "padding": null,
            "right": null,
            "top": null,
            "visibility": "hidden",
            "width": null
          }
        },
        "d00b03258a794c13b3b1cad12272cf47": {
          "model_module": "@jupyter-widgets/base",
          "model_name": "LayoutModel",
          "model_module_version": "1.2.0",
          "state": {
            "_model_module": "@jupyter-widgets/base",
            "_model_module_version": "1.2.0",
            "_model_name": "LayoutModel",
            "_view_count": null,
            "_view_module": "@jupyter-widgets/base",
            "_view_module_version": "1.2.0",
            "_view_name": "LayoutView",
            "align_content": null,
            "align_items": null,
            "align_self": null,
            "border": null,
            "bottom": null,
            "display": null,
            "flex": null,
            "flex_flow": null,
            "grid_area": null,
            "grid_auto_columns": null,
            "grid_auto_flow": null,
            "grid_auto_rows": null,
            "grid_column": null,
            "grid_gap": null,
            "grid_row": null,
            "grid_template_areas": null,
            "grid_template_columns": null,
            "grid_template_rows": null,
            "height": null,
            "justify_content": null,
            "justify_items": null,
            "left": null,
            "margin": null,
            "max_height": null,
            "max_width": null,
            "min_height": null,
            "min_width": null,
            "object_fit": null,
            "object_position": null,
            "order": null,
            "overflow": null,
            "overflow_x": null,
            "overflow_y": null,
            "padding": null,
            "right": null,
            "top": null,
            "visibility": null,
            "width": null
          }
        },
        "e5f82ff745fc427480ddea64372446b5": {
          "model_module": "@jupyter-widgets/controls",
          "model_name": "DescriptionStyleModel",
          "model_module_version": "1.5.0",
          "state": {
            "_model_module": "@jupyter-widgets/controls",
            "_model_module_version": "1.5.0",
            "_model_name": "DescriptionStyleModel",
            "_view_count": null,
            "_view_module": "@jupyter-widgets/base",
            "_view_module_version": "1.2.0",
            "_view_name": "StyleView",
            "description_width": ""
          }
        },
        "3237a1f8458d42809d8247244a5bf5ab": {
          "model_module": "@jupyter-widgets/base",
          "model_name": "LayoutModel",
          "model_module_version": "1.2.0",
          "state": {
            "_model_module": "@jupyter-widgets/base",
            "_model_module_version": "1.2.0",
            "_model_name": "LayoutModel",
            "_view_count": null,
            "_view_module": "@jupyter-widgets/base",
            "_view_module_version": "1.2.0",
            "_view_name": "LayoutView",
            "align_content": null,
            "align_items": null,
            "align_self": null,
            "border": null,
            "bottom": null,
            "display": null,
            "flex": null,
            "flex_flow": null,
            "grid_area": null,
            "grid_auto_columns": null,
            "grid_auto_flow": null,
            "grid_auto_rows": null,
            "grid_column": null,
            "grid_gap": null,
            "grid_row": null,
            "grid_template_areas": null,
            "grid_template_columns": null,
            "grid_template_rows": null,
            "height": null,
            "justify_content": null,
            "justify_items": null,
            "left": null,
            "margin": null,
            "max_height": null,
            "max_width": null,
            "min_height": null,
            "min_width": null,
            "object_fit": null,
            "object_position": null,
            "order": null,
            "overflow": null,
            "overflow_x": null,
            "overflow_y": null,
            "padding": null,
            "right": null,
            "top": null,
            "visibility": null,
            "width": null
          }
        },
        "f093593a63b6447abdcb7daec662b9ef": {
          "model_module": "@jupyter-widgets/controls",
          "model_name": "ProgressStyleModel",
          "model_module_version": "1.5.0",
          "state": {
            "_model_module": "@jupyter-widgets/controls",
            "_model_module_version": "1.5.0",
            "_model_name": "ProgressStyleModel",
            "_view_count": null,
            "_view_module": "@jupyter-widgets/base",
            "_view_module_version": "1.2.0",
            "_view_name": "StyleView",
            "bar_color": null,
            "description_width": ""
          }
        },
        "f7d85a52948647a68a20f6de3bef95bd": {
          "model_module": "@jupyter-widgets/base",
          "model_name": "LayoutModel",
          "model_module_version": "1.2.0",
          "state": {
            "_model_module": "@jupyter-widgets/base",
            "_model_module_version": "1.2.0",
            "_model_name": "LayoutModel",
            "_view_count": null,
            "_view_module": "@jupyter-widgets/base",
            "_view_module_version": "1.2.0",
            "_view_name": "LayoutView",
            "align_content": null,
            "align_items": null,
            "align_self": null,
            "border": null,
            "bottom": null,
            "display": null,
            "flex": null,
            "flex_flow": null,
            "grid_area": null,
            "grid_auto_columns": null,
            "grid_auto_flow": null,
            "grid_auto_rows": null,
            "grid_column": null,
            "grid_gap": null,
            "grid_row": null,
            "grid_template_areas": null,
            "grid_template_columns": null,
            "grid_template_rows": null,
            "height": null,
            "justify_content": null,
            "justify_items": null,
            "left": null,
            "margin": null,
            "max_height": null,
            "max_width": null,
            "min_height": null,
            "min_width": null,
            "object_fit": null,
            "object_position": null,
            "order": null,
            "overflow": null,
            "overflow_x": null,
            "overflow_y": null,
            "padding": null,
            "right": null,
            "top": null,
            "visibility": null,
            "width": null
          }
        },
        "7928e6c9add54bde917555283da54b0c": {
          "model_module": "@jupyter-widgets/controls",
          "model_name": "DescriptionStyleModel",
          "model_module_version": "1.5.0",
          "state": {
            "_model_module": "@jupyter-widgets/controls",
            "_model_module_version": "1.5.0",
            "_model_name": "DescriptionStyleModel",
            "_view_count": null,
            "_view_module": "@jupyter-widgets/base",
            "_view_module_version": "1.2.0",
            "_view_name": "StyleView",
            "description_width": ""
          }
        },
        "26209f0ac036493295ad954c49a41779": {
          "model_module": "@jupyter-widgets/controls",
          "model_name": "HBoxModel",
          "model_module_version": "1.5.0",
          "state": {
            "_dom_classes": [],
            "_model_module": "@jupyter-widgets/controls",
            "_model_module_version": "1.5.0",
            "_model_name": "HBoxModel",
            "_view_count": null,
            "_view_module": "@jupyter-widgets/controls",
            "_view_module_version": "1.5.0",
            "_view_name": "HBoxView",
            "box_style": "",
            "children": [
              "IPY_MODEL_c357b30390534b2793fc668743fc7dde",
              "IPY_MODEL_23126a8fc92a45a3bc10748a2bcab888",
              "IPY_MODEL_ec872154c96a4f25a9b7510ed6701646"
            ],
            "layout": "IPY_MODEL_6d16647b1c6c4fb597757e4259a6199b"
          }
        },
        "c357b30390534b2793fc668743fc7dde": {
          "model_module": "@jupyter-widgets/controls",
          "model_name": "HTMLModel",
          "model_module_version": "1.5.0",
          "state": {
            "_dom_classes": [],
            "_model_module": "@jupyter-widgets/controls",
            "_model_module_version": "1.5.0",
            "_model_name": "HTMLModel",
            "_view_count": null,
            "_view_module": "@jupyter-widgets/controls",
            "_view_module_version": "1.5.0",
            "_view_name": "HTMLView",
            "description": "",
            "description_tooltip": null,
            "layout": "IPY_MODEL_9a99cfe451d147c6be9c95a5ee176487",
            "placeholder": "​",
            "style": "IPY_MODEL_9e267e2e387e4551a5a0af4dac094e50",
            "value": "Processing: 100%"
          }
        },
        "23126a8fc92a45a3bc10748a2bcab888": {
          "model_module": "@jupyter-widgets/controls",
          "model_name": "FloatProgressModel",
          "model_module_version": "1.5.0",
          "state": {
            "_dom_classes": [],
            "_model_module": "@jupyter-widgets/controls",
            "_model_module_version": "1.5.0",
            "_model_name": "FloatProgressModel",
            "_view_count": null,
            "_view_module": "@jupyter-widgets/controls",
            "_view_module_version": "1.5.0",
            "_view_name": "ProgressView",
            "bar_style": "",
            "description": "",
            "description_tooltip": null,
            "layout": "IPY_MODEL_bf5fe0df06364c4b91f1e698d63322a9",
            "max": 6,
            "min": 0,
            "orientation": "horizontal",
            "style": "IPY_MODEL_310c435593fd47d9a79797d98aefeca1",
            "value": 6
          }
        },
        "ec872154c96a4f25a9b7510ed6701646": {
          "model_module": "@jupyter-widgets/controls",
          "model_name": "HTMLModel",
          "model_module_version": "1.5.0",
          "state": {
            "_dom_classes": [],
            "_model_module": "@jupyter-widgets/controls",
            "_model_module_version": "1.5.0",
            "_model_name": "HTMLModel",
            "_view_count": null,
            "_view_module": "@jupyter-widgets/controls",
            "_view_module_version": "1.5.0",
            "_view_name": "HTMLView",
            "description": "",
            "description_tooltip": null,
            "layout": "IPY_MODEL_620a209bbaf94c6183d0349f52662f19",
            "placeholder": "​",
            "style": "IPY_MODEL_48a06b00a6a4468f8a83a5d6341101a6",
            "value": " 6/6 [00:59&lt;00:00,  8.44s/it]"
          }
        },
        "6d16647b1c6c4fb597757e4259a6199b": {
          "model_module": "@jupyter-widgets/base",
          "model_name": "LayoutModel",
          "model_module_version": "1.2.0",
          "state": {
            "_model_module": "@jupyter-widgets/base",
            "_model_module_version": "1.2.0",
            "_model_name": "LayoutModel",
            "_view_count": null,
            "_view_module": "@jupyter-widgets/base",
            "_view_module_version": "1.2.0",
            "_view_name": "LayoutView",
            "align_content": null,
            "align_items": null,
            "align_self": null,
            "border": null,
            "bottom": null,
            "display": null,
            "flex": null,
            "flex_flow": null,
            "grid_area": null,
            "grid_auto_columns": null,
            "grid_auto_flow": null,
            "grid_auto_rows": null,
            "grid_column": null,
            "grid_gap": null,
            "grid_row": null,
            "grid_template_areas": null,
            "grid_template_columns": null,
            "grid_template_rows": null,
            "height": null,
            "justify_content": null,
            "justify_items": null,
            "left": null,
            "margin": null,
            "max_height": null,
            "max_width": null,
            "min_height": null,
            "min_width": null,
            "object_fit": null,
            "object_position": null,
            "order": null,
            "overflow": null,
            "overflow_x": null,
            "overflow_y": null,
            "padding": null,
            "right": null,
            "top": null,
            "visibility": "hidden",
            "width": null
          }
        },
        "9a99cfe451d147c6be9c95a5ee176487": {
          "model_module": "@jupyter-widgets/base",
          "model_name": "LayoutModel",
          "model_module_version": "1.2.0",
          "state": {
            "_model_module": "@jupyter-widgets/base",
            "_model_module_version": "1.2.0",
            "_model_name": "LayoutModel",
            "_view_count": null,
            "_view_module": "@jupyter-widgets/base",
            "_view_module_version": "1.2.0",
            "_view_name": "LayoutView",
            "align_content": null,
            "align_items": null,
            "align_self": null,
            "border": null,
            "bottom": null,
            "display": null,
            "flex": null,
            "flex_flow": null,
            "grid_area": null,
            "grid_auto_columns": null,
            "grid_auto_flow": null,
            "grid_auto_rows": null,
            "grid_column": null,
            "grid_gap": null,
            "grid_row": null,
            "grid_template_areas": null,
            "grid_template_columns": null,
            "grid_template_rows": null,
            "height": null,
            "justify_content": null,
            "justify_items": null,
            "left": null,
            "margin": null,
            "max_height": null,
            "max_width": null,
            "min_height": null,
            "min_width": null,
            "object_fit": null,
            "object_position": null,
            "order": null,
            "overflow": null,
            "overflow_x": null,
            "overflow_y": null,
            "padding": null,
            "right": null,
            "top": null,
            "visibility": null,
            "width": null
          }
        },
        "9e267e2e387e4551a5a0af4dac094e50": {
          "model_module": "@jupyter-widgets/controls",
          "model_name": "DescriptionStyleModel",
          "model_module_version": "1.5.0",
          "state": {
            "_model_module": "@jupyter-widgets/controls",
            "_model_module_version": "1.5.0",
            "_model_name": "DescriptionStyleModel",
            "_view_count": null,
            "_view_module": "@jupyter-widgets/base",
            "_view_module_version": "1.2.0",
            "_view_name": "StyleView",
            "description_width": ""
          }
        },
        "bf5fe0df06364c4b91f1e698d63322a9": {
          "model_module": "@jupyter-widgets/base",
          "model_name": "LayoutModel",
          "model_module_version": "1.2.0",
          "state": {
            "_model_module": "@jupyter-widgets/base",
            "_model_module_version": "1.2.0",
            "_model_name": "LayoutModel",
            "_view_count": null,
            "_view_module": "@jupyter-widgets/base",
            "_view_module_version": "1.2.0",
            "_view_name": "LayoutView",
            "align_content": null,
            "align_items": null,
            "align_self": null,
            "border": null,
            "bottom": null,
            "display": null,
            "flex": null,
            "flex_flow": null,
            "grid_area": null,
            "grid_auto_columns": null,
            "grid_auto_flow": null,
            "grid_auto_rows": null,
            "grid_column": null,
            "grid_gap": null,
            "grid_row": null,
            "grid_template_areas": null,
            "grid_template_columns": null,
            "grid_template_rows": null,
            "height": null,
            "justify_content": null,
            "justify_items": null,
            "left": null,
            "margin": null,
            "max_height": null,
            "max_width": null,
            "min_height": null,
            "min_width": null,
            "object_fit": null,
            "object_position": null,
            "order": null,
            "overflow": null,
            "overflow_x": null,
            "overflow_y": null,
            "padding": null,
            "right": null,
            "top": null,
            "visibility": null,
            "width": null
          }
        },
        "310c435593fd47d9a79797d98aefeca1": {
          "model_module": "@jupyter-widgets/controls",
          "model_name": "ProgressStyleModel",
          "model_module_version": "1.5.0",
          "state": {
            "_model_module": "@jupyter-widgets/controls",
            "_model_module_version": "1.5.0",
            "_model_name": "ProgressStyleModel",
            "_view_count": null,
            "_view_module": "@jupyter-widgets/base",
            "_view_module_version": "1.2.0",
            "_view_name": "StyleView",
            "bar_color": null,
            "description_width": ""
          }
        },
        "620a209bbaf94c6183d0349f52662f19": {
          "model_module": "@jupyter-widgets/base",
          "model_name": "LayoutModel",
          "model_module_version": "1.2.0",
          "state": {
            "_model_module": "@jupyter-widgets/base",
            "_model_module_version": "1.2.0",
            "_model_name": "LayoutModel",
            "_view_count": null,
            "_view_module": "@jupyter-widgets/base",
            "_view_module_version": "1.2.0",
            "_view_name": "LayoutView",
            "align_content": null,
            "align_items": null,
            "align_self": null,
            "border": null,
            "bottom": null,
            "display": null,
            "flex": null,
            "flex_flow": null,
            "grid_area": null,
            "grid_auto_columns": null,
            "grid_auto_flow": null,
            "grid_auto_rows": null,
            "grid_column": null,
            "grid_gap": null,
            "grid_row": null,
            "grid_template_areas": null,
            "grid_template_columns": null,
            "grid_template_rows": null,
            "height": null,
            "justify_content": null,
            "justify_items": null,
            "left": null,
            "margin": null,
            "max_height": null,
            "max_width": null,
            "min_height": null,
            "min_width": null,
            "object_fit": null,
            "object_position": null,
            "order": null,
            "overflow": null,
            "overflow_x": null,
            "overflow_y": null,
            "padding": null,
            "right": null,
            "top": null,
            "visibility": null,
            "width": null
          }
        },
        "48a06b00a6a4468f8a83a5d6341101a6": {
          "model_module": "@jupyter-widgets/controls",
          "model_name": "DescriptionStyleModel",
          "model_module_version": "1.5.0",
          "state": {
            "_model_module": "@jupyter-widgets/controls",
            "_model_module_version": "1.5.0",
            "_model_name": "DescriptionStyleModel",
            "_view_count": null,
            "_view_module": "@jupyter-widgets/base",
            "_view_module_version": "1.2.0",
            "_view_name": "StyleView",
            "description_width": ""
          }
        }
      }
    }
  },
  "nbformat": 4,
  "nbformat_minor": 0
}